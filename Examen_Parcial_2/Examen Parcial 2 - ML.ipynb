{
 "cells": [
  {
   "attachments": {
    "imagen.png": {
     "image/png": "[encoded data removed]"
    }
   },
   "cell_type": "markdown",
   "metadata": {},
   "source": [
    "![imagen.png](attachment:imagen.png)"
   ]
  },
  {
   "cell_type": "markdown",
   "metadata": {},
   "source": [
    "<h1><center>Campus Ciudad de México, \n",
    "Escuela Ingeniería y Ciencias, \n",
    "Computación</center></h1>\n",
    "\n",
    "<h3><center>Course: TC3020.1 (Machine Learning)</center>\n",
    "<center>Professor: Mauricio Rosales Rivera</center>\n",
    "<center>First Partial Evaluation</center></h3>\n",
    "    \n",
    "<h3><center>Date: November 2, 2021</center></h3>\n",
    "\n",
    "---\n",
    "\n",
    "<h3>Grade: </h3>\n",
    "\n",
    "---\n",
    "<h4><center>Student's information</center></h4>\n",
    "<h4>Name:</h4>\n",
    "<h4>Student ID:</h4>"
   ]
  },
  {
   "cell_type": "markdown",
   "metadata": {},
   "source": [
    "$$Apegándome al Código de Ética de los Estudiantes del Tecnológico de Monterrey, me comprometo a que mi actuación en este examen esté regida por la honestidad académica. En congruencia con el compromiso adquirido al firmar dicho código, realizaré este examen de forma honesta y personal, para reflejar, a través de él, mi conocimiento y aceptar, posteriormente, la evaluación obtenida.$$"
   ]
  },
  {
   "cell_type": "markdown",
   "metadata": {},
   "source": [
    "# Examen Parcial 2 - Aprendizaje Máquina\n",
    "\n",
    "---\n",
    "\n",
    "Inidicaciones: El examen consta de ejercicios prácticos, los cuales se abordan lo visto en los temas 3 y 4.\n",
    "\n",
    "Se evalua el desarrollo adecuado de la metodología para el ajuste de los datos, el modelo y la precisión del mismo.\n",
    "\n",
    "* Fecha de liberación del examen: Viernes 22 de octubre.\n",
    "\n",
    "* Fecha límite de entrega: Martes 2 de noviembre hasta las 23:59 hrs\n",
    "\n",
    "Esta notebook deberá contener el nombre completo, matrícula y el link correspondiente al GitHub de cada integrante.\n",
    "\n",
    "En caso de no tener la información aquí solicitada, no se evaluará el examen."
   ]
  },
  {
   "cell_type": "markdown",
   "metadata": {},
   "source": [
    "---\n",
    "# Sección 1\n",
    "\n",
    "### Ingeniería de Características\n",
    "\n",
    "---"
   ]
  },
  {
   "cell_type": "markdown",
   "metadata": {},
   "source": [
    "Tomando como referencia la información en la notebook <font color=red>\"Feature_Engineering\"</font>, deberán utilizar los archivos de <font color=blue>\"train.csv\"</font> y <font color=green>\"test.csv\"</font> como punto de referencia.\n",
    "\n",
    "En esta notebook se realiza una parte importante del pre-procesamiento, que es la ingeniería de características, donde a partir del análisis estadístico preliminar, podríamos sustituir, ajustar, imputar datos o crear nuevas variables con fines prácticos.\n",
    "\n",
    "----\n",
    "\n",
    "Idea: Aplicar su propio pipeline para replicar o mejorar los resultados de predicción de los diversos algoritmos puestos en dicha notebook. Pueden enfocarse solamente en los primeros 5 algoritmos que tuvieron un desempeño mayor al 79% en este ejercicio.\n",
    "\n",
    "----\n",
    "\n",
    "En cada apartado, deberán explicar el preprocesamiento que realizaron, así como el porqué es conveniente (o no) aplicar validación cruzada (CV) y gridsearch."
   ]
  },
  {
   "cell_type": "code",
   "execution_count": null,
   "metadata": {},
   "outputs": [],
   "source": [
    "#Aquí sus códigos (añadan las líneas necesarias)"
   ]
  },
  {
   "cell_type": "code",
   "execution_count": null,
   "metadata": {},
   "outputs": [],
   "source": [
    "#Aquí sus códigos (añadan las líneas necesarias)"
   ]
  },
  {
   "cell_type": "code",
   "execution_count": null,
   "metadata": {},
   "outputs": [],
   "source": [
    "#Aquí sus códigos (añadan las líneas necesarias)"
   ]
  },
  {
   "cell_type": "markdown",
   "metadata": {},
   "source": [
    "---\n",
    "---\n",
    "\n",
    "# Sección 2\n",
    "\n",
    "### Recomendaciones usando técnicas de ML (Web Scrapping, Supervised, Unsupervised)\n",
    "\n",
    "---"
   ]
  },
  {
   "cell_type": "markdown",
   "metadata": {},
   "source": [
    "Tomando como referencia la información en la notebook <font color=red>\"Unsupervised_Prediction\"</font>, deberán utilizar los archivos de <font color=blue>\"anime.csv\"</font> y <font color=green>\"rating.csv\"</font> como punto de referencia.\n",
    "\n",
    "En esta notebook se realiza una parte importante del pre-procesamiento. Posteriormente, la aplicación del análisis de componentes principales (PCA), k-means y la descripción de las recomendaciones para al menos 3 clusters generados.\n",
    "\n",
    "Aplicar la técnica de webscrapping y explicar su funcionamiento (**puede tardar desde 10 minutos hasta 1 hora aproximadamente; dependiendo la cantidad de registros que hayan usado**). Tomen en cuenta que esta búsqueda va acorde a los ids del conjunto de datos que les hace falta información y, a partir de esta técnica de minería de datos, completamos los registros faltantes.\n",
    "\n",
    "Posteriormente, entrenar el algoritmo de k-NN para obtener las distancias de cada id del conjunto de datos, para obtener los indices y distancias correspondientes que nos servirán para proporcionar recomendaciones con respecto a estos resultados.\n",
    "\n",
    "----\n",
    "\n",
    "Idea: Aplicar su propio pipeline para replicar los resultados de predicción/recomendación de este ejercicio.\n",
    "\n",
    "----\n",
    "\n",
    "En cada apartado, deberán explicar el preprocesamiento que realizaron."
   ]
  },
  {
   "cell_type": "code",
   "execution_count": null,
   "metadata": {},
   "outputs": [],
   "source": [
    "#Aquí sus códigos (añadan las líneas necesarias)"
   ]
  },
  {
   "cell_type": "code",
   "execution_count": null,
   "metadata": {},
   "outputs": [],
   "source": [
    "#Aquí sus códigos (añadan las líneas necesarias)"
   ]
  },
  {
   "cell_type": "code",
   "execution_count": 1,
   "metadata": {},
   "outputs": [],
   "source": [
    "#Aquí sus códigos (añadan las líneas necesarias)"
   ]
  },
  {
   "cell_type": "markdown",
   "metadata": {},
   "source": [
    "---\n",
    "---\n",
    "\n",
    "# Sección 3\n",
    "\n",
    "### Aplicación de modelos de DL\n",
    "---"
   ]
  },
  {
   "cell_type": "markdown",
   "metadata": {},
   "source": [
    "Tomando como referencia la información en la notebook <font color=red>\"Unsupervised_Prediction\"</font>, deberán utilizar los archivos de las imágenes en <font color=blue>\"dataset\"</font>, de los apartados <font color=magenta>covid y normal</font> (**podrían tratar de añadir más imágenes a cada tipo para mejorar los resultados**) y, finalmente, probar el modelo con imágenes del set de datos en la carpeta <font color=green>\"test\"</font> como punto de referencia.\n",
    "\n",
    "Aplicaremos la red VGG16 (pero podrían ver la posibilidad de tratar de aplicar otro modelo de los que se encuentran en **tensorflow.keras.applications**).\n",
    "\n",
    "Pueden tratar de jugar con la estructura definida en *\"base model\"*, siempre y cuando hayan visto el link que viene al final de ese apartado de dicha red VGG16.\n",
    "\n",
    "-----\n",
    "Podemos jugar un poco con la información de las inicialiaciones de las variables **INIT_LR, EPOCS, BS** para observar si hay o no mejoría en los resultados de entrenamiento.\n",
    "\n",
    "Aplicar la técnica de DL y explicar su funcionamiento (**puede tardar desde 5 hasta 30 minutos aproximadamente; 5 minutos con los datos proporcionados, más tiempo en caso de añadir nuevas imágenes**).\n",
    "\n",
    "----\n",
    "\n",
    "En cada apartado, traten de explicar el proceso que se está llevando a cabo."
   ]
  },
  {
   "cell_type": "code",
   "execution_count": null,
   "metadata": {},
   "outputs": [],
   "source": [
    "#Aquí sus códigos (añadan las líneas necesarias)"
   ]
  },
  {
   "cell_type": "code",
   "execution_count": null,
   "metadata": {},
   "outputs": [],
   "source": [
    "#Aquí sus códigos (añadan las líneas necesarias)"
   ]
  },
  {
   "cell_type": "code",
   "execution_count": null,
   "metadata": {},
   "outputs": [],
   "source": [
    "#Aquí sus códigos (añadan las líneas necesarias)"
   ]
  }
 ],
 "metadata": {
  "kernelspec": {
   "display_name": "Python 3",
   "language": "python",
   "name": "python3"
  },
  "language_info": {
   "codemirror_mode": {
    "name": "ipython",
    "version": 3
   },
   "file_extension": ".py",
   "mimetype": "text/x-python",
   "name": "python",
   "nbconvert_exporter": "python",
   "pygments_lexer": "ipython3",
   "version": "3.7.6"
  }
 },
 "nbformat": 4,
 "nbformat_minor": 4
}
