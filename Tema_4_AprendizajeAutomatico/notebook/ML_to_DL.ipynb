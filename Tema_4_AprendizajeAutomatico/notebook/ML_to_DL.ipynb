{
 "cells": [
  {
   "cell_type": "markdown",
   "metadata": {},
   "source": [
    "[![Open In Colab](https://colab.research.google.com/assets/colab-badge.svg)](https://colab.research.google.com/github/MauricioRR-Tec/AprendizajeAutomatico/blob/master/Tema_4_AprendizajeAutomatico/notebook/ML_to_DL.ipynb)"
   ]
  },
  {
   "cell_type": "markdown",
   "metadata": {},
   "source": [
    "<h1><center>Resumen Aprendizaje Máquina</center></h1>\n",
    "\n",
    "1. Machine Learning\n",
    "* Supervised Learning\n",
    "  * EDA\n",
    "  * Pre-procesing Data\n",
    "  * Cross Validation (CV)\n",
    "  * Hyperparameter Tuning\n",
    "  * Regression\n",
    "  * Classification\n",
    "  \n",
    "\n",
    "* Unsupervised Learning\n",
    "  * Clustering\n",
    "  * Standardization\n",
    "  * Dimension Reduction"
   ]
  },
  {
   "cell_type": "markdown",
   "metadata": {},
   "source": [
    "----\n",
    "\n",
    "### KMEANS\n",
    "\n",
    "Probemos nuestro primer método no supervisado que es KMeans.\n",
    "\n",
    "Clúster de KMeans: el algoritmo funciona de forma iterativa para asignar cada punto de datos a uno de los K grupos según las características que se proporcionan. Los puntos de datos se agrupan según la similitud de características\n",
    "\n",
    "KMeans (n_clusters = 2): n_clusters = 2 significa que crean 2 clústeres"
   ]
  },
  {
   "cell_type": "code",
   "execution_count": 12,
   "metadata": {},
   "outputs": [],
   "source": [
    "import numpy as np # linear algebra\n",
    "import pandas as pd # data processing, CSV file I/O (e.g. pd.read_csv)\n",
    "import matplotlib.pyplot as plt\n",
    "import seaborn as sns\n",
    "# Input data files are available in the \"../input/\" directory.\n",
    "# For example, running this (by clicking run or pressing Shift+Enter) will list the files in the input directory\n",
    "# import warnings\n",
    "import warnings\n",
    "# ignore warnings\n",
    "warnings.filterwarnings(\"ignore\")\n",
    "from subprocess import check_output"
   ]
  },
  {
   "cell_type": "code",
   "execution_count": 13,
   "metadata": {},
   "outputs": [
    {
     "data": {
      "image/png": "[encoded data removed]",
      "text/plain": [
       "<Figure size 432x288 with 1 Axes>"
      ]
     },
     "metadata": {
      "needs_background": "light"
     },
     "output_type": "display_data"
    }
   ],
   "source": [
    "# As you can see there is no labels in data\n",
    "data = pd.read_csv('../data/column_2C_weka.csv')\n",
    "plt.scatter(data['pelvic_radius'],data['degree_spondylolisthesis'])\n",
    "plt.xlabel('pelvic_radius')\n",
    "plt.ylabel('degree_spondylolisthesis')\n",
    "plt.show()"
   ]
  },
  {
   "cell_type": "code",
   "execution_count": 3,
   "metadata": {},
   "outputs": [
    {
     "data": {
      "text/html": [
       "<div>\n",
       "<style scoped>\n",
       "    .dataframe tbody tr th:only-of-type {\n",
       "        vertical-align: middle;\n",
       "    }\n",
       "\n",
       "    .dataframe tbody tr th {\n",
       "        vertical-align: top;\n",
       "    }\n",
       "\n",
       "    .dataframe thead th {\n",
       "        text-align: right;\n",
       "    }\n",
       "</style>\n",
       "<table border=\"1\" class=\"dataframe\">\n",
       "  <thead>\n",
       "    <tr style=\"text-align: right;\">\n",
       "      <th></th>\n",
       "      <th>pelvic_incidence</th>\n",
       "      <th>pelvic_tilt numeric</th>\n",
       "      <th>lumbar_lordosis_angle</th>\n",
       "      <th>sacral_slope</th>\n",
       "      <th>pelvic_radius</th>\n",
       "      <th>degree_spondylolisthesis</th>\n",
       "      <th>class</th>\n",
       "    </tr>\n",
       "  </thead>\n",
       "  <tbody>\n",
       "    <tr>\n",
       "      <th>0</th>\n",
       "      <td>63.027818</td>\n",
       "      <td>22.552586</td>\n",
       "      <td>39.609117</td>\n",
       "      <td>40.475232</td>\n",
       "      <td>98.672917</td>\n",
       "      <td>-0.254400</td>\n",
       "      <td>Abnormal</td>\n",
       "    </tr>\n",
       "    <tr>\n",
       "      <th>1</th>\n",
       "      <td>39.056951</td>\n",
       "      <td>10.060991</td>\n",
       "      <td>25.015378</td>\n",
       "      <td>28.995960</td>\n",
       "      <td>114.405425</td>\n",
       "      <td>4.564259</td>\n",
       "      <td>Abnormal</td>\n",
       "    </tr>\n",
       "    <tr>\n",
       "      <th>2</th>\n",
       "      <td>68.832021</td>\n",
       "      <td>22.218482</td>\n",
       "      <td>50.092194</td>\n",
       "      <td>46.613539</td>\n",
       "      <td>105.985135</td>\n",
       "      <td>-3.530317</td>\n",
       "      <td>Abnormal</td>\n",
       "    </tr>\n",
       "    <tr>\n",
       "      <th>3</th>\n",
       "      <td>69.297008</td>\n",
       "      <td>24.652878</td>\n",
       "      <td>44.311238</td>\n",
       "      <td>44.644130</td>\n",
       "      <td>101.868495</td>\n",
       "      <td>11.211523</td>\n",
       "      <td>Abnormal</td>\n",
       "    </tr>\n",
       "    <tr>\n",
       "      <th>4</th>\n",
       "      <td>49.712859</td>\n",
       "      <td>9.652075</td>\n",
       "      <td>28.317406</td>\n",
       "      <td>40.060784</td>\n",
       "      <td>108.168725</td>\n",
       "      <td>7.918501</td>\n",
       "      <td>Abnormal</td>\n",
       "    </tr>\n",
       "    <tr>\n",
       "      <th>...</th>\n",
       "      <td>...</td>\n",
       "      <td>...</td>\n",
       "      <td>...</td>\n",
       "      <td>...</td>\n",
       "      <td>...</td>\n",
       "      <td>...</td>\n",
       "      <td>...</td>\n",
       "    </tr>\n",
       "    <tr>\n",
       "      <th>305</th>\n",
       "      <td>47.903565</td>\n",
       "      <td>13.616688</td>\n",
       "      <td>36.000000</td>\n",
       "      <td>34.286877</td>\n",
       "      <td>117.449062</td>\n",
       "      <td>-4.245395</td>\n",
       "      <td>Normal</td>\n",
       "    </tr>\n",
       "    <tr>\n",
       "      <th>306</th>\n",
       "      <td>53.936748</td>\n",
       "      <td>20.721496</td>\n",
       "      <td>29.220534</td>\n",
       "      <td>33.215251</td>\n",
       "      <td>114.365845</td>\n",
       "      <td>-0.421010</td>\n",
       "      <td>Normal</td>\n",
       "    </tr>\n",
       "    <tr>\n",
       "      <th>307</th>\n",
       "      <td>61.446597</td>\n",
       "      <td>22.694968</td>\n",
       "      <td>46.170347</td>\n",
       "      <td>38.751628</td>\n",
       "      <td>125.670725</td>\n",
       "      <td>-2.707880</td>\n",
       "      <td>Normal</td>\n",
       "    </tr>\n",
       "    <tr>\n",
       "      <th>308</th>\n",
       "      <td>45.252792</td>\n",
       "      <td>8.693157</td>\n",
       "      <td>41.583126</td>\n",
       "      <td>36.559635</td>\n",
       "      <td>118.545842</td>\n",
       "      <td>0.214750</td>\n",
       "      <td>Normal</td>\n",
       "    </tr>\n",
       "    <tr>\n",
       "      <th>309</th>\n",
       "      <td>33.841641</td>\n",
       "      <td>5.073991</td>\n",
       "      <td>36.641233</td>\n",
       "      <td>28.767649</td>\n",
       "      <td>123.945244</td>\n",
       "      <td>-0.199249</td>\n",
       "      <td>Normal</td>\n",
       "    </tr>\n",
       "  </tbody>\n",
       "</table>\n",
       "<p>310 rows × 7 columns</p>\n",
       "</div>"
      ],
      "text/plain": [
       "     pelvic_incidence  pelvic_tilt numeric  lumbar_lordosis_angle  \\\n",
       "0           63.027818            22.552586              39.609117   \n",
       "1           39.056951            10.060991              25.015378   \n",
       "2           68.832021            22.218482              50.092194   \n",
       "3           69.297008            24.652878              44.311238   \n",
       "4           49.712859             9.652075              28.317406   \n",
       "..                ...                  ...                    ...   \n",
       "305         47.903565            13.616688              36.000000   \n",
       "306         53.936748            20.721496              29.220534   \n",
       "307         61.446597            22.694968              46.170347   \n",
       "308         45.252792             8.693157              41.583126   \n",
       "309         33.841641             5.073991              36.641233   \n",
       "\n",
       "     sacral_slope  pelvic_radius  degree_spondylolisthesis     class  \n",
       "0       40.475232      98.672917                 -0.254400  Abnormal  \n",
       "1       28.995960     114.405425                  4.564259  Abnormal  \n",
       "2       46.613539     105.985135                 -3.530317  Abnormal  \n",
       "3       44.644130     101.868495                 11.211523  Abnormal  \n",
       "4       40.060784     108.168725                  7.918501  Abnormal  \n",
       "..            ...            ...                       ...       ...  \n",
       "305     34.286877     117.449062                 -4.245395    Normal  \n",
       "306     33.215251     114.365845                 -0.421010    Normal  \n",
       "307     38.751628     125.670725                 -2.707880    Normal  \n",
       "308     36.559635     118.545842                  0.214750    Normal  \n",
       "309     28.767649     123.945244                 -0.199249    Normal  \n",
       "\n",
       "[310 rows x 7 columns]"
      ]
     },
     "execution_count": 3,
     "metadata": {},
     "output_type": "execute_result"
    }
   ],
   "source": [
    "data"
   ]
  },
  {
   "cell_type": "code",
   "execution_count": 4,
   "metadata": {},
   "outputs": [
    {
     "data": {
      "text/html": [
       "<div>\n",
       "<style scoped>\n",
       "    .dataframe tbody tr th:only-of-type {\n",
       "        vertical-align: middle;\n",
       "    }\n",
       "\n",
       "    .dataframe tbody tr th {\n",
       "        vertical-align: top;\n",
       "    }\n",
       "\n",
       "    .dataframe thead th {\n",
       "        text-align: right;\n",
       "    }\n",
       "</style>\n",
       "<table border=\"1\" class=\"dataframe\">\n",
       "  <thead>\n",
       "    <tr style=\"text-align: right;\">\n",
       "      <th></th>\n",
       "      <th>pelvic_incidence</th>\n",
       "      <th>pelvic_tilt numeric</th>\n",
       "      <th>lumbar_lordosis_angle</th>\n",
       "      <th>sacral_slope</th>\n",
       "      <th>pelvic_radius</th>\n",
       "      <th>degree_spondylolisthesis</th>\n",
       "      <th>class</th>\n",
       "    </tr>\n",
       "  </thead>\n",
       "  <tbody>\n",
       "    <tr>\n",
       "      <th>0</th>\n",
       "      <td>63.027818</td>\n",
       "      <td>22.552586</td>\n",
       "      <td>39.609117</td>\n",
       "      <td>40.475232</td>\n",
       "      <td>98.672917</td>\n",
       "      <td>-0.254400</td>\n",
       "      <td>Abnormal</td>\n",
       "    </tr>\n",
       "    <tr>\n",
       "      <th>1</th>\n",
       "      <td>39.056951</td>\n",
       "      <td>10.060991</td>\n",
       "      <td>25.015378</td>\n",
       "      <td>28.995960</td>\n",
       "      <td>114.405425</td>\n",
       "      <td>4.564259</td>\n",
       "      <td>Abnormal</td>\n",
       "    </tr>\n",
       "    <tr>\n",
       "      <th>2</th>\n",
       "      <td>68.832021</td>\n",
       "      <td>22.218482</td>\n",
       "      <td>50.092194</td>\n",
       "      <td>46.613539</td>\n",
       "      <td>105.985135</td>\n",
       "      <td>-3.530317</td>\n",
       "      <td>Abnormal</td>\n",
       "    </tr>\n",
       "    <tr>\n",
       "      <th>3</th>\n",
       "      <td>69.297008</td>\n",
       "      <td>24.652878</td>\n",
       "      <td>44.311238</td>\n",
       "      <td>44.644130</td>\n",
       "      <td>101.868495</td>\n",
       "      <td>11.211523</td>\n",
       "      <td>Abnormal</td>\n",
       "    </tr>\n",
       "    <tr>\n",
       "      <th>4</th>\n",
       "      <td>49.712859</td>\n",
       "      <td>9.652075</td>\n",
       "      <td>28.317406</td>\n",
       "      <td>40.060784</td>\n",
       "      <td>108.168725</td>\n",
       "      <td>7.918501</td>\n",
       "      <td>Abnormal</td>\n",
       "    </tr>\n",
       "  </tbody>\n",
       "</table>\n",
       "</div>"
      ],
      "text/plain": [
       "   pelvic_incidence  pelvic_tilt numeric  lumbar_lordosis_angle  sacral_slope  \\\n",
       "0         63.027818            22.552586              39.609117     40.475232   \n",
       "1         39.056951            10.060991              25.015378     28.995960   \n",
       "2         68.832021            22.218482              50.092194     46.613539   \n",
       "3         69.297008            24.652878              44.311238     44.644130   \n",
       "4         49.712859             9.652075              28.317406     40.060784   \n",
       "\n",
       "   pelvic_radius  degree_spondylolisthesis     class  \n",
       "0      98.672917                 -0.254400  Abnormal  \n",
       "1     114.405425                  4.564259  Abnormal  \n",
       "2     105.985135                 -3.530317  Abnormal  \n",
       "3     101.868495                 11.211523  Abnormal  \n",
       "4     108.168725                  7.918501  Abnormal  "
      ]
     },
     "execution_count": 4,
     "metadata": {},
     "output_type": "execute_result"
    }
   ],
   "source": [
    "data.head()"
   ]
  },
  {
   "cell_type": "code",
   "execution_count": 5,
   "metadata": {},
   "outputs": [
    {
     "data": {
      "image/png": "[encoded data removed]",
      "text/plain": [
       "<Figure size 432x288 with 1 Axes>"
      ]
     },
     "metadata": {
      "needs_background": "light"
     },
     "output_type": "display_data"
    }
   ],
   "source": [
    "# KMeans Clustering\n",
    "data2 = data.loc[:,['degree_spondylolisthesis','pelvic_radius']]\n",
    "from sklearn.cluster import KMeans\n",
    "kmeans = KMeans(n_clusters = 2)\n",
    "kmeans.fit(data2)\n",
    "labels = kmeans.predict(data2)\n",
    "plt.scatter(data['pelvic_radius'],data['degree_spondylolisthesis'],c = labels)\n",
    "plt.xlabel('pelvic_radius')\n",
    "plt.xlabel('degree_spondylolisthesis')\n",
    "plt.show()"
   ]
  },
  {
   "cell_type": "markdown",
   "metadata": {},
   "source": [
    "### EVALUACIÓN DEL AGRUPAMIENTO\n",
    "\n",
    "Agrupamos los datos en dos grupos. Okey, ¿es la agrupación correcta? Para evaluar la agrupación utilizaremos una tabla de tabulación cruzada.\n",
    "\n",
    "* Hay dos grupos que son 0 y 1\n",
    "  * La primera clase 0 incluye 138 pacientes anormales y 100 normales\n",
    "  * La segunda clase 1 incluye 72 pacientes anormales y 0 normales \n",
    "  \n",
    "  * La mayoría de dos grupos son pacientes anormales.\n",
    "\n"
   ]
  },
  {
   "cell_type": "code",
   "execution_count": 6,
   "metadata": {},
   "outputs": [
    {
     "name": "stdout",
     "output_type": "stream",
     "text": [
      "class   Abnormal  Normal\n",
      "labels                  \n",
      "0            138     100\n",
      "1             72       0\n"
     ]
    }
   ],
   "source": [
    "# cross tabulation table\n",
    "df = pd.DataFrame({'labels':labels,\"class\":data['class']})\n",
    "ct = pd.crosstab(df['labels'],df['class'])\n",
    "print(ct)"
   ]
  },
  {
   "cell_type": "markdown",
   "metadata": {},
   "source": [
    "La nueva pregunta es que sabemos cuántos datos de clase se incluyen, pero ¿qué pasa si el número de clase no se conoce en los datos? Esto es como un hiperparámetro en KNN o regresiones.\n",
    "\n",
    "* inercia: qué tan dispersos están los grupos a distancia de cada muestra\n",
    "* menor inercia significa más ramificaciones\n",
    "* ¿Cuál es el mejor número de clústeres? **Hay poca inercia y no hay demasiadas compensaciones de clústeres, por lo que podemos elegir \"codo\" (elbow)**"
   ]
  },
  {
   "cell_type": "code",
   "execution_count": 7,
   "metadata": {},
   "outputs": [
    {
     "data": {
      "image/png": "[encoded data removed]",
      "text/plain": [
       "<Figure size 432x288 with 1 Axes>"
      ]
     },
     "metadata": {
      "needs_background": "light"
     },
     "output_type": "display_data"
    }
   ],
   "source": [
    "# inertia\n",
    "inertia_list = np.empty(8)\n",
    "for i in range(1,8):\n",
    "    kmeans = KMeans(n_clusters=i)\n",
    "    kmeans.fit(data2)\n",
    "    inertia_list[i] = kmeans.inertia_\n",
    "plt.plot(range(0,8),inertia_list,'-o')\n",
    "plt.xlabel('Number of cluster')\n",
    "plt.ylabel('Inertia')\n",
    "plt.show()"
   ]
  },
  {
   "cell_type": "markdown",
   "metadata": {},
   "source": [
    "### ESTANDARIZACIÓN\n",
    "\n",
    "La estandarización es importante tanto para el aprendizaje supervisado como no supervisado.\n",
    "* No olvides la estandarización como preprocesamiento\n",
    "\n",
    "Como ya hemos visualizado los datos, entendiste la idea. Ahora podemos usar todas las funciones para la agrupación en clústeres."
   ]
  },
  {
   "cell_type": "code",
   "execution_count": 9,
   "metadata": {},
   "outputs": [],
   "source": [
    "data = pd.read_csv('../data/column_2C_weka.csv')\n",
    "data3 = data.drop('class',axis = 1)"
   ]
  },
  {
   "cell_type": "code",
   "execution_count": 10,
   "metadata": {},
   "outputs": [
    {
     "data": {
      "text/plain": [
       "<AxesSubplot:>"
      ]
     },
     "execution_count": 10,
     "metadata": {},
     "output_type": "execute_result"
    },
    {
     "data": {
      "image/png": "[encoded data removed]",
      "text/plain": [
       "<Figure size 432x288 with 1 Axes>"
      ]
     },
     "metadata": {
      "needs_background": "light"
     },
     "output_type": "display_data"
    }
   ],
   "source": [
    "data3.plot()"
   ]
  },
  {
   "cell_type": "code",
   "execution_count": 78,
   "metadata": {},
   "outputs": [
    {
     "name": "stdout",
     "output_type": "stream",
     "text": [
      "class   Abnormal  Normal\n",
      "labels                  \n",
      "0             94      90\n",
      "1            116      10\n"
     ]
    }
   ],
   "source": [
    "from sklearn.preprocessing import StandardScaler\n",
    "from sklearn.pipeline import make_pipeline\n",
    "scalar = StandardScaler()\n",
    "kmeans = KMeans(n_clusters = 2)\n",
    "pipe = make_pipeline(scalar,kmeans)\n",
    "pipe.fit(data3)\n",
    "labels = pipe.predict(data3)\n",
    "df = pd.DataFrame({'labels':labels,\"class\":data['class']})\n",
    "ct = pd.crosstab(df['labels'],df['class'])\n",
    "print(ct)"
   ]
  },
  {
   "cell_type": "code",
   "execution_count": 21,
   "metadata": {},
   "outputs": [
    {
     "data": {
      "text/html": [
       "<div>\n",
       "<style scoped>\n",
       "    .dataframe tbody tr th:only-of-type {\n",
       "        vertical-align: middle;\n",
       "    }\n",
       "\n",
       "    .dataframe tbody tr th {\n",
       "        vertical-align: top;\n",
       "    }\n",
       "\n",
       "    .dataframe thead th {\n",
       "        text-align: right;\n",
       "    }\n",
       "</style>\n",
       "<table border=\"1\" class=\"dataframe\">\n",
       "  <thead>\n",
       "    <tr style=\"text-align: right;\">\n",
       "      <th></th>\n",
       "      <th>pelvic_incidence</th>\n",
       "      <th>pelvic_tilt numeric</th>\n",
       "      <th>lumbar_lordosis_angle</th>\n",
       "      <th>sacral_slope</th>\n",
       "      <th>pelvic_radius</th>\n",
       "      <th>degree_spondylolisthesis</th>\n",
       "    </tr>\n",
       "  </thead>\n",
       "  <tbody>\n",
       "    <tr>\n",
       "      <th>0</th>\n",
       "      <td>63.027818</td>\n",
       "      <td>22.552586</td>\n",
       "      <td>39.609117</td>\n",
       "      <td>40.475232</td>\n",
       "      <td>98.672917</td>\n",
       "      <td>-0.254400</td>\n",
       "    </tr>\n",
       "    <tr>\n",
       "      <th>1</th>\n",
       "      <td>39.056951</td>\n",
       "      <td>10.060991</td>\n",
       "      <td>25.015378</td>\n",
       "      <td>28.995960</td>\n",
       "      <td>114.405425</td>\n",
       "      <td>4.564259</td>\n",
       "    </tr>\n",
       "    <tr>\n",
       "      <th>2</th>\n",
       "      <td>68.832021</td>\n",
       "      <td>22.218482</td>\n",
       "      <td>50.092194</td>\n",
       "      <td>46.613539</td>\n",
       "      <td>105.985135</td>\n",
       "      <td>-3.530317</td>\n",
       "    </tr>\n",
       "    <tr>\n",
       "      <th>3</th>\n",
       "      <td>69.297008</td>\n",
       "      <td>24.652878</td>\n",
       "      <td>44.311238</td>\n",
       "      <td>44.644130</td>\n",
       "      <td>101.868495</td>\n",
       "      <td>11.211523</td>\n",
       "    </tr>\n",
       "    <tr>\n",
       "      <th>4</th>\n",
       "      <td>49.712859</td>\n",
       "      <td>9.652075</td>\n",
       "      <td>28.317406</td>\n",
       "      <td>40.060784</td>\n",
       "      <td>108.168725</td>\n",
       "      <td>7.918501</td>\n",
       "    </tr>\n",
       "    <tr>\n",
       "      <th>...</th>\n",
       "      <td>...</td>\n",
       "      <td>...</td>\n",
       "      <td>...</td>\n",
       "      <td>...</td>\n",
       "      <td>...</td>\n",
       "      <td>...</td>\n",
       "    </tr>\n",
       "    <tr>\n",
       "      <th>305</th>\n",
       "      <td>47.903565</td>\n",
       "      <td>13.616688</td>\n",
       "      <td>36.000000</td>\n",
       "      <td>34.286877</td>\n",
       "      <td>117.449062</td>\n",
       "      <td>-4.245395</td>\n",
       "    </tr>\n",
       "    <tr>\n",
       "      <th>306</th>\n",
       "      <td>53.936748</td>\n",
       "      <td>20.721496</td>\n",
       "      <td>29.220534</td>\n",
       "      <td>33.215251</td>\n",
       "      <td>114.365845</td>\n",
       "      <td>-0.421010</td>\n",
       "    </tr>\n",
       "    <tr>\n",
       "      <th>307</th>\n",
       "      <td>61.446597</td>\n",
       "      <td>22.694968</td>\n",
       "      <td>46.170347</td>\n",
       "      <td>38.751628</td>\n",
       "      <td>125.670725</td>\n",
       "      <td>-2.707880</td>\n",
       "    </tr>\n",
       "    <tr>\n",
       "      <th>308</th>\n",
       "      <td>45.252792</td>\n",
       "      <td>8.693157</td>\n",
       "      <td>41.583126</td>\n",
       "      <td>36.559635</td>\n",
       "      <td>118.545842</td>\n",
       "      <td>0.214750</td>\n",
       "    </tr>\n",
       "    <tr>\n",
       "      <th>309</th>\n",
       "      <td>33.841641</td>\n",
       "      <td>5.073991</td>\n",
       "      <td>36.641233</td>\n",
       "      <td>28.767649</td>\n",
       "      <td>123.945244</td>\n",
       "      <td>-0.199249</td>\n",
       "    </tr>\n",
       "  </tbody>\n",
       "</table>\n",
       "<p>310 rows × 6 columns</p>\n",
       "</div>"
      ],
      "text/plain": [
       "     pelvic_incidence  pelvic_tilt numeric  lumbar_lordosis_angle  \\\n",
       "0           63.027818            22.552586              39.609117   \n",
       "1           39.056951            10.060991              25.015378   \n",
       "2           68.832021            22.218482              50.092194   \n",
       "3           69.297008            24.652878              44.311238   \n",
       "4           49.712859             9.652075              28.317406   \n",
       "..                ...                  ...                    ...   \n",
       "305         47.903565            13.616688              36.000000   \n",
       "306         53.936748            20.721496              29.220534   \n",
       "307         61.446597            22.694968              46.170347   \n",
       "308         45.252792             8.693157              41.583126   \n",
       "309         33.841641             5.073991              36.641233   \n",
       "\n",
       "     sacral_slope  pelvic_radius  degree_spondylolisthesis  \n",
       "0       40.475232      98.672917                 -0.254400  \n",
       "1       28.995960     114.405425                  4.564259  \n",
       "2       46.613539     105.985135                 -3.530317  \n",
       "3       44.644130     101.868495                 11.211523  \n",
       "4       40.060784     108.168725                  7.918501  \n",
       "..            ...            ...                       ...  \n",
       "305     34.286877     117.449062                 -4.245395  \n",
       "306     33.215251     114.365845                 -0.421010  \n",
       "307     38.751628     125.670725                 -2.707880  \n",
       "308     36.559635     118.545842                  0.214750  \n",
       "309     28.767649     123.945244                 -0.199249  \n",
       "\n",
       "[310 rows x 6 columns]"
      ]
     },
     "execution_count": 21,
     "metadata": {},
     "output_type": "execute_result"
    }
   ],
   "source": [
    "data3"
   ]
  },
  {
   "cell_type": "code",
   "execution_count": 13,
   "metadata": {},
   "outputs": [
    {
     "data": {
      "text/html": [
       "<div>\n",
       "<style scoped>\n",
       "    .dataframe tbody tr th:only-of-type {\n",
       "        vertical-align: middle;\n",
       "    }\n",
       "\n",
       "    .dataframe tbody tr th {\n",
       "        vertical-align: top;\n",
       "    }\n",
       "\n",
       "    .dataframe thead th {\n",
       "        text-align: right;\n",
       "    }\n",
       "</style>\n",
       "<table border=\"1\" class=\"dataframe\">\n",
       "  <thead>\n",
       "    <tr style=\"text-align: right;\">\n",
       "      <th></th>\n",
       "      <th>labels</th>\n",
       "      <th>class</th>\n",
       "    </tr>\n",
       "  </thead>\n",
       "  <tbody>\n",
       "    <tr>\n",
       "      <th>0</th>\n",
       "      <td>1</td>\n",
       "      <td>Abnormal</td>\n",
       "    </tr>\n",
       "    <tr>\n",
       "      <th>1</th>\n",
       "      <td>1</td>\n",
       "      <td>Abnormal</td>\n",
       "    </tr>\n",
       "    <tr>\n",
       "      <th>2</th>\n",
       "      <td>0</td>\n",
       "      <td>Abnormal</td>\n",
       "    </tr>\n",
       "    <tr>\n",
       "      <th>3</th>\n",
       "      <td>0</td>\n",
       "      <td>Abnormal</td>\n",
       "    </tr>\n",
       "    <tr>\n",
       "      <th>4</th>\n",
       "      <td>1</td>\n",
       "      <td>Abnormal</td>\n",
       "    </tr>\n",
       "    <tr>\n",
       "      <th>...</th>\n",
       "      <td>...</td>\n",
       "      <td>...</td>\n",
       "    </tr>\n",
       "    <tr>\n",
       "      <th>305</th>\n",
       "      <td>1</td>\n",
       "      <td>Normal</td>\n",
       "    </tr>\n",
       "    <tr>\n",
       "      <th>306</th>\n",
       "      <td>1</td>\n",
       "      <td>Normal</td>\n",
       "    </tr>\n",
       "    <tr>\n",
       "      <th>307</th>\n",
       "      <td>1</td>\n",
       "      <td>Normal</td>\n",
       "    </tr>\n",
       "    <tr>\n",
       "      <th>308</th>\n",
       "      <td>1</td>\n",
       "      <td>Normal</td>\n",
       "    </tr>\n",
       "    <tr>\n",
       "      <th>309</th>\n",
       "      <td>1</td>\n",
       "      <td>Normal</td>\n",
       "    </tr>\n",
       "  </tbody>\n",
       "</table>\n",
       "<p>310 rows × 2 columns</p>\n",
       "</div>"
      ],
      "text/plain": [
       "     labels     class\n",
       "0         1  Abnormal\n",
       "1         1  Abnormal\n",
       "2         0  Abnormal\n",
       "3         0  Abnormal\n",
       "4         1  Abnormal\n",
       "..      ...       ...\n",
       "305       1    Normal\n",
       "306       1    Normal\n",
       "307       1    Normal\n",
       "308       1    Normal\n",
       "309       1    Normal\n",
       "\n",
       "[310 rows x 2 columns]"
      ]
     },
     "execution_count": 13,
     "metadata": {},
     "output_type": "execute_result"
    }
   ],
   "source": [
    "df"
   ]
  },
  {
   "cell_type": "markdown",
   "metadata": {},
   "source": [
    "### JERARQUÍA\n",
    "\n",
    "* Las líneas verticales son grupos\n",
    "* altura en el dendograma: distancia entre el grupo de fusión\n",
    "* method = 'single': puntos más cercanos de los clústeres"
   ]
  },
  {
   "cell_type": "code",
   "execution_count": 14,
   "metadata": {},
   "outputs": [
    {
     "data": {
      "image/png": "[encoded data removed]",
      "text/plain": [
       "<Figure size 432x288 with 1 Axes>"
      ]
     },
     "metadata": {
      "needs_background": "light"
     },
     "output_type": "display_data"
    }
   ],
   "source": [
    "from scipy.cluster.hierarchy import linkage,dendrogram\n",
    "\n",
    "merg = linkage(data3.iloc[200:220,:],method = 'single')\n",
    "dendrogram(merg, leaf_rotation = 90, leaf_font_size = 6)\n",
    "plt.show()"
   ]
  },
  {
   "cell_type": "markdown",
   "metadata": {},
   "source": [
    "### T - Incrustación de vecinos estocásticos distribuidos (T - SNE)\n",
    "\n",
    "* tasa de aprendizaje: 50-200 en normal\n",
    "* fit_transform: es tanto fit como transform. t-sne solo tiene fit_transform\n",
    "* Las variedades tienen la misma posición entre sí"
   ]
  },
  {
   "cell_type": "code",
   "execution_count": 18,
   "metadata": {},
   "outputs": [],
   "source": [
    "color_list = ['red' if i=='Abnormal' else 'green' for i in data.loc[:,'class']]"
   ]
  },
  {
   "cell_type": "code",
   "execution_count": 20,
   "metadata": {},
   "outputs": [
    {
     "data": {
      "image/png": "[encoded data removed]",
      "text/plain": [
       "<Figure size 432x288 with 1 Axes>"
      ]
     },
     "metadata": {
      "needs_background": "light"
     },
     "output_type": "display_data"
    }
   ],
   "source": [
    "from sklearn.manifold import TSNE\n",
    "model = TSNE(learning_rate=100)\n",
    "transformed = model.fit_transform(data2)\n",
    "x = transformed[:,0]\n",
    "y = transformed[:,1]\n",
    "plt.scatter(x,y,c = color_list )\n",
    "plt.xlabel('pelvic_radius')\n",
    "plt.xlabel('degree_spondylolisthesis')\n",
    "plt.show()"
   ]
  },
  {
   "cell_type": "markdown",
   "metadata": {},
   "source": [
    "<h1><center>De ML a DL - Redes neuronales</center></h1>\n",
    "* Aprendizaje profundo: una de las técnicas de aprendizaje automático que aprende características directamente de los datos.\n",
    "* ¿Por qué el aprendizaje profundo?: cuando se aumenta la cantidad de datos, las técnicas de aprendizaje automático son insuficientes en términos de rendimiento y el aprendizaje profundo proporciona un mejor rendimiento, como la precisión.\n",
    "\n",
    "![img](https://preview.ibb.co/d3CEOH/1.png)"
   ]
  },
  {
   "cell_type": "markdown",
   "metadata": {},
   "source": [
    "### ¿Qué es una gran cantidad?:\n",
    "\n",
    "Es difícil de responder, pero intuitivamente 1 millón de muestras es suficiente para decir \"gran cantidad de datos\".\n",
    "\n",
    "Campos de uso del aprendizaje profundo: reconocimiento de voz, clasificación de imágenes, procesión del lenguaje natural (pnl) o sistemas de recomendación\n",
    "\n",
    "¿Cuál es la diferencia entre el aprendizaje profundo y el aprendizaje automático?\n",
    "\n",
    "* El aprendizaje automático cubre el aprendizaje profundo.\n",
    "* Las funciones se proporcionan al aprendizaje automático de forma manual.\n",
    "* Por otro lado, el aprendizaje profundo aprende características directamente de los datos.\n",
    "\n",
    "![img](https://i.ibb.co/R6TVyyQ/2.png)"
   ]
  },
  {
   "cell_type": "code",
   "execution_count": 23,
   "metadata": {},
   "outputs": [],
   "source": [
    "import numpy as np # linear algebra\n",
    "import pandas as pd # data processing, CSV file I/O (e.g. pd.read_csv)\n",
    "import matplotlib.pyplot as plt\n",
    "# Input data files are available in the \"../input/\" directory.\n",
    "# For example, running this (by clicking run or pressing Shift+Enter) will list the files in the input directory\n",
    "# import warnings\n",
    "import warnings"
   ]
  },
  {
   "cell_type": "markdown",
   "metadata": {},
   "source": [
    "### Resumen del conjunto de datos\n",
    "\n",
    "Usaremos \"conjunto de datos de dígitos del lenguaje de señas\" para este ejercicio.\n",
    "    \n",
    "En estos datos hay 2062 imágenes de dígitos en lenguaje de señas.\n",
    "\n",
    "Pero por fines prácticos se usarán alrededor de 205 muestras para cada clase..."
   ]
  },
  {
   "cell_type": "code",
   "execution_count": 11,
   "metadata": {},
   "outputs": [
    {
     "data": {
      "text/plain": [
       "(-0.5, 63.5, 63.5, -0.5)"
      ]
     },
     "execution_count": 11,
     "metadata": {},
     "output_type": "execute_result"
    },
    {
     "data": {
      "image/png": "[encoded data removed]",
      "text/plain": [
       "<Figure size 432x288 with 2 Axes>"
      ]
     },
     "metadata": {
      "needs_background": "light"
     },
     "output_type": "display_data"
    }
   ],
   "source": [
    "# load data set\n",
    "x_l = np.load('../data/X.npy')\n",
    "Y_l = np.load('../data/Y.npy')\n",
    "img_size = 64\n",
    "plt.subplot(1, 2, 1)\n",
    "plt.imshow(x_l[260].reshape(img_size, img_size))\n",
    "plt.axis('off')\n",
    "plt.subplot(1, 2, 2)\n",
    "plt.imshow(x_l[900].reshape(img_size, img_size))\n",
    "plt.axis('off')"
   ]
  },
  {
   "cell_type": "code",
   "execution_count": 81,
   "metadata": {},
   "outputs": [
    {
     "data": {
      "image/png": "[encoded data removed]",
      "text/plain": [
       "<Figure size 576x576 with 9 Axes>"
      ]
     },
     "metadata": {
      "needs_background": "light"
     },
     "output_type": "display_data"
    }
   ],
   "source": [
    "plt.subplots(figsize=(8, 8))\n",
    "for i in range(1,10):\n",
    "    plt.subplot(10, 1, i)\n",
    "    plt.imshow(x_l[i].reshape(img_size, img_size))\n",
    "    plt.axis('off')"
   ]
  },
  {
   "cell_type": "code",
   "execution_count": 82,
   "metadata": {
    "scrolled": true
   },
   "outputs": [
    {
     "name": "stdout",
     "output_type": "stream",
     "text": [
      "X shape:  (410, 64, 64)\n",
      "Y shape:  (410, 1)\n"
     ]
    }
   ],
   "source": [
    "# Join a sequence of arrays along an row axis.\n",
    "X = np.concatenate((x_l[204:409], x_l[822:1027] ), axis=0) # from 0 to 204 is zero sign and from 205 to 410 is one sign \n",
    "z = np.zeros(205)\n",
    "o = np.ones(205)\n",
    "Y = np.concatenate((z, o), axis=0).reshape(X.shape[0],1)\n",
    "print(\"X shape: \" , X.shape)\n",
    "print(\"Y shape: \" , Y.shape)"
   ]
  },
  {
   "cell_type": "markdown",
   "metadata": {},
   "source": [
    "La forma de la X es (410, 64, 64)\n",
    "* 410 significa que tenemos 410 imágenes (signos cero y uno)\n",
    "* 64 significa que nuestro tamaño de imagen es 64x64 (64x64 píxeles)\n",
    "\n",
    "La forma de la Y es (410,1)\n",
    "* 410 significa que tenemos 410 etiquetas (0 y 1)\n",
    "\n",
    "Dividamos X y Y en conjuntos de prueba y de entrenamiento.\n",
    "\n",
    "* test_size = porcentaje del tamaño de la prueba. prueba = 15% y entrenamiento = 75%\n",
    "* random_state = usa la misma semilla mientras aleatoriza. Significa que si llamamos a train_test_split repetidamente, siempre crea el mismo entrenamiento y prueba porque tenemos el mismo random_state.\n",
    "\n"
   ]
  },
  {
   "cell_type": "code",
   "execution_count": 33,
   "metadata": {},
   "outputs": [],
   "source": [
    "# Then lets create x_train, y_train, x_test, y_test arrays\n",
    "from sklearn.model_selection import train_test_split\n",
    "X_train, X_test, Y_train, Y_test = train_test_split(X, Y, test_size=0.15, random_state=42)\n",
    "number_of_train = X_train.shape[0]\n",
    "number_of_test = X_test.shape[0]"
   ]
  },
  {
   "cell_type": "markdown",
   "metadata": {},
   "source": [
    "Ahora tenemos una matriz de entrada tridimensional (X), por lo que debemos aplanarla (2D) para usarla como entrada para nuestro primer modelo de aprendizaje profundo.\n",
    "\n",
    "* Nuestra matriz de etiquetas (Y) ya está plana (2D), así que la dejamos así.\n",
    "* Vamos a aplanar la matriz X (matriz de imágenes)."
   ]
  },
  {
   "cell_type": "code",
   "execution_count": 34,
   "metadata": {},
   "outputs": [
    {
     "name": "stdout",
     "output_type": "stream",
     "text": [
      "X train flatten (348, 4096)\n",
      "X test flatten (62, 4096)\n"
     ]
    }
   ],
   "source": [
    "X_train_flatten = X_train.reshape(number_of_train,X_train.shape[1]*X_train.shape[2])\n",
    "X_test_flatten = X_test .reshape(number_of_test,X_test.shape[1]*X_test.shape[2])\n",
    "print(\"X train flatten\",X_train_flatten.shape)\n",
    "print(\"X test flatten\",X_test_flatten.shape)"
   ]
  },
  {
   "cell_type": "markdown",
   "metadata": {},
   "source": [
    "Como podemos ver, tenemos 348 imágenes y cada imagen tiene 4096 píxeles en una matriz de tren de imágenes.\n",
    "\n",
    "* Además, tenemos 62 imágenes y cada imagen tiene 4096 píxeles en la matriz de prueba de imágenes.\n",
    "* Entonces tomemos la transposición. Puede decir ¿POR QUÉ?, en realidad no hay una respuesta técnica. Solo escribo el código (código que verá las partes próximas) de acuerdo con él :)"
   ]
  },
  {
   "cell_type": "code",
   "execution_count": 83,
   "metadata": {},
   "outputs": [
    {
     "name": "stdout",
     "output_type": "stream",
     "text": [
      "x train:  (4096, 348)\n",
      "x test:  (4096, 62)\n",
      "y train:  (1, 348)\n",
      "y test:  (1, 62)\n"
     ]
    }
   ],
   "source": [
    "x_train = X_train_flatten.T\n",
    "x_test = X_test_flatten.T\n",
    "y_train = Y_train.T\n",
    "y_test = Y_test.T\n",
    "print(\"x train: \",x_train.shape)\n",
    "print(\"x test: \",x_test.shape)\n",
    "print(\"y train: \",y_train.shape)\n",
    "print(\"y test: \",y_test.shape)"
   ]
  },
  {
   "cell_type": "markdown",
   "metadata": {},
   "source": [
    "Lo que hicimos hasta este punto:\n",
    "\n",
    "* Elegir nuestras etiquetas (clases) que tienen el signo cero y el signo uno\n",
    "* Crear y aplanar los conjuntos de entrenamiento y prueba\n",
    "* Nuestras entradas finales (imágenes) y salidas (etiquetas o clases) se ven así:\n",
    "\n",
    "![img](https://image.ibb.co/fOqCSc/3.png)"
   ]
  },
  {
   "cell_type": "markdown",
   "metadata": {},
   "source": [
    "### Regresión logística\n",
    "\n",
    "Cuando hablamos de clasificación binaria (salidas 0 y 1) lo primero que nos viene a la mente debería ser la regresión logística.\n",
    "Sin embargo, en este punto...  ¿qué hacer con la regresión logística?\n",
    "\n",
    "---\n",
    "\n",
    "La respuesta es que la regresión logística es en realidad una red neuronal muy simple. Por cierto, la red neuronal y el aprendizaje profundo son lo mismo. Cuando lleguemos a la red neuronal artificial, explicaré detalladamente los términos como \"profundo\".\n",
    "\n",
    "---\n",
    "\n",
    "Para comprender la regresión logística (aprendizaje profundo simple), primero aprendamos el gráfico de cálculo."
   ]
  },
  {
   "cell_type": "markdown",
   "metadata": {},
   "source": [
    "### Gráfico de cálculo\n",
    "\n",
    "Las gráficas de cálculo son una buena forma de pensar en expresiones matemáticas. Es como la visualización de expresiones matemáticas.\n",
    "    \n",
    "Por ejemplo tenemos\n",
    "    $$c = \\sqrt{a2 + b2}$$\n",
    "\n",
    "Su gráfico computacional es este. Como puede ver, expresamos matemáticas con gráficas.\n",
    "\n",
    "![img](https://image.ibb.co/hWn6Lx/d.jpg)"
   ]
  },
  {
   "cell_type": "markdown",
   "metadata": {},
   "source": [
    "Ahora veamos el gráfico de cálculo de regresión logística.\n",
    "\n",
    "![img](https://i.ibb.co/9Hvb2Yf/5.jpg)"
   ]
  },
  {
   "cell_type": "markdown",
   "metadata": {},
   "source": [
    "Los parámetros son ponderación (peso) y sesgo (bias).\n",
    "\n",
    "* Pesos: coeficientes de cada píxel\n",
    "* Sesgo: intercepto\n",
    "\n",
    "* $z = (w.t) x + b => z$ es igual a (transposición de pesos por entrada x) + sesgo\n",
    "\n",
    "* En otro dicho => $z = b + px1w1 + px2w2 + ... + px4096 * w4096$\n",
    "\n",
    "* y_head = sigmoide (z)\n",
    "\n",
    "* La función sigmoide hace que $z$ esté entre cero y uno, por lo que es probabilidad. Puede ver la función sigmoide en el gráfico de cálculo.\n",
    "\n",
    "¿Por qué utilizamos la función sigmoidal?\n",
    "\n",
    "* Da resultado probabilístico\n",
    "* Es derivado, por lo que podemos usarlo en el algoritmo de descenso de gradiente.\n",
    "\n",
    "Hagamos un ejemplo:\n",
    "\n",
    "    Digamos que encontramos z = 4 y ponemos z en función sigmoide. El resultado (y_head) es casi 0,9. Significa que nuestro resultado de clasificación es 1 con un 90% de probabilidad.\n",
    "\n",
    "Ahora comencemos desde el principio y examinemos cada componente del gráfico de cálculo con más detalle."
   ]
  },
  {
   "cell_type": "markdown",
   "metadata": {},
   "source": [
    "### Inicializando parámetros\n",
    "\n",
    "Como saben, la entrada son nuestras imágenes que tiene 4096 píxeles (cada imagen en x_train). Cada píxel tiene su propio peso. El primer paso es multiplicar cada píxel con su propio peso.\n",
    "\n",
    "* La pregunta es cuál es el valor inicial de los pesos.\n",
    "  * Hay algunas técnicas que explicaré en la red neuronal artificial, pero para este momento los pesos iniciales son 0.01.\n",
    "  * Okey, los pesos son 0.01 pero ¿cuál es la forma de la matriz de pesos? Como puede comprender del gráfico de cálculo de la regresión logística, es (4096,1)\n",
    "  * También el sesgo inicial es 0.\n",
    "  \n",
    "Escribamos algo de código. Para utilizar en temas venideros como la red neuronal artificial (ANN), hago una definición (método)."
   ]
  },
  {
   "cell_type": "code",
   "execution_count": 36,
   "metadata": {},
   "outputs": [],
   "source": [
    "# short description and example of definition (def)\n",
    "def dummy(parameter):\n",
    "    dummy_parameter = parameter + 5\n",
    "    return dummy_parameter\n",
    "result = dummy(3)     # result = 8\n",
    "\n",
    "# lets initialize parameters\n",
    "# So what we need is dimension 4096 that is number of pixels as a parameter for our initialize method(def)\n",
    "def initialize_weights_and_bias(dimension):\n",
    "    w = np.full((dimension,1),0.01)\n",
    "    b = 0.0\n",
    "    return w, b"
   ]
  },
  {
   "cell_type": "code",
   "execution_count": 37,
   "metadata": {},
   "outputs": [],
   "source": [
    "w,b = initialize_weights_and_bias(4096)"
   ]
  },
  {
   "cell_type": "code",
   "execution_count": 85,
   "metadata": {},
   "outputs": [
    {
     "data": {
      "text/plain": [
       "0.0"
      ]
     },
     "execution_count": 85,
     "metadata": {},
     "output_type": "execute_result"
    }
   ],
   "source": [
    "b"
   ]
  },
  {
   "cell_type": "markdown",
   "metadata": {},
   "source": [
    "### Propagación hacia adelante\n",
    "\n",
    "Todos los pasos desde los píxeles hasta el costo se denominan propagación hacia adelante.\n",
    "* $z = (w.T) x + b =>$ en esta ecuación sabemos que x es una matriz de píxeles, sabemos w (pesos) y b (sesgo), por lo que el resto es cálculo. (T es transponer)\n",
    "\n",
    "* Luego ponemos z en la función sigmoide que devuelve y_head (probabilidad).\n",
    "* Ccalculamos la función de pérdida (error).\n",
    "* La función de costo es la suma de todas las pérdidas (error).\n",
    "* Comencemos con z y la definición sigmoide (método) que toma z como parámetro de entrada y devuelve y_head (probabilidad)"
   ]
  },
  {
   "cell_type": "code",
   "execution_count": 87,
   "metadata": {},
   "outputs": [],
   "source": [
    "# calculation of z\n",
    "#z = np.dot(w.T,x_train)+b\n",
    "def sigmoid(z):\n",
    "    y_head = 1/(1+np.exp(-z))\n",
    "    return y_head"
   ]
  },
  {
   "cell_type": "code",
   "execution_count": 96,
   "metadata": {},
   "outputs": [
    {
     "data": {
      "text/plain": [
       "1.0"
      ]
     },
     "execution_count": 96,
     "metadata": {},
     "output_type": "execute_result"
    }
   ],
   "source": [
    "y_head = sigmoid(100000)\n",
    "y_head"
   ]
  },
  {
   "cell_type": "markdown",
   "metadata": {},
   "source": [
    "Mientras escribimos el método sigmoide y calculamos y_head. \n",
    "\n",
    "Aprendamos qué es la función de pérdida (error)...\n",
    "\n",
    "---\n",
    "Por ejemplo, pongo una imagen como entrada, luego la multiplico con sus pesos y agrego un término de sesgo para encontrar z. \n",
    "\n",
    "Luego ponga z en el método sigmoide para encontrar y_head. Hasta este momento sabemos lo que hicimos. \n",
    "\n",
    "---\n",
    "Entonces, y_head se convirtió en 0.9, que es más grande que 0.5, por lo que nuestra predicción es que la imagen es el signo de una imagen. Okey, todo parece estar bien. Pero, ¿nuestra predicción es correcta? y ¿cómo comprobamos si es correcta o no? La respuesta es con la función de pérdida (error):\n",
    "![img](https://image.ibb.co/eC0JCK/duzeltme.jpg)"
   ]
  },
  {
   "cell_type": "code",
   "execution_count": 40,
   "metadata": {},
   "outputs": [],
   "source": [
    "# Forward propagation steps:\n",
    "# find z = w.T*x+b\n",
    "# y_head = sigmoid(z)\n",
    "# loss(error) = loss(y,y_head)\n",
    "# cost = sum(loss)\n",
    "def forward_propagation(w,b,x_train,y_train):\n",
    "    z = np.dot(w.T,x_train) + b\n",
    "    y_head = sigmoid(z) # probabilistic 0-1\n",
    "    loss = -y_train*np.log(y_head)-(1-y_train)*np.log(1-y_head)\n",
    "    cost = (np.sum(loss))/x_train.shape[1]      # x_train.shape[1]  is for scaling\n",
    "    return cost "
   ]
  },
  {
   "cell_type": "markdown",
   "metadata": {},
   "source": [
    "### Algoritmo de optimización con descenso de gradiente\n",
    "\n",
    "Bueno, ahora sabemos cuál es nuestro costo que es el error.\n",
    "   \n",
    "Por lo tanto, necesitamos reducir el costo porque, como sabemos, si el costo es alto, significa que hacemos una predicción incorrecta.\n",
    "    \n",
    "Pensemos en el primer paso, todo comienza con la inicialización de pesos y sesgos. Por lo tanto, el costo depende de ellos.\n",
    "\n",
    "Para reducir el costo, necesitamos actualizar. En otras palabras, nuestro modelo necesita aprender los pesos de los parámetros y el sesgo que minimizan la función de costo. Esta técnica se llama descenso de gradiente.\n",
    "\n",
    "    Hagamos un ejemplo:\n",
    "        Tenemos w = 5 y sesgo = 0 (ignore el sesgo por ahora). Luego hacemos la propagación hacia adelante y nuestra función de costo es 1.5.\n",
    "        Se parece a esto. (líneas rojas)\n",
    "        \n",
    "![img](https://image.ibb.co/dAaYJH/7.jpg)"
   ]
  },
  {
   "cell_type": "markdown",
   "metadata": {},
   "source": [
    "Todo parece bien, pero ¿cómo encontramos pendiente? Para encontrar la pendiente de la función (función de costo) en un punto dado (con un peso dado), tomamos la derivada de la función en un punto dado. También puedes preguntar cómo sabe a dónde va. \n",
    "\n",
    "Se puede decir que puede ir a valores de costo más altos en lugar de ir al punto mínimo. La respuesta es que la pendiente (derivada) da tanto el paso como la dirección del paso. Por eso no te preocupes :)"
   ]
  },
  {
   "cell_type": "markdown",
   "metadata": {},
   "source": [
    "La ecuación de actualización es la siguiente. Dice que hay una función de costos (toma peso y sesgo). Toma la derivada de la función de costo según el peso y el sesgo. Luego multiplíquelo por la tasa de aprendizaje $α$. Luego actualice el peso. (Para explicar, ignoro el sesgo, pero todos estos pasos se aplicarán para el sesgo)\n",
    "\n",
    "![img](https://image.ibb.co/hYTTJH/8.jpg)\n",
    "\n",
    "-------\n",
    "\n",
    "Ahora, tasa de aprendizaje.... ¿qué es?. Es un término muy simple que determina dicha tasa. Sin embargo, existe una compensación entre aprender rápido y no aprender nunca. Por ejemplo, estás en París (coste actual) y quieres ir a Madrid (coste mínimo). Si tu velocidad (tasa de aprendizaje) es pequeña, puedes ir a Madrid muy despacio y lleva demasiado tiempo. Por otro lado, si tu velocidad (tasa de aprendizaje) es grande, puedes ir muy rápido pero tal vez te estrelles y nunca vayas a Madrid. Por lo tanto, debemos elegir sabiamente nuestra velocidad (tasa de aprendizaje).\n",
    "\n",
    "La tasa de aprendizaje también se denomina **hiperparámetro** que debe elegirse y ajustarse. Lo explicaré con más detalle en la sección red neuronal artificial con otros hiperparámetros. Por ahora, digamos que la tasa de aprendizaje es 1 para nuestro ejemplo anterior."
   ]
  },
  {
   "cell_type": "markdown",
   "metadata": {},
   "source": [
    "Creo que ahora está un poco más claro la lógica detrás de la propagación hacia adelante (desde los pesos y el sesgo hasta el costo) y la propagación hacia atrás (desde el costo hasta los pesos y el sesgo para actualizarlos). También algo acerca del descenso de gradientes. \n",
    "\n",
    "Antes de implementar el código, debemos recordar una cosa más: cómo tomamos la derivada de la función de costo de acuerdo con los pesos y el sesgo."
   ]
  },
  {
   "cell_type": "markdown",
   "metadata": {},
   "source": [
    "Hay dos opciones, la primera es buscar en Google cómo tomar la derivada de la función de pérdida y la segunda es Googler lo que es [la derivada de la función de pérdida](https://medium.com/analytics-vidhya/derivative-of-log-loss-function-for-logistic-regression-9b832f025c2d) :) Elijo la segunda porque no puedo explicar las matemáticas sin hablar :)"
   ]
  },
  {
   "cell_type": "code",
   "execution_count": 97,
   "metadata": {},
   "outputs": [],
   "source": [
    "# In backward propagation we will use y_head that found in forward progation\n",
    "# Therefore instead of writing backward propagation method, lets combine forward propagation and backward propagation\n",
    "def forward_backward_propagation(w,b,x_train,y_train):\n",
    "    # forward propagation\n",
    "    z = np.dot(w.T,x_train) + b\n",
    "    y_head = sigmoid(z)\n",
    "    loss = -y_train*np.log(y_head)-(1-y_train)*np.log(1-y_head)\n",
    "    cost = (np.sum(loss))/x_train.shape[1]      # x_train.shape[1]  is for scaling\n",
    "    # backward propagation\n",
    "    derivative_weight = (np.dot(x_train,((y_head-y_train).T)))/x_train.shape[1] # x_train.shape[1]  is for scaling\n",
    "    derivative_bias = np.sum(y_head-y_train)/x_train.shape[1]                 # x_train.shape[1]  is for scaling\n",
    "    gradients = {\"derivative_weight\": derivative_weight,\"derivative_bias\": derivative_bias}\n",
    "    return cost,gradients"
   ]
  },
  {
   "cell_type": "code",
   "execution_count": 42,
   "metadata": {},
   "outputs": [],
   "source": [
    "# Updating(learning) parameters\n",
    "def update(w, b, x_train, y_train, learning_rate,number_of_iterarion):\n",
    "    cost_list = []\n",
    "    cost_list2 = []\n",
    "    index = []\n",
    "    # updating(learning) parameters is number_of_iterarion times\n",
    "    for i in range(number_of_iterarion):\n",
    "        # make forward and backward propagation and find cost and gradients\n",
    "        cost,gradients = forward_backward_propagation(w,b,x_train,y_train)\n",
    "        cost_list.append(cost)\n",
    "        # lets update\n",
    "        w = w - learning_rate * gradients[\"derivative_weight\"]\n",
    "        b = b - learning_rate * gradients[\"derivative_bias\"]\n",
    "        if i % 10 == 0:\n",
    "            cost_list2.append(cost)\n",
    "            index.append(i)\n",
    "            print (\"Cost after iteration %i: %f\" %(i, cost))\n",
    "    # we update(learn) parameters weights and bias\n",
    "    parameters = {\"weight\": w,\"bias\": b}\n",
    "    plt.plot(index,cost_list2)\n",
    "    plt.xticks(index,rotation='vertical')\n",
    "    plt.xlabel(\"Number of Iterarion\")\n",
    "    plt.ylabel(\"Cost\")\n",
    "    plt.show()\n",
    "    return parameters, gradients, cost_list\n",
    "#parameters, gradients, cost_list = update(w, b, x_train, y_train, learning_rate = 0.009,number_of_iterarion = 200)"
   ]
  },
  {
   "cell_type": "markdown",
   "metadata": {},
   "source": [
    "**Vaya, me canso :'v **\n",
    "    \n",
    "Hasta este punto se ha puesto código para aprender nuestros parámetros. Significa que ajustamos los datos.\n",
    "\n",
    "Ya sabemos que para lograr una predicción tenemos parámetros. Por lo tanto, predigamos.\n",
    "\n",
    "En el paso de predicción tenemos x_test como entrada y mientras lo usamos, hacemos predicciones hacia adelante."
   ]
  },
  {
   "cell_type": "code",
   "execution_count": 43,
   "metadata": {},
   "outputs": [],
   "source": [
    " # prediction\n",
    "def predict(w,b,x_test):\n",
    "    # x_test is a input for forward propagation\n",
    "    z = sigmoid(np.dot(w.T,x_test)+b)\n",
    "    Y_prediction = np.zeros((1,x_test.shape[1]))\n",
    "    # if z is bigger than 0.5, our prediction is sign one (y_head=1),\n",
    "    # if z is smaller than 0.5, our prediction is sign zero (y_head=0),\n",
    "    for i in range(z.shape[1]):\n",
    "        if z[0,i]<= 0.5:\n",
    "            Y_prediction[0,i] = 0\n",
    "        else:\n",
    "            Y_prediction[0,i] = 1\n",
    "\n",
    "    return Y_prediction\n",
    "# predict(parameters[\"weight\"],parameters[\"bias\"],x_test)"
   ]
  },
  {
   "cell_type": "code",
   "execution_count": 98,
   "metadata": {},
   "outputs": [
    {
     "name": "stdout",
     "output_type": "stream",
     "text": [
      "Cost after iteration 0: 14.014222\n",
      "Cost after iteration 10: 2.544689\n",
      "Cost after iteration 20: 2.577950\n",
      "Cost after iteration 30: 2.397999\n",
      "Cost after iteration 40: 2.185019\n",
      "Cost after iteration 50: 1.968348\n",
      "Cost after iteration 60: 1.754195\n",
      "Cost after iteration 70: 1.535079\n",
      "Cost after iteration 80: 1.297567\n",
      "Cost after iteration 90: 1.031919\n",
      "Cost after iteration 100: 0.737019\n",
      "Cost after iteration 110: 0.441355\n",
      "Cost after iteration 120: 0.252278\n",
      "Cost after iteration 130: 0.205168\n",
      "Cost after iteration 140: 0.196168\n",
      "Cost after iteration 150: 0.190936\n",
      "Cost after iteration 160: 0.186285\n",
      "Cost after iteration 170: 0.182006\n",
      "Cost after iteration 180: 0.178052\n",
      "Cost after iteration 190: 0.174389\n"
     ]
    },
    {
     "data": {
      "image/png": "[encoded data removed]",
      "text/plain": [
       "<Figure size 432x288 with 1 Axes>"
      ]
     },
     "metadata": {
      "needs_background": "light"
     },
     "output_type": "display_data"
    },
    {
     "name": "stdout",
     "output_type": "stream",
     "text": [
      "train accuracy: 93.67816091954023 %\n",
      "test accuracy: 95.16129032258064 %\n"
     ]
    }
   ],
   "source": [
    "def logistic_regression(x_train, y_train, x_test, y_test, learning_rate ,  num_iterations):\n",
    "    # initialize\n",
    "    dimension =  x_train.shape[0]  # that is 4096\n",
    "    w,b = initialize_weights_and_bias(dimension)\n",
    "    # do not change learning rate\n",
    "    parameters, gradients, cost_list = update(w, b, x_train, y_train, learning_rate,num_iterations)\n",
    "    \n",
    "    y_prediction_test = predict(parameters[\"weight\"],parameters[\"bias\"],x_test)\n",
    "    y_prediction_train = predict(parameters[\"weight\"],parameters[\"bias\"],x_train)\n",
    "\n",
    "    # Print train/test Errors\n",
    "    print(\"train accuracy: {} %\".format(100 - np.mean(np.abs(y_prediction_train - y_train)) * 100))\n",
    "    print(\"test accuracy: {} %\".format(100 - np.mean(np.abs(y_prediction_test - y_test)) * 100))\n",
    "    \n",
    "logistic_regression(x_train, y_train, x_test, y_test,learning_rate = 0.01, num_iterations = 200)"
   ]
  },
  {
   "cell_type": "markdown",
   "metadata": {},
   "source": [
    "Aprendemos la lógica detrás de una red neuronal simple (regresión logística) y cómo implementarla.\n",
    "\n",
    "Ahora que hemos aprendido la lógica, podemos usar la biblioteca sklearn, que es más fácil que implementar todos los pasos con la mano para la regresión logística."
   ]
  },
  {
   "cell_type": "code",
   "execution_count": 45,
   "metadata": {},
   "outputs": [
    {
     "name": "stdout",
     "output_type": "stream",
     "text": [
      "test accuracy: 0.967741935483871 \n",
      "train accuracy: 1.0 \n"
     ]
    }
   ],
   "source": [
    "from sklearn import linear_model\n",
    "logreg = linear_model.LogisticRegression(random_state = 42,max_iter= 150)\n",
    "print(\"test accuracy: {} \".format(logreg.fit(x_train.T, y_train.T).score(x_test.T, y_test.T)))\n",
    "print(\"train accuracy: {} \".format(logreg.fit(x_train.T, y_train.T).score(x_train.T, y_train.T)))"
   ]
  },
  {
   "cell_type": "markdown",
   "metadata": {},
   "source": [
    "### EJERCICIO!: \n",
    "\n",
    "Este es un buen lugar para detenerse y practicar. Tu tarea es crear tu propio método de regresión logística y clasificar dos dígitos diferentes del lenguaje de señas."
   ]
  },
  {
   "cell_type": "code",
   "execution_count": null,
   "metadata": {},
   "outputs": [],
   "source": []
  },
  {
   "cell_type": "markdown",
   "metadata": {},
   "source": [
    "-----\n",
    "-----\n",
    "## Artificial Neural Network (ANN)\n",
    "\n",
    "También se llama red neuronal profunda o aprendizaje profundo.\n",
    "\n",
    "### ¿Qué es la red neuronal? \n",
    "Básicamente consiste en tomar la regresión logística y repetirla al menos 2 veces.\n",
    "\n",
    "En la regresión logística, hay capas de entrada y salida. Sin embargo, en la red neuronal, hay al menos una capa oculta entre la capa de entrada y la de salida.\n",
    "\n",
    "### ¿Qué es profundo?\n",
    "para decir \"profundo\", ¿cuántas capas necesito tener? Cuando le hice esta pregunta a mi maestro, él dijo que \"Profundo\" es un término relativo; por supuesto, se refiere a la \"profundidad\" de una red, es decir, cuántas capas ocultas tiene. \n",
    "\n",
    "### ¿Qué profundidad tiene su piscina?\n",
    "Podría ser de 5 METROS o podría ser de 2 METROS, sin embargo, todavía tiene una profundidad, tiene la cualidad de \"profundidad\" asociada... no?. \n",
    "\n",
    "Hace años, dos o tres capas ocultas era el **límite** para el hardware especializado del día. Hace solo unos años, 20 capas se consideraban bastante profundas. En octubre de 2019 (aprox), [Andrew Ng](https://es.wikipedia.org/wiki/Andrew_Ng) mencionó que 152 capas eran (¿una de?) las redes comerciales más grandes que conocía. \n",
    "\n",
    "### ¿Por qué se llama oculta? \n",
    "\n",
    "Porque la capa oculta no ve entradas (conjunto de entrenamiento)...\n",
    "Por ejemplo, tiene capas de entrada, una oculta y una de salida. Cuando alguien te pregunta \"oye , ¿cuántas capas tiene tu red neuronal?\" La respuesta es \"Tengo una red neuronal de 2 capas\". Porque al calcular el número de capa, se ignora la capa de entrada.\n",
    "\n",
    "![img](https://preview.ibb.co/dajVyH/9.jpg)"
   ]
  },
  {
   "cell_type": "markdown",
   "metadata": {},
   "source": [
    "### Red neuronal de 2 capas\n",
    "\n",
    "* Tamaño de las capas y ponderaciones y sesgos de los parámetros de inicialización\n",
    "* Propagación hacia adelante\n",
    "* Función de pérdida y función de coste\n",
    "* Propagación hacia atrás\n",
    "* Actualizar parámetros\n",
    "* Predicción con peso y sesgo de parámetros aprendidos\n",
    "* Crear modelo"
   ]
  },
  {
   "cell_type": "markdown",
   "metadata": {},
   "source": [
    "Tamaño de las capas y ponderaciones y sesgos de los parámetros de inicialización\n",
    "\n",
    "Para x_train que tiene una muesra X de 348 \"imágenes\":\n",
    "\n",
    "$$z^{[1] (348)} = W^{[1]} x^348 + b^{[1] (348)}$$\n",
    "\n",
    "$$a^{[1] (348)} = tanh (z^{[1] (348)})$$\n",
    "\n",
    "$$z^{[2](348)} = W^{[2]} a^{[1] (348)} + b^{[2] (348)}$$\n",
    "\n",
    "$$\\hat{y}^(348) = a^{[2] (348)} = σ (z^{[2] (348)})$$\n",
    "\n",
    "En la regresión logística, inicializamos los pesos 0.01 y el sesgo 0. En este momento, inicializamos los pesos de forma aleatoria. Porque si inicializamos los parámetros a cero, cada neurona de la primera capa oculta realizará la misma comptación. Por lo tanto, incluso después de múltiples iteraciones de descenso gradual, cada neurona de la capa calculará las mismas cosas que otras neuronas. Por tanto, inicializamos aleatoriamente. También los pesos iniciales serán pequeños. Si son muy grandes inicialmente, esto hará que las entradas del $tanh$ sean muy grandes, lo que provocará que los gradientes sean cercanos a cero. El algoritmo de optimización será lento.\n",
    "\n",
    "El sesgo puede ser cero inicialmente."
   ]
  },
  {
   "cell_type": "code",
   "execution_count": 99,
   "metadata": {},
   "outputs": [],
   "source": [
    "# intialize parameters and layer sizes\n",
    "def initialize_parameters_and_layer_sizes_NN(x_train, y_train):\n",
    "    parameters = {\"weight1\": np.random.randn(3,x_train.shape[0]) * 0.1,\n",
    "                  \"bias1\": np.zeros((3,1)),\n",
    "                  \"weight2\": np.random.randn(y_train.shape[0],3) * 0.1,\n",
    "                  \"bias2\": np.zeros((y_train.shape[0],1))}\n",
    "    return parameters"
   ]
  },
  {
   "cell_type": "code",
   "execution_count": 100,
   "metadata": {},
   "outputs": [],
   "source": [
    "def forward_propagation_NN(x_train, parameters):\n",
    "\n",
    "    Z1 = np.dot(parameters[\"weight1\"],x_train) +parameters[\"bias1\"]\n",
    "    A1 = np.tanh(Z1)\n",
    "    Z2 = np.dot(parameters[\"weight2\"],A1) + parameters[\"bias2\"]\n",
    "    A2 = sigmoid(Z2)\n",
    "\n",
    "    cache = {\"Z1\": Z1,\n",
    "             \"A1\": A1,\n",
    "             \"Z2\": Z2,\n",
    "             \"A2\": A2}\n",
    "    \n",
    "    return A2, cache"
   ]
  },
  {
   "cell_type": "code",
   "execution_count": 101,
   "metadata": {},
   "outputs": [],
   "source": [
    "# Compute cost\n",
    "def compute_cost_NN(A2, Y, parameters):\n",
    "    logprobs = np.multiply(np.log(A2),Y)\n",
    "    cost = -np.sum(logprobs)/Y.shape[1]\n",
    "    return cost"
   ]
  },
  {
   "cell_type": "code",
   "execution_count": 102,
   "metadata": {},
   "outputs": [],
   "source": [
    "# Backward Propagation\n",
    "def backward_propagation_NN(parameters, cache, X, Y):\n",
    "\n",
    "    dZ2 = cache[\"A2\"]-Y\n",
    "    dW2 = np.dot(dZ2,cache[\"A1\"].T)/X.shape[1]\n",
    "    db2 = np.sum(dZ2,axis =1,keepdims=True)/X.shape[1]\n",
    "    dZ1 = np.dot(parameters[\"weight2\"].T,dZ2)*(1 - np.power(cache[\"A1\"], 2))\n",
    "    dW1 = np.dot(dZ1,X.T)/X.shape[1]\n",
    "    db1 = np.sum(dZ1,axis =1,keepdims=True)/X.shape[1]\n",
    "    grads = {\"dweight1\": dW1,\n",
    "             \"dbias1\": db1,\n",
    "             \"dweight2\": dW2,\n",
    "             \"dbias2\": db2}\n",
    "    return grads"
   ]
  },
  {
   "cell_type": "code",
   "execution_count": 103,
   "metadata": {},
   "outputs": [],
   "source": [
    "# update parameters\n",
    "def update_parameters_NN(parameters, grads, learning_rate = 0.01):\n",
    "    parameters = {\"weight1\": parameters[\"weight1\"]-learning_rate*grads[\"dweight1\"],\n",
    "                  \"bias1\": parameters[\"bias1\"]-learning_rate*grads[\"dbias1\"],\n",
    "                  \"weight2\": parameters[\"weight2\"]-learning_rate*grads[\"dweight2\"],\n",
    "                  \"bias2\": parameters[\"bias2\"]-learning_rate*grads[\"dbias2\"]}\n",
    "    \n",
    "    return parameters"
   ]
  },
  {
   "cell_type": "code",
   "execution_count": 104,
   "metadata": {},
   "outputs": [],
   "source": [
    "# prediction\n",
    "def predict_NN(parameters,x_test):\n",
    "    # x_test is a input for forward propagation\n",
    "    A2, cache = forward_propagation_NN(x_test,parameters)\n",
    "    Y_prediction = np.zeros((1,x_test.shape[1]))\n",
    "    # if z is bigger than 0.5, our prediction is sign one (y_head=1),\n",
    "    # if z is smaller than 0.5, our prediction is sign zero (y_head=0),\n",
    "    for i in range(A2.shape[1]):\n",
    "        if A2[0,i]<= 0.5:\n",
    "            Y_prediction[0,i] = 0\n",
    "        else:\n",
    "            Y_prediction[0,i] = 1\n",
    "\n",
    "    return Y_prediction"
   ]
  },
  {
   "cell_type": "code",
   "execution_count": 105,
   "metadata": {},
   "outputs": [
    {
     "name": "stdout",
     "output_type": "stream",
     "text": [
      "Cost after iteration 0: 0.379108\n",
      "Cost after iteration 100: 0.357196\n",
      "Cost after iteration 200: 0.345567\n",
      "Cost after iteration 300: 0.327103\n",
      "Cost after iteration 400: 0.306853\n",
      "Cost after iteration 500: 0.271031\n",
      "Cost after iteration 600: 0.230357\n",
      "Cost after iteration 700: 0.194162\n",
      "Cost after iteration 800: 0.168133\n",
      "Cost after iteration 900: 0.144020\n",
      "Cost after iteration 1000: 0.128532\n",
      "Cost after iteration 1100: 0.112390\n",
      "Cost after iteration 1200: 0.099257\n",
      "Cost after iteration 1300: 0.088169\n",
      "Cost after iteration 1400: 0.078835\n",
      "Cost after iteration 1500: 0.071173\n",
      "Cost after iteration 1600: 0.064928\n",
      "Cost after iteration 1700: 0.059762\n",
      "Cost after iteration 1800: 0.055413\n",
      "Cost after iteration 1900: 0.051699\n",
      "Cost after iteration 2000: 0.048487\n",
      "Cost after iteration 2100: 0.045675\n",
      "Cost after iteration 2200: 0.043179\n",
      "Cost after iteration 2300: 0.040927\n",
      "Cost after iteration 2400: 0.038845\n"
     ]
    },
    {
     "data": {
      "image/png": "[encoded data removed]",
      "text/plain": [
       "<Figure size 432x288 with 1 Axes>"
      ]
     },
     "metadata": {
      "needs_background": "light"
     },
     "output_type": "display_data"
    },
    {
     "name": "stdout",
     "output_type": "stream",
     "text": [
      "train accuracy: 99.71264367816092 %\n",
      "test accuracy: 96.7741935483871 %\n"
     ]
    }
   ],
   "source": [
    "# 2 - Layer neural network\n",
    "def two_layer_neural_network(x_train, y_train,x_test,y_test, num_iterations):\n",
    "    cost_list = []\n",
    "    index_list = []\n",
    "    #initialize parameters and layer sizes\n",
    "    parameters = initialize_parameters_and_layer_sizes_NN(x_train, y_train)\n",
    "\n",
    "    for i in range(0, num_iterations):\n",
    "         # forward propagation\n",
    "        A2, cache = forward_propagation_NN(x_train,parameters)\n",
    "        # compute cost\n",
    "        cost = compute_cost_NN(A2, y_train, parameters)\n",
    "         # backward propagation\n",
    "        grads = backward_propagation_NN(parameters, cache, x_train, y_train)\n",
    "         # update parameters\n",
    "        parameters = update_parameters_NN(parameters, grads)\n",
    "        \n",
    "        if i % 100 == 0:\n",
    "            cost_list.append(cost)\n",
    "            index_list.append(i)\n",
    "            print (\"Cost after iteration %i: %f\" %(i, cost))\n",
    "    plt.plot(index_list,cost_list)\n",
    "    plt.xticks(index_list,rotation='vertical')\n",
    "    plt.xlabel(\"Number of Iterarion\")\n",
    "    plt.ylabel(\"Cost\")\n",
    "    plt.show()\n",
    "    \n",
    "    # predict\n",
    "    y_prediction_test = predict_NN(parameters,x_test)\n",
    "    y_prediction_train = predict_NN(parameters,x_train)\n",
    "\n",
    "    # Print train/test Errors\n",
    "    print(\"train accuracy: {} %\".format(100 - np.mean(np.abs(y_prediction_train - y_train)) * 100))\n",
    "    print(\"test accuracy: {} %\".format(100 - np.mean(np.abs(y_prediction_test - y_test)) * 100))\n",
    "    return parameters\n",
    "\n",
    "parameters = two_layer_neural_network(x_train, y_train,x_test,y_test, num_iterations=2500)"
   ]
  },
  {
   "cell_type": "markdown",
   "metadata": {},
   "source": [
    "### Algunos links de interés\n",
    "\n",
    "[1](https://www.kaggle.com/kanncaa1/deep-learning-tutorial-for-beginners)\n",
    "[2](https://www.kaggle.com/kanncaa1/data-sciencetutorial-for-beginners)"
   ]
  }
 ],
 "metadata": {
  "kernelspec": {
   "display_name": "Python 3",
   "language": "python",
   "name": "python3"
  },
  "language_info": {
   "codemirror_mode": {
    "name": "ipython",
    "version": 3
   },
   "file_extension": ".py",
   "mimetype": "text/x-python",
   "name": "python",
   "nbconvert_exporter": "python",
   "pygments_lexer": "ipython3",
   "version": "3.7.6"
  }
 },
 "nbformat": 4,
 "nbformat_minor": 4
}
