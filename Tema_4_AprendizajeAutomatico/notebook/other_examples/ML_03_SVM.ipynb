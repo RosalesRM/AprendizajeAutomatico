{
 "cells": [
  {
   "cell_type": "markdown",
   "metadata": {
    "colab_type": "text",
    "id": "view-in-github"
   },
   "source": [
    "[![Open In Colab](https://colab.research.google.com/assets/colab-badge.svg)](https://colab.research.google.com/github/MauricioRR-Tec/AprendizajeAutomatico/blob/master/Tema_4_AprendizajeAutomatico/notebook/ML_03_SVM.ipynb)"
   ]
  },
  {
   "cell_type": "code",
   "execution_count": 1,
   "metadata": {
    "id": "glVe2E6ySpTP"
   },
   "outputs": [],
   "source": [
    "import numpy as np\n",
    "import matplotlib.pyplot as plt\n",
    "from sklearn.model_selection import train_test_split, GridSearchCV\n",
    "from sklearn.svm import SVC"
   ]
  },
  {
   "cell_type": "code",
   "execution_count": 2,
   "metadata": {
    "colab": {
     "base_uri": "https://localhost:8080/",
     "height": 279
    },
    "id": "gDNOtk2FTRDv",
    "outputId": "cf87fb06-8e06-4576-ced6-047f9dbc257d"
   },
   "outputs": [
    {
     "data": {
      "image/png": "[encoded data removed]",
      "text/plain": [
       "<Figure size 576x288 with 1 Axes>"
      ]
     },
     "metadata": {
      "needs_background": "light"
     },
     "output_type": "display_data"
    }
   ],
   "source": [
    "# Create a XOR dataset\n",
    "X = np.random.randn(1000, 2)\n",
    "Y = np.array([int(np.logical_xor(x[0] > 0, x[1] > 0)) for x in X])\n",
    "\n",
    "plt.figure(figsize=(8, 4))\n",
    "plt.scatter(X[Y==0, 0], X[Y==0, 1], s=10, label='0')\n",
    "plt.scatter(X[Y==1, 0], X[Y==1, 1], s=10, label='1')\n",
    "plt.legend()\n",
    "plt.grid(True)\n",
    "plt.xlabel('x1')\n",
    "plt.ylabel('x2')\n",
    "plt.show()"
   ]
  },
  {
   "cell_type": "code",
   "execution_count": 3,
   "metadata": {
    "colab": {
     "base_uri": "https://localhost:8080/"
    },
    "id": "n7-Hi2BmTUrd",
    "outputId": "62caa6ed-161a-47cc-fc1e-a76889996f07"
   },
   "outputs": [
    {
     "name": "stdout",
     "output_type": "stream",
     "text": [
      "(720, 2)\n",
      "(80, 2)\n",
      "(200, 2)\n",
      "(720,)\n",
      "(80,)\n",
      "(200,)\n"
     ]
    }
   ],
   "source": [
    "# Split dataset\n",
    "x_train, x_test, y_train, y_test = train_test_split(X, Y, test_size=0.2)\n",
    "x_train, x_val, y_train, y_val = train_test_split(x_train, y_train, test_size=0.1)\n",
    "\n",
    "print(x_train.shape)\n",
    "print(x_val.shape)\n",
    "print(x_test.shape)\n",
    "print(y_train.shape)\n",
    "print(y_val.shape)\n",
    "print(y_test.shape)"
   ]
  },
  {
   "cell_type": "markdown",
   "metadata": {
    "id": "FEmnVOw6XJqq"
   },
   "source": [
    "# Part 2: Classification"
   ]
  },
  {
   "cell_type": "code",
   "execution_count": 4,
   "metadata": {
    "colab": {
     "base_uri": "https://localhost:8080/"
    },
    "id": "Qt_JmIokV0xU",
    "outputId": "5b808d17-a0f0-41ee-cd85-0e11cb4e5a6f"
   },
   "outputs": [
    {
     "name": "stdout",
     "output_type": "stream",
     "text": [
      "Training mean accuracy: 0.5167\n",
      "Test mean accuracy: 0.5250\n"
     ]
    }
   ],
   "source": [
    "# Create a linear SVM and train it\n",
    "lin_svm = SVC(kernel='linear')\n",
    "lin_svm.fit(x_train, y_train)\n",
    "\n",
    "# Print performance\n",
    "print(f\"Training mean accuracy: {lin_svm.score(x_train, y_train):6.4f}\")\n",
    "print(f\"Test mean accuracy: {lin_svm.score(x_val, y_val):6.4f}\")"
   ]
  },
  {
   "cell_type": "code",
   "execution_count": 5,
   "metadata": {
    "id": "cqKTo7I1W1QC"
   },
   "outputs": [],
   "source": [
    "# Encuentra el mejor SVM utilizando grid search\n",
    "# Guíate por el desempeño en el set de entrenamiento y validación.\n",
    "# Prueba los siguientes hyperparámetros.\n",
    "# kernel = linear, polynomial, rbf\n",
    "# C = 0.01, 0.1, 1.0, 10, 100\n",
    "# grado del polinomio = 1, 2, 3, 4 (solo para el kernel polinomial)\n",
    "# gamma = auto, scale"
   ]
  },
  {
   "cell_type": "code",
   "execution_count": 6,
   "metadata": {
    "colab": {
     "base_uri": "https://localhost:8080/"
    },
    "id": "fehVJTIZZEmP",
    "outputId": "3b82fa11-802e-4886-8ef6-a3c0b3a09b6c"
   },
   "outputs": [
    {
     "data": {
      "text/plain": [
       "{'C': [0.01, 0.1, 1, 10, 100],\n",
       " 'kernel': ('linear', 'poly', 'rbf'),\n",
       " 'degree': [1, 2, 3, 4],\n",
       " 'gamma': ('auto', 'scale')}"
      ]
     },
     "execution_count": 6,
     "metadata": {},
     "output_type": "execute_result"
    }
   ],
   "source": [
    "# Define grid search parameters\n",
    "param_grid = {'C': [0.01, 0.1, 1, 10, 100], 'kernel': ('linear', 'poly', 'rbf'),\n",
    "              'degree': [1, 2, 3, 4], 'gamma': ('auto', 'scale')}\n",
    "param_grid"
   ]
  },
  {
   "cell_type": "code",
   "execution_count": 7,
   "metadata": {
    "colab": {
     "base_uri": "https://localhost:8080/"
    },
    "id": "U_mFhIYkaG_y",
    "outputId": "4adbe80d-7bce-4984-f017-14276e4e52b9"
   },
   "outputs": [
    {
     "data": {
      "text/plain": [
       "GridSearchCV(estimator=SVC(),\n",
       "             param_grid={'C': [0.01, 0.1, 1, 10, 100], 'degree': [1, 2, 3, 4],\n",
       "                         'gamma': ('auto', 'scale'),\n",
       "                         'kernel': ('linear', 'poly', 'rbf')})"
      ]
     },
     "execution_count": 7,
     "metadata": {},
     "output_type": "execute_result"
    }
   ],
   "source": [
    "# Create and train the classifiers with grid search\n",
    "svc = SVC()\n",
    "clf = GridSearchCV(svc, param_grid)\n",
    "clf.fit(x_train, y_train)"
   ]
  },
  {
   "cell_type": "code",
   "execution_count": 8,
   "metadata": {
    "colab": {
     "base_uri": "https://localhost:8080/"
    },
    "id": "WgCYpURZbCH2",
    "outputId": "7c20f74e-518f-4aa5-bbda-6e393368fe91"
   },
   "outputs": [
    {
     "name": "stdout",
     "output_type": "stream",
     "text": [
      "Best score: 0.9917\n",
      "Best params: {'C': 100, 'degree': 2, 'gamma': 'scale', 'kernel': 'poly'}\n"
     ]
    }
   ],
   "source": [
    "# Print info about best score and best hyperparameters\n",
    "print(f\"Best score: {clf.best_score_:.4f}\")\n",
    "print(f\"Best params: {clf.best_params_}\")"
   ]
  },
  {
   "cell_type": "code",
   "execution_count": 9,
   "metadata": {
    "colab": {
     "base_uri": "https://localhost:8080/"
    },
    "id": "jclaEUreczue",
    "outputId": "60592fc9-6396-41eb-aa4e-6d198d5fd4d2"
   },
   "outputs": [
    {
     "name": "stdout",
     "output_type": "stream",
     "text": [
      "Train mean accuracy: 0.9944\n",
      "Validation mean accuracy: 0.9875\n",
      "Test mean accuracy: 1.0000\n"
     ]
    }
   ],
   "source": [
    "# Evaluate on the test set\n",
    "best_svm = SVC(C=100, kernel='poly', degree=2, gamma='auto')\n",
    "best_svm.fit(x_train, y_train)\n",
    "\n",
    "print(f\"Train mean accuracy: {best_svm.score(x_train, y_train):6.4f}\")\n",
    "print(f\"Validation mean accuracy: {best_svm.score(x_val, y_val):6.4f}\")\n",
    "print(f\"Test mean accuracy: {best_svm.score(x_test, y_test):6.4f}\")"
   ]
  }
 ],
 "metadata": {
  "colab": {
   "authorship_tag": "ABX9TyOrDPACOqsQ6QmfKjQPTqqJ",
   "collapsed_sections": [],
   "include_colab_link": true,
   "name": "ML_04_SVM.ipynb",
   "provenance": []
  },
  "kernelspec": {
   "display_name": "Python 3",
   "language": "python",
   "name": "python3"
  },
  "language_info": {
   "codemirror_mode": {
    "name": "ipython",
    "version": 3
   },
   "file_extension": ".py",
   "mimetype": "text/x-python",
   "name": "python",
   "nbconvert_exporter": "python",
   "pygments_lexer": "ipython3",
   "version": "3.7.6"
  }
 },
 "nbformat": 4,
 "nbformat_minor": 1
}
