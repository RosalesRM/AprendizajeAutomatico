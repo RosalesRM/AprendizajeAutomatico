{
 "cells": [
  {
   "cell_type": "markdown",
   "metadata": {
    "colab_type": "text",
    "id": "view-in-github"
   },
   "source": [
    "[![Open In Colab](https://colab.research.google.com/assets/colab-badge.svg)](https://colab.research.google.com/github/MauricioRR-Tec/AprendizajeAutomatico/blob/master/Tema_4_AprendizajeAutomatico/notebook/ML_02_NaiveBayes.ipynb)"
   ]
  },
  {
   "cell_type": "code",
   "execution_count": 1,
   "metadata": {
    "id": "vXVspVerTirY"
   },
   "outputs": [],
   "source": [
    "import numpy as np\n",
    "import matplotlib.pyplot as plt\n",
    "from sklearn import datasets\n",
    "from sklearn.model_selection import train_test_split\n",
    "from sklearn.naive_bayes import MultinomialNB\n",
    "from sklearn.metrics import confusion_matrix, ConfusionMatrixDisplay, classification_report"
   ]
  },
  {
   "cell_type": "markdown",
   "metadata": {
    "id": "YCi8wSp7WgG9"
   },
   "source": [
    "# Part 1: Load data"
   ]
  },
  {
   "cell_type": "code",
   "execution_count": 2,
   "metadata": {
    "colab": {
     "base_uri": "https://localhost:8080/"
    },
    "id": "0_Peumb8ToBq",
    "outputId": "be0c509c-6011-4740-c6c6-0cbf9dadeb73"
   },
   "outputs": [
    {
     "name": "stdout",
     "output_type": "stream",
     "text": [
      "Features: ['alcohol', 'malic_acid', 'ash', 'alcalinity_of_ash', 'magnesium', 'total_phenols', 'flavanoids', 'nonflavanoid_phenols', 'proanthocyanins', 'color_intensity', 'hue', 'od280/od315_of_diluted_wines', 'proline']\n",
      "Labels: ['class_0' 'class_1' 'class_2']\n"
     ]
    }
   ],
   "source": [
    "#Load dataset\n",
    "wine = datasets.load_wine()\n",
    "\n",
    "# Print info about features names and labels names\n",
    "print(\"Features:\", wine.feature_names)\n",
    "print(\"Labels:\", wine.target_names)"
   ]
  },
  {
   "cell_type": "code",
   "execution_count": 3,
   "metadata": {
    "colab": {
     "base_uri": "https://localhost:8080/"
    },
    "id": "PpkrYxxSTyUR",
    "outputId": "07aa9f4b-4d89-44dc-92ee-830a26c12816"
   },
   "outputs": [
    {
     "name": "stdout",
     "output_type": "stream",
     "text": [
      "(178, 13)\n",
      "14.23 1.71 2.43 15.6 127.0 2.8 3.06 0.28 2.29 5.64 1.04 3.92 1065.0\n",
      "13.2 1.78 2.14 11.2 100.0 2.65 2.76 0.26 1.28 4.38 1.05 3.4 1050.0\n",
      "13.16 2.36 2.67 18.6 101.0 2.8 3.24 0.3 2.81 5.68 1.03 3.17 1185.0\n",
      "14.37 1.95 2.5 16.8 113.0 3.85 3.49 0.24 2.18 7.8 0.86 3.45 1480.0\n",
      "13.24 2.59 2.87 21.0 118.0 2.8 2.69 0.39 1.82 4.32 1.04 2.93 735.0\n"
     ]
    },
    {
     "data": {
      "text/plain": [
       "[None, None, None, None, None]"
      ]
     },
     "execution_count": 3,
     "metadata": {},
     "output_type": "execute_result"
    }
   ],
   "source": [
    "# Print infor about feature values\n",
    "print(wine.data.shape)\n",
    "[print(*line) for line in wine.data[0:5]]"
   ]
  },
  {
   "cell_type": "code",
   "execution_count": 4,
   "metadata": {
    "colab": {
     "base_uri": "https://localhost:8080/"
    },
    "id": "qBOH8SL6T8Rl",
    "outputId": "999ef3af-4072-4d9a-9ba2-f4fb4342b6f3"
   },
   "outputs": [
    {
     "name": "stdout",
     "output_type": "stream",
     "text": [
      "[0 0 0 0 0 0 0 0 0 0 0 0 0 0 0 0 0 0 0 0 0 0 0 0 0 0 0 0 0 0 0 0 0 0 0 0 0\n",
      " 0 0 0 0 0 0 0 0 0 0 0 0 0 0 0 0 0 0 0 0 0 0 1 1 1 1 1 1 1 1 1 1 1 1 1 1 1\n",
      " 1 1 1 1 1 1 1 1 1 1 1 1 1 1 1 1 1 1 1 1 1 1 1 1 1 1 1 1 1 1 1 1 1 1 1 1 1\n",
      " 1 1 1 1 1 1 1 1 1 1 1 1 1 1 1 1 1 1 1 2 2 2 2 2 2 2 2 2 2 2 2 2 2 2 2 2 2\n",
      " 2 2 2 2 2 2 2 2 2 2 2 2 2 2 2 2 2 2 2 2 2 2 2 2 2 2 2 2 2 2]\n"
     ]
    }
   ],
   "source": [
    "# See labels\n",
    "print(wine.target)"
   ]
  },
  {
   "cell_type": "code",
   "execution_count": 5,
   "metadata": {
    "colab": {
     "base_uri": "https://localhost:8080/"
    },
    "id": "9a1UTRNVT8er",
    "outputId": "cef13e25-a442-439c-9ee2-a1cd40cbe20e"
   },
   "outputs": [
    {
     "name": "stdout",
     "output_type": "stream",
     "text": [
      "(142, 13)\n",
      "(36, 13)\n",
      "(142,)\n",
      "(36,)\n"
     ]
    }
   ],
   "source": [
    "# Split data\n",
    "x_train, x_test, y_train, y_test = train_test_split(wine.data, wine.target, test_size=0.2, random_state=42)\n",
    "\n",
    "print(x_train.shape)\n",
    "print(x_test.shape)\n",
    "print(y_train.shape)\n",
    "print(y_test.shape)"
   ]
  },
  {
   "cell_type": "markdown",
   "metadata": {
    "id": "p4yxbE9rW2sb"
   },
   "source": [
    "# Part 2: Train a naive Bayes classifier"
   ]
  },
  {
   "cell_type": "code",
   "execution_count": 6,
   "metadata": {
    "colab": {
     "base_uri": "https://localhost:8080/"
    },
    "id": "nmeyk8xiT9Fr",
    "outputId": "ab71fbf2-c075-4fc3-f5de-c355de7aeb0a"
   },
   "outputs": [
    {
     "name": "stdout",
     "output_type": "stream",
     "text": [
      "Classes found: [0 1 2]\n",
      "Class frequencies: [45. 57. 40.]\n",
      "Class priors: [-1.14916457 -0.91277579 -1.2669476 ]\n",
      "Priors p(x|y): [[-4.514946   -6.44294676 -6.23075426 -4.3164789  -2.46304286 -6.08435101\n",
      "  -6.03733348 -8.26907542 -6.46975318 -5.44115353 -7.05316586 -5.97808245\n",
      "  -0.13608433]\n",
      " [-4.00068096 -5.81073094 -5.69570139 -3.49722625 -1.94416626 -5.68573184\n",
      "  -5.76758332 -7.48878212 -5.99444768 -5.3706113  -6.43525246 -5.47409689\n",
      "  -0.24598887]\n",
      " [-4.08288289 -5.44084165 -5.76092272 -3.59899064 -2.06231871 -6.11104634\n",
      "  -6.86740383 -7.38616069 -6.47214763 -4.65144406 -6.99948528 -6.13977047\n",
      "  -0.21926805]]\n"
     ]
    }
   ],
   "source": [
    "# Create and train a model\n",
    "NBC = MultinomialNB()\n",
    "NBC.fit(x_train, y_train)\n",
    "\n",
    "# Print some info after training\n",
    "print(f\"Classes found: {NBC.classes_}\")\n",
    "print(f\"Class frequencies: {NBC.class_count_}\") # class frequency\n",
    "print(f\"Class priors: {NBC.class_log_prior_}\") # class likelihood, p(y)\n",
    "print(f\"Priors p(x|y): {NBC.feature_log_prob_}\") # priors, p(x|y)\n",
    "\n",
    "# Consulta la documentación the MultinomialNB en sklearn, encuentra la manera de\n",
    "# imprimir la información faltante en las tres líneas anteriores.\n",
    "# ¿Notan algo raro en los valores? ¿Por qué creen que se vean así?\n",
    "\n",
    "# Los valores se ven raros porque son logarítmos. Recordemos que el producto de\n",
    "# varios términos es equivalente a la sumatoria de sus logarítmos. Y que la sum\n",
    "# es una operación más barata que la multiplición."
   ]
  },
  {
   "cell_type": "code",
   "execution_count": 7,
   "metadata": {
    "colab": {
     "base_uri": "https://localhost:8080/"
    },
    "id": "XzTzGYGnT8uH",
    "outputId": "2890b124-e00d-4ce6-8943-545c35a0cafa"
   },
   "outputs": [
    {
     "name": "stdout",
     "output_type": "stream",
     "text": [
      "Ground truth: [0 0 2 0 1 0 1 2 1 2 0 2 0 1 0 1 1 1 0 1 0 1 1 2 2 2 1 1 1 0 0 1 2 0 0 0]\n",
      "Predictions:  [0 0 2 0 1 0 1 2 1 0 0 1 0 1 0 1 1 1 0 1 0 1 2 2 2 2 1 1 1 0 0 1 0 0 0 0]\n",
      "Train mean accuracy: 0.8592\n",
      "Test mean accuracy: 0.8889\n"
     ]
    }
   ],
   "source": [
    "# Imprime el desempeño del modelo en los sets de entrenamiento y test\n",
    "y_test_hat = NBC.predict(x_test)\n",
    "print(f\"Ground truth:\", y_test)\n",
    "print(f\"Predictions: \", y_test_hat)\n",
    "\n",
    "# ¿Hay sobre entrenamiento?\n",
    "print(f\"Train mean accuracy: {NBC.score(x_train, y_train):6.4f}\")\n",
    "print(f\"Test mean accuracy: {NBC.score(x_test, y_test):6.4f}\")\n",
    "# La diferencia no es tan grande, el potencial de sobre entrenamiento es bajo."
   ]
  },
  {
   "cell_type": "markdown",
   "metadata": {
    "id": "PfP6A7xGaQ-G"
   },
   "source": [
    "# Part3: Performance evaluation"
   ]
  },
  {
   "cell_type": "code",
   "execution_count": 8,
   "metadata": {
    "colab": {
     "base_uri": "https://localhost:8080/",
     "height": 301
    },
    "id": "FRmlPU-cZ2ki",
    "outputId": "41b6c2a6-45c7-41e0-cb67-8fae3c743f20"
   },
   "outputs": [
    {
     "data": {
      "text/plain": [
       "<sklearn.metrics._plot.confusion_matrix.ConfusionMatrixDisplay at 0x127ece96f88>"
      ]
     },
     "execution_count": 8,
     "metadata": {},
     "output_type": "execute_result"
    },
    {
     "data": {
      "image/png": "[encoded data removed]",
      "text/plain": [
       "<Figure size 432x288 with 2 Axes>"
      ]
     },
     "metadata": {
      "needs_background": "light"
     },
     "output_type": "display_data"
    }
   ],
   "source": [
    "# Generate and plot confusion matrix\n",
    "CM = confusion_matrix(y_test, y_test_hat, labels=NBC.classes_)\n",
    "disp = ConfusionMatrixDisplay(confusion_matrix=CM, display_labels=NBC.classes_)\n",
    "disp.plot()"
   ]
  },
  {
   "cell_type": "code",
   "execution_count": 9,
   "metadata": {
    "colab": {
     "base_uri": "https://localhost:8080/"
    },
    "id": "i5OE0k_7bEcG",
    "outputId": "f41ae42e-7c30-407d-d442-926318fb86a6"
   },
   "outputs": [
    {
     "name": "stdout",
     "output_type": "stream",
     "text": [
      "              precision    recall  f1-score   support\n",
      "\n",
      "           0       0.88      1.00      0.93        14\n",
      "           1       0.93      0.93      0.93        14\n",
      "           2       0.83      0.62      0.71         8\n",
      "\n",
      "    accuracy                           0.89        36\n",
      "   macro avg       0.88      0.85      0.86        36\n",
      "weighted avg       0.89      0.89      0.88        36\n",
      "\n"
     ]
    }
   ],
   "source": [
    "# Print classification summary\n",
    "print(classification_report(y_test, y_test_hat, labels=NBC.classes_))"
   ]
  }
 ],
 "metadata": {
  "colab": {
   "authorship_tag": "ABX9TyNRXXB7+O12d8iDtGRH+V4k",
   "collapsed_sections": [],
   "include_colab_link": true,
   "name": "ML_02_NaiveBayes.ipynb",
   "provenance": []
  },
  "kernelspec": {
   "display_name": "Python 3",
   "language": "python",
   "name": "python3"
  },
  "language_info": {
   "codemirror_mode": {
    "name": "ipython",
    "version": 3
   },
   "file_extension": ".py",
   "mimetype": "text/x-python",
   "name": "python",
   "nbconvert_exporter": "python",
   "pygments_lexer": "ipython3",
   "version": "3.7.6"
  }
 },
 "nbformat": 4,
 "nbformat_minor": 1
}
