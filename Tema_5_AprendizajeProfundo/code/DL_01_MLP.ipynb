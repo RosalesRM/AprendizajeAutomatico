{
 "cells": [
  {
   "cell_type": "markdown",
   "metadata": {
    "colab_type": "text",
    "id": "view-in-github"
   },
   "source": [
    "[![Open In Colab](https://colab.research.google.com/assets/colab-badge.svg)](https://colab.research.google.com/github/MauricioRR-Tec/AprendizajeAutomatico/blob/master/Tema_5_AprendizajeProfundo/code/DL_01_MLP.ipynb)"
   ]
  },
  {
   "cell_type": "code",
   "execution_count": null,
   "metadata": {
    "id": "glhoh4KybWLh"
   },
   "outputs": [],
   "source": [
    "# http://www.emergentmind.com/neural-network\n",
    "# https://hmkcode.com/ai/backpropagation-step-by-step/\n",
    "# https://mattmazur.com/2015/03/17/a-step-by-step-backpropagation-example/"
   ]
  },
  {
   "cell_type": "code",
   "execution_count": null,
   "metadata": {
    "id": "e3ohV7teCRnM"
   },
   "outputs": [],
   "source": [
    "# Revisa la documentacion de python para poder instalar tensorflow.\n",
    "# Quizas alguno de las siguientes lineas sean de utilidad, o usa la suite anaconda.\n",
    "# !conda install tensorflow\n",
    "# !pip install tensorflow"
   ]
  },
  {
   "cell_type": "code",
   "execution_count": 1,
   "metadata": {
    "id": "DhmUvXATbWLr"
   },
   "outputs": [],
   "source": [
    "import numpy as np\n",
    "import matplotlib.pyplot as plt"
   ]
  },
  {
   "cell_type": "code",
   "execution_count": 2,
   "metadata": {
    "colab": {
     "base_uri": "https://localhost:8080/",
     "height": 346
    },
    "id": "Pr8pwJ5ebWL0",
    "outputId": "87fbae14-17af-4d30-f926-2edaac5d7234"
   },
   "outputs": [
    {
     "name": "stdout",
     "output_type": "stream",
     "text": [
      "X data: (150, 2)\n",
      "Y data: (150, 2)\n",
      "L data: (150,)\n"
     ]
    },
    {
     "data": {
      "image/png": "[encoded data removed]",
      "text/plain": [
       "<Figure size 864x288 with 2 Axes>"
      ]
     },
     "metadata": {
      "needs_background": "light"
     },
     "output_type": "display_data"
    }
   ],
   "source": [
    "# Load and split data\n",
    "from sklearn.datasets import load_iris\n",
    "iris = load_iris()\n",
    "\n",
    "# We will use length and width of petals as X to predict length and width of sepals as Y\n",
    "# We also keep the labels in a vector L\n",
    "X = iris.data[:, :2]\n",
    "Y = iris.data[:, 2:]\n",
    "L = iris.target\n",
    "\n",
    "print(\"X data:\", X.shape)\n",
    "print(\"Y data:\", Y.shape)\n",
    "print(\"L data:\", L.shape)\n",
    "\n",
    "# Plot it\n",
    "plt.figure(figsize=(12, 4))\n",
    "plt.subplot(1, 2, 1)\n",
    "plt.scatter(X[L==0, 0], X[L==0, 1], c='b', label='setosa')\n",
    "plt.scatter(X[L==1, 0], X[L==1, 1], c='r', label='versicolor')\n",
    "plt.scatter(X[L==2, 0], X[L==2, 1], c='g', label='virginica')\n",
    "plt.legend()\n",
    "plt.grid(True)\n",
    "plt.xlabel('petal length')\n",
    "plt.ylabel('petal width')\n",
    "plt.title('Input variables X')\n",
    "plt.subplot(1, 2, 2)\n",
    "plt.scatter(Y[L==0, 0], Y[L==0, 1], c='b', label='setosa')\n",
    "plt.scatter(Y[L==1, 0], Y[L==1, 1], c='r', label='versicolor')\n",
    "plt.scatter(Y[L==2, 0], Y[L==2, 1], c='g', label='virginica')\n",
    "plt.legend()\n",
    "plt.grid(True)\n",
    "plt.xlabel('sepal length')\n",
    "plt.ylabel('sepal width')\n",
    "plt.title('Output variables Y')\n",
    "plt.show()"
   ]
  },
  {
   "cell_type": "code",
   "execution_count": 3,
   "metadata": {
    "colab": {
     "base_uri": "https://localhost:8080/"
    },
    "id": "16xfdF2xbWL8",
    "outputId": "8194e88b-770f-4c54-e183-7f79c405ace5"
   },
   "outputs": [
    {
     "name": "stdout",
     "output_type": "stream",
     "text": [
      "Training + validation inputs X: (135, 2)\n",
      "Test inputs X: (15, 2)\n",
      "Training + validation outputs Y: (135, 2)\n",
      "Test outputs Y: (15, 2)\n",
      "Training + validation labels l: (135,)\n",
      "Test labels l: (15,)\n"
     ]
    }
   ],
   "source": [
    "# Split it into training and test sets\n",
    "from sklearn.model_selection import train_test_split\n",
    "x_train, x_test, y_train, y_test, l_train, l_test = train_test_split(X, Y, L, test_size=0.1)\n",
    "\n",
    "print(\"Training + validation inputs X:\", x_train.shape)\n",
    "print(\"Test inputs X:\", x_test.shape)\n",
    "print(\"Training + validation outputs Y:\", y_train.shape)\n",
    "print(\"Test outputs Y:\", y_test.shape)\n",
    "print(\"Training + validation labels l:\", l_train.shape)\n",
    "print(\"Test labels l:\", l_test.shape)"
   ]
  },
  {
   "cell_type": "code",
   "execution_count": 4,
   "metadata": {
    "id": "RXiiHm5ZZ-5g"
   },
   "outputs": [],
   "source": [
    "# Documentación de tensorflow y keras\n",
    "# https://www.tensorflow.org/\n",
    "# https://keras.io/"
   ]
  },
  {
   "cell_type": "code",
   "execution_count": 5,
   "metadata": {
    "id": "jwGu_37rbWMC"
   },
   "outputs": [
    {
     "name": "stderr",
     "output_type": "stream",
     "text": [
      "C:\\Anaconda3\\lib\\site-packages\\tensorboard\\compat\\tensorflow_stub\\dtypes.py:541: FutureWarning: Passing (type, 1) or '1type' as a synonym of type is deprecated; in a future version of numpy, it will be understood as (type, (1,)) / '(1,)type'.\n",
      "  _np_qint8 = np.dtype([(\"qint8\", np.int8, 1)])\n",
      "C:\\Anaconda3\\lib\\site-packages\\tensorboard\\compat\\tensorflow_stub\\dtypes.py:542: FutureWarning: Passing (type, 1) or '1type' as a synonym of type is deprecated; in a future version of numpy, it will be understood as (type, (1,)) / '(1,)type'.\n",
      "  _np_quint8 = np.dtype([(\"quint8\", np.uint8, 1)])\n",
      "C:\\Anaconda3\\lib\\site-packages\\tensorboard\\compat\\tensorflow_stub\\dtypes.py:543: FutureWarning: Passing (type, 1) or '1type' as a synonym of type is deprecated; in a future version of numpy, it will be understood as (type, (1,)) / '(1,)type'.\n",
      "  _np_qint16 = np.dtype([(\"qint16\", np.int16, 1)])\n",
      "C:\\Anaconda3\\lib\\site-packages\\tensorboard\\compat\\tensorflow_stub\\dtypes.py:544: FutureWarning: Passing (type, 1) or '1type' as a synonym of type is deprecated; in a future version of numpy, it will be understood as (type, (1,)) / '(1,)type'.\n",
      "  _np_quint16 = np.dtype([(\"quint16\", np.uint16, 1)])\n",
      "C:\\Anaconda3\\lib\\site-packages\\tensorboard\\compat\\tensorflow_stub\\dtypes.py:545: FutureWarning: Passing (type, 1) or '1type' as a synonym of type is deprecated; in a future version of numpy, it will be understood as (type, (1,)) / '(1,)type'.\n",
      "  _np_qint32 = np.dtype([(\"qint32\", np.int32, 1)])\n",
      "C:\\Anaconda3\\lib\\site-packages\\tensorboard\\compat\\tensorflow_stub\\dtypes.py:550: FutureWarning: Passing (type, 1) or '1type' as a synonym of type is deprecated; in a future version of numpy, it will be understood as (type, (1,)) / '(1,)type'.\n",
      "  np_resource = np.dtype([(\"resource\", np.ubyte, 1)])\n"
     ]
    }
   ],
   "source": [
    "# import tensorflow an the classes Model, Input (place-holder layer), and Dense (fully connected layer)\n",
    "import tensorflow as tf\n",
    "from tensorflow.keras.models import Model\n",
    "from tensorflow.keras.layers import Input, Dense"
   ]
  },
  {
   "cell_type": "code",
   "execution_count": 6,
   "metadata": {
    "colab": {
     "base_uri": "https://localhost:8080/"
    },
    "id": "OfZ2xl7XbWMI",
    "outputId": "893f653e-97d5-45ad-fc67-f4420e4a1933"
   },
   "outputs": [
    {
     "name": "stdout",
     "output_type": "stream",
     "text": [
      "Model: \"functional_1\"\n",
      "_________________________________________________________________\n",
      "Layer (type)                 Output Shape              Param #   \n",
      "=================================================================\n",
      "input (InputLayer)           [(None, 2)]               0         \n",
      "_________________________________________________________________\n",
      "output (Dense)               (None, 2)                 6         \n",
      "=================================================================\n",
      "Total params: 6\n",
      "Trainable params: 6\n",
      "Non-trainable params: 0\n",
      "_________________________________________________________________\n"
     ]
    }
   ],
   "source": [
    "# Create an MLP of two inputs x=[x1, x2], and two outputs y=[y1, y2]\n",
    "i = Input(shape=(2,), name='input')\n",
    "o = Dense(units=2, activation=None, name='output')(i)\n",
    "\n",
    "MLP = Model(inputs=i, outputs=o)\n",
    "MLP.summary()"
   ]
  },
  {
   "cell_type": "code",
   "execution_count": 7,
   "metadata": {
    "colab": {
     "base_uri": "https://localhost:8080/"
    },
    "id": "YiR10FbJbWMN",
    "outputId": "9a56ada1-4fa9-451a-cc58-5094d2cfab01"
   },
   "outputs": [
    {
     "name": "stdout",
     "output_type": "stream",
     "text": [
      "Initial weights: (2, 2)\n",
      "[[-0.31728554 -0.03807497]\n",
      " [ 1.1933473   0.65073454]]\n",
      "Initial biases (2,)\n",
      "[0. 0.]\n"
     ]
    }
   ],
   "source": [
    "# Obtain weights and biases of the hidden layer\n",
    "w1, b1 = MLP.layers[1].get_weights()\n",
    "print(\"Initial weights:\", w1.shape)\n",
    "print(w1)\n",
    "print(\"Initial biases\", b1.shape)\n",
    "print(b1)"
   ]
  },
  {
   "cell_type": "code",
   "execution_count": 8,
   "metadata": {
    "colab": {
     "base_uri": "https://localhost:8080/",
     "height": 140
    },
    "id": "yf20TvnAbWMR",
    "outputId": "e6cbf9fa-8fe2-4f95-f687-2867b7e1ba58"
   },
   "outputs": [
    {
     "name": "stdout",
     "output_type": "stream",
     "text": [
      "('Failed to import pydot. You must `pip install pydot` and install graphviz (https://graphviz.gitlab.io/download/), ', 'for `pydotprint` to work.')\n"
     ]
    }
   ],
   "source": [
    "# Plot a diagram of the MLP model\n",
    "from tensorflow.keras.utils import plot_model\n",
    "plot_model(MLP, to_file='MLP.png', show_shapes=True, show_layer_names=True, rankdir='TB', expand_nested=True, dpi=64)"
   ]
  },
  {
   "cell_type": "code",
   "execution_count": 9,
   "metadata": {
    "id": "CJ0ZRpsibWMY"
   },
   "outputs": [],
   "source": [
    "# Here we define the optimizer and loss function\n",
    "# Adam and mse in this initial example\n",
    "MLP.compile(optimizer='sgd', loss='mse')"
   ]
  },
  {
   "cell_type": "code",
   "execution_count": 10,
   "metadata": {
    "colab": {
     "base_uri": "https://localhost:8080/"
    },
    "id": "Hzez7n_xbWMc",
    "outputId": "ee44f6cc-b1f4-41ca-ddcd-7284d7277f8f"
   },
   "outputs": [
    {
     "name": "stdout",
     "output_type": "stream",
     "text": [
      "Epoch 1/100\n",
      " 1/31 [..............................] - ETA: 0s - loss: 3.6326WARNING:tensorflow:Callbacks method `on_train_batch_end` is slow compared to the batch time (batch time: 0.0000s vs `on_train_batch_end` time: 0.0010s). Check your callbacks.\n",
      "31/31 [==============================] - 0s 4ms/step - loss: 2.8204 - val_loss: 2.0684\n",
      "Epoch 2/100\n",
      "31/31 [==============================] - 0s 1ms/step - loss: 2.2150 - val_loss: 2.3770\n",
      "Epoch 3/100\n",
      "31/31 [==============================] - 0s 1ms/step - loss: 1.8176 - val_loss: 2.6234\n",
      "Epoch 4/100\n",
      "31/31 [==============================] - 0s 1ms/step - loss: 1.5996 - val_loss: 1.5393\n",
      "Epoch 5/100\n",
      "31/31 [==============================] - 0s 1ms/step - loss: 1.2814 - val_loss: 1.2601\n",
      "Epoch 6/100\n",
      "31/31 [==============================] - 0s 1ms/step - loss: 1.1196 - val_loss: 1.2528\n",
      "Epoch 7/100\n",
      "31/31 [==============================] - 0s 1ms/step - loss: 1.0033 - val_loss: 0.9431\n",
      "Epoch 8/100\n",
      "31/31 [==============================] - 0s 1ms/step - loss: 0.8187 - val_loss: 0.8004\n",
      "Epoch 9/100\n",
      "31/31 [==============================] - 0s 1ms/step - loss: 0.7535 - val_loss: 0.8384\n",
      "Epoch 10/100\n",
      "31/31 [==============================] - 0s 1ms/step - loss: 0.7170 - val_loss: 0.6791\n",
      "Epoch 11/100\n",
      "31/31 [==============================] - 0s 1ms/step - loss: 0.5979 - val_loss: 0.8154\n",
      "Epoch 12/100\n",
      "31/31 [==============================] - 0s 1ms/step - loss: 0.5558 - val_loss: 0.5841\n",
      "Epoch 13/100\n",
      "31/31 [==============================] - 0s 1ms/step - loss: 0.4729 - val_loss: 0.6725\n",
      "Epoch 14/100\n",
      "31/31 [==============================] - 0s 1ms/step - loss: 0.4519 - val_loss: 0.5372\n",
      "Epoch 15/100\n",
      "31/31 [==============================] - 0s 1ms/step - loss: 0.4347 - val_loss: 0.8118\n",
      "Epoch 16/100\n",
      "31/31 [==============================] - 0s 1ms/step - loss: 0.4190 - val_loss: 0.5759\n",
      "Epoch 17/100\n",
      "31/31 [==============================] - 0s 2ms/step - loss: 0.3965 - val_loss: 0.4679\n",
      "Epoch 18/100\n",
      "31/31 [==============================] - 0s 2ms/step - loss: 0.3880 - val_loss: 0.5424\n",
      "Epoch 19/100\n",
      "31/31 [==============================] - 0s 1ms/step - loss: 0.3563 - val_loss: 0.4444\n",
      "Epoch 20/100\n",
      "31/31 [==============================] - 0s 1ms/step - loss: 0.3694 - val_loss: 0.5090\n",
      "Epoch 21/100\n",
      "31/31 [==============================] - 0s 1ms/step - loss: 0.3465 - val_loss: 0.4295\n",
      "Epoch 22/100\n",
      "31/31 [==============================] - 0s 1ms/step - loss: 0.3376 - val_loss: 0.4446\n",
      "Epoch 23/100\n",
      "31/31 [==============================] - 0s 1ms/step - loss: 0.3515 - val_loss: 0.4073\n",
      "Epoch 24/100\n",
      "31/31 [==============================] - 0s 1ms/step - loss: 0.3336 - val_loss: 0.4467\n",
      "Epoch 25/100\n",
      "31/31 [==============================] - 0s 1ms/step - loss: 0.3481 - val_loss: 0.5231\n",
      "Epoch 26/100\n",
      "31/31 [==============================] - 0s 1ms/step - loss: 0.3519 - val_loss: 0.3931\n",
      "Epoch 27/100\n",
      "31/31 [==============================] - 0s 1ms/step - loss: 0.3664 - val_loss: 0.4768\n",
      "Epoch 28/100\n",
      "31/31 [==============================] - 0s 1ms/step - loss: 0.3342 - val_loss: 0.5084\n",
      "Epoch 29/100\n",
      "31/31 [==============================] - 0s 1ms/step - loss: 0.3330 - val_loss: 0.3871\n",
      "Epoch 30/100\n",
      "31/31 [==============================] - 0s 1ms/step - loss: 0.3215 - val_loss: 0.4335\n",
      "Epoch 31/100\n",
      "31/31 [==============================] - 0s 1ms/step - loss: 0.3418 - val_loss: 0.5011\n",
      "Epoch 32/100\n",
      "31/31 [==============================] - 0s 1ms/step - loss: 0.3182 - val_loss: 0.3825\n",
      "Epoch 33/100\n",
      "31/31 [==============================] - 0s 1ms/step - loss: 0.3239 - val_loss: 0.4633\n",
      "Epoch 34/100\n",
      "31/31 [==============================] - 0s 1ms/step - loss: 0.3240 - val_loss: 0.6708\n",
      "Epoch 35/100\n",
      "31/31 [==============================] - 0s 1ms/step - loss: 0.3282 - val_loss: 0.3948\n",
      "Epoch 36/100\n",
      "31/31 [==============================] - 0s 1ms/step - loss: 0.3261 - val_loss: 0.4836\n",
      "Epoch 37/100\n",
      "31/31 [==============================] - 0s 1ms/step - loss: 0.3212 - val_loss: 0.5333\n",
      "Epoch 38/100\n",
      "31/31 [==============================] - 0s 1ms/step - loss: 0.3170 - val_loss: 0.5981\n",
      "Epoch 39/100\n",
      "31/31 [==============================] - 0s 1ms/step - loss: 0.3500 - val_loss: 0.4401\n",
      "Epoch 40/100\n",
      "31/31 [==============================] - 0s 1ms/step - loss: 0.3223 - val_loss: 0.3812\n",
      "Epoch 41/100\n",
      "31/31 [==============================] - 0s 1ms/step - loss: 0.3416 - val_loss: 0.3743\n",
      "Epoch 42/100\n",
      "31/31 [==============================] - 0s 1ms/step - loss: 0.3165 - val_loss: 0.4409\n",
      "Epoch 43/100\n",
      "31/31 [==============================] - 0s 1ms/step - loss: 0.3227 - val_loss: 0.5124\n",
      "Epoch 44/100\n",
      "31/31 [==============================] - 0s 1ms/step - loss: 0.3144 - val_loss: 0.5391\n",
      "Epoch 45/100\n",
      "31/31 [==============================] - 0s 1ms/step - loss: 0.3318 - val_loss: 0.3809\n",
      "Epoch 46/100\n",
      "31/31 [==============================] - 0s 1ms/step - loss: 0.3144 - val_loss: 0.6982\n",
      "Epoch 47/100\n",
      "31/31 [==============================] - 0s 1ms/step - loss: 0.3251 - val_loss: 0.3751\n",
      "Epoch 48/100\n",
      "31/31 [==============================] - 0s 1ms/step - loss: 0.3186 - val_loss: 0.4392\n",
      "Epoch 49/100\n",
      "31/31 [==============================] - 0s 1ms/step - loss: 0.3091 - val_loss: 0.6754\n",
      "Epoch 50/100\n",
      "31/31 [==============================] - 0s 1ms/step - loss: 0.3309 - val_loss: 0.4786\n",
      "Epoch 51/100\n",
      "31/31 [==============================] - 0s 1ms/step - loss: 0.3265 - val_loss: 0.3842\n",
      "Epoch 52/100\n",
      "31/31 [==============================] - 0s 1ms/step - loss: 0.3339 - val_loss: 0.3568\n",
      "Epoch 53/100\n",
      "31/31 [==============================] - 0s 1ms/step - loss: 0.3081 - val_loss: 0.5952\n",
      "Epoch 54/100\n",
      "31/31 [==============================] - 0s 1ms/step - loss: 0.3243 - val_loss: 0.3797\n",
      "Epoch 55/100\n",
      "31/31 [==============================] - 0s 1ms/step - loss: 0.3201 - val_loss: 0.6560\n",
      "Epoch 56/100\n",
      "31/31 [==============================] - 0s 1ms/step - loss: 0.3314 - val_loss: 0.7451\n",
      "Epoch 57/100\n",
      "31/31 [==============================] - 0s 1ms/step - loss: 0.3243 - val_loss: 0.3806\n",
      "Epoch 58/100\n",
      "31/31 [==============================] - 0s 1ms/step - loss: 0.3539 - val_loss: 0.3672\n",
      "Epoch 59/100\n",
      "31/31 [==============================] - 0s 1ms/step - loss: 0.3175 - val_loss: 0.4125\n",
      "Epoch 60/100\n",
      "31/31 [==============================] - 0s 1ms/step - loss: 0.3214 - val_loss: 0.5197\n",
      "Epoch 61/100\n",
      "31/31 [==============================] - 0s 1ms/step - loss: 0.3131 - val_loss: 0.3721\n",
      "Epoch 62/100\n",
      "31/31 [==============================] - 0s 1ms/step - loss: 0.3256 - val_loss: 0.4800\n",
      "Epoch 63/100\n",
      "31/31 [==============================] - 0s 1ms/step - loss: 0.3298 - val_loss: 0.4635\n",
      "Epoch 64/100\n",
      "31/31 [==============================] - 0s 1ms/step - loss: 0.3247 - val_loss: 0.3957\n",
      "Epoch 65/100\n",
      "31/31 [==============================] - 0s 1ms/step - loss: 0.3207 - val_loss: 0.3734\n",
      "Epoch 66/100\n",
      "31/31 [==============================] - 0s 1ms/step - loss: 0.3274 - val_loss: 0.3914\n",
      "Epoch 67/100\n",
      "31/31 [==============================] - 0s 1ms/step - loss: 0.3058 - val_loss: 0.3560\n",
      "Epoch 68/100\n",
      "31/31 [==============================] - 0s 1ms/step - loss: 0.3252 - val_loss: 0.5263\n",
      "Epoch 69/100\n",
      "31/31 [==============================] - 0s 1ms/step - loss: 0.3342 - val_loss: 0.4683\n",
      "Epoch 70/100\n",
      "31/31 [==============================] - 0s 1ms/step - loss: 0.3207 - val_loss: 0.5348\n",
      "Epoch 71/100\n",
      "31/31 [==============================] - 0s 1ms/step - loss: 0.3117 - val_loss: 0.4679\n",
      "Epoch 72/100\n",
      "31/31 [==============================] - 0s 1ms/step - loss: 0.3395 - val_loss: 0.3579\n",
      "Epoch 73/100\n",
      "31/31 [==============================] - 0s 1ms/step - loss: 0.3214 - val_loss: 0.3880\n",
      "Epoch 74/100\n",
      "31/31 [==============================] - 0s 1ms/step - loss: 0.3347 - val_loss: 0.4218\n",
      "Epoch 75/100\n",
      "31/31 [==============================] - 0s 1ms/step - loss: 0.3217 - val_loss: 0.4493\n",
      "Epoch 76/100\n",
      "31/31 [==============================] - 0s 1ms/step - loss: 0.3121 - val_loss: 0.5838\n",
      "Epoch 77/100\n",
      "31/31 [==============================] - 0s 1ms/step - loss: 0.3101 - val_loss: 0.4082\n",
      "Epoch 78/100\n",
      "31/31 [==============================] - 0s 1ms/step - loss: 0.3138 - val_loss: 0.4876\n",
      "Epoch 79/100\n",
      "31/31 [==============================] - 0s 1ms/step - loss: 0.3405 - val_loss: 0.7872\n",
      "Epoch 80/100\n",
      "31/31 [==============================] - 0s 1ms/step - loss: 0.3206 - val_loss: 0.3626\n",
      "Epoch 81/100\n",
      "31/31 [==============================] - 0s 1ms/step - loss: 0.3203 - val_loss: 0.4358\n",
      "Epoch 82/100\n",
      "31/31 [==============================] - 0s 1ms/step - loss: 0.3169 - val_loss: 0.4712\n",
      "Epoch 83/100\n",
      "31/31 [==============================] - 0s 1ms/step - loss: 0.3056 - val_loss: 0.5884\n",
      "Epoch 84/100\n",
      "31/31 [==============================] - 0s 1ms/step - loss: 0.3363 - val_loss: 0.4414\n",
      "Epoch 85/100\n",
      "31/31 [==============================] - 0s 1ms/step - loss: 0.2994 - val_loss: 0.4132\n",
      "Epoch 86/100\n",
      "31/31 [==============================] - 0s 1ms/step - loss: 0.3208 - val_loss: 0.3571\n",
      "Epoch 87/100\n",
      "31/31 [==============================] - 0s 1ms/step - loss: 0.3156 - val_loss: 0.3565\n",
      "Epoch 88/100\n",
      "31/31 [==============================] - 0s 1ms/step - loss: 0.3221 - val_loss: 0.3474\n",
      "Epoch 89/100\n",
      "31/31 [==============================] - 0s 1ms/step - loss: 0.3102 - val_loss: 0.3503\n",
      "Epoch 90/100\n",
      "31/31 [==============================] - 0s 1ms/step - loss: 0.3110 - val_loss: 0.3576\n",
      "Epoch 91/100\n",
      "31/31 [==============================] - 0s 1ms/step - loss: 0.3072 - val_loss: 0.3512\n",
      "Epoch 92/100\n",
      "31/31 [==============================] - 0s 1ms/step - loss: 0.3179 - val_loss: 0.3931\n",
      "Epoch 93/100\n",
      "31/31 [==============================] - 0s 1ms/step - loss: 0.3149 - val_loss: 0.5258\n",
      "Epoch 94/100\n",
      "31/31 [==============================] - 0s 1ms/step - loss: 0.3331 - val_loss: 0.3577\n",
      "Epoch 95/100\n",
      "31/31 [==============================] - 0s 1ms/step - loss: 0.3172 - val_loss: 0.3489\n",
      "Epoch 96/100\n",
      "31/31 [==============================] - 0s 1ms/step - loss: 0.3125 - val_loss: 0.3537\n",
      "Epoch 97/100\n",
      "31/31 [==============================] - 0s 1ms/step - loss: 0.3215 - val_loss: 0.3494\n",
      "Epoch 98/100\n",
      "31/31 [==============================] - 0s 2ms/step - loss: 0.3057 - val_loss: 0.4007\n",
      "Epoch 99/100\n",
      "31/31 [==============================] - 0s 2ms/step - loss: 0.3373 - val_loss: 0.4868\n",
      "Epoch 100/100\n",
      "31/31 [==============================] - 0s 1ms/step - loss: 0.3278 - val_loss: 0.6748\n"
     ]
    }
   ],
   "source": [
    "# And now we train the model\n",
    "# Learn to predict sepal's lenght and width from petal's lenght and width\n",
    "HISTORY = MLP.fit(x=x_train, y=y_train, batch_size=4, epochs=100, validation_split=0.1)"
   ]
  },
  {
   "cell_type": "code",
   "execution_count": 11,
   "metadata": {
    "colab": {
     "base_uri": "https://localhost:8080/",
     "height": 334
    },
    "id": "x7I-BOSFbgX-",
    "outputId": "d8a3766a-351e-4ce5-a39f-55963b779264"
   },
   "outputs": [
    {
     "data": {
      "image/png": "[encoded data removed]",
      "text/plain": [
       "<Figure size 864x360 with 1 Axes>"
      ]
     },
     "metadata": {
      "needs_background": "light"
     },
     "output_type": "display_data"
    }
   ],
   "source": [
    "# Plot loss (The object MLP keeps track of the training and validation performance)\n",
    "plt.figure(figsize=(12, 5))\n",
    "plt.plot(MLP.history.history['loss'], label='Training', linewidth=2)\n",
    "plt.plot(MLP.history.history['val_loss'], label='Validation', linewidth=2)\n",
    "plt.legend()\n",
    "plt.xlabel('Epoch')\n",
    "plt.ylabel('Loss')\n",
    "plt.grid(True)\n",
    "plt.show()"
   ]
  },
  {
   "cell_type": "code",
   "execution_count": 12,
   "metadata": {
    "colab": {
     "base_uri": "https://localhost:8080/"
    },
    "id": "rtHqcSQg2aQR",
    "outputId": "a232ad2f-5ed2-440f-a233-d13bdfaca25f"
   },
   "outputs": [
    {
     "name": "stdout",
     "output_type": "stream",
     "text": [
      "Initial weights: (2, 2)\n",
      "[[ 1.5529513  0.5942762]\n",
      " [-1.6273793 -0.6580528]]\n",
      "Initial biases (2,)\n",
      "[-0.85673434 -0.5294041 ]\n"
     ]
    }
   ],
   "source": [
    "# Obtain weights and biases of the hidden layer after training\n",
    "w1, b1 = MLP.layers[1].get_weights()\n",
    "print(\"Initial weights:\", w1.shape)\n",
    "print(w1)\n",
    "print(\"Initial biases\", b1.shape)\n",
    "print(b1)"
   ]
  },
  {
   "cell_type": "code",
   "execution_count": 13,
   "metadata": {
    "colab": {
     "base_uri": "https://localhost:8080/"
    },
    "id": "M99b2NpEbWMi",
    "outputId": "2d71f4f4-c321-4ec5-b323-80f2e5db878a"
   },
   "outputs": [
    {
     "data": {
      "text/plain": [
       "0.5119340419769287"
      ]
     },
     "execution_count": 13,
     "metadata": {},
     "output_type": "execute_result"
    }
   ],
   "source": [
    "# Use the trained model to compute the average test loss\n",
    "MLP.evaluate(x=x_test, y=y_test, verbose=False)"
   ]
  },
  {
   "cell_type": "code",
   "execution_count": 14,
   "metadata": {
    "colab": {
     "base_uri": "https://localhost:8080/"
    },
    "id": "-vkDhVD3bWMo",
    "outputId": "ac23108f-73b2-4d76-b3c1-751db23866e0"
   },
   "outputs": [
    {
     "name": "stdout",
     "output_type": "stream",
     "text": [
      "(15, 2)\n"
     ]
    }
   ],
   "source": [
    "# Now generate the predictions on the test set\n",
    "y_test_hat = MLP.predict(x=x_test)\n",
    "print(y_test_hat.shape)"
   ]
  },
  {
   "cell_type": "code",
   "execution_count": 15,
   "metadata": {
    "colab": {
     "base_uri": "https://localhost:8080/",
     "height": 295
    },
    "id": "hh43w3bRbWMs",
    "outputId": "e3d35e1c-0e6c-4747-b271-a8841245b4dd"
   },
   "outputs": [
    {
     "data": {
      "image/png": "[encoded data removed]",
      "text/plain": [
       "<Figure size 432x288 with 1 Axes>"
      ]
     },
     "metadata": {
      "needs_background": "light"
     },
     "output_type": "display_data"
    }
   ],
   "source": [
    " # Plot y_test_hat\n",
    "plt.scatter(y_test[l_test==0, 0], y_test[l_test==0, 1], c='b', label='set y')\n",
    "plt.scatter(y_test[l_test==1, 0], y_test[l_test==1, 1], c='r', label='ver y')\n",
    "plt.scatter(y_test[l_test==2, 0], y_test[l_test==2, 1], c='g', label='vir y')\n",
    "\n",
    "plt.scatter(y_test_hat[l_test==0, 0], y_test_hat[l_test==0, 1], c='b', marker='+', label='set y_h')\n",
    "plt.scatter(y_test_hat[l_test==1, 0], y_test_hat[l_test==1, 1], c='r', marker='+', label='ver y_h')\n",
    "plt.scatter(y_test_hat[l_test==2, 0], y_test_hat[l_test==2, 1], c='g', marker='+', label='vir y_h')\n",
    "\n",
    "plt.legend()\n",
    "plt.grid(True)\n",
    "plt.xlabel('sepal length')\n",
    "plt.ylabel('sepal width')\n",
    "plt.title('Test set and its prediction')\n",
    "plt.show()"
   ]
  },
  {
   "cell_type": "code",
   "execution_count": 16,
   "metadata": {
    "colab": {
     "base_uri": "https://localhost:8080/"
    },
    "id": "hpystfDabWMw",
    "outputId": "ac1060b8-06ff-43aa-b3ae-1e3112ef9761"
   },
   "outputs": [
    {
     "name": "stdout",
     "output_type": "stream",
     "text": [
      "Model: \"functional_3\"\n",
      "_________________________________________________________________\n",
      "Layer (type)                 Output Shape              Param #   \n",
      "=================================================================\n",
      "input (InputLayer)           [(None, 2)]               0         \n",
      "_________________________________________________________________\n",
      "hidden1 (Dense)              (None, 32)                96        \n",
      "_________________________________________________________________\n",
      "hidden2 (Dense)              (None, 64)                2112      \n",
      "_________________________________________________________________\n",
      "hidden3 (Dense)              (None, 32)                2080      \n",
      "_________________________________________________________________\n",
      "output (Dense)               (None, 2)                 66        \n",
      "=================================================================\n",
      "Total params: 4,354\n",
      "Trainable params: 4,354\n",
      "Non-trainable params: 0\n",
      "_________________________________________________________________\n"
     ]
    }
   ],
   "source": [
    "# Create a larger MLP\n",
    "i = Input(shape=(2,), name='input')\n",
    "h = Dense(units=32, activation='sigmoid', name='hidden1')(i)\n",
    "h = Dense(units=64, activation='sigmoid', name='hidden2')(h)\n",
    "h = Dense(units=32, activation='sigmoid', name='hidden3')(h)\n",
    "o = Dense(units=2, activation='sigmoid', name='output')(h)\n",
    "\n",
    "MLP = Model(inputs=i, outputs=o)\n",
    "MLP.summary()"
   ]
  },
  {
   "cell_type": "code",
   "execution_count": 17,
   "metadata": {
    "id": "x3Gj9q4VbWM0"
   },
   "outputs": [],
   "source": [
    "# Compile it\n",
    "MLP.compile(optimizer='sgd', loss='mse')"
   ]
  },
  {
   "cell_type": "code",
   "execution_count": 18,
   "metadata": {
    "colab": {
     "base_uri": "https://localhost:8080/"
    },
    "id": "5yvl3ggEbWM4",
    "outputId": "db47dbb5-8607-472f-e8fb-d489be75f1e4"
   },
   "outputs": [
    {
     "name": "stdout",
     "output_type": "stream",
     "text": [
      "Epoch 1/100\n",
      "16/16 - 0s - loss: 6.9717 - val_loss: 7.5234\n",
      "Epoch 2/100\n",
      "16/16 - 0s - loss: 6.2944 - val_loss: 7.1143\n",
      "Epoch 3/100\n",
      "16/16 - 0s - loss: 6.0375 - val_loss: 6.9362\n",
      "Epoch 4/100\n",
      "16/16 - 0s - loss: 5.9157 - val_loss: 6.8471\n",
      "Epoch 5/100\n",
      "16/16 - 0s - loss: 5.8515 - val_loss: 6.7871\n",
      "Epoch 6/100\n",
      "16/16 - 0s - loss: 5.8069 - val_loss: 6.7464\n",
      "Epoch 7/100\n",
      "16/16 - 0s - loss: 5.7759 - val_loss: 6.7168\n",
      "Epoch 8/100\n",
      "16/16 - 0s - loss: 5.7531 - val_loss: 6.6940\n",
      "Epoch 9/100\n",
      "16/16 - 0s - loss: 5.7355 - val_loss: 6.6773\n",
      "Epoch 10/100\n",
      "16/16 - 0s - loss: 5.7223 - val_loss: 6.6651\n",
      "Epoch 11/100\n",
      "16/16 - 0s - loss: 5.7126 - val_loss: 6.6536\n",
      "Epoch 12/100\n",
      "16/16 - 0s - loss: 5.7036 - val_loss: 6.6454\n",
      "Epoch 13/100\n",
      "16/16 - 0s - loss: 5.6970 - val_loss: 6.6370\n",
      "Epoch 14/100\n",
      "16/16 - 0s - loss: 5.6904 - val_loss: 6.6311\n",
      "Epoch 15/100\n",
      "16/16 - 0s - loss: 5.6856 - val_loss: 6.6249\n",
      "Epoch 16/100\n",
      "16/16 - 0s - loss: 5.6807 - val_loss: 6.6199\n",
      "Epoch 17/100\n",
      "16/16 - 0s - loss: 5.6767 - val_loss: 6.6156\n",
      "Epoch 18/100\n",
      "16/16 - 0s - loss: 5.6732 - val_loss: 6.6114\n",
      "Epoch 19/100\n",
      "16/16 - 0s - loss: 5.6698 - val_loss: 6.6081\n",
      "Epoch 20/100\n",
      "16/16 - 0s - loss: 5.6672 - val_loss: 6.6054\n",
      "Epoch 21/100\n",
      "16/16 - 0s - loss: 5.6651 - val_loss: 6.6027\n",
      "Epoch 22/100\n",
      "16/16 - 0s - loss: 5.6629 - val_loss: 6.6000\n",
      "Epoch 23/100\n",
      "16/16 - 0s - loss: 5.6607 - val_loss: 6.5979\n",
      "Epoch 24/100\n",
      "16/16 - 0s - loss: 5.6590 - val_loss: 6.5961\n",
      "Epoch 25/100\n",
      "16/16 - 0s - loss: 5.6576 - val_loss: 6.5942\n",
      "Epoch 26/100\n",
      "16/16 - 0s - loss: 5.6560 - val_loss: 6.5926\n",
      "Epoch 27/100\n",
      "16/16 - 0s - loss: 5.6548 - val_loss: 6.5909\n",
      "Epoch 28/100\n",
      "16/16 - 0s - loss: 5.6534 - val_loss: 6.5893\n",
      "Epoch 29/100\n",
      "16/16 - 0s - loss: 5.6521 - val_loss: 6.5881\n",
      "Epoch 30/100\n",
      "16/16 - 0s - loss: 5.6511 - val_loss: 6.5868\n",
      "Epoch 31/100\n",
      "16/16 - 0s - loss: 5.6501 - val_loss: 6.5857\n",
      "Epoch 32/100\n",
      "16/16 - 0s - loss: 5.6492 - val_loss: 6.5845\n",
      "Epoch 33/100\n",
      "16/16 - 0s - loss: 5.6483 - val_loss: 6.5834\n",
      "Epoch 34/100\n",
      "16/16 - 0s - loss: 5.6474 - val_loss: 6.5825\n",
      "Epoch 35/100\n",
      "16/16 - 0s - loss: 5.6467 - val_loss: 6.5815\n",
      "Epoch 36/100\n",
      "16/16 - 0s - loss: 5.6458 - val_loss: 6.5807\n",
      "Epoch 37/100\n",
      "16/16 - 0s - loss: 5.6452 - val_loss: 6.5798\n",
      "Epoch 38/100\n",
      "16/16 - 0s - loss: 5.6445 - val_loss: 6.5791\n",
      "Epoch 39/100\n",
      "16/16 - 0s - loss: 5.6439 - val_loss: 6.5783\n",
      "Epoch 40/100\n",
      "16/16 - 0s - loss: 5.6433 - val_loss: 6.5777\n",
      "Epoch 41/100\n",
      "16/16 - 0s - loss: 5.6428 - val_loss: 6.5770\n",
      "Epoch 42/100\n",
      "16/16 - 0s - loss: 5.6422 - val_loss: 6.5762\n",
      "Epoch 43/100\n",
      "16/16 - 0s - loss: 5.6416 - val_loss: 6.5756\n",
      "Epoch 44/100\n",
      "16/16 - 0s - loss: 5.6411 - val_loss: 6.5750\n",
      "Epoch 45/100\n",
      "16/16 - 0s - loss: 5.6406 - val_loss: 6.5745\n",
      "Epoch 46/100\n",
      "16/16 - 0s - loss: 5.6402 - val_loss: 6.5739\n",
      "Epoch 47/100\n",
      "16/16 - 0s - loss: 5.6398 - val_loss: 6.5735\n",
      "Epoch 48/100\n",
      "16/16 - 0s - loss: 5.6394 - val_loss: 6.5729\n",
      "Epoch 49/100\n",
      "16/16 - 0s - loss: 5.6390 - val_loss: 6.5725\n",
      "Epoch 50/100\n",
      "16/16 - 0s - loss: 5.6387 - val_loss: 6.5720\n",
      "Epoch 51/100\n",
      "16/16 - 0s - loss: 5.6383 - val_loss: 6.5716\n",
      "Epoch 52/100\n",
      "16/16 - 0s - loss: 5.6379 - val_loss: 6.5712\n",
      "Epoch 53/100\n",
      "16/16 - 0s - loss: 5.6376 - val_loss: 6.5708\n",
      "Epoch 54/100\n",
      "16/16 - 0s - loss: 5.6373 - val_loss: 6.5705\n",
      "Epoch 55/100\n",
      "16/16 - 0s - loss: 5.6370 - val_loss: 6.5700\n",
      "Epoch 56/100\n",
      "16/16 - 0s - loss: 5.6367 - val_loss: 6.5698\n",
      "Epoch 57/100\n",
      "16/16 - 0s - loss: 5.6364 - val_loss: 6.5694\n",
      "Epoch 58/100\n",
      "16/16 - 0s - loss: 5.6361 - val_loss: 6.5690\n",
      "Epoch 59/100\n",
      "16/16 - 0s - loss: 5.6359 - val_loss: 6.5687\n",
      "Epoch 60/100\n",
      "16/16 - 0s - loss: 5.6356 - val_loss: 6.5684\n",
      "Epoch 61/100\n",
      "16/16 - 0s - loss: 5.6354 - val_loss: 6.5681\n",
      "Epoch 62/100\n",
      "16/16 - 0s - loss: 5.6351 - val_loss: 6.5678\n",
      "Epoch 63/100\n",
      "16/16 - 0s - loss: 5.6349 - val_loss: 6.5676\n",
      "Epoch 64/100\n",
      "16/16 - 0s - loss: 5.6347 - val_loss: 6.5673\n",
      "Epoch 65/100\n",
      "16/16 - 0s - loss: 5.6345 - val_loss: 6.5671\n",
      "Epoch 66/100\n",
      "16/16 - 0s - loss: 5.6343 - val_loss: 6.5668\n",
      "Epoch 67/100\n",
      "16/16 - 0s - loss: 5.6341 - val_loss: 6.5666\n",
      "Epoch 68/100\n",
      "16/16 - 0s - loss: 5.6339 - val_loss: 6.5663\n",
      "Epoch 69/100\n",
      "16/16 - 0s - loss: 5.6337 - val_loss: 6.5660\n",
      "Epoch 70/100\n",
      "16/16 - 0s - loss: 5.6335 - val_loss: 6.5658\n",
      "Epoch 71/100\n",
      "16/16 - 0s - loss: 5.6333 - val_loss: 6.5656\n",
      "Epoch 72/100\n",
      "16/16 - 0s - loss: 5.6331 - val_loss: 6.5654\n",
      "Epoch 73/100\n",
      "16/16 - 0s - loss: 5.6330 - val_loss: 6.5652\n",
      "Epoch 74/100\n",
      "16/16 - 0s - loss: 5.6328 - val_loss: 6.5650\n",
      "Epoch 75/100\n",
      "16/16 - 0s - loss: 5.6326 - val_loss: 6.5648\n",
      "Epoch 76/100\n",
      "16/16 - 0s - loss: 5.6325 - val_loss: 6.5646\n",
      "Epoch 77/100\n",
      "16/16 - 0s - loss: 5.6324 - val_loss: 6.5645\n",
      "Epoch 78/100\n",
      "16/16 - 0s - loss: 5.6323 - val_loss: 6.5644\n",
      "Epoch 79/100\n",
      "16/16 - 0s - loss: 5.6321 - val_loss: 6.5642\n",
      "Epoch 80/100\n",
      "16/16 - 0s - loss: 5.6320 - val_loss: 6.5640\n",
      "Epoch 81/100\n",
      "16/16 - 0s - loss: 5.6319 - val_loss: 6.5638\n",
      "Epoch 82/100\n",
      "16/16 - 0s - loss: 5.6317 - val_loss: 6.5637\n",
      "Epoch 83/100\n",
      "16/16 - 0s - loss: 5.6316 - val_loss: 6.5635\n",
      "Epoch 84/100\n",
      "16/16 - 0s - loss: 5.6315 - val_loss: 6.5634\n",
      "Epoch 85/100\n",
      "16/16 - 0s - loss: 5.6314 - val_loss: 6.5633\n",
      "Epoch 86/100\n",
      "16/16 - 0s - loss: 5.6313 - val_loss: 6.5631\n",
      "Epoch 87/100\n",
      "16/16 - 0s - loss: 5.6311 - val_loss: 6.5630\n",
      "Epoch 88/100\n",
      "16/16 - 0s - loss: 5.6311 - val_loss: 6.5629\n",
      "Epoch 89/100\n",
      "16/16 - 0s - loss: 5.6309 - val_loss: 6.5627\n",
      "Epoch 90/100\n",
      "16/16 - 0s - loss: 5.6309 - val_loss: 6.5626\n",
      "Epoch 91/100\n",
      "16/16 - 0s - loss: 5.6308 - val_loss: 6.5625\n",
      "Epoch 92/100\n",
      "16/16 - 0s - loss: 5.6307 - val_loss: 6.5624\n",
      "Epoch 93/100\n",
      "16/16 - 0s - loss: 5.6306 - val_loss: 6.5623\n",
      "Epoch 94/100\n",
      "16/16 - 0s - loss: 5.6305 - val_loss: 6.5622\n",
      "Epoch 95/100\n",
      "16/16 - 0s - loss: 5.6304 - val_loss: 6.5620\n",
      "Epoch 96/100\n",
      "16/16 - 0s - loss: 5.6303 - val_loss: 6.5619\n",
      "Epoch 97/100\n",
      "16/16 - 0s - loss: 5.6302 - val_loss: 6.5618\n",
      "Epoch 98/100\n",
      "16/16 - 0s - loss: 5.6301 - val_loss: 6.5617\n",
      "Epoch 99/100\n",
      "16/16 - 0s - loss: 5.6300 - val_loss: 6.5616\n",
      "Epoch 100/100\n",
      "16/16 - 0s - loss: 5.6300 - val_loss: 6.5615\n"
     ]
    },
    {
     "data": {
      "text/plain": [
       "<tensorflow.python.keras.callbacks.History at 0x2595d583c88>"
      ]
     },
     "execution_count": 18,
     "metadata": {},
     "output_type": "execute_result"
    }
   ],
   "source": [
    "# Train it\n",
    "MLP.fit(x=x_train, y=y_train, batch_size=8, epochs=100, verbose=2, validation_split=0.1)"
   ]
  },
  {
   "cell_type": "code",
   "execution_count": 19,
   "metadata": {
    "colab": {
     "base_uri": "https://localhost:8080/",
     "height": 334
    },
    "id": "ke48v-Am2Jsz",
    "outputId": "a13b1ed0-af03-46f7-bebc-1bb80b5f3e33"
   },
   "outputs": [
    {
     "data": {
      "image/png": "[encoded data removed]",
      "text/plain": [
       "<Figure size 864x360 with 1 Axes>"
      ]
     },
     "metadata": {
      "needs_background": "light"
     },
     "output_type": "display_data"
    }
   ],
   "source": [
    "# Plot loss (The object MLP keeps track of the training and validation performance)\n",
    "plt.figure(figsize=(12, 5))\n",
    "plt.plot(MLP.history.history['loss'], label='Training', linewidth=2)\n",
    "plt.plot(MLP.history.history['val_loss'], label='Validation', linewidth=2)\n",
    "plt.legend()\n",
    "plt.xlabel('Epoch')\n",
    "plt.ylabel('Loss')\n",
    "plt.grid(True)\n",
    "plt.show()"
   ]
  },
  {
   "cell_type": "code",
   "execution_count": 20,
   "metadata": {
    "colab": {
     "base_uri": "https://localhost:8080/"
    },
    "id": "pE6qPetP2ywl",
    "outputId": "75516508-e179-4524-be04-70267090848c"
   },
   "outputs": [
    {
     "name": "stdout",
     "output_type": "stream",
     "text": [
      "Weights:  (2, 32)\tBiases:   (32,)\n",
      "Weights:  (32, 64)\tBiases:   (64,)\n",
      "Weights:  (64, 32)\tBiases:   (32,)\n",
      "Weights:  (32, 2)\tBiases:   (2,)\n"
     ]
    }
   ],
   "source": [
    "# Obtain weights and biases of the hidden layer\n",
    "for layer in MLP.layers[1:]:\n",
    "  w, b = layer.get_weights()\n",
    "  print(\"Weights: \", w.shape, end='\\t') #print(w)\n",
    "  print(\"Biases:  \", b.shape) #print(b)"
   ]
  },
  {
   "cell_type": "code",
   "execution_count": 21,
   "metadata": {
    "colab": {
     "base_uri": "https://localhost:8080/"
    },
    "id": "PcSe0ybzbWM7",
    "outputId": "8404f382-3a50-468e-89b2-dd9a457e2346"
   },
   "outputs": [
    {
     "data": {
      "text/plain": [
       "5.135266304016113"
      ]
     },
     "execution_count": 21,
     "metadata": {},
     "output_type": "execute_result"
    }
   ],
   "source": [
    "# Use the trained model to compute the average test loss\n",
    "MLP.evaluate(x=x_test, y=y_test, verbose=False)"
   ]
  },
  {
   "cell_type": "code",
   "execution_count": 22,
   "metadata": {
    "colab": {
     "base_uri": "https://localhost:8080/"
    },
    "id": "WgIBxyqobWNA",
    "outputId": "99797e59-b7f0-410c-e4ff-199448ba3781"
   },
   "outputs": [
    {
     "name": "stdout",
     "output_type": "stream",
     "text": [
      "(15, 2)\n"
     ]
    }
   ],
   "source": [
    "# Now generate the predictions on the test set\n",
    "y_test_hat = MLP.predict(x=x_test)\n",
    "print(y_test_hat.shape)"
   ]
  },
  {
   "cell_type": "code",
   "execution_count": 23,
   "metadata": {
    "colab": {
     "base_uri": "https://localhost:8080/",
     "height": 295
    },
    "id": "fgU_z-yiRus-",
    "outputId": "8edd3b03-40a6-40cc-a957-73a74f8f163e"
   },
   "outputs": [
    {
     "data": {
      "image/png": "[encoded data removed]",
      "text/plain": [
       "<Figure size 432x288 with 1 Axes>"
      ]
     },
     "metadata": {
      "needs_background": "light"
     },
     "output_type": "display_data"
    }
   ],
   "source": [
    "# Plot y_test_hat\n",
    "plt.scatter(y_test[l_test==0, 0], y_test[l_test==0, 1], c='b', label='set y')\n",
    "plt.scatter(y_test[l_test==1, 0], y_test[l_test==1, 1], c='r', label='ver y')\n",
    "plt.scatter(y_test[l_test==2, 0], y_test[l_test==2, 1], c='g', label='vir y')\n",
    "\n",
    "plt.scatter(y_test_hat[l_test==0, 0], y_test_hat[l_test==0, 1], c='b', marker='+', label='set y_h')\n",
    "plt.scatter(y_test_hat[l_test==1, 0], y_test_hat[l_test==1, 1], c='r', marker='+', label='ver y_h')\n",
    "plt.scatter(y_test_hat[l_test==2, 0], y_test_hat[l_test==2, 1], c='g', marker='+', label='vir y_h')\n",
    "\n",
    "plt.legend()\n",
    "plt.grid(True)\n",
    "plt.xlabel('sepal length')\n",
    "plt.ylabel('sepal width')\n",
    "plt.title('Test set and its prediction')\n",
    "plt.show()"
   ]
  },
  {
   "cell_type": "code",
   "execution_count": 24,
   "metadata": {
    "id": "ostTTvo_7A6q"
   },
   "outputs": [],
   "source": [
    "# Auxiliar function to create an MLP\n",
    "def create_MLP(n_units=[2, 1], activations=None, last_activation=None):\n",
    "  h = i = Input(shape=(n_units[0]))\n",
    "  for units in n_units[1:-1]:\n",
    "    h = Dense(units=units, activation=activations)(h)\n",
    "  o = Dense(units=n_units[-1], activation=last_activation)(h)\n",
    "  return Model(inputs=i, outputs=o)"
   ]
  },
  {
   "cell_type": "code",
   "execution_count": 25,
   "metadata": {
    "colab": {
     "base_uri": "https://localhost:8080/"
    },
    "id": "zN_Vj0e2568J",
    "outputId": "5ce48ea3-4afc-4c9d-fb0a-5d133bb5e084"
   },
   "outputs": [
    {
     "name": "stdout",
     "output_type": "stream",
     "text": [
      "Run   1 -- Train loss: 1.8148; Test loss: 1.4685\n",
      "Run   2 -- Train loss: 9.6823; Test loss: 9.0270\n",
      "Run   3 -- Train loss: 9.6823; Test loss: 9.0270\n",
      "Run   4 -- Train loss: 1.8484; Test loss: 1.4989\n",
      "Run   5 -- Train loss: 2.4183; Test loss: 2.1171\n",
      "Run   6 -- Train loss: 9.6823; Test loss: 9.0270\n",
      "Run   7 -- Train loss: 9.6823; Test loss: 9.0270\n",
      "Run   8 -- Train loss: 9.6823; Test loss: 9.0270\n",
      "Run   9 -- Train loss: 8.9630; Test loss: 8.2815\n",
      "Run  10 -- Train loss: 8.9592; Test loss: 8.2778\n",
      "Average --  train loss: 7.2416 +- 3.4278;  test loss: 6.6779 +- 3.2785\n"
     ]
    }
   ],
   "source": [
    "# Corre el experimento 100 veces y registra el desempeño promedio y el tiempo de ejecución\n",
    "loss = np.zeros((10, 2))\n",
    "for ind in range(10):\n",
    "  MLP = create_MLP([2, 32, 16, 8, 2], activations='sigmoid', last_activation='relu')\n",
    "  MLP.compile(optimizer='sgd', loss='mse')\n",
    "  MLP.fit(x=x_train, y=y_train, batch_size=8, epochs=100, verbose=0, validation_split=0.2)\n",
    "  loss[ind, 0] = MLP.evaluate(x=x_train, y=y_train, verbose=False)\n",
    "  loss[ind, 1] = MLP.evaluate(x=x_test, y=y_test, verbose=False)\n",
    "  print(f\"Run {ind+1:3d} -- \", end='')\n",
    "  print(f\"Train loss: {loss[ind, 0]:6.4f}\", end='; ')\n",
    "  print(f\"Test loss: {loss[ind, 1]:6.4f}\")\n",
    "\n",
    "print(\"Average -- \", end='')\n",
    "print(f\" train loss: {loss[:, 0].mean():6.4f} +- {loss[:, 0].std():6.4f}\", end='; ')\n",
    "print(f\" test loss: {loss[:, 1].mean():6.4f} +- {loss[:, 1].std():6.4f}\")"
   ]
  },
  {
   "cell_type": "code",
   "execution_count": null,
   "metadata": {
    "id": "9tjN--xD7TsX"
   },
   "outputs": [],
   "source": []
  },
  {
   "cell_type": "code",
   "execution_count": null,
   "metadata": {},
   "outputs": [],
   "source": []
  }
 ],
 "metadata": {
  "colab": {
   "collapsed_sections": [],
   "include_colab_link": true,
   "name": "DL_02_MLP.ipynb",
   "provenance": []
  },
  "kernelspec": {
   "display_name": "Python 3",
   "language": "python",
   "name": "python3"
  },
  "language_info": {
   "codemirror_mode": {
    "name": "ipython",
    "version": 3
   },
   "file_extension": ".py",
   "mimetype": "text/x-python",
   "name": "python",
   "nbconvert_exporter": "python",
   "pygments_lexer": "ipython3",
   "version": "3.7.6"
  }
 },
 "nbformat": 4,
 "nbformat_minor": 4
}
