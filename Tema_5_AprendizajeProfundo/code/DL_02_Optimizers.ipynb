{
 "cells": [
  {
   "cell_type": "markdown",
   "metadata": {
    "colab_type": "text",
    "id": "view-in-github"
   },
   "source": [
    "[![Open In Colab](https://colab.research.google.com/assets/colab-badge.svg)](https://colab.research.google.com/github/MauricioRR-Tec/AprendizajeAutomatico/blob/master/Tema_5_AprendizajeProfundo/code/DL_02_Optimizers.ipynb)"
   ]
  },
  {
   "cell_type": "code",
   "execution_count": 1,
   "metadata": {
    "id": "auaqKUAuFRwJ"
   },
   "outputs": [],
   "source": [
    "import numpy as np\n",
    "import pandas as pd\n",
    "import matplotlib.pyplot as plt"
   ]
  },
  {
   "cell_type": "code",
   "execution_count": 2,
   "metadata": {
    "id": "R7BOD99kHvAZ"
   },
   "outputs": [],
   "source": [
    "# Usaremos la base de datos: Beijing Multi-Site Air-Quality Data Data Set,\n",
    "# la cual puede ser obtenida desde https://archive.ics.uci.edu/ml/datasets/Beijing+Multi-Site+Air-Quality+Data\n",
    "# (revisar la página para más detalles sobre los datos)\n",
    "# Se ha proporcionado un archivo csv con la información obtenida de la estación\n",
    "# de monitoreo Aotizhongxin, el cual contiene 35,064 registros.\n",
    "\n",
    "# El objetivo es poder predecir la concetración de PM2.5 y de PM10 a partir de las\n",
    "# variables año, mes, día, hora, temperatura, presión, punto de rocío, \n",
    "# precipitación y velocidad del viento."
   ]
  },
  {
   "cell_type": "markdown",
   "metadata": {
    "id": "oN6aBWNOWrY7"
   },
   "source": [
    "# Part 1: Load data into Colab"
   ]
  },
  {
   "cell_type": "code",
   "execution_count": 5,
   "metadata": {
    "colab": {
     "base_uri": "https://localhost:8080/",
     "height": 443
    },
    "id": "JwhYkkpoGG8y",
    "outputId": "8fc8f574-e7ac-45fa-bd0e-2895813b7ae6"
   },
   "outputs": [
    {
     "data": {
      "text/html": [
       "<div>\n",
       "<style scoped>\n",
       "    .dataframe tbody tr th:only-of-type {\n",
       "        vertical-align: middle;\n",
       "    }\n",
       "\n",
       "    .dataframe tbody tr th {\n",
       "        vertical-align: top;\n",
       "    }\n",
       "\n",
       "    .dataframe thead th {\n",
       "        text-align: right;\n",
       "    }\n",
       "</style>\n",
       "<table border=\"1\" class=\"dataframe\">\n",
       "  <thead>\n",
       "    <tr style=\"text-align: right;\">\n",
       "      <th></th>\n",
       "      <th>No</th>\n",
       "      <th>year</th>\n",
       "      <th>month</th>\n",
       "      <th>day</th>\n",
       "      <th>hour</th>\n",
       "      <th>PM2.5</th>\n",
       "      <th>PM10</th>\n",
       "      <th>SO2</th>\n",
       "      <th>NO2</th>\n",
       "      <th>CO</th>\n",
       "      <th>O3</th>\n",
       "      <th>TEMP</th>\n",
       "      <th>PRES</th>\n",
       "      <th>DEWP</th>\n",
       "      <th>RAIN</th>\n",
       "      <th>wd</th>\n",
       "      <th>WSPM</th>\n",
       "      <th>station</th>\n",
       "    </tr>\n",
       "  </thead>\n",
       "  <tbody>\n",
       "    <tr>\n",
       "      <th>0</th>\n",
       "      <td>1</td>\n",
       "      <td>2013</td>\n",
       "      <td>3</td>\n",
       "      <td>1</td>\n",
       "      <td>0</td>\n",
       "      <td>4.0</td>\n",
       "      <td>4.0</td>\n",
       "      <td>4.0</td>\n",
       "      <td>7.0</td>\n",
       "      <td>300.0</td>\n",
       "      <td>77.0</td>\n",
       "      <td>-0.7</td>\n",
       "      <td>1023.0</td>\n",
       "      <td>-18.8</td>\n",
       "      <td>0.0</td>\n",
       "      <td>NNW</td>\n",
       "      <td>4.4</td>\n",
       "      <td>Aotizhongxin</td>\n",
       "    </tr>\n",
       "    <tr>\n",
       "      <th>1</th>\n",
       "      <td>2</td>\n",
       "      <td>2013</td>\n",
       "      <td>3</td>\n",
       "      <td>1</td>\n",
       "      <td>1</td>\n",
       "      <td>8.0</td>\n",
       "      <td>8.0</td>\n",
       "      <td>4.0</td>\n",
       "      <td>7.0</td>\n",
       "      <td>300.0</td>\n",
       "      <td>77.0</td>\n",
       "      <td>-1.1</td>\n",
       "      <td>1023.2</td>\n",
       "      <td>-18.2</td>\n",
       "      <td>0.0</td>\n",
       "      <td>N</td>\n",
       "      <td>4.7</td>\n",
       "      <td>Aotizhongxin</td>\n",
       "    </tr>\n",
       "    <tr>\n",
       "      <th>2</th>\n",
       "      <td>3</td>\n",
       "      <td>2013</td>\n",
       "      <td>3</td>\n",
       "      <td>1</td>\n",
       "      <td>2</td>\n",
       "      <td>7.0</td>\n",
       "      <td>7.0</td>\n",
       "      <td>5.0</td>\n",
       "      <td>10.0</td>\n",
       "      <td>300.0</td>\n",
       "      <td>73.0</td>\n",
       "      <td>-1.1</td>\n",
       "      <td>1023.5</td>\n",
       "      <td>-18.2</td>\n",
       "      <td>0.0</td>\n",
       "      <td>NNW</td>\n",
       "      <td>5.6</td>\n",
       "      <td>Aotizhongxin</td>\n",
       "    </tr>\n",
       "    <tr>\n",
       "      <th>3</th>\n",
       "      <td>4</td>\n",
       "      <td>2013</td>\n",
       "      <td>3</td>\n",
       "      <td>1</td>\n",
       "      <td>3</td>\n",
       "      <td>6.0</td>\n",
       "      <td>6.0</td>\n",
       "      <td>11.0</td>\n",
       "      <td>11.0</td>\n",
       "      <td>300.0</td>\n",
       "      <td>72.0</td>\n",
       "      <td>-1.4</td>\n",
       "      <td>1024.5</td>\n",
       "      <td>-19.4</td>\n",
       "      <td>0.0</td>\n",
       "      <td>NW</td>\n",
       "      <td>3.1</td>\n",
       "      <td>Aotizhongxin</td>\n",
       "    </tr>\n",
       "    <tr>\n",
       "      <th>4</th>\n",
       "      <td>5</td>\n",
       "      <td>2013</td>\n",
       "      <td>3</td>\n",
       "      <td>1</td>\n",
       "      <td>4</td>\n",
       "      <td>3.0</td>\n",
       "      <td>3.0</td>\n",
       "      <td>12.0</td>\n",
       "      <td>12.0</td>\n",
       "      <td>300.0</td>\n",
       "      <td>72.0</td>\n",
       "      <td>-2.0</td>\n",
       "      <td>1025.2</td>\n",
       "      <td>-19.5</td>\n",
       "      <td>0.0</td>\n",
       "      <td>N</td>\n",
       "      <td>2.0</td>\n",
       "      <td>Aotizhongxin</td>\n",
       "    </tr>\n",
       "    <tr>\n",
       "      <th>...</th>\n",
       "      <td>...</td>\n",
       "      <td>...</td>\n",
       "      <td>...</td>\n",
       "      <td>...</td>\n",
       "      <td>...</td>\n",
       "      <td>...</td>\n",
       "      <td>...</td>\n",
       "      <td>...</td>\n",
       "      <td>...</td>\n",
       "      <td>...</td>\n",
       "      <td>...</td>\n",
       "      <td>...</td>\n",
       "      <td>...</td>\n",
       "      <td>...</td>\n",
       "      <td>...</td>\n",
       "      <td>...</td>\n",
       "      <td>...</td>\n",
       "      <td>...</td>\n",
       "    </tr>\n",
       "    <tr>\n",
       "      <th>35059</th>\n",
       "      <td>35060</td>\n",
       "      <td>2017</td>\n",
       "      <td>2</td>\n",
       "      <td>28</td>\n",
       "      <td>19</td>\n",
       "      <td>12.0</td>\n",
       "      <td>29.0</td>\n",
       "      <td>5.0</td>\n",
       "      <td>35.0</td>\n",
       "      <td>400.0</td>\n",
       "      <td>95.0</td>\n",
       "      <td>12.5</td>\n",
       "      <td>1013.5</td>\n",
       "      <td>-16.2</td>\n",
       "      <td>0.0</td>\n",
       "      <td>NW</td>\n",
       "      <td>2.4</td>\n",
       "      <td>Aotizhongxin</td>\n",
       "    </tr>\n",
       "    <tr>\n",
       "      <th>35060</th>\n",
       "      <td>35061</td>\n",
       "      <td>2017</td>\n",
       "      <td>2</td>\n",
       "      <td>28</td>\n",
       "      <td>20</td>\n",
       "      <td>13.0</td>\n",
       "      <td>37.0</td>\n",
       "      <td>7.0</td>\n",
       "      <td>45.0</td>\n",
       "      <td>500.0</td>\n",
       "      <td>81.0</td>\n",
       "      <td>11.6</td>\n",
       "      <td>1013.6</td>\n",
       "      <td>-15.1</td>\n",
       "      <td>0.0</td>\n",
       "      <td>WNW</td>\n",
       "      <td>0.9</td>\n",
       "      <td>Aotizhongxin</td>\n",
       "    </tr>\n",
       "    <tr>\n",
       "      <th>35061</th>\n",
       "      <td>35062</td>\n",
       "      <td>2017</td>\n",
       "      <td>2</td>\n",
       "      <td>28</td>\n",
       "      <td>21</td>\n",
       "      <td>16.0</td>\n",
       "      <td>37.0</td>\n",
       "      <td>10.0</td>\n",
       "      <td>66.0</td>\n",
       "      <td>700.0</td>\n",
       "      <td>58.0</td>\n",
       "      <td>10.8</td>\n",
       "      <td>1014.2</td>\n",
       "      <td>-13.3</td>\n",
       "      <td>0.0</td>\n",
       "      <td>NW</td>\n",
       "      <td>1.1</td>\n",
       "      <td>Aotizhongxin</td>\n",
       "    </tr>\n",
       "    <tr>\n",
       "      <th>35062</th>\n",
       "      <td>35063</td>\n",
       "      <td>2017</td>\n",
       "      <td>2</td>\n",
       "      <td>28</td>\n",
       "      <td>22</td>\n",
       "      <td>21.0</td>\n",
       "      <td>44.0</td>\n",
       "      <td>12.0</td>\n",
       "      <td>87.0</td>\n",
       "      <td>700.0</td>\n",
       "      <td>35.0</td>\n",
       "      <td>10.5</td>\n",
       "      <td>1014.4</td>\n",
       "      <td>-12.9</td>\n",
       "      <td>0.0</td>\n",
       "      <td>NNW</td>\n",
       "      <td>1.2</td>\n",
       "      <td>Aotizhongxin</td>\n",
       "    </tr>\n",
       "    <tr>\n",
       "      <th>35063</th>\n",
       "      <td>35064</td>\n",
       "      <td>2017</td>\n",
       "      <td>2</td>\n",
       "      <td>28</td>\n",
       "      <td>23</td>\n",
       "      <td>19.0</td>\n",
       "      <td>31.0</td>\n",
       "      <td>10.0</td>\n",
       "      <td>79.0</td>\n",
       "      <td>600.0</td>\n",
       "      <td>42.0</td>\n",
       "      <td>8.6</td>\n",
       "      <td>1014.1</td>\n",
       "      <td>-15.9</td>\n",
       "      <td>0.0</td>\n",
       "      <td>NNE</td>\n",
       "      <td>1.3</td>\n",
       "      <td>Aotizhongxin</td>\n",
       "    </tr>\n",
       "  </tbody>\n",
       "</table>\n",
       "<p>31815 rows × 18 columns</p>\n",
       "</div>"
      ],
      "text/plain": [
       "          No  year  month  day  hour  PM2.5  PM10   SO2   NO2     CO    O3  \\\n",
       "0          1  2013      3    1     0    4.0   4.0   4.0   7.0  300.0  77.0   \n",
       "1          2  2013      3    1     1    8.0   8.0   4.0   7.0  300.0  77.0   \n",
       "2          3  2013      3    1     2    7.0   7.0   5.0  10.0  300.0  73.0   \n",
       "3          4  2013      3    1     3    6.0   6.0  11.0  11.0  300.0  72.0   \n",
       "4          5  2013      3    1     4    3.0   3.0  12.0  12.0  300.0  72.0   \n",
       "...      ...   ...    ...  ...   ...    ...   ...   ...   ...    ...   ...   \n",
       "35059  35060  2017      2   28    19   12.0  29.0   5.0  35.0  400.0  95.0   \n",
       "35060  35061  2017      2   28    20   13.0  37.0   7.0  45.0  500.0  81.0   \n",
       "35061  35062  2017      2   28    21   16.0  37.0  10.0  66.0  700.0  58.0   \n",
       "35062  35063  2017      2   28    22   21.0  44.0  12.0  87.0  700.0  35.0   \n",
       "35063  35064  2017      2   28    23   19.0  31.0  10.0  79.0  600.0  42.0   \n",
       "\n",
       "       TEMP    PRES  DEWP  RAIN   wd  WSPM       station  \n",
       "0      -0.7  1023.0 -18.8   0.0  NNW   4.4  Aotizhongxin  \n",
       "1      -1.1  1023.2 -18.2   0.0    N   4.7  Aotizhongxin  \n",
       "2      -1.1  1023.5 -18.2   0.0  NNW   5.6  Aotizhongxin  \n",
       "3      -1.4  1024.5 -19.4   0.0   NW   3.1  Aotizhongxin  \n",
       "4      -2.0  1025.2 -19.5   0.0    N   2.0  Aotizhongxin  \n",
       "...     ...     ...   ...   ...  ...   ...           ...  \n",
       "35059  12.5  1013.5 -16.2   0.0   NW   2.4  Aotizhongxin  \n",
       "35060  11.6  1013.6 -15.1   0.0  WNW   0.9  Aotizhongxin  \n",
       "35061  10.8  1014.2 -13.3   0.0   NW   1.1  Aotizhongxin  \n",
       "35062  10.5  1014.4 -12.9   0.0  NNW   1.2  Aotizhongxin  \n",
       "35063   8.6  1014.1 -15.9   0.0  NNE   1.3  Aotizhongxin  \n",
       "\n",
       "[31815 rows x 18 columns]"
      ]
     },
     "execution_count": 5,
     "metadata": {},
     "output_type": "execute_result"
    }
   ],
   "source": [
    "# Import file and store it in a data frame\n",
    "import io\n",
    "df = pd.read_csv(\"../data/PRSA_Aotizhongxin.csv\") # Cambia al nombre del archivo que cargues\n",
    "df.dropna(inplace=True)\n",
    "df\n",
    "# Quedan 31,815 registros despues de eliminar NaN's"
   ]
  },
  {
   "cell_type": "markdown",
   "metadata": {
    "id": "7AnH6VY-W09n"
   },
   "source": [
    "# Part 2: Format data and split it into numpy arrays"
   ]
  },
  {
   "cell_type": "code",
   "execution_count": 6,
   "metadata": {
    "id": "OaRBLIHNdrSN"
   },
   "outputs": [],
   "source": [
    "# AUX function to put categorical data into one-hot encoding format\n",
    "from sklearn.preprocessing import OneHotEncoder\n",
    "def winddir_to_categorical(winddir):\n",
    "  enc = OneHotEncoder(sparse=False)\n",
    "  WD = enc.fit_transform(winddir)\n",
    "  print(\"== categories:\", enc.categories_, \"==\")\n",
    "  return WD"
   ]
  },
  {
   "cell_type": "code",
   "execution_count": 7,
   "metadata": {
    "colab": {
     "base_uri": "https://localhost:8080/",
     "height": 681
    },
    "id": "dFhZ5cEGSk2e",
    "outputId": "0363fb6d-718b-4956-be3d-4da2ec44f437"
   },
   "outputs": [
    {
     "name": "stdout",
     "output_type": "stream",
     "text": [
      "== categories: [array(['E', 'ENE', 'ESE', 'N', 'NE', 'NNE', 'NNW', 'NW', 'S', 'SE', 'SSE',\n",
      "       'SSW', 'SW', 'W', 'WNW', 'WSW'], dtype=object)] ==\n",
      "Input values X with shape (31815, 25). With values\n",
      " min = [ 2.013e+03  1.000e+00  1.000e+00  0.000e+00 -1.680e+01  9.859e+02\n",
      " -3.530e+01  0.000e+00  0.000e+00  0.000e+00  0.000e+00  0.000e+00\n",
      "  0.000e+00  0.000e+00  0.000e+00  0.000e+00  0.000e+00  0.000e+00\n",
      "  0.000e+00  0.000e+00  0.000e+00  0.000e+00  0.000e+00  0.000e+00\n",
      "  0.000e+00]\n",
      " mean = [2.01471491e+03 6.40188590e+00 1.55785636e+01 1.16247996e+01\n",
      " 1.37756108e+01 1.01180038e+03 3.24110640e+00 6.82351092e-02\n",
      " 1.72047148e+00 7.51532296e-02 1.12619833e-01 5.05421971e-02\n",
      " 5.86830112e-02 1.43988685e-01 6.99984284e-02 4.45073079e-02\n",
      " 5.37482320e-02 3.81581015e-02 3.91010530e-02 2.96715386e-02\n",
      " 6.03488920e-02 9.57724344e-02 3.36005029e-02 3.14002829e-02\n",
      " 6.27062706e-02]\n",
      " stdd = [ 1.16251735  3.41679338  8.79481542  6.92676545 11.36885668 10.33870697\n",
      " 13.66764783  0.83747595  1.20422141  0.26363843  0.31612752  0.21906091\n",
      "  0.23503046  0.35107826  0.25514437  0.20621932  0.2255202   0.19157782\n",
      "  0.1938354   0.16967952  0.23813211  0.29427891  0.18019853  0.17439698\n",
      "  0.2424339 ]\n",
      " max = [2.017e+03 1.200e+01 3.100e+01 2.300e+01 4.050e+01 1.042e+03 2.850e+01\n",
      " 4.640e+01 1.120e+01 1.000e+00 1.000e+00 1.000e+00 1.000e+00 1.000e+00\n",
      " 1.000e+00 1.000e+00 1.000e+00 1.000e+00 1.000e+00 1.000e+00 1.000e+00\n",
      " 1.000e+00 1.000e+00 1.000e+00 1.000e+00]\n"
     ]
    },
    {
     "data": {
      "image/png": "[encoded data removed]",
      "text/plain": [
       "<Figure size 432x288 with 1 Axes>"
      ]
     },
     "metadata": {
      "needs_background": "light"
     },
     "output_type": "display_data"
    }
   ],
   "source": [
    "# Extract input features and convert them to a numpy array\n",
    "X = df[['year', 'month', 'day', 'hour', 'TEMP', 'PRES', 'DEWP', 'RAIN', 'WSPM' ]].to_numpy()\n",
    "WD = winddir_to_categorical(df[['wd']])\n",
    "X = np.concatenate((X, WD), axis=1)\n",
    "\n",
    "print(f\"Input values X with shape {X.shape}. With values\")\n",
    "\n",
    "\n",
    "print(f\" min = {X.min(axis=0)}\")\n",
    "print(f\" mean = {X.mean(axis=0)}\")\n",
    "print(f\" stdd = {X.std(axis=0)}\")\n",
    "print(f\" max = {X.max(axis=0)}\")\n",
    "\n",
    "plt.boxplot(X)\n",
    "plt.show()"
   ]
  },
  {
   "cell_type": "code",
   "execution_count": 8,
   "metadata": {
    "colab": {
     "base_uri": "https://localhost:8080/",
     "height": 716
    },
    "id": "MwImDcVGg5O7",
    "outputId": "d2c3ac51-5f81-4e7e-b342-3de471b1db3d"
   },
   "outputs": [
    {
     "name": "stdout",
     "output_type": "stream",
     "text": [
      "[2.01471491e+03 6.40188590e+00 1.55785636e+01 1.16247996e+01\n",
      " 1.37756108e+01 1.01180038e+03 3.24110640e+00 6.82351092e-02\n",
      " 1.72047148e+00 7.51532296e-02 1.12619833e-01 5.05421971e-02\n",
      " 5.86830112e-02 1.43988685e-01 6.99984284e-02 4.45073079e-02\n",
      " 5.37482320e-02 3.81581015e-02 3.91010530e-02 2.96715386e-02\n",
      " 6.03488920e-02 9.57724344e-02 3.36005029e-02 3.14002829e-02\n",
      " 6.27062706e-02]\n",
      " min = [-1.47517312 -1.58098114 -1.65763156 -1.67824358 -2.68941826 -2.50518608\n",
      " -2.81987851 -0.0814771  -1.42870029 -0.28506174 -0.35624812 -0.23072212\n",
      " -0.24968258 -0.41013273 -0.27434832 -0.21582511 -0.23833001 -0.19917808\n",
      " -0.20172298 -0.17486812 -0.2534261  -0.32544784 -0.1864638  -0.18005062\n",
      " -0.25865307]\n",
      " mean = [ 2.53620974e-13 -5.20961380e-15 -1.40856471e-15 -1.27022216e-17\n",
      " -1.02426039e-14 -1.09446446e-12 -5.83953233e-16  2.22055074e-15\n",
      "  1.58522417e-14  1.72582712e-14 -4.05981498e-15  1.36230193e-14\n",
      "  1.06470074e-14 -1.71220957e-14 -1.80721207e-14  1.59185533e-15\n",
      " -1.52863037e-14 -9.66857167e-16 -1.04650289e-14 -9.16496697e-17\n",
      "  7.44947610e-15 -1.07559691e-14 -7.01441105e-15 -7.47533943e-15\n",
      " -1.16311731e-14]\n",
      " stdd = [1. 1. 1. 1. 1. 1. 1. 1. 1. 1. 1. 1. 1. 1. 1. 1. 1. 1. 1. 1. 1. 1. 1. 1.\n",
      " 1.]\n",
      " max = [ 1.96563574  1.63841165  1.75346903  1.64220955  2.35066639  2.92102439\n",
      "  1.84807905 55.32309879  7.87191495  3.50801198  2.80703236  4.33421824\n",
      "  4.00508514  2.43823505  3.64500138  4.63338109  4.19586262  5.02063288\n",
      "  4.9572935   5.71859515  3.94592353  3.07268902  5.36297113  5.55399377\n",
      "  3.86618267]\n"
     ]
    },
    {
     "data": {
      "image/png": "[encoded data removed]",
      "text/plain": [
       "<Figure size 432x288 with 1 Axes>"
      ]
     },
     "metadata": {
      "needs_background": "light"
     },
     "output_type": "display_data"
    }
   ],
   "source": [
    "# Normalize (zero-center) and standardize (scale) input data\n",
    "from sklearn.preprocessing import StandardScaler\n",
    "scalerX = StandardScaler()\n",
    "X = scalerX.fit_transform(X)\n",
    "print(scalerX.mean_)\n",
    "\n",
    "print(f\" min = {X.min(axis=0)}\")\n",
    "print(f\" mean = {X.mean(axis=0)}\")\n",
    "print(f\" stdd = {X.std(axis=0)}\")\n",
    "print(f\" max = {X.max(axis=0)}\")\n",
    "\n",
    "plt.boxplot(X)\n",
    "plt.show()"
   ]
  },
  {
   "cell_type": "code",
   "execution_count": 9,
   "metadata": {
    "colab": {
     "base_uri": "https://localhost:8080/",
     "height": 352
    },
    "id": "dA2VIaEEHGwA",
    "outputId": "90e80213-c882-43c0-9739-5943fbeb627d"
   },
   "outputs": [
    {
     "name": "stdout",
     "output_type": "stream",
     "text": [
      "Target values Y with shape (31815, 2). With values\n",
      " min = [3. 2.]\n",
      " mean = [81.86363036 58.97633192]\n",
      " stdd = [80.44822547 37.06080184]\n",
      " max = [713. 290.]\n"
     ]
    },
    {
     "data": {
      "image/png": "[encoded data removed]",
      "text/plain": [
       "<Figure size 432x288 with 1 Axes>"
      ]
     },
     "metadata": {
      "needs_background": "light"
     },
     "output_type": "display_data"
    }
   ],
   "source": [
    "# Extract output features and convert them to a numpy array\n",
    "Y = df[['PM2.5', 'NO2']].to_numpy()\n",
    "\n",
    "print(f\"Target values Y with shape {Y.shape}. With values\")\n",
    "print(f\" min = {Y.min(axis=0)}\")\n",
    "print(f\" mean = {Y.mean(axis=0)}\")\n",
    "print(f\" stdd = {Y.std(axis=0)}\")\n",
    "print(f\" max = {Y.max(axis=0)}\")\n",
    "\n",
    "plt.boxplot(Y)\n",
    "plt.show()"
   ]
  },
  {
   "cell_type": "code",
   "execution_count": 10,
   "metadata": {
    "colab": {
     "base_uri": "https://localhost:8080/",
     "height": 352
    },
    "id": "d4nkvcV3MmC9",
    "outputId": "993415dd-3c6b-481d-cde9-fcbb4877d2a7"
   },
   "outputs": [
    {
     "name": "stdout",
     "output_type": "stream",
     "text": [
      "[81.86363036 58.97633192]\n",
      " min = [-0.98030292 -1.53737451]\n",
      " mean = [-3.21603501e-17  1.42934889e-17]\n",
      " stdd = [1. 1.]\n",
      " max = [7.84524911 6.23363923]\n"
     ]
    },
    {
     "data": {
      "image/png": "[encoded data removed]",
      "text/plain": [
       "<Figure size 432x288 with 1 Axes>"
      ]
     },
     "metadata": {
      "needs_background": "light"
     },
     "output_type": "display_data"
    }
   ],
   "source": [
    "# Normalize (zero-center) and standardize (scale) output data\n",
    "scalerY = StandardScaler()\n",
    "Y = scalerY.fit_transform(Y)\n",
    "print(scalerY.mean_)\n",
    "\n",
    "print(f\" min = {Y.min(axis=0)}\")\n",
    "print(f\" mean = {Y.mean(axis=0)}\")\n",
    "print(f\" stdd = {Y.std(axis=0)}\")\n",
    "print(f\" max = {Y.max(axis=0)}\")\n",
    "\n",
    "plt.boxplot(Y)\n",
    "plt.show()"
   ]
  },
  {
   "cell_type": "code",
   "execution_count": 11,
   "metadata": {
    "colab": {
     "base_uri": "https://localhost:8080/"
    },
    "id": "zAKGr2d4W_OU",
    "outputId": "7fea58f3-3543-419c-ab31-a03e585776f5"
   },
   "outputs": [
    {
     "name": "stdout",
     "output_type": "stream",
     "text": [
      "(30224, 25)\n",
      "(30224, 2)\n",
      "(1591, 25)\n",
      "(1591, 2)\n"
     ]
    }
   ],
   "source": [
    "# Split data into train+val and test sets\n",
    "from sklearn.model_selection import train_test_split\n",
    "x_train, x_test, y_train, y_test = train_test_split(X, Y, test_size=0.05)\n",
    "\n",
    "print(x_train.shape)\n",
    "print(y_train.shape)\n",
    "print(x_test.shape)\n",
    "print(y_test.shape)"
   ]
  },
  {
   "cell_type": "code",
   "execution_count": 12,
   "metadata": {
    "colab": {
     "base_uri": "https://localhost:8080/",
     "height": 295
    },
    "id": "7dQRDsU4znyI",
    "outputId": "88b10de3-6507-464c-c58b-c336b850dbd1"
   },
   "outputs": [
    {
     "data": {
      "image/png": "[encoded data removed]",
      "text/plain": [
       "<Figure size 432x288 with 1 Axes>"
      ]
     },
     "metadata": {
      "needs_background": "light"
     },
     "output_type": "display_data"
    }
   ],
   "source": [
    "# Plot y_test\n",
    "# Esta gráfica es para ver sólo si los sets de entrenamiento y test cubren las mismas\n",
    "# áreas (¿tienen la misma distribución?). No se espera que los puntos coincidan ya que\n",
    "# son dos sets distintos.\n",
    "plt.scatter(y_train[:, 0], y_train[:, 1], c='r', s=2, label='y_train')\n",
    "plt.scatter(y_test[:, 0], y_test[:, 1], c='b', s=2, label='y_test')\n",
    "\n",
    "plt.legend()\n",
    "plt.grid(True)\n",
    "plt.xlabel('PM2.5')\n",
    "plt.ylabel('NO2')\n",
    "plt.title('Outputs')\n",
    "plt.show()"
   ]
  },
  {
   "cell_type": "markdown",
   "metadata": {
    "id": "dreChfyNYqsB"
   },
   "source": [
    "# Part 3: Create DNN model and train it"
   ]
  },
  {
   "cell_type": "code",
   "execution_count": 13,
   "metadata": {
    "id": "JO90QIV_HZyX"
   },
   "outputs": [
    {
     "name": "stderr",
     "output_type": "stream",
     "text": [
      "C:\\Anaconda3\\lib\\site-packages\\tensorboard\\compat\\tensorflow_stub\\dtypes.py:541: FutureWarning: Passing (type, 1) or '1type' as a synonym of type is deprecated; in a future version of numpy, it will be understood as (type, (1,)) / '(1,)type'.\n",
      "  _np_qint8 = np.dtype([(\"qint8\", np.int8, 1)])\n",
      "C:\\Anaconda3\\lib\\site-packages\\tensorboard\\compat\\tensorflow_stub\\dtypes.py:542: FutureWarning: Passing (type, 1) or '1type' as a synonym of type is deprecated; in a future version of numpy, it will be understood as (type, (1,)) / '(1,)type'.\n",
      "  _np_quint8 = np.dtype([(\"quint8\", np.uint8, 1)])\n",
      "C:\\Anaconda3\\lib\\site-packages\\tensorboard\\compat\\tensorflow_stub\\dtypes.py:543: FutureWarning: Passing (type, 1) or '1type' as a synonym of type is deprecated; in a future version of numpy, it will be understood as (type, (1,)) / '(1,)type'.\n",
      "  _np_qint16 = np.dtype([(\"qint16\", np.int16, 1)])\n",
      "C:\\Anaconda3\\lib\\site-packages\\tensorboard\\compat\\tensorflow_stub\\dtypes.py:544: FutureWarning: Passing (type, 1) or '1type' as a synonym of type is deprecated; in a future version of numpy, it will be understood as (type, (1,)) / '(1,)type'.\n",
      "  _np_quint16 = np.dtype([(\"quint16\", np.uint16, 1)])\n",
      "C:\\Anaconda3\\lib\\site-packages\\tensorboard\\compat\\tensorflow_stub\\dtypes.py:545: FutureWarning: Passing (type, 1) or '1type' as a synonym of type is deprecated; in a future version of numpy, it will be understood as (type, (1,)) / '(1,)type'.\n",
      "  _np_qint32 = np.dtype([(\"qint32\", np.int32, 1)])\n",
      "C:\\Anaconda3\\lib\\site-packages\\tensorboard\\compat\\tensorflow_stub\\dtypes.py:550: FutureWarning: Passing (type, 1) or '1type' as a synonym of type is deprecated; in a future version of numpy, it will be understood as (type, (1,)) / '(1,)type'.\n",
      "  np_resource = np.dtype([(\"resource\", np.ubyte, 1)])\n"
     ]
    }
   ],
   "source": [
    "# tensorflow imports\n",
    "import tensorflow as tf\n",
    "from tensorflow.keras.models import Sequential\n",
    "from tensorflow.keras.layers import Input, Dense"
   ]
  },
  {
   "cell_type": "code",
   "execution_count": 14,
   "metadata": {
    "colab": {
     "base_uri": "https://localhost:8080/"
    },
    "id": "ENX7lCg3Ido4",
    "outputId": "d275f001-5a3d-4429-f431-5e10d10712e2"
   },
   "outputs": [
    {
     "name": "stdout",
     "output_type": "stream",
     "text": [
      "Model: \"sequential\"\n",
      "_________________________________________________________________\n",
      "Layer (type)                 Output Shape              Param #   \n",
      "=================================================================\n",
      "dense (Dense)                (None, 256)               6656      \n",
      "_________________________________________________________________\n",
      "dense_1 (Dense)              (None, 512)               131584    \n",
      "_________________________________________________________________\n",
      "dense_2 (Dense)              (None, 1024)              525312    \n",
      "_________________________________________________________________\n",
      "dense_3 (Dense)              (None, 512)               524800    \n",
      "_________________________________________________________________\n",
      "dense_4 (Dense)              (None, 256)               131328    \n",
      "_________________________________________________________________\n",
      "OUTPUT (Dense)               (None, 2)                 514       \n",
      "=================================================================\n",
      "Total params: 1,320,194\n",
      "Trainable params: 1,320,194\n",
      "Non-trainable params: 0\n",
      "_________________________________________________________________\n"
     ]
    }
   ],
   "source": [
    "# Create a Deep Network\n",
    "DNN = Sequential()\n",
    "DNN.add(Input(shape=X.shape[1:], name='INPUT'))\n",
    "\n",
    "DNN.add(Dense(units=256, activation='relu'))\n",
    "DNN.add(Dense(units=512, activation='relu'))\n",
    "DNN.add(Dense(units=1024, activation='relu'))\n",
    "DNN.add(Dense(units=512, activation='relu'))\n",
    "DNN.add(Dense(units=256, activation='relu'))\n",
    "\n",
    "DNN.add(Dense(units=Y.shape[1], activation='linear', name='OUTPUT'))\n",
    "\n",
    "DNN.summary()"
   ]
  },
  {
   "cell_type": "code",
   "execution_count": 15,
   "metadata": {
    "id": "Y8TlQWPOVfxw"
   },
   "outputs": [],
   "source": [
    "# Define training parameters\n",
    "#from tensorflow.keras.optimizers import SGD\n",
    "#sgd = SGD(learning_rate=0.02, momentum=0.6)\n",
    "#DNN.compile(optimizer=sgd, loss='mse')\n",
    "DNN.compile(optimizer='adam', loss='mse')"
   ]
  },
  {
   "cell_type": "code",
   "execution_count": 16,
   "metadata": {
    "colab": {
     "base_uri": "https://localhost:8080/"
    },
    "id": "cXaSP7HIVhTK",
    "outputId": "a95303cb-f96d-4f99-ae42-4c357d03fcc3"
   },
   "outputs": [
    {
     "name": "stdout",
     "output_type": "stream",
     "text": [
      "Epoch 1/200\n",
      "851/851 [==============================] - 6s 7ms/step - loss: 0.6252 - val_loss: 0.5312\n",
      "Epoch 2/200\n",
      "851/851 [==============================] - 6s 7ms/step - loss: 0.5182 - val_loss: 0.5096\n",
      "Epoch 3/200\n",
      "851/851 [==============================] - 6s 7ms/step - loss: 0.4694 - val_loss: 0.4396\n",
      "Epoch 4/200\n",
      "851/851 [==============================] - 6s 8ms/step - loss: 0.4255 - val_loss: 0.4224\n",
      "Epoch 5/200\n",
      "851/851 [==============================] - 6s 7ms/step - loss: 0.3923 - val_loss: 0.4011\n",
      "Epoch 6/200\n",
      "851/851 [==============================] - 6s 7ms/step - loss: 0.3630 - val_loss: 0.4045\n",
      "Epoch 7/200\n",
      "851/851 [==============================] - 6s 7ms/step - loss: 0.3396 - val_loss: 0.3818\n",
      "Epoch 8/200\n",
      "851/851 [==============================] - 6s 7ms/step - loss: 0.3324 - val_loss: 0.3576\n",
      "Epoch 9/200\n",
      "851/851 [==============================] - 6s 7ms/step - loss: 0.2992 - val_loss: 0.3447\n",
      "Epoch 10/200\n",
      "851/851 [==============================] - 5s 6ms/step - loss: 0.2810 - val_loss: 0.3384\n",
      "Epoch 11/200\n",
      "851/851 [==============================] - 6s 7ms/step - loss: 0.2667 - val_loss: 0.3255\n",
      "Epoch 12/200\n",
      "851/851 [==============================] - 5s 6ms/step - loss: 0.2518 - val_loss: 0.3063\n",
      "Epoch 13/200\n",
      "851/851 [==============================] - 5s 6ms/step - loss: 0.2370 - val_loss: 0.3238\n",
      "Epoch 14/200\n",
      "851/851 [==============================] - 6s 7ms/step - loss: 0.2433 - val_loss: 0.3220\n",
      "Epoch 15/200\n",
      "851/851 [==============================] - 5s 6ms/step - loss: 0.2114 - val_loss: 0.3243\n",
      "Epoch 16/200\n",
      "851/851 [==============================] - 6s 6ms/step - loss: 0.1990 - val_loss: 0.3000\n",
      "Epoch 17/200\n",
      "851/851 [==============================] - 6s 7ms/step - loss: 0.1879 - val_loss: 0.2850\n",
      "Epoch 18/200\n",
      "851/851 [==============================] - 5s 6ms/step - loss: 0.1842 - val_loss: 0.2864\n",
      "Epoch 19/200\n",
      "851/851 [==============================] - 5s 6ms/step - loss: 0.1700 - val_loss: 0.2967\n",
      "Epoch 20/200\n",
      "851/851 [==============================] - 6s 7ms/step - loss: 0.1555 - val_loss: 0.2902\n",
      "Epoch 21/200\n",
      "851/851 [==============================] - 5s 6ms/step - loss: 0.1501 - val_loss: 0.3352\n",
      "Epoch 22/200\n",
      "851/851 [==============================] - 6s 7ms/step - loss: 0.1549 - val_loss: 0.2750\n",
      "Epoch 23/200\n",
      "851/851 [==============================] - 6s 7ms/step - loss: 0.1351 - val_loss: 0.2627\n",
      "Epoch 24/200\n",
      "851/851 [==============================] - 5s 6ms/step - loss: 0.1360 - val_loss: 0.2908\n",
      "Epoch 25/200\n",
      "851/851 [==============================] - 5s 6ms/step - loss: 0.1271 - val_loss: 0.2966\n",
      "Epoch 26/200\n",
      "851/851 [==============================] - 6s 7ms/step - loss: 0.1199 - val_loss: 0.2670\n",
      "Epoch 27/200\n",
      "851/851 [==============================] - 5s 6ms/step - loss: 0.1159 - val_loss: 0.2845\n",
      "Epoch 28/200\n",
      "851/851 [==============================] - 6s 6ms/step - loss: 0.1111 - val_loss: 0.2710\n",
      "Epoch 29/200\n",
      "851/851 [==============================] - 6s 6ms/step - loss: 0.1075 - val_loss: 0.2697\n",
      "Epoch 30/200\n",
      "851/851 [==============================] - 5s 6ms/step - loss: 0.1059 - val_loss: 0.2796\n",
      "Epoch 31/200\n",
      "851/851 [==============================] - 6s 7ms/step - loss: 0.0954 - val_loss: 0.2757\n",
      "Epoch 32/200\n",
      "851/851 [==============================] - 5s 6ms/step - loss: 0.0941 - val_loss: 0.2797\n",
      "Epoch 33/200\n",
      "851/851 [==============================] - 5s 6ms/step - loss: 0.0908 - val_loss: 0.2587\n",
      "Epoch 34/200\n",
      "851/851 [==============================] - 6s 7ms/step - loss: 0.0873 - val_loss: 0.2966\n",
      "Epoch 35/200\n",
      "851/851 [==============================] - 5s 6ms/step - loss: 0.1053 - val_loss: 0.2633\n",
      "Epoch 36/200\n",
      "851/851 [==============================] - 5s 6ms/step - loss: 0.0789 - val_loss: 0.2632\n",
      "Epoch 37/200\n",
      "851/851 [==============================] - 6s 7ms/step - loss: 0.0759 - val_loss: 0.2668\n",
      "Epoch 38/200\n",
      "851/851 [==============================] - 5s 6ms/step - loss: 0.0741 - val_loss: 0.2703\n",
      "Epoch 39/200\n",
      "851/851 [==============================] - 5s 6ms/step - loss: 0.0821 - val_loss: 0.2614\n",
      "Epoch 40/200\n",
      "851/851 [==============================] - 6s 7ms/step - loss: 0.0747 - val_loss: 0.2643\n",
      "Epoch 41/200\n",
      "851/851 [==============================] - 5s 6ms/step - loss: 0.0776 - val_loss: 0.2677\n",
      "Epoch 42/200\n",
      "851/851 [==============================] - 5s 6ms/step - loss: 0.0635 - val_loss: 0.2622\n",
      "Epoch 43/200\n",
      "851/851 [==============================] - 6s 7ms/step - loss: 0.0721 - val_loss: 0.2545\n",
      "Epoch 44/200\n",
      "851/851 [==============================] - 6s 7ms/step - loss: 0.0678 - val_loss: 0.2636\n",
      "Epoch 45/200\n",
      "851/851 [==============================] - 6s 7ms/step - loss: 0.0643 - val_loss: 0.2548\n",
      "Epoch 46/200\n",
      "851/851 [==============================] - 6s 7ms/step - loss: 0.0584 - val_loss: 0.2599\n",
      "Epoch 47/200\n",
      "851/851 [==============================] - 5s 6ms/step - loss: 0.0599 - val_loss: 0.2534\n",
      "Epoch 48/200\n",
      "851/851 [==============================] - 5s 6ms/step - loss: 0.0615 - val_loss: 0.2696\n",
      "Epoch 49/200\n",
      "851/851 [==============================] - 6s 7ms/step - loss: 0.0567 - val_loss: 0.2536\n",
      "Epoch 50/200\n",
      "851/851 [==============================] - 5s 6ms/step - loss: 0.0611 - val_loss: 0.2644\n",
      "Epoch 51/200\n",
      "851/851 [==============================] - 6s 6ms/step - loss: 0.0624 - val_loss: 0.2649\n",
      "Epoch 52/200\n",
      "851/851 [==============================] - 6s 7ms/step - loss: 0.0507 - val_loss: 0.2578\n",
      "Epoch 53/200\n",
      "851/851 [==============================] - 6s 7ms/step - loss: 0.0520 - val_loss: 0.2556\n",
      "Epoch 54/200\n",
      "851/851 [==============================] - 6s 7ms/step - loss: 0.0552 - val_loss: 0.2670\n",
      "Epoch 55/200\n",
      "851/851 [==============================] - 6s 7ms/step - loss: 0.0480 - val_loss: 0.2513\n",
      "Epoch 56/200\n",
      "851/851 [==============================] - 6s 7ms/step - loss: 0.0535 - val_loss: 0.2596\n",
      "Epoch 57/200\n",
      "851/851 [==============================] - 6s 7ms/step - loss: 0.0481 - val_loss: 0.2661\n",
      "Epoch 58/200\n",
      "851/851 [==============================] - 5s 6ms/step - loss: 0.0461 - val_loss: 0.2590\n",
      "Epoch 59/200\n",
      "851/851 [==============================] - 5s 6ms/step - loss: 0.0480 - val_loss: 0.2638\n",
      "Epoch 60/200\n",
      "851/851 [==============================] - 6s 7ms/step - loss: 0.0505 - val_loss: 0.2608\n",
      "Epoch 61/200\n",
      "851/851 [==============================] - 5s 6ms/step - loss: 0.0448 - val_loss: 0.2611\n",
      "Epoch 62/200\n",
      "851/851 [==============================] - 5s 6ms/step - loss: 0.0425 - val_loss: 0.2654\n",
      "Epoch 63/200\n",
      "851/851 [==============================] - 6s 7ms/step - loss: 0.0433 - val_loss: 0.2608\n",
      "Epoch 64/200\n",
      "851/851 [==============================] - 6s 7ms/step - loss: 0.0436 - val_loss: 0.2543\n",
      "Epoch 65/200\n",
      "851/851 [==============================] - 5s 6ms/step - loss: 0.0419 - val_loss: 0.2619\n",
      "Epoch 66/200\n",
      "851/851 [==============================] - 6s 7ms/step - loss: 0.0474 - val_loss: 0.2517\n",
      "Epoch 67/200\n",
      "851/851 [==============================] - 5s 6ms/step - loss: 0.0417 - val_loss: 0.2491\n",
      "Epoch 68/200\n",
      "851/851 [==============================] - 6s 6ms/step - loss: 0.0425 - val_loss: 0.2712\n",
      "Epoch 69/200\n",
      "851/851 [==============================] - 6s 7ms/step - loss: 0.0461 - val_loss: 0.2551\n",
      "Epoch 70/200\n",
      "851/851 [==============================] - 5s 6ms/step - loss: 0.0359 - val_loss: 0.2541\n",
      "Epoch 71/200\n",
      "851/851 [==============================] - 6s 7ms/step - loss: 0.0443 - val_loss: 0.2481\n",
      "Epoch 72/200\n",
      "851/851 [==============================] - 6s 7ms/step - loss: 0.0380 - val_loss: 0.2576\n",
      "Epoch 73/200\n",
      "851/851 [==============================] - 5s 6ms/step - loss: 0.0345 - val_loss: 0.2542\n",
      "Epoch 74/200\n",
      "851/851 [==============================] - 6s 7ms/step - loss: 0.0366 - val_loss: 0.2535\n",
      "Epoch 75/200\n",
      "851/851 [==============================] - 6s 7ms/step - loss: 0.0352 - val_loss: 0.2531\n",
      "Epoch 76/200\n",
      "851/851 [==============================] - 5s 6ms/step - loss: 0.0386 - val_loss: 0.2773\n",
      "Epoch 77/200\n",
      "851/851 [==============================] - 6s 6ms/step - loss: 0.0347 - val_loss: 0.2533\n",
      "Epoch 78/200\n",
      "851/851 [==============================] - 6s 7ms/step - loss: 0.0344 - val_loss: 0.2629\n",
      "Epoch 79/200\n",
      "851/851 [==============================] - 5s 6ms/step - loss: 0.0338 - val_loss: 0.2568\n",
      "Epoch 80/200\n",
      "851/851 [==============================] - 6s 7ms/step - loss: 0.0317 - val_loss: 0.2548\n",
      "Epoch 81/200\n",
      "851/851 [==============================] - 6s 6ms/step - loss: 0.0344 - val_loss: 0.2470\n",
      "Epoch 82/200\n",
      "851/851 [==============================] - 5s 6ms/step - loss: 0.0297 - val_loss: 0.2639\n",
      "Epoch 83/200\n",
      "851/851 [==============================] - 6s 7ms/step - loss: 0.0329 - val_loss: 0.2593\n",
      "Epoch 84/200\n",
      "851/851 [==============================] - 5s 6ms/step - loss: 0.0324 - val_loss: 0.2540\n",
      "Epoch 85/200\n",
      "851/851 [==============================] - 5s 6ms/step - loss: 0.0316 - val_loss: 0.2523\n",
      "Epoch 86/200\n",
      "851/851 [==============================] - 6s 7ms/step - loss: 0.0363 - val_loss: 0.2584\n",
      "Epoch 87/200\n",
      "851/851 [==============================] - 5s 6ms/step - loss: 0.0346 - val_loss: 0.2498\n",
      "Epoch 88/200\n",
      "851/851 [==============================] - 6s 6ms/step - loss: 0.0326 - val_loss: 0.2444\n",
      "Epoch 89/200\n",
      "851/851 [==============================] - 6s 7ms/step - loss: 0.0317 - val_loss: 0.2520\n",
      "Epoch 90/200\n",
      "851/851 [==============================] - 5s 6ms/step - loss: 0.0297 - val_loss: 0.2588\n",
      "Epoch 91/200\n",
      "851/851 [==============================] - 6s 7ms/step - loss: 0.0309 - val_loss: 0.2556\n",
      "Epoch 92/200\n",
      "851/851 [==============================] - 6s 7ms/step - loss: 0.0292 - val_loss: 0.2545\n",
      "Epoch 93/200\n",
      "851/851 [==============================] - 5s 6ms/step - loss: 0.0261 - val_loss: 0.2716\n",
      "Epoch 94/200\n",
      "851/851 [==============================] - 6s 7ms/step - loss: 0.0312 - val_loss: 0.2532\n",
      "Epoch 95/200\n",
      "851/851 [==============================] - 6s 7ms/step - loss: 0.0270 - val_loss: 0.2549\n",
      "Epoch 96/200\n",
      "851/851 [==============================] - 6s 7ms/step - loss: 0.0266 - val_loss: 0.2535\n",
      "Epoch 97/200\n",
      "851/851 [==============================] - 6s 7ms/step - loss: 0.0304 - val_loss: 0.2537\n",
      "Epoch 98/200\n",
      "851/851 [==============================] - 6s 7ms/step - loss: 0.0287 - val_loss: 0.2544\n",
      "Epoch 99/200\n",
      "851/851 [==============================] - 5s 6ms/step - loss: 0.0264 - val_loss: 0.2557\n",
      "Epoch 100/200\n",
      "851/851 [==============================] - 6s 7ms/step - loss: 0.0280 - val_loss: 0.2686\n",
      "Epoch 101/200\n",
      "851/851 [==============================] - 6s 7ms/step - loss: 0.0314 - val_loss: 0.2677\n",
      "Epoch 102/200\n",
      "851/851 [==============================] - 5s 6ms/step - loss: 0.0260 - val_loss: 0.2679\n",
      "Epoch 103/200\n",
      "851/851 [==============================] - 6s 7ms/step - loss: 0.0259 - val_loss: 0.2527\n",
      "Epoch 104/200\n",
      "851/851 [==============================] - 6s 7ms/step - loss: 0.0228 - val_loss: 0.2598\n",
      "Epoch 105/200\n",
      "851/851 [==============================] - 5s 6ms/step - loss: 0.0265 - val_loss: 0.2624\n",
      "Epoch 106/200\n",
      "851/851 [==============================] - 6s 7ms/step - loss: 0.0259 - val_loss: 0.2575\n",
      "Epoch 107/200\n",
      "851/851 [==============================] - 5s 6ms/step - loss: 0.0250 - val_loss: 0.2549\n",
      "Epoch 108/200\n",
      "851/851 [==============================] - 6s 7ms/step - loss: 0.0250 - val_loss: 0.2589\n",
      "Epoch 109/200\n",
      "851/851 [==============================] - 6s 7ms/step - loss: 0.0259 - val_loss: 0.2548\n",
      "Epoch 110/200\n",
      "851/851 [==============================] - 5s 6ms/step - loss: 0.0239 - val_loss: 0.2521\n",
      "Epoch 111/200\n",
      "851/851 [==============================] - 5s 6ms/step - loss: 0.0241 - val_loss: 0.2526\n",
      "Epoch 112/200\n",
      "851/851 [==============================] - 6s 7ms/step - loss: 0.0241 - val_loss: 0.2553\n",
      "Epoch 113/200\n",
      "851/851 [==============================] - 5s 6ms/step - loss: 0.0235 - val_loss: 0.2543\n",
      "Epoch 114/200\n",
      "851/851 [==============================] - 5s 6ms/step - loss: 0.0232 - val_loss: 0.2524\n",
      "Epoch 115/200\n",
      "851/851 [==============================] - 6s 7ms/step - loss: 0.0215 - val_loss: 0.2701\n",
      "Epoch 116/200\n",
      "851/851 [==============================] - 6s 7ms/step - loss: 0.0251 - val_loss: 0.2597\n",
      "Epoch 117/200\n",
      "851/851 [==============================] - 6s 7ms/step - loss: 0.0250 - val_loss: 0.2517\n",
      "Epoch 118/200\n",
      "851/851 [==============================] - 5s 6ms/step - loss: 0.0227 - val_loss: 0.2479\n",
      "Epoch 119/200\n",
      "851/851 [==============================] - 6s 7ms/step - loss: 0.0220 - val_loss: 0.2536\n",
      "Epoch 120/200\n",
      "851/851 [==============================] - 7s 9ms/step - loss: 0.0227 - val_loss: 0.2564\n",
      "Epoch 121/200\n",
      "851/851 [==============================] - 7s 8ms/step - loss: 0.0262 - val_loss: 0.2544\n",
      "Epoch 122/200\n",
      "851/851 [==============================] - 6s 7ms/step - loss: 0.0218 - val_loss: 0.2566\n",
      "Epoch 123/200\n",
      "851/851 [==============================] - 7s 8ms/step - loss: 0.0195 - val_loss: 0.2457\n",
      "Epoch 124/200\n",
      "851/851 [==============================] - 6s 7ms/step - loss: 0.0213 - val_loss: 0.2739\n",
      "Epoch 125/200\n",
      "851/851 [==============================] - 6s 7ms/step - loss: 0.0273 - val_loss: 0.2627\n",
      "Epoch 126/200\n",
      "851/851 [==============================] - 6s 7ms/step - loss: 0.0218 - val_loss: 0.2510\n",
      "Epoch 127/200\n",
      "851/851 [==============================] - 6s 7ms/step - loss: 0.0166 - val_loss: 0.2543\n",
      "Epoch 128/200\n",
      "851/851 [==============================] - 6s 7ms/step - loss: 0.0190 - val_loss: 0.2555\n",
      "Epoch 129/200\n",
      "851/851 [==============================] - 6s 7ms/step - loss: 0.0213 - val_loss: 0.2579\n",
      "Epoch 130/200\n",
      "851/851 [==============================] - 7s 8ms/step - loss: 0.0249 - val_loss: 0.2616\n",
      "Epoch 131/200\n",
      "851/851 [==============================] - 7s 8ms/step - loss: 0.0273 - val_loss: 0.2549\n",
      "Epoch 132/200\n",
      "851/851 [==============================] - 7s 8ms/step - loss: 0.0186 - val_loss: 0.2496\n",
      "Epoch 133/200\n",
      "851/851 [==============================] - 7s 8ms/step - loss: 0.0172 - val_loss: 0.2557\n",
      "Epoch 134/200\n",
      "851/851 [==============================] - 6s 7ms/step - loss: 0.0218 - val_loss: 0.2510\n",
      "Epoch 135/200\n",
      "851/851 [==============================] - 6s 7ms/step - loss: 0.0207 - val_loss: 0.2530\n",
      "Epoch 136/200\n",
      "851/851 [==============================] - 6s 7ms/step - loss: 0.0229 - val_loss: 0.2596\n",
      "Epoch 137/200\n",
      "851/851 [==============================] - 6s 7ms/step - loss: 0.0213 - val_loss: 0.2665\n",
      "Epoch 138/200\n",
      "851/851 [==============================] - 6s 7ms/step - loss: 0.0192 - val_loss: 0.2466\n",
      "Epoch 139/200\n",
      "851/851 [==============================] - 6s 7ms/step - loss: 0.0172 - val_loss: 0.2526\n",
      "Epoch 140/200\n",
      "851/851 [==============================] - 6s 7ms/step - loss: 0.0207 - val_loss: 0.2622\n",
      "Epoch 141/200\n",
      "851/851 [==============================] - 7s 8ms/step - loss: 0.0223 - val_loss: 0.2538\n",
      "Epoch 142/200\n",
      "851/851 [==============================] - 6s 7ms/step - loss: 0.0207 - val_loss: 0.2483\n",
      "Epoch 143/200\n",
      "851/851 [==============================] - 6s 7ms/step - loss: 0.0177 - val_loss: 0.2541\n",
      "Epoch 144/200\n",
      "851/851 [==============================] - 6s 7ms/step - loss: 0.0165 - val_loss: 0.2506\n",
      "Epoch 145/200\n",
      "851/851 [==============================] - 6s 7ms/step - loss: 0.0204 - val_loss: 0.2557\n",
      "Epoch 146/200\n",
      "851/851 [==============================] - 6s 7ms/step - loss: 0.0209 - val_loss: 0.2570\n",
      "Epoch 147/200\n",
      "851/851 [==============================] - 7s 8ms/step - loss: 0.0201 - val_loss: 0.2523\n",
      "Epoch 148/200\n",
      "851/851 [==============================] - 9s 10ms/step - loss: 0.0194 - val_loss: 0.2676\n",
      "Epoch 149/200\n",
      "851/851 [==============================] - 9s 10ms/step - loss: 0.0253 - val_loss: 0.2644\n",
      "Epoch 150/200\n",
      "851/851 [==============================] - 9s 11ms/step - loss: 0.0198 - val_loss: 0.2572\n",
      "Epoch 151/200\n",
      "851/851 [==============================] - 10s 11ms/step - loss: 0.0150 - val_loss: 0.2508\n",
      "Epoch 152/200\n",
      "851/851 [==============================] - 10s 11ms/step - loss: 0.0179 - val_loss: 0.2547\n",
      "Epoch 153/200\n",
      "851/851 [==============================] - 11s 13ms/step - loss: 0.0203 - val_loss: 0.2548\n",
      "Epoch 154/200\n",
      "851/851 [==============================] - 10s 11ms/step - loss: 0.0181 - val_loss: 0.2601\n",
      "Epoch 155/200\n",
      "851/851 [==============================] - 10s 12ms/step - loss: 0.0178 - val_loss: 0.2560\n",
      "Epoch 156/200\n",
      "851/851 [==============================] - 10s 12ms/step - loss: 0.0184 - val_loss: 0.2600\n",
      "Epoch 157/200\n",
      "851/851 [==============================] - 9s 11ms/step - loss: 0.0175 - val_loss: 0.2543\n",
      "Epoch 158/200\n",
      "851/851 [==============================] - 9s 11ms/step - loss: 0.0178 - val_loss: 0.2540\n",
      "Epoch 159/200\n",
      "851/851 [==============================] - 9s 11ms/step - loss: 0.0194 - val_loss: 0.2460\n",
      "Epoch 160/200\n",
      "851/851 [==============================] - 9s 11ms/step - loss: 0.0177 - val_loss: 0.2517\n",
      "Epoch 161/200\n",
      "851/851 [==============================] - 9s 10ms/step - loss: 0.0158 - val_loss: 0.2530\n",
      "Epoch 162/200\n",
      "851/851 [==============================] - 9s 11ms/step - loss: 0.0186 - val_loss: 0.2536\n",
      "Epoch 163/200\n",
      "851/851 [==============================] - 9s 10ms/step - loss: 0.0205 - val_loss: 0.2519\n",
      "Epoch 164/200\n",
      "851/851 [==============================] - 9s 10ms/step - loss: 0.0161 - val_loss: 0.2529\n",
      "Epoch 165/200\n",
      "851/851 [==============================] - 9s 11ms/step - loss: 0.0142 - val_loss: 0.2542\n",
      "Epoch 166/200\n",
      "851/851 [==============================] - 9s 11ms/step - loss: 0.0176 - val_loss: 0.2559\n",
      "Epoch 167/200\n",
      "851/851 [==============================] - 9s 11ms/step - loss: 0.0183 - val_loss: 0.2537\n",
      "Epoch 168/200\n",
      "851/851 [==============================] - 9s 11ms/step - loss: 0.0197 - val_loss: 0.2573\n",
      "Epoch 169/200\n",
      "851/851 [==============================] - 9s 11ms/step - loss: 0.0153 - val_loss: 0.2562\n",
      "Epoch 170/200\n",
      "851/851 [==============================] - 9s 10ms/step - loss: 0.0168 - val_loss: 0.2572\n",
      "Epoch 171/200\n",
      "851/851 [==============================] - 9s 11ms/step - loss: 0.0170 - val_loss: 0.2515\n",
      "Epoch 172/200\n",
      "851/851 [==============================] - 9s 11ms/step - loss: 0.0227 - val_loss: 0.2568\n",
      "Epoch 173/200\n",
      "851/851 [==============================] - 9s 11ms/step - loss: 0.0180 - val_loss: 0.2520\n",
      "Epoch 174/200\n",
      "851/851 [==============================] - 9s 11ms/step - loss: 0.0162 - val_loss: 0.2575\n",
      "Epoch 175/200\n",
      "851/851 [==============================] - 9s 11ms/step - loss: 0.0152 - val_loss: 0.2599\n",
      "Epoch 176/200\n",
      "851/851 [==============================] - 9s 11ms/step - loss: 0.0144 - val_loss: 0.2584\n",
      "Epoch 177/200\n",
      "851/851 [==============================] - 9s 11ms/step - loss: 0.0166 - val_loss: 0.2547\n",
      "Epoch 178/200\n",
      "851/851 [==============================] - 9s 11ms/step - loss: 0.0169 - val_loss: 0.2633\n",
      "Epoch 179/200\n",
      "851/851 [==============================] - 9s 11ms/step - loss: 0.0190 - val_loss: 0.2639\n",
      "Epoch 180/200\n",
      "851/851 [==============================] - 9s 11ms/step - loss: 0.0183 - val_loss: 0.2576\n",
      "Epoch 181/200\n",
      "851/851 [==============================] - 9s 11ms/step - loss: 0.0152 - val_loss: 0.2536\n",
      "Epoch 182/200\n",
      "851/851 [==============================] - 8s 10ms/step - loss: 0.0158 - val_loss: 0.2518\n",
      "Epoch 183/200\n",
      "851/851 [==============================] - 6s 7ms/step - loss: 0.0222 - val_loss: 0.2565\n",
      "Epoch 184/200\n",
      "851/851 [==============================] - 6s 7ms/step - loss: 0.0125 - val_loss: 0.2508\n",
      "Epoch 185/200\n",
      "851/851 [==============================] - 6s 7ms/step - loss: 0.0133 - val_loss: 0.2531\n",
      "Epoch 186/200\n",
      "851/851 [==============================] - 6s 7ms/step - loss: 0.0150 - val_loss: 0.2602\n",
      "Epoch 187/200\n",
      "851/851 [==============================] - 6s 7ms/step - loss: 0.0144 - val_loss: 0.2538\n",
      "Epoch 188/200\n",
      "851/851 [==============================] - 6s 7ms/step - loss: 0.0152 - val_loss: 0.2508\n",
      "Epoch 189/200\n",
      "851/851 [==============================] - 6s 7ms/step - loss: 0.0188 - val_loss: 0.2573\n",
      "Epoch 190/200\n",
      "851/851 [==============================] - 6s 7ms/step - loss: 0.0162 - val_loss: 0.2552\n",
      "Epoch 191/200\n",
      "851/851 [==============================] - 6s 7ms/step - loss: 0.0172 - val_loss: 0.2542\n",
      "Epoch 192/200\n",
      "851/851 [==============================] - 6s 6ms/step - loss: 0.0136 - val_loss: 0.2541\n",
      "Epoch 193/200\n",
      "851/851 [==============================] - 5s 6ms/step - loss: 0.0150 - val_loss: 0.2615\n",
      "Epoch 194/200\n",
      "851/851 [==============================] - 6s 6ms/step - loss: 0.0159 - val_loss: 0.2556\n",
      "Epoch 195/200\n",
      "851/851 [==============================] - 5s 6ms/step - loss: 0.0140 - val_loss: 0.2537\n",
      "Epoch 196/200\n",
      "851/851 [==============================] - 5s 6ms/step - loss: 0.0126 - val_loss: 0.2596\n",
      "Epoch 197/200\n",
      "851/851 [==============================] - 6s 7ms/step - loss: 0.0158 - val_loss: 0.2613\n",
      "Epoch 198/200\n",
      "851/851 [==============================] - 5s 6ms/step - loss: 0.0169 - val_loss: 0.2575\n",
      "Epoch 199/200\n",
      "851/851 [==============================] - 5s 6ms/step - loss: 0.0141 - val_loss: 0.2537\n",
      "Epoch 200/200\n",
      "851/851 [==============================] - 5s 6ms/step - loss: 0.0153 - val_loss: 0.2543\n"
     ]
    }
   ],
   "source": [
    "# Train model\n",
    "history = DNN.fit(x=x_train, y=y_train, batch_size=32, epochs=200, verbose=1, validation_split=0.1, shuffle=True)"
   ]
  },
  {
   "cell_type": "code",
   "execution_count": 17,
   "metadata": {
    "colab": {
     "base_uri": "https://localhost:8080/",
     "height": 334
    },
    "id": "sun9_RyLYzMM",
    "outputId": "c040b653-545f-431d-ea9f-71ef5cc85444"
   },
   "outputs": [
    {
     "data": {
      "image/png": "[encoded data removed]",
      "text/plain": [
       "<Figure size 864x360 with 1 Axes>"
      ]
     },
     "metadata": {
      "needs_background": "light"
     },
     "output_type": "display_data"
    }
   ],
   "source": [
    "# Plot loss\n",
    "plt.figure(figsize=(12, 5))\n",
    "plt.plot(DNN.history.history['loss'], label='Training', linewidth=2)\n",
    "plt.plot(DNN.history.history['val_loss'], label='Validation', linewidth=2)\n",
    "plt.legend()\n",
    "plt.xlabel('Epoch')\n",
    "plt.ylabel('Loss')\n",
    "plt.grid(True)\n",
    "plt.show()"
   ]
  },
  {
   "cell_type": "code",
   "execution_count": 18,
   "metadata": {
    "colab": {
     "base_uri": "https://localhost:8080/"
    },
    "id": "IJVCymAmcIB_",
    "outputId": "c1b4ad05-35e1-4886-d6db-f61675d81857"
   },
   "outputs": [
    {
     "name": "stdout",
     "output_type": "stream",
     "text": [
      "Generalization loss: 0.9399%\n"
     ]
    }
   ],
   "source": [
    "# Generalization metric (opcional)\n",
    "min_loss = np.min([DNN.history.history['loss'][-1], DNN.history.history['val_loss'][-1]])\n",
    "max_loss = np.max([DNN.history.history['loss'][-1], DNN.history.history['val_loss'][-1]])\n",
    "general_loss = (max_loss - min_loss) / max_loss\n",
    "print(f\"Generalization loss: {general_loss:6.4f}%\")"
   ]
  },
  {
   "cell_type": "code",
   "execution_count": 19,
   "metadata": {
    "colab": {
     "base_uri": "https://localhost:8080/"
    },
    "id": "jqWaiy_fb0-x",
    "outputId": "5bfa3f68-3fd1-4f11-f8cf-dafe03061a99"
   },
   "outputs": [
    {
     "name": "stdout",
     "output_type": "stream",
     "text": [
      "Test loss: 0.2515968978404999\n"
     ]
    }
   ],
   "source": [
    "# Compute test loss\n",
    "loss_test = DNN.evaluate(x=x_test, y=y_test, verbose=False)\n",
    "print(\"Test loss:\", loss_test)"
   ]
  },
  {
   "cell_type": "code",
   "execution_count": 20,
   "metadata": {
    "colab": {
     "base_uri": "https://localhost:8080/"
    },
    "id": "lQxF7hMCb8Cp",
    "outputId": "8a7719e5-12bb-4971-b67b-993405310617"
   },
   "outputs": [
    {
     "name": "stdout",
     "output_type": "stream",
     "text": [
      "(1591, 2)\n"
     ]
    }
   ],
   "source": [
    "# Predict on test set\n",
    "y_test_hat = DNN.predict(x=x_test)\n",
    "print(y_test_hat.shape)"
   ]
  },
  {
   "cell_type": "code",
   "execution_count": 21,
   "metadata": {
    "colab": {
     "base_uri": "https://localhost:8080/",
     "height": 295
    },
    "id": "tfAf4cIqcGyQ",
    "outputId": "be92731d-281f-415a-fa51-a3fc80f8047b"
   },
   "outputs": [
    {
     "data": {
      "image/png": "[encoded data removed]",
      "text/plain": [
       "<Figure size 432x288 with 1 Axes>"
      ]
     },
     "metadata": {
      "needs_background": "light"
     },
     "output_type": "display_data"
    }
   ],
   "source": [
    "# Plot y_test_hat\n",
    "indx = np.random.permutation(len(y_test))[:500]\n",
    "plt.scatter(y_test[indx, 0], y_test[indx, 1], c='b', label='y')\n",
    "plt.scatter(y_test_hat[indx, 0], y_test_hat[indx, 1], c='r', marker='+', label='y_h')\n",
    "\n",
    "plt.legend()\n",
    "plt.grid(True)\n",
    "plt.xlabel('PM2.5')\n",
    "plt.ylabel('NO2')\n",
    "plt.title('Test set and its predictions')\n",
    "plt.show()"
   ]
  },
  {
   "cell_type": "code",
   "execution_count": null,
   "metadata": {
    "id": "euURHYHPQ9B3"
   },
   "outputs": [],
   "source": []
  }
 ],
 "metadata": {
  "accelerator": "GPU",
  "colab": {
   "authorship_tag": "ABX9TyM6nJFUkOERZvBt6xLP8VbU",
   "collapsed_sections": [],
   "include_colab_link": true,
   "name": "DL_03_Optimizers.ipynb",
   "provenance": []
  },
  "kernelspec": {
   "display_name": "Python 3",
   "language": "python",
   "name": "python3"
  },
  "language_info": {
   "codemirror_mode": {
    "name": "ipython",
    "version": 3
   },
   "file_extension": ".py",
   "mimetype": "text/x-python",
   "name": "python",
   "nbconvert_exporter": "python",
   "pygments_lexer": "ipython3",
   "version": "3.7.6"
  }
 },
 "nbformat": 4,
 "nbformat_minor": 4
}
