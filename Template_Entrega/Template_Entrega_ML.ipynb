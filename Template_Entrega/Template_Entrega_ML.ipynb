{
 "cells": [
  {
   "cell_type": "markdown",
   "metadata": {},
   "source": [
    "<img src=\"https://becasparatodos.com/wp-content/uploads/2017/01/tec-de-monterrey-maestr%C3%ADas.jpg\" style=\"width: 400px;\"/>"
   ]
  },
  {
   "cell_type": "markdown",
   "metadata": {},
   "source": [
    "<h2><center>Campus Ciudad de México, \n",
    "Escuela Ingeniería y Ciencias, \n",
    "Computación</center></h2>\n",
    "\n",
    "<h4><center>Course: TC3020.1 (Machine Learning)</center>\n",
    "<center>Professor: Mauricio Rosales Rivera</center>\n",
    "<center>Final Project - Evaluation</center></h4>\n",
    "    \n",
    "<h4><center>Date: November 12, 2021</center></h4>\n",
    "<h4><center><font color=\"red\">Submit: December, 2021</font></center></h4>\n",
    "\n",
    "---\n",
    "\n",
    "<h4>Grade: </h4>\n",
    "\n",
    "---\n",
    "<h4><center>Student's information</center></h4>\n",
    "<h4>Names:</h4>    <h4>Students ID:</h4>    <h4>Github:</h4>"
   ]
  },
  {
   "cell_type": "markdown",
   "metadata": {},
   "source": [
    "<center>Apegándome al Código de Ética de los Estudiantes del Tecnológico de Monterrey, me comprometo a que mi actuación en este proyecto esté regida por la honestidad académica. En congruencia con el compromiso adquirido al firmar dicho código, realizaré este proyecto de forma honesta y personal, para reflejar, a través de él, mi conocimiento y aceptar, posteriormente, la evaluación obtenida.</center>"
   ]
  },
  {
   "cell_type": "markdown",
   "metadata": {},
   "source": [
    "## <font color=\"brown\">Proyecto Final - Aprendizaje Máquina</font>\n",
    "\n",
    "---\n",
    "\n",
    "Indicaciones: El proyecto seleccionado será desarrollado siguiendo ciertas condiciones. Deberán seguir la estructura recomendada (pero podrán cambiar títulos, es sólo una sugerencia) y podrán añadir secciones en caso de que ser necesario.\n",
    "\n",
    "* La fecha límite de entrega de la notebook será: 2021.\n",
    "* Deberán realizar una exposición (entre 10 y 20 minutos a lo mucho), donde proporcionen una explicación acerca de la metodología implementada y los resultados obtenidos.\n",
    "\n",
    "Esta notebook deberá contener el nombre completo, matrícula y el link correspondiente al GitHub de cada integrante.\n",
    "En caso de no tener la información aquí solicitada, no se evaluará el proyecto."
   ]
  },
  {
   "cell_type": "markdown",
   "metadata": {},
   "source": [
    "<a id=\"general\"></a>\n",
    "### Contenido\n",
    "\n",
    "-----\n",
    "\n",
    "1. [Objetivo](#a)\n",
    "\n",
    "2. [Exploración de Datos](#b)\n",
    "    * Detección de valores faltantes\n",
    "    * Agregando valores\n",
    "    * Visualizando datos\n",
    "    * Preprocesamiento de datos\n",
    "        * Reducción de dimensiones\n",
    "        \n",
    "-----\n",
    "3. [Selección de modelos](#c)\n",
    "    * Aprendizaje No Supervisado / Supervisado\n",
    "        * Selección de modelo\n",
    "        * Selección de hiperparámetros\n",
    "        * Entrenamiento\n",
    "        * Prueba\n",
    "        * Resultados\n",
    "-----\n",
    "\n",
    "4. [Conclusiones](#d)\n",
    "\n",
    "-----"
   ]
  },
  {
   "cell_type": "markdown",
   "metadata": {},
   "source": [
    "<a id=\"a\"></a>\n",
    "### 1. Objetivo\n",
    "\n",
    "---\n",
    "[Regresar a contenido](#general)\n",
    "\n",
    "Intentar presentar un enfoque completo para modelar problemas, que va desde el análisis exploratorio de datos hasta la aplicación de técnicas de aprendizaje supervisado y no supervisado a nuestros datos.\n",
    "\n",
    "El contenido de esta notebook está dirigido principalmente para entender mejor las etapas que se realizan en los problemas de Ciencia de Datos y Aprendizaje Máquina (y posiblemente en Aprendizaje Profundo)."
   ]
  },
  {
   "cell_type": "code",
   "execution_count": null,
   "metadata": {},
   "outputs": [],
   "source": []
  },
  {
   "cell_type": "markdown",
   "metadata": {},
   "source": [
    "<a id=\"b\"></a>\n",
    "### 2. Exploración de Datos\n",
    "\n",
    "---\n",
    "[Regresar a contenido](#general)\n",
    "\n",
    "En esta sección se trata de realizar una breve explicación del conjunto de datos a utilizar. Así como tener un orden al momento de importar librerías, mostrar gráficos del EDA y preprocesamiento de los datos."
   ]
  },
  {
   "cell_type": "code",
   "execution_count": null,
   "metadata": {},
   "outputs": [],
   "source": []
  },
  {
   "cell_type": "markdown",
   "metadata": {},
   "source": [
    "<a id=\"c\"></a>\n",
    "### 3. Selección de modelos\n",
    "\n",
    "---\n",
    "[Regresar a contenido](#general)\n",
    "\n",
    "En esta sección se trata de realizar una breve explicación de la metodología de aprendizaje automático. En caso de aplicar un **pipeline** de aprendizaje no supervisado y / o supervisado, que tenga un orden claro y expliquen el porqué de su aplicación con lo que han percibido de sus datos. \n",
    "\n",
    "El modelo seleccionado, qué parámetros o hiperparámetros eligieron, el porqué entrenaron con cierto tamaño de muestra y los resultados obtenidos."
   ]
  },
  {
   "cell_type": "code",
   "execution_count": null,
   "metadata": {},
   "outputs": [],
   "source": []
  },
  {
   "cell_type": "markdown",
   "metadata": {},
   "source": [
    "<a id=\"d\"></a>\n",
    "### 4. Conclusiones\n",
    "\n",
    "---\n",
    "[Regresar a contenido](#general)\n",
    "\n",
    "De su análisis, qué pueden concluir? Qué posibilidades extras pudieran aplicarse o con qué finalidad realizaron el trabajo."
   ]
  },
  {
   "cell_type": "code",
   "execution_count": null,
   "metadata": {},
   "outputs": [],
   "source": []
  }
 ],
 "metadata": {
  "kernelspec": {
   "display_name": "Python 3",
   "language": "python",
   "name": "python3"
  },
  "language_info": {
   "codemirror_mode": {
    "name": "ipython",
    "version": 3
   },
   "file_extension": ".py",
   "mimetype": "text/x-python",
   "name": "python",
   "nbconvert_exporter": "python",
   "pygments_lexer": "ipython3",
   "version": "3.7.6"
  }
 },
 "nbformat": 4,
 "nbformat_minor": 4
}
