{
 "cells": [
  {
   "cell_type": "markdown",
   "metadata": {
    "id": "U27yy_exrI8z"
   },
   "source": [
    "# Analizando las estadísticas de jugadores de futbol con Pandas\n",
    "\n",
    "![FIFA](https://upload.wikimedia.org/wikipedia/commons/thumb/a/aa/FIFA_logo_without_slogan.svg/1200px-FIFA_logo_without_slogan.svg.png)\n",
    "\n",
    "En esta notebook, utilizarás Pandas para analizar datos de jugadores de futbol (soccer). Los datos se encuentran en forma tabular e incluyen información relevante de jugadores de futbol de todo el mundo.\n",
    "\n",
    "---\n",
    "\n",
    "\n",
    "Cada fila en el conjunto de datos contiene información sobre el jugador:\n",
    "* Información personal: Nombre, nacionalidad, , edad, altura, peso y pierna preferida al jugar.\n",
    "* Información como jugador: Nombre del equipo en el que juega (Club), número de playera, posición en el campo (abreviada), valor comercial y salario.\n",
    "* Información sobre sus habilidades como jugador (0-100): Overall, Potential, Shooting, Defense, Passing, Physical, Control, Mental y GoalKeeping.\n",
    "\n",
    "\n",
    "Durante la notebook llevarás a cabo tareas de tratamiento y análisis exploratorio de datos comunmente realizadas. Buscarás información que podría resultar útil para las organizaciones.\n",
    "\n",
    "\n",
    "\n",
    "---\n",
    "\n",
    "\n",
    "\n",
    "Recuerda que puedes acudir a la [documentación de Pandas](https://pandas.pydata.org/pandas-docs/stable/reference/index.html) o a la notebook de Pandas del diplomado en ciencia de datos.\n",
    "\n"
   ]
  },
  {
   "cell_type": "markdown",
   "metadata": {
    "id": "YK63u5jI9TkW"
   },
   "source": [
    "Primero, importa Pandas en tu notebook:"
   ]
  },
  {
   "cell_type": "code",
   "execution_count": 1,
   "metadata": {
    "id": "3N4heqrqrFiv"
   },
   "outputs": [],
   "source": [
    "# pandas usando el alias pd\n",
    "import pandas as pd"
   ]
  },
  {
   "cell_type": "markdown",
   "metadata": {
    "id": "2llZPBeYr5EW"
   },
   "source": [
    "## Carga el conjunto de datos FIFA usando pandas"
   ]
  },
  {
   "cell_type": "code",
   "execution_count": 2,
   "metadata": {
    "colab": {
     "base_uri": "https://localhost:8080/",
     "height": 326
    },
    "id": "qpE38xDqr4xX",
    "outputId": "e83e130c-5209-4432-81d3-9f9df6039266"
   },
   "outputs": [
    {
     "data": {
      "text/html": [
       "<div>\n",
       "<style scoped>\n",
       "    .dataframe tbody tr th:only-of-type {\n",
       "        vertical-align: middle;\n",
       "    }\n",
       "\n",
       "    .dataframe tbody tr th {\n",
       "        vertical-align: top;\n",
       "    }\n",
       "\n",
       "    .dataframe thead th {\n",
       "        text-align: right;\n",
       "    }\n",
       "</style>\n",
       "<table border=\"1\" class=\"dataframe\">\n",
       "  <thead>\n",
       "    <tr style=\"text-align: right;\">\n",
       "      <th></th>\n",
       "      <th>ID</th>\n",
       "      <th>Name</th>\n",
       "      <th>Nationality</th>\n",
       "      <th>Club</th>\n",
       "      <th>Jersey Number</th>\n",
       "      <th>Value</th>\n",
       "      <th>Wage</th>\n",
       "      <th>Age</th>\n",
       "      <th>Height</th>\n",
       "      <th>Weight</th>\n",
       "      <th>...</th>\n",
       "      <th>Position</th>\n",
       "      <th>Overall</th>\n",
       "      <th>Potential</th>\n",
       "      <th>Shooting</th>\n",
       "      <th>Defense</th>\n",
       "      <th>Passing</th>\n",
       "      <th>Physical</th>\n",
       "      <th>Control</th>\n",
       "      <th>Mental</th>\n",
       "      <th>GoalKeeping</th>\n",
       "    </tr>\n",
       "  </thead>\n",
       "  <tbody>\n",
       "    <tr>\n",
       "      <th>18197</th>\n",
       "      <td>246167</td>\n",
       "      <td>D. Holland</td>\n",
       "      <td>Republic of Ireland</td>\n",
       "      <td>Cork City</td>\n",
       "      <td>14.0</td>\n",
       "      <td>€60K</td>\n",
       "      <td>€1K</td>\n",
       "      <td>18</td>\n",
       "      <td>5'10</td>\n",
       "      <td>141lbs</td>\n",
       "      <td>...</td>\n",
       "      <td>CM</td>\n",
       "      <td>47</td>\n",
       "      <td>61</td>\n",
       "      <td>44.0</td>\n",
       "      <td>39.0</td>\n",
       "      <td>50.0</td>\n",
       "      <td>56.0</td>\n",
       "      <td>54.0</td>\n",
       "      <td>47.0</td>\n",
       "      <td>11.0</td>\n",
       "    </tr>\n",
       "    <tr>\n",
       "      <th>18198</th>\n",
       "      <td>242844</td>\n",
       "      <td>J. Livesey</td>\n",
       "      <td>England</td>\n",
       "      <td>Burton Albion</td>\n",
       "      <td>22.0</td>\n",
       "      <td>€60K</td>\n",
       "      <td>€1K</td>\n",
       "      <td>18</td>\n",
       "      <td>5'11</td>\n",
       "      <td>154lbs</td>\n",
       "      <td>...</td>\n",
       "      <td>GK</td>\n",
       "      <td>47</td>\n",
       "      <td>70</td>\n",
       "      <td>12.0</td>\n",
       "      <td>10.0</td>\n",
       "      <td>18.0</td>\n",
       "      <td>32.0</td>\n",
       "      <td>23.0</td>\n",
       "      <td>36.0</td>\n",
       "      <td>49.0</td>\n",
       "    </tr>\n",
       "    <tr>\n",
       "      <th>18199</th>\n",
       "      <td>244677</td>\n",
       "      <td>M. Baldisimo</td>\n",
       "      <td>Canada</td>\n",
       "      <td>Vancouver Whitecaps FC</td>\n",
       "      <td>65.0</td>\n",
       "      <td>€70K</td>\n",
       "      <td>€1K</td>\n",
       "      <td>18</td>\n",
       "      <td>5'6</td>\n",
       "      <td>150lbs</td>\n",
       "      <td>...</td>\n",
       "      <td>CM</td>\n",
       "      <td>47</td>\n",
       "      <td>69</td>\n",
       "      <td>35.0</td>\n",
       "      <td>46.0</td>\n",
       "      <td>46.0</td>\n",
       "      <td>53.0</td>\n",
       "      <td>49.0</td>\n",
       "      <td>42.0</td>\n",
       "      <td>10.0</td>\n",
       "    </tr>\n",
       "    <tr>\n",
       "      <th>18200</th>\n",
       "      <td>231381</td>\n",
       "      <td>J. Young</td>\n",
       "      <td>Scotland</td>\n",
       "      <td>Swindon Town</td>\n",
       "      <td>21.0</td>\n",
       "      <td>€60K</td>\n",
       "      <td>€1K</td>\n",
       "      <td>18</td>\n",
       "      <td>5'9</td>\n",
       "      <td>157lbs</td>\n",
       "      <td>...</td>\n",
       "      <td>ST</td>\n",
       "      <td>47</td>\n",
       "      <td>62</td>\n",
       "      <td>43.0</td>\n",
       "      <td>22.0</td>\n",
       "      <td>33.0</td>\n",
       "      <td>57.0</td>\n",
       "      <td>53.0</td>\n",
       "      <td>47.0</td>\n",
       "      <td>12.0</td>\n",
       "    </tr>\n",
       "    <tr>\n",
       "      <th>18201</th>\n",
       "      <td>243413</td>\n",
       "      <td>D. Walsh</td>\n",
       "      <td>Republic of Ireland</td>\n",
       "      <td>Waterford FC</td>\n",
       "      <td>29.0</td>\n",
       "      <td>€60K</td>\n",
       "      <td>€1K</td>\n",
       "      <td>18</td>\n",
       "      <td>6'1</td>\n",
       "      <td>168lbs</td>\n",
       "      <td>...</td>\n",
       "      <td>RB</td>\n",
       "      <td>47</td>\n",
       "      <td>68</td>\n",
       "      <td>30.0</td>\n",
       "      <td>42.0</td>\n",
       "      <td>25.0</td>\n",
       "      <td>51.0</td>\n",
       "      <td>34.0</td>\n",
       "      <td>39.0</td>\n",
       "      <td>10.0</td>\n",
       "    </tr>\n",
       "    <tr>\n",
       "      <th>18202</th>\n",
       "      <td>238813</td>\n",
       "      <td>J. Lundstram</td>\n",
       "      <td>England</td>\n",
       "      <td>Crewe Alexandra</td>\n",
       "      <td>22.0</td>\n",
       "      <td>€60K</td>\n",
       "      <td>€1K</td>\n",
       "      <td>19</td>\n",
       "      <td>5'9</td>\n",
       "      <td>134lbs</td>\n",
       "      <td>...</td>\n",
       "      <td>CM</td>\n",
       "      <td>47</td>\n",
       "      <td>65</td>\n",
       "      <td>36.0</td>\n",
       "      <td>44.0</td>\n",
       "      <td>43.0</td>\n",
       "      <td>56.0</td>\n",
       "      <td>54.0</td>\n",
       "      <td>49.0</td>\n",
       "      <td>9.0</td>\n",
       "    </tr>\n",
       "    <tr>\n",
       "      <th>18203</th>\n",
       "      <td>243165</td>\n",
       "      <td>N. Christoffersson</td>\n",
       "      <td>Sweden</td>\n",
       "      <td>Trelleborgs FF</td>\n",
       "      <td>21.0</td>\n",
       "      <td>€60K</td>\n",
       "      <td>€1K</td>\n",
       "      <td>19</td>\n",
       "      <td>6'3</td>\n",
       "      <td>170lbs</td>\n",
       "      <td>...</td>\n",
       "      <td>ST</td>\n",
       "      <td>47</td>\n",
       "      <td>63</td>\n",
       "      <td>40.0</td>\n",
       "      <td>24.0</td>\n",
       "      <td>30.0</td>\n",
       "      <td>47.0</td>\n",
       "      <td>44.0</td>\n",
       "      <td>38.0</td>\n",
       "      <td>9.0</td>\n",
       "    </tr>\n",
       "    <tr>\n",
       "      <th>18204</th>\n",
       "      <td>241638</td>\n",
       "      <td>B. Worman</td>\n",
       "      <td>England</td>\n",
       "      <td>Cambridge United</td>\n",
       "      <td>33.0</td>\n",
       "      <td>€60K</td>\n",
       "      <td>€1K</td>\n",
       "      <td>16</td>\n",
       "      <td>5'8</td>\n",
       "      <td>148lbs</td>\n",
       "      <td>...</td>\n",
       "      <td>ST</td>\n",
       "      <td>47</td>\n",
       "      <td>67</td>\n",
       "      <td>42.0</td>\n",
       "      <td>24.0</td>\n",
       "      <td>30.0</td>\n",
       "      <td>56.0</td>\n",
       "      <td>49.0</td>\n",
       "      <td>44.0</td>\n",
       "      <td>8.0</td>\n",
       "    </tr>\n",
       "    <tr>\n",
       "      <th>18205</th>\n",
       "      <td>246268</td>\n",
       "      <td>D. Walker-Rice</td>\n",
       "      <td>England</td>\n",
       "      <td>Tranmere Rovers</td>\n",
       "      <td>34.0</td>\n",
       "      <td>€60K</td>\n",
       "      <td>€1K</td>\n",
       "      <td>17</td>\n",
       "      <td>5'10</td>\n",
       "      <td>154lbs</td>\n",
       "      <td>...</td>\n",
       "      <td>RW</td>\n",
       "      <td>47</td>\n",
       "      <td>66</td>\n",
       "      <td>43.0</td>\n",
       "      <td>28.0</td>\n",
       "      <td>39.0</td>\n",
       "      <td>53.0</td>\n",
       "      <td>58.0</td>\n",
       "      <td>38.0</td>\n",
       "      <td>10.0</td>\n",
       "    </tr>\n",
       "    <tr>\n",
       "      <th>18206</th>\n",
       "      <td>246269</td>\n",
       "      <td>G. Nugent</td>\n",
       "      <td>England</td>\n",
       "      <td>Tranmere Rovers</td>\n",
       "      <td>33.0</td>\n",
       "      <td>€60K</td>\n",
       "      <td>€1K</td>\n",
       "      <td>16</td>\n",
       "      <td>5'10</td>\n",
       "      <td>176lbs</td>\n",
       "      <td>...</td>\n",
       "      <td>CM</td>\n",
       "      <td>46</td>\n",
       "      <td>66</td>\n",
       "      <td>36.0</td>\n",
       "      <td>42.0</td>\n",
       "      <td>44.0</td>\n",
       "      <td>57.0</td>\n",
       "      <td>52.0</td>\n",
       "      <td>48.0</td>\n",
       "      <td>11.0</td>\n",
       "    </tr>\n",
       "  </tbody>\n",
       "</table>\n",
       "<p>10 rows × 21 columns</p>\n",
       "</div>"
      ],
      "text/plain": [
       "           ID                Name          Nationality  \\\n",
       "18197  246167          D. Holland  Republic of Ireland   \n",
       "18198  242844          J. Livesey              England   \n",
       "18199  244677        M. Baldisimo               Canada   \n",
       "18200  231381            J. Young             Scotland   \n",
       "18201  243413            D. Walsh  Republic of Ireland   \n",
       "18202  238813        J. Lundstram              England   \n",
       "18203  243165  N. Christoffersson               Sweden   \n",
       "18204  241638           B. Worman              England   \n",
       "18205  246268      D. Walker-Rice              England   \n",
       "18206  246269           G. Nugent              England   \n",
       "\n",
       "                         Club  Jersey Number Value Wage  Age Height  Weight  \\\n",
       "18197               Cork City           14.0  €60K  €1K   18   5'10  141lbs   \n",
       "18198           Burton Albion           22.0  €60K  €1K   18   5'11  154lbs   \n",
       "18199  Vancouver Whitecaps FC           65.0  €70K  €1K   18    5'6  150lbs   \n",
       "18200            Swindon Town           21.0  €60K  €1K   18    5'9  157lbs   \n",
       "18201            Waterford FC           29.0  €60K  €1K   18    6'1  168lbs   \n",
       "18202         Crewe Alexandra           22.0  €60K  €1K   19    5'9  134lbs   \n",
       "18203          Trelleborgs FF           21.0  €60K  €1K   19    6'3  170lbs   \n",
       "18204        Cambridge United           33.0  €60K  €1K   16    5'8  148lbs   \n",
       "18205         Tranmere Rovers           34.0  €60K  €1K   17   5'10  154lbs   \n",
       "18206         Tranmere Rovers           33.0  €60K  €1K   16   5'10  176lbs   \n",
       "\n",
       "       ... Position Overall  Potential  Shooting  Defense  Passing  Physical  \\\n",
       "18197  ...       CM      47         61      44.0     39.0     50.0      56.0   \n",
       "18198  ...       GK      47         70      12.0     10.0     18.0      32.0   \n",
       "18199  ...       CM      47         69      35.0     46.0     46.0      53.0   \n",
       "18200  ...       ST      47         62      43.0     22.0     33.0      57.0   \n",
       "18201  ...       RB      47         68      30.0     42.0     25.0      51.0   \n",
       "18202  ...       CM      47         65      36.0     44.0     43.0      56.0   \n",
       "18203  ...       ST      47         63      40.0     24.0     30.0      47.0   \n",
       "18204  ...       ST      47         67      42.0     24.0     30.0      56.0   \n",
       "18205  ...       RW      47         66      43.0     28.0     39.0      53.0   \n",
       "18206  ...       CM      46         66      36.0     42.0     44.0      57.0   \n",
       "\n",
       "       Control  Mental  GoalKeeping  \n",
       "18197     54.0    47.0         11.0  \n",
       "18198     23.0    36.0         49.0  \n",
       "18199     49.0    42.0         10.0  \n",
       "18200     53.0    47.0         12.0  \n",
       "18201     34.0    39.0         10.0  \n",
       "18202     54.0    49.0          9.0  \n",
       "18203     44.0    38.0          9.0  \n",
       "18204     49.0    44.0          8.0  \n",
       "18205     58.0    38.0         10.0  \n",
       "18206     52.0    48.0         11.0  \n",
       "\n",
       "[10 rows x 21 columns]"
      ]
     },
     "execution_count": 2,
     "metadata": {},
     "output_type": "execute_result"
    }
   ],
   "source": [
    "# leer el dataframe usando read_csv\n",
    "fifa_df = pd.read_csv(\"../data/fifa/players.csv\", sep=',', header=0)\n",
    "# mostrar los primeros elementos con head\n",
    "fifa_df.tail(10)"
   ]
  },
  {
   "cell_type": "markdown",
   "metadata": {
    "id": "45oYL86ST8RO"
   },
   "source": [
    "## Características del dataset"
   ]
  },
  {
   "cell_type": "markdown",
   "metadata": {
    "id": "NnVgDmdSdZQk"
   },
   "source": [
    "¿Qué tipos de datos contiene nuestro dataframe?"
   ]
  },
  {
   "cell_type": "code",
   "execution_count": 3,
   "metadata": {
    "colab": {
     "base_uri": "https://localhost:8080/"
    },
    "id": "1kzDpxYK0EvY",
    "outputId": "e1f4212f-76cf-499f-dab6-7f9b8ec55d66"
   },
   "outputs": [
    {
     "name": "stdout",
     "output_type": "stream",
     "text": [
      "ID int64\n",
      "Name object\n",
      "Nationality object\n",
      "Club object\n",
      "Jersey Number float64\n",
      "Value object\n",
      "Wage object\n",
      "Age int64\n",
      "Height object\n",
      "Weight object\n",
      "Preferred Foot object\n",
      "Position object\n",
      "Overall int64\n",
      "Potential int64\n",
      "Shooting float64\n",
      "Defense float64\n",
      "Passing float64\n",
      "Physical float64\n",
      "Control float64\n",
      "Mental float64\n",
      "GoalKeeping float64\n"
     ]
    }
   ],
   "source": [
    "for name, t in zip(fifa_df.columns, fifa_df.dtypes):\n",
    "  print(name, t)"
   ]
  },
  {
   "cell_type": "markdown",
   "metadata": {
    "id": "GWsJyCIMtscZ"
   },
   "source": [
    "¿Qué tamaño tiene nuestro dataset?\n",
    "\n",
    "Utiliza el método ```shape``` para conocer el número de filas y columnas en el dataframe."
   ]
  },
  {
   "cell_type": "code",
   "execution_count": 4,
   "metadata": {},
   "outputs": [
    {
     "data": {
      "text/plain": [
       "(18207, 21)"
      ]
     },
     "execution_count": 4,
     "metadata": {},
     "output_type": "execute_result"
    }
   ],
   "source": [
    "fifa_df.shape"
   ]
  },
  {
   "cell_type": "code",
   "execution_count": 5,
   "metadata": {
    "colab": {
     "base_uri": "https://localhost:8080/"
    },
    "id": "d3qNHHbAtxNp",
    "outputId": "6d6eb462-43cd-45ba-b623-97f8999ef46d"
   },
   "outputs": [
    {
     "name": "stdout",
     "output_type": "stream",
     "text": [
      "Filas: 18207\n",
      "Columnas: 21\n"
     ]
    }
   ],
   "source": [
    "m,n = fifa_df.shape\n",
    "print(\"Filas:\", m)\n",
    "print(\"Columnas:\", n)"
   ]
  },
  {
   "cell_type": "code",
   "execution_count": 6,
   "metadata": {
    "id": "yjcIL89FuA0u"
   },
   "outputs": [],
   "source": [
    "assert m == 18207 and n == 21, \"Error en las dimensiones\""
   ]
  },
  {
   "cell_type": "markdown",
   "metadata": {
    "id": "xk3ES367UKfQ"
   },
   "source": [
    "### Estadísticas generales del dataset.\n",
    "\n",
    "Usa ```describre()``` para mostrar las estadísticas generales de las columnas numéricas en el dataframe."
   ]
  },
  {
   "cell_type": "code",
   "execution_count": 7,
   "metadata": {
    "colab": {
     "base_uri": "https://localhost:8080/",
     "height": 297
    },
    "id": "QKmF6WUUUKuM",
    "outputId": "c46faf75-c7e8-4b33-bed2-6fd9a67c9e2d"
   },
   "outputs": [
    {
     "data": {
      "text/html": [
       "<div>\n",
       "<style scoped>\n",
       "    .dataframe tbody tr th:only-of-type {\n",
       "        vertical-align: middle;\n",
       "    }\n",
       "\n",
       "    .dataframe tbody tr th {\n",
       "        vertical-align: top;\n",
       "    }\n",
       "\n",
       "    .dataframe thead th {\n",
       "        text-align: right;\n",
       "    }\n",
       "</style>\n",
       "<table border=\"1\" class=\"dataframe\">\n",
       "  <thead>\n",
       "    <tr style=\"text-align: right;\">\n",
       "      <th></th>\n",
       "      <th>ID</th>\n",
       "      <th>Jersey Number</th>\n",
       "      <th>Age</th>\n",
       "      <th>Overall</th>\n",
       "      <th>Potential</th>\n",
       "      <th>Shooting</th>\n",
       "      <th>Defense</th>\n",
       "      <th>Passing</th>\n",
       "      <th>Physical</th>\n",
       "      <th>Control</th>\n",
       "      <th>Mental</th>\n",
       "      <th>GoalKeeping</th>\n",
       "    </tr>\n",
       "  </thead>\n",
       "  <tbody>\n",
       "    <tr>\n",
       "      <th>count</th>\n",
       "      <td>18207.000000</td>\n",
       "      <td>18147.000000</td>\n",
       "      <td>18207.000000</td>\n",
       "      <td>18207.000000</td>\n",
       "      <td>18207.000000</td>\n",
       "      <td>18159.000000</td>\n",
       "      <td>18159.000000</td>\n",
       "      <td>18159.000000</td>\n",
       "      <td>18159.000000</td>\n",
       "      <td>18159.000000</td>\n",
       "      <td>18159.000000</td>\n",
       "      <td>18159.000000</td>\n",
       "    </tr>\n",
       "    <tr>\n",
       "      <th>mean</th>\n",
       "      <td>214298.338606</td>\n",
       "      <td>19.546096</td>\n",
       "      <td>25.122206</td>\n",
       "      <td>66.238699</td>\n",
       "      <td>71.307299</td>\n",
       "      <td>47.736274</td>\n",
       "      <td>47.459001</td>\n",
       "      <td>53.710612</td>\n",
       "      <td>64.344512</td>\n",
       "      <td>59.236357</td>\n",
       "      <td>57.958974</td>\n",
       "      <td>16.468087</td>\n",
       "    </tr>\n",
       "    <tr>\n",
       "      <th>std</th>\n",
       "      <td>29965.244204</td>\n",
       "      <td>15.947765</td>\n",
       "      <td>4.669943</td>\n",
       "      <td>6.908930</td>\n",
       "      <td>6.136496</td>\n",
       "      <td>15.621702</td>\n",
       "      <td>17.314439</td>\n",
       "      <td>15.113052</td>\n",
       "      <td>9.839120</td>\n",
       "      <td>15.156389</td>\n",
       "      <td>9.933340</td>\n",
       "      <td>17.002775</td>\n",
       "    </tr>\n",
       "    <tr>\n",
       "      <th>min</th>\n",
       "      <td>16.000000</td>\n",
       "      <td>1.000000</td>\n",
       "      <td>16.000000</td>\n",
       "      <td>46.000000</td>\n",
       "      <td>48.000000</td>\n",
       "      <td>7.000000</td>\n",
       "      <td>7.000000</td>\n",
       "      <td>8.000000</td>\n",
       "      <td>22.000000</td>\n",
       "      <td>12.000000</td>\n",
       "      <td>25.000000</td>\n",
       "      <td>1.000000</td>\n",
       "    </tr>\n",
       "    <tr>\n",
       "      <th>25%</th>\n",
       "      <td>200315.500000</td>\n",
       "      <td>8.000000</td>\n",
       "      <td>21.000000</td>\n",
       "      <td>62.000000</td>\n",
       "      <td>67.000000</td>\n",
       "      <td>39.000000</td>\n",
       "      <td>35.000000</td>\n",
       "      <td>46.000000</td>\n",
       "      <td>60.000000</td>\n",
       "      <td>54.000000</td>\n",
       "      <td>51.000000</td>\n",
       "      <td>10.000000</td>\n",
       "    </tr>\n",
       "    <tr>\n",
       "      <th>50%</th>\n",
       "      <td>221759.000000</td>\n",
       "      <td>17.000000</td>\n",
       "      <td>25.000000</td>\n",
       "      <td>66.000000</td>\n",
       "      <td>71.000000</td>\n",
       "      <td>50.000000</td>\n",
       "      <td>52.000000</td>\n",
       "      <td>57.000000</td>\n",
       "      <td>66.000000</td>\n",
       "      <td>63.000000</td>\n",
       "      <td>58.000000</td>\n",
       "      <td>11.000000</td>\n",
       "    </tr>\n",
       "    <tr>\n",
       "      <th>75%</th>\n",
       "      <td>236529.500000</td>\n",
       "      <td>26.000000</td>\n",
       "      <td>28.000000</td>\n",
       "      <td>71.000000</td>\n",
       "      <td>75.000000</td>\n",
       "      <td>59.000000</td>\n",
       "      <td>61.000000</td>\n",
       "      <td>64.000000</td>\n",
       "      <td>71.000000</td>\n",
       "      <td>69.000000</td>\n",
       "      <td>65.000000</td>\n",
       "      <td>12.000000</td>\n",
       "    </tr>\n",
       "    <tr>\n",
       "      <th>max</th>\n",
       "      <td>246620.000000</td>\n",
       "      <td>99.000000</td>\n",
       "      <td>45.000000</td>\n",
       "      <td>94.000000</td>\n",
       "      <td>95.000000</td>\n",
       "      <td>88.000000</td>\n",
       "      <td>86.000000</td>\n",
       "      <td>92.000000</td>\n",
       "      <td>89.000000</td>\n",
       "      <td>96.000000</td>\n",
       "      <td>95.000000</td>\n",
       "      <td>89.000000</td>\n",
       "    </tr>\n",
       "  </tbody>\n",
       "</table>\n",
       "</div>"
      ],
      "text/plain": [
       "                  ID  Jersey Number           Age       Overall     Potential  \\\n",
       "count   18207.000000   18147.000000  18207.000000  18207.000000  18207.000000   \n",
       "mean   214298.338606      19.546096     25.122206     66.238699     71.307299   \n",
       "std     29965.244204      15.947765      4.669943      6.908930      6.136496   \n",
       "min        16.000000       1.000000     16.000000     46.000000     48.000000   \n",
       "25%    200315.500000       8.000000     21.000000     62.000000     67.000000   \n",
       "50%    221759.000000      17.000000     25.000000     66.000000     71.000000   \n",
       "75%    236529.500000      26.000000     28.000000     71.000000     75.000000   \n",
       "max    246620.000000      99.000000     45.000000     94.000000     95.000000   \n",
       "\n",
       "           Shooting       Defense       Passing      Physical       Control  \\\n",
       "count  18159.000000  18159.000000  18159.000000  18159.000000  18159.000000   \n",
       "mean      47.736274     47.459001     53.710612     64.344512     59.236357   \n",
       "std       15.621702     17.314439     15.113052      9.839120     15.156389   \n",
       "min        7.000000      7.000000      8.000000     22.000000     12.000000   \n",
       "25%       39.000000     35.000000     46.000000     60.000000     54.000000   \n",
       "50%       50.000000     52.000000     57.000000     66.000000     63.000000   \n",
       "75%       59.000000     61.000000     64.000000     71.000000     69.000000   \n",
       "max       88.000000     86.000000     92.000000     89.000000     96.000000   \n",
       "\n",
       "             Mental   GoalKeeping  \n",
       "count  18159.000000  18159.000000  \n",
       "mean      57.958974     16.468087  \n",
       "std        9.933340     17.002775  \n",
       "min       25.000000      1.000000  \n",
       "25%       51.000000     10.000000  \n",
       "50%       58.000000     11.000000  \n",
       "75%       65.000000     12.000000  \n",
       "max       95.000000     89.000000  "
      ]
     },
     "execution_count": 7,
     "metadata": {},
     "output_type": "execute_result"
    }
   ],
   "source": [
    "fifa_df.describe()"
   ]
  },
  {
   "cell_type": "markdown",
   "metadata": {
    "id": "M7gI3AUceQxn"
   },
   "source": [
    "## Tratamiento de datos\n"
   ]
  },
  {
   "cell_type": "markdown",
   "metadata": {
    "id": "lY9Wx2ZVjLfE"
   },
   "source": [
    "### Datos faltantes\n",
    "\n",
    "Antes de poder hacer transformaciones y operaciones en los datos, es importante identificar la posible existencia de datos faltantes. El método ```isna()``` de pandas, permite obtener un dataframe booleano que identifica entradas faltantes. \n",
    "\n",
    "Usémos ```isna()```, ```sum(axis=0)``` y ```to_frame().T``` para resumir el resultado de datos faltantes como un conteo por columnas:"
   ]
  },
  {
   "cell_type": "code",
   "execution_count": 8,
   "metadata": {
    "colab": {
     "base_uri": "https://localhost:8080/",
     "height": 80
    },
    "id": "4V_yaO_lOKnv",
    "outputId": "0e1cd534-40e3-4fcf-f815-0907ea7f26d6"
   },
   "outputs": [
    {
     "data": {
      "text/html": [
       "<div>\n",
       "<style scoped>\n",
       "    .dataframe tbody tr th:only-of-type {\n",
       "        vertical-align: middle;\n",
       "    }\n",
       "\n",
       "    .dataframe tbody tr th {\n",
       "        vertical-align: top;\n",
       "    }\n",
       "\n",
       "    .dataframe thead th {\n",
       "        text-align: right;\n",
       "    }\n",
       "</style>\n",
       "<table border=\"1\" class=\"dataframe\">\n",
       "  <thead>\n",
       "    <tr style=\"text-align: right;\">\n",
       "      <th></th>\n",
       "      <th>ID</th>\n",
       "      <th>Name</th>\n",
       "      <th>Nationality</th>\n",
       "      <th>Club</th>\n",
       "      <th>Jersey Number</th>\n",
       "      <th>Value</th>\n",
       "      <th>Wage</th>\n",
       "      <th>Age</th>\n",
       "      <th>Height</th>\n",
       "      <th>Weight</th>\n",
       "      <th>...</th>\n",
       "      <th>Position</th>\n",
       "      <th>Overall</th>\n",
       "      <th>Potential</th>\n",
       "      <th>Shooting</th>\n",
       "      <th>Defense</th>\n",
       "      <th>Passing</th>\n",
       "      <th>Physical</th>\n",
       "      <th>Control</th>\n",
       "      <th>Mental</th>\n",
       "      <th>GoalKeeping</th>\n",
       "    </tr>\n",
       "  </thead>\n",
       "  <tbody>\n",
       "    <tr>\n",
       "      <th>0</th>\n",
       "      <td>0</td>\n",
       "      <td>0</td>\n",
       "      <td>0</td>\n",
       "      <td>241</td>\n",
       "      <td>60</td>\n",
       "      <td>0</td>\n",
       "      <td>0</td>\n",
       "      <td>0</td>\n",
       "      <td>48</td>\n",
       "      <td>48</td>\n",
       "      <td>...</td>\n",
       "      <td>60</td>\n",
       "      <td>0</td>\n",
       "      <td>0</td>\n",
       "      <td>48</td>\n",
       "      <td>48</td>\n",
       "      <td>48</td>\n",
       "      <td>48</td>\n",
       "      <td>48</td>\n",
       "      <td>48</td>\n",
       "      <td>48</td>\n",
       "    </tr>\n",
       "  </tbody>\n",
       "</table>\n",
       "<p>1 rows × 21 columns</p>\n",
       "</div>"
      ],
      "text/plain": [
       "   ID  Name  Nationality  Club  Jersey Number  Value  Wage  Age  Height  \\\n",
       "0   0     0            0   241             60      0     0    0      48   \n",
       "\n",
       "   Weight  ...  Position  Overall  Potential  Shooting  Defense  Passing  \\\n",
       "0      48  ...        60        0          0        48       48       48   \n",
       "\n",
       "   Physical  Control  Mental  GoalKeeping  \n",
       "0        48       48      48           48  \n",
       "\n",
       "[1 rows x 21 columns]"
      ]
     },
     "execution_count": 8,
     "metadata": {},
     "output_type": "execute_result"
    }
   ],
   "source": [
    "fifa_df.isna().sum(axis=0).to_frame().T"
   ]
  },
  {
   "cell_type": "markdown",
   "metadata": {
    "id": "sqr4xWue_fyB"
   },
   "source": [
    "Una manera de tratar con datos faltantes, es eliminar las filas que contienen uno o más datos faltantes, dejando solo registros completos.\n",
    "\n",
    "Ya que para nuestro conjunto de datos la cantidad de faltantes es mínima, podemos usar esta estrategia.\n",
    "\n",
    "Completa la siguiente celda para eliminar filas (```axis=0```) que contengan algún dato faltante (```dropna```):"
   ]
  },
  {
   "cell_type": "code",
   "execution_count": 9,
   "metadata": {
    "id": "3mPe2ufH_RF0"
   },
   "outputs": [],
   "source": [
    "t_df = fifa_df.dropna(axis=0)"
   ]
  },
  {
   "cell_type": "markdown",
   "metadata": {
    "id": "8uCtFmp1_wsC"
   },
   "source": [
    "Verifica que no hay más datos faltantes:"
   ]
  },
  {
   "cell_type": "code",
   "execution_count": 10,
   "metadata": {
    "colab": {
     "base_uri": "https://localhost:8080/",
     "height": 80
    },
    "id": "RvgIwrck_vFw",
    "outputId": "edbd49a8-344e-4c35-adba-5855ee9c6a87"
   },
   "outputs": [
    {
     "data": {
      "text/html": [
       "<div>\n",
       "<style scoped>\n",
       "    .dataframe tbody tr th:only-of-type {\n",
       "        vertical-align: middle;\n",
       "    }\n",
       "\n",
       "    .dataframe tbody tr th {\n",
       "        vertical-align: top;\n",
       "    }\n",
       "\n",
       "    .dataframe thead th {\n",
       "        text-align: right;\n",
       "    }\n",
       "</style>\n",
       "<table border=\"1\" class=\"dataframe\">\n",
       "  <thead>\n",
       "    <tr style=\"text-align: right;\">\n",
       "      <th></th>\n",
       "      <th>ID</th>\n",
       "      <th>Name</th>\n",
       "      <th>Nationality</th>\n",
       "      <th>Club</th>\n",
       "      <th>Jersey Number</th>\n",
       "      <th>Value</th>\n",
       "      <th>Wage</th>\n",
       "      <th>Age</th>\n",
       "      <th>Height</th>\n",
       "      <th>Weight</th>\n",
       "      <th>...</th>\n",
       "      <th>Position</th>\n",
       "      <th>Overall</th>\n",
       "      <th>Potential</th>\n",
       "      <th>Shooting</th>\n",
       "      <th>Defense</th>\n",
       "      <th>Passing</th>\n",
       "      <th>Physical</th>\n",
       "      <th>Control</th>\n",
       "      <th>Mental</th>\n",
       "      <th>GoalKeeping</th>\n",
       "    </tr>\n",
       "  </thead>\n",
       "  <tbody>\n",
       "    <tr>\n",
       "      <th>0</th>\n",
       "      <td>0</td>\n",
       "      <td>0</td>\n",
       "      <td>0</td>\n",
       "      <td>0</td>\n",
       "      <td>0</td>\n",
       "      <td>0</td>\n",
       "      <td>0</td>\n",
       "      <td>0</td>\n",
       "      <td>0</td>\n",
       "      <td>0</td>\n",
       "      <td>...</td>\n",
       "      <td>0</td>\n",
       "      <td>0</td>\n",
       "      <td>0</td>\n",
       "      <td>0</td>\n",
       "      <td>0</td>\n",
       "      <td>0</td>\n",
       "      <td>0</td>\n",
       "      <td>0</td>\n",
       "      <td>0</td>\n",
       "      <td>0</td>\n",
       "    </tr>\n",
       "  </tbody>\n",
       "</table>\n",
       "<p>1 rows × 21 columns</p>\n",
       "</div>"
      ],
      "text/plain": [
       "   ID  Name  Nationality  Club  Jersey Number  Value  Wage  Age  Height  \\\n",
       "0   0     0            0     0              0      0     0    0       0   \n",
       "\n",
       "   Weight  ...  Position  Overall  Potential  Shooting  Defense  Passing  \\\n",
       "0       0  ...         0        0          0         0        0        0   \n",
       "\n",
       "   Physical  Control  Mental  GoalKeeping  \n",
       "0         0        0       0            0  \n",
       "\n",
       "[1 rows x 21 columns]"
      ]
     },
     "execution_count": 10,
     "metadata": {},
     "output_type": "execute_result"
    }
   ],
   "source": [
    "empty_columns = t_df.isna().sum(axis=0).to_frame().T\n",
    "empty_columns"
   ]
  },
  {
   "cell_type": "code",
   "execution_count": 11,
   "metadata": {
    "id": "mnwBq3J1-jp1"
   },
   "outputs": [],
   "source": [
    "assert empty_columns.values.sum() == 0, \"Error, aun hay datos faltantes\""
   ]
  },
  {
   "cell_type": "markdown",
   "metadata": {
    "id": "oiKIUMTTAvVX"
   },
   "source": [
    "Finalmente, reemplazar el dataframe original por el nuevo sin elementos faltantes."
   ]
  },
  {
   "cell_type": "code",
   "execution_count": 12,
   "metadata": {
    "id": "0U8cSIyJAvpA"
   },
   "outputs": [],
   "source": [
    "fifa_df = t_df"
   ]
  },
  {
   "cell_type": "markdown",
   "metadata": {
    "id": "-JYl7aVLjHkH"
   },
   "source": [
    "### Transformaciones\n",
    "\n",
    "Las celdas fueron inferidas como tipo ```object``` por pandas. Algunas de éstas contienen datos numéricos que podrían ser útiles para el análisis. \n",
    "\n",
    "Por ejemplo, las columnas ```Wage``` y ```Value``` contienen datos sobre el salario y el valor en el mercado de cada jugador. Ambas columnas contienen el signo de la moneda (€) al inicio y al final pueden contener la abreviación de cantidades (K miles, M millones). \n",
    "\n",
    "Debemos realizar un tratamiento de datos en tales columnas para poder usarlas de manera numérica."
   ]
  },
  {
   "cell_type": "markdown",
   "metadata": {
    "id": "maMPRPAzxbqX"
   },
   "source": [
    "Primero, confirmemos que solo tenemos casos donde las cantidades terminan en K, M o sin abreviaturas. Usemos funciones de agregación.\n",
    "\n",
    "Contemos las veces que aparecen los distintos caracteres al final de los registros en la columna ```Wage```:"
   ]
  },
  {
   "cell_type": "code",
   "execution_count": 13,
   "metadata": {
    "colab": {
     "base_uri": "https://localhost:8080/",
     "height": 111
    },
    "id": "VPojzkU5s_iJ",
    "outputId": "a4e748d7-6178-411f-b138-09671a378319"
   },
   "outputs": [
    {
     "data": {
      "text/html": [
       "<div>\n",
       "<style scoped>\n",
       "    .dataframe tbody tr th:only-of-type {\n",
       "        vertical-align: middle;\n",
       "    }\n",
       "\n",
       "    .dataframe tbody tr th {\n",
       "        vertical-align: top;\n",
       "    }\n",
       "\n",
       "    .dataframe thead th {\n",
       "        text-align: right;\n",
       "    }\n",
       "</style>\n",
       "<table border=\"1\" class=\"dataframe\">\n",
       "  <thead>\n",
       "    <tr style=\"text-align: right;\">\n",
       "      <th></th>\n",
       "      <th>Wage</th>\n",
       "    </tr>\n",
       "    <tr>\n",
       "      <th>Wage</th>\n",
       "      <th></th>\n",
       "    </tr>\n",
       "  </thead>\n",
       "  <tbody>\n",
       "    <tr>\n",
       "      <th>K</th>\n",
       "      <td>17918</td>\n",
       "    </tr>\n",
       "  </tbody>\n",
       "</table>\n",
       "</div>"
      ],
      "text/plain": [
       "       Wage\n",
       "Wage       \n",
       "K     17918"
      ]
     },
     "execution_count": 13,
     "metadata": {},
     "output_type": "execute_result"
    }
   ],
   "source": [
    "fifa_df[[\"Wage\"]].groupby(fifa_df.Wage.str[-1]).count()"
   ]
  },
  {
   "cell_type": "code",
   "execution_count": 14,
   "metadata": {},
   "outputs": [
    {
     "data": {
      "text/html": [
       "<div>\n",
       "<style scoped>\n",
       "    .dataframe tbody tr th:only-of-type {\n",
       "        vertical-align: middle;\n",
       "    }\n",
       "\n",
       "    .dataframe tbody tr th {\n",
       "        vertical-align: top;\n",
       "    }\n",
       "\n",
       "    .dataframe thead th {\n",
       "        text-align: right;\n",
       "    }\n",
       "</style>\n",
       "<table border=\"1\" class=\"dataframe\">\n",
       "  <thead>\n",
       "    <tr style=\"text-align: right;\">\n",
       "      <th></th>\n",
       "      <th>Wage</th>\n",
       "    </tr>\n",
       "    <tr>\n",
       "      <th>Wage</th>\n",
       "      <th></th>\n",
       "    </tr>\n",
       "  </thead>\n",
       "  <tbody>\n",
       "    <tr>\n",
       "      <th>€100K</th>\n",
       "      <td>3</td>\n",
       "    </tr>\n",
       "    <tr>\n",
       "      <th>€105K</th>\n",
       "      <td>13</td>\n",
       "    </tr>\n",
       "    <tr>\n",
       "      <th>€10K</th>\n",
       "      <td>319</td>\n",
       "    </tr>\n",
       "    <tr>\n",
       "      <th>€110K</th>\n",
       "      <td>15</td>\n",
       "    </tr>\n",
       "    <tr>\n",
       "      <th>€115K</th>\n",
       "      <td>18</td>\n",
       "    </tr>\n",
       "    <tr>\n",
       "      <th>...</th>\n",
       "      <td>...</td>\n",
       "    </tr>\n",
       "    <tr>\n",
       "      <th>€96K</th>\n",
       "      <td>4</td>\n",
       "    </tr>\n",
       "    <tr>\n",
       "      <th>€97K</th>\n",
       "      <td>2</td>\n",
       "    </tr>\n",
       "    <tr>\n",
       "      <th>€98K</th>\n",
       "      <td>4</td>\n",
       "    </tr>\n",
       "    <tr>\n",
       "      <th>€99K</th>\n",
       "      <td>4</td>\n",
       "    </tr>\n",
       "    <tr>\n",
       "      <th>€9K</th>\n",
       "      <td>328</td>\n",
       "    </tr>\n",
       "  </tbody>\n",
       "</table>\n",
       "<p>143 rows × 1 columns</p>\n",
       "</div>"
      ],
      "text/plain": [
       "       Wage\n",
       "Wage       \n",
       "€100K     3\n",
       "€105K    13\n",
       "€10K    319\n",
       "€110K    15\n",
       "€115K    18\n",
       "...     ...\n",
       "€96K      4\n",
       "€97K      2\n",
       "€98K      4\n",
       "€99K      4\n",
       "€9K     328\n",
       "\n",
       "[143 rows x 1 columns]"
      ]
     },
     "execution_count": 14,
     "metadata": {},
     "output_type": "execute_result"
    }
   ],
   "source": [
    "fifa_df[[\"Wage\"]].groupby(fifa_df.Wage).count()"
   ]
  },
  {
   "cell_type": "markdown",
   "metadata": {
    "id": "aOrZkbQru0_0"
   },
   "source": [
    "Contemos las veces que aparecen los distintos caracteres al final de los registros en la columna ```Value```:"
   ]
  },
  {
   "cell_type": "code",
   "execution_count": 15,
   "metadata": {
    "colab": {
     "base_uri": "https://localhost:8080/",
     "height": 173
    },
    "id": "y1GjUZ4Gti1d",
    "outputId": "08435367-e2fe-4098-85ee-214a6be77c00"
   },
   "outputs": [
    {
     "data": {
      "text/html": [
       "<div>\n",
       "<style scoped>\n",
       "    .dataframe tbody tr th:only-of-type {\n",
       "        vertical-align: middle;\n",
       "    }\n",
       "\n",
       "    .dataframe tbody tr th {\n",
       "        vertical-align: top;\n",
       "    }\n",
       "\n",
       "    .dataframe thead th {\n",
       "        text-align: right;\n",
       "    }\n",
       "</style>\n",
       "<table border=\"1\" class=\"dataframe\">\n",
       "  <thead>\n",
       "    <tr style=\"text-align: right;\">\n",
       "      <th></th>\n",
       "      <th>Value</th>\n",
       "    </tr>\n",
       "    <tr>\n",
       "      <th>Value</th>\n",
       "      <th></th>\n",
       "    </tr>\n",
       "  </thead>\n",
       "  <tbody>\n",
       "    <tr>\n",
       "      <th>0</th>\n",
       "      <td>11</td>\n",
       "    </tr>\n",
       "    <tr>\n",
       "      <th>K</th>\n",
       "      <td>11060</td>\n",
       "    </tr>\n",
       "    <tr>\n",
       "      <th>M</th>\n",
       "      <td>6847</td>\n",
       "    </tr>\n",
       "  </tbody>\n",
       "</table>\n",
       "</div>"
      ],
      "text/plain": [
       "       Value\n",
       "Value       \n",
       "0         11\n",
       "K      11060\n",
       "M       6847"
      ]
     },
     "execution_count": 15,
     "metadata": {},
     "output_type": "execute_result"
    }
   ],
   "source": [
    "fifa_df[[\"Value\"]].groupby(fifa_df.Value.str[-1]).count()"
   ]
  },
  {
   "cell_type": "code",
   "execution_count": 16,
   "metadata": {},
   "outputs": [],
   "source": [
    "val = fifa_df[[\"Wage\"]]"
   ]
  },
  {
   "cell_type": "code",
   "execution_count": 17,
   "metadata": {},
   "outputs": [
    {
     "data": {
      "text/html": [
       "<div>\n",
       "<style scoped>\n",
       "    .dataframe tbody tr th:only-of-type {\n",
       "        vertical-align: middle;\n",
       "    }\n",
       "\n",
       "    .dataframe tbody tr th {\n",
       "        vertical-align: top;\n",
       "    }\n",
       "\n",
       "    .dataframe thead th {\n",
       "        text-align: right;\n",
       "    }\n",
       "</style>\n",
       "<table border=\"1\" class=\"dataframe\">\n",
       "  <thead>\n",
       "    <tr style=\"text-align: right;\">\n",
       "      <th></th>\n",
       "      <th>Wage</th>\n",
       "    </tr>\n",
       "  </thead>\n",
       "  <tbody>\n",
       "    <tr>\n",
       "      <th>18206</th>\n",
       "      <td>€1K</td>\n",
       "    </tr>\n",
       "  </tbody>\n",
       "</table>\n",
       "</div>"
      ],
      "text/plain": [
       "      Wage\n",
       "18206  €1K"
      ]
     },
     "execution_count": 17,
     "metadata": {},
     "output_type": "execute_result"
    }
   ],
   "source": [
    "val[-1:]"
   ]
  },
  {
   "cell_type": "code",
   "execution_count": 18,
   "metadata": {},
   "outputs": [],
   "source": [
    "multiplo = val[-1:]"
   ]
  },
  {
   "cell_type": "code",
   "execution_count": 19,
   "metadata": {},
   "outputs": [
    {
     "data": {
      "text/html": [
       "<div>\n",
       "<style scoped>\n",
       "    .dataframe tbody tr th:only-of-type {\n",
       "        vertical-align: middle;\n",
       "    }\n",
       "\n",
       "    .dataframe tbody tr th {\n",
       "        vertical-align: top;\n",
       "    }\n",
       "\n",
       "    .dataframe thead th {\n",
       "        text-align: right;\n",
       "    }\n",
       "</style>\n",
       "<table border=\"1\" class=\"dataframe\">\n",
       "  <thead>\n",
       "    <tr style=\"text-align: right;\">\n",
       "      <th></th>\n",
       "      <th>Wage</th>\n",
       "    </tr>\n",
       "  </thead>\n",
       "  <tbody>\n",
       "    <tr>\n",
       "      <th>18206</th>\n",
       "      <td>€1K</td>\n",
       "    </tr>\n",
       "  </tbody>\n",
       "</table>\n",
       "</div>"
      ],
      "text/plain": [
       "      Wage\n",
       "18206  €1K"
      ]
     },
     "execution_count": 19,
     "metadata": {},
     "output_type": "execute_result"
    }
   ],
   "source": [
    "multiplo"
   ]
  },
  {
   "cell_type": "code",
   "execution_count": 20,
   "metadata": {},
   "outputs": [],
   "source": [
    "def currency_to_numeric(currency):\n",
    "  \"\"\"\n",
    "  La funcion recibe valores monetarios en un objeto de texto, los tranforma:\n",
    "  1- Elimina el simbolo de la moneda al inicio de la cadena\n",
    "  2- Extrae el caracter adicional al final de la cadena que indica el\n",
    "     multiplo de la cantidad (abreviatura). No siempre hay un simbolo.\n",
    "  3- Usa el valor para devolver la cantidad en numero (multiplica por el valor).\n",
    "  Ej: 250K pasa a 250000\n",
    "  ya que\n",
    "  1K = 1000\n",
    "  1M = 1000000\n",
    "  Sin letra solo parte numerica\n",
    "  \"\"\"\n",
    "  # el multiplo de K o M\n",
    "  symbols = {\"K\": 1000, \"M\": 1000000}\n",
    "  # Actualiza el valor de numeric con la cantidad en currency\n",
    "  numeric = 0.0\n",
    "\n",
    "  multiplo = currency[-1]\n",
    "  valor = currency[1:]\n",
    "  num = 0.0\n",
    "  try:\n",
    "    test = float(valor[:-1])\n",
    "  except Exception as e:\n",
    "    print(e)\n",
    "    \n",
    "  if multiplo == \"K\":\n",
    "    numeric = num * 1000\n",
    "  elif multiplo == \"M\":\n",
    "    numeric = num * 1000000\n",
    "  else:\n",
    "    print(valor)\n",
    "    numeric = float(valor)\n",
    "\n",
    "    \n",
    "\n",
    "#   if multiplo in symbols:\n",
    "#     numeric = float(valor[:-1])*symbols[multiplo]\n",
    "#   else:\n",
    "#     numeric = float(valor)\n",
    "\n",
    "  \n",
    "  return numeric"
   ]
  },
  {
   "cell_type": "code",
   "execution_count": 21,
   "metadata": {
    "id": "0Ar7f3NmeTWu"
   },
   "outputs": [],
   "source": [
    "def currency_to_numeric2(currency):\n",
    "  print(currency)\n",
    "  \"\"\"\n",
    "  La funcion recibe valores monetarios en un objeto de texto, los tranforma:\n",
    "  1- Elimina el simbolo de la moneda al inicio de la cadena\n",
    "  2- Extrae el caracter adicional al final de la cadena que indica el\n",
    "     multiplo de la cantidad (abreviatura). No siempre hay un simbolo.\n",
    "  3- Usa el valor para devolver la cantidad en numero (multiplica por el valor).\n",
    "  Ej: 250K pasa a 250000\n",
    "  ya que\n",
    "  1K = 1000\n",
    "  1M = 1000000\n",
    "  Sin letra solo parte numerica\n",
    "  \"\"\"\n",
    "  # el multiplo de K o M\n",
    "  symbols = {\"K\": 1000, \"M\": 1000000}\n",
    "  # Actualiza el valor de numeric con la cantidad en currency\n",
    "  numeric = 0.0\n",
    "\n",
    "  multiplo = currency[-1]\n",
    "  valor = currency[1:]\n",
    "\n",
    "  if multiplo in symbols:\n",
    "    numeric = float(valor[:-1])*symbols[multiplo]\n",
    "  else:\n",
    "    numeric = float(valor)\n",
    "\n",
    "  \n",
    "  return numeric"
   ]
  },
  {
   "cell_type": "markdown",
   "metadata": {
    "id": "fvCFRq0shNl_"
   },
   "source": [
    "Prueba tu función:"
   ]
  },
  {
   "cell_type": "code",
   "execution_count": 22,
   "metadata": {
    "id": "Ti7YRyBRzzuk"
   },
   "outputs": [
    {
     "name": "stdout",
     "output_type": "stream",
     "text": [
      "20\n"
     ]
    },
    {
     "ename": "AssertionError",
     "evalue": "Error",
     "output_type": "error",
     "traceback": [
      "\u001b[1;31m---------------------------------------------------------------------------\u001b[0m",
      "\u001b[1;31mAssertionError\u001b[0m                            Traceback (most recent call last)",
      "\u001b[1;32m<ipython-input-22-1d0e98a52d12>\u001b[0m in \u001b[0;36m<module>\u001b[1;34m\u001b[0m\n\u001b[1;32m----> 1\u001b[1;33m \u001b[1;32massert\u001b[0m \u001b[0mcurrency_to_numeric\u001b[0m\u001b[1;33m(\u001b[0m\u001b[1;34m\"$20\"\u001b[0m\u001b[1;33m)\u001b[0m \u001b[1;33m==\u001b[0m \u001b[1;36m20.0\u001b[0m \u001b[1;32mand\u001b[0m \u001b[0mcurrency_to_numeric\u001b[0m\u001b[1;33m(\u001b[0m\u001b[1;34m\"$50K\"\u001b[0m\u001b[1;33m)\u001b[0m \u001b[1;33m==\u001b[0m \u001b[1;36m50\u001b[0m\u001b[1;33m*\u001b[0m\u001b[1;36m10.0\u001b[0m\u001b[1;33m**\u001b[0m\u001b[1;36m3\u001b[0m \u001b[1;32mand\u001b[0m \u001b[0mcurrency_to_numeric\u001b[0m\u001b[1;33m(\u001b[0m\u001b[1;34m\"$10M\"\u001b[0m\u001b[1;33m)\u001b[0m \u001b[1;33m==\u001b[0m \u001b[1;36m10\u001b[0m\u001b[1;33m*\u001b[0m\u001b[1;36m10.0\u001b[0m\u001b[1;33m**\u001b[0m\u001b[1;36m6\u001b[0m\u001b[1;33m,\u001b[0m \u001b[1;34m\"Error\"\u001b[0m\u001b[1;33m\u001b[0m\u001b[1;33m\u001b[0m\u001b[0m\n\u001b[0m",
      "\u001b[1;31mAssertionError\u001b[0m: Error"
     ]
    }
   ],
   "source": [
    "assert currency_to_numeric(\"$20\") == 20.0 and currency_to_numeric(\"$50K\") == 50*10.0**3 and currency_to_numeric(\"$10M\") == 10*10.0**6, \"Error\""
   ]
  },
  {
   "cell_type": "markdown",
   "metadata": {
    "id": "2qhnh9vLhQSf"
   },
   "source": [
    "Cambia las columnas ```Wage``` y ```Value``` a numéricos usando ```currency_to_numeric``` elemento por elemento con ```applymap```:"
   ]
  },
  {
   "cell_type": "code",
   "execution_count": 23,
   "metadata": {
    "colab": {
     "base_uri": "https://localhost:8080/",
     "height": 326
    },
    "id": "Md4hPL9ohZXS",
    "outputId": "19361474-3d07-4344-ed91-725cb6ce0541"
   },
   "outputs": [
    {
     "name": "stdout",
     "output_type": "stream",
     "text": [
      "could not convert string to float: \n",
      "0\n",
      "could not convert string to float: \n",
      "0\n",
      "could not convert string to float: \n",
      "0\n",
      "could not convert string to float: \n",
      "0\n",
      "could not convert string to float: \n",
      "0\n",
      "could not convert string to float: \n",
      "0\n",
      "could not convert string to float: \n",
      "0\n",
      "could not convert string to float: \n",
      "0\n",
      "could not convert string to float: \n",
      "0\n",
      "could not convert string to float: \n",
      "0\n",
      "could not convert string to float: \n",
      "0\n"
     ]
    },
    {
     "data": {
      "text/html": [
       "<div>\n",
       "<style scoped>\n",
       "    .dataframe tbody tr th:only-of-type {\n",
       "        vertical-align: middle;\n",
       "    }\n",
       "\n",
       "    .dataframe tbody tr th {\n",
       "        vertical-align: top;\n",
       "    }\n",
       "\n",
       "    .dataframe thead th {\n",
       "        text-align: right;\n",
       "    }\n",
       "</style>\n",
       "<table border=\"1\" class=\"dataframe\">\n",
       "  <thead>\n",
       "    <tr style=\"text-align: right;\">\n",
       "      <th></th>\n",
       "      <th>ID</th>\n",
       "      <th>Name</th>\n",
       "      <th>Nationality</th>\n",
       "      <th>Club</th>\n",
       "      <th>Jersey Number</th>\n",
       "      <th>Value</th>\n",
       "      <th>Wage</th>\n",
       "      <th>Age</th>\n",
       "      <th>Height</th>\n",
       "      <th>Weight</th>\n",
       "      <th>...</th>\n",
       "      <th>Position</th>\n",
       "      <th>Overall</th>\n",
       "      <th>Potential</th>\n",
       "      <th>Shooting</th>\n",
       "      <th>Defense</th>\n",
       "      <th>Passing</th>\n",
       "      <th>Physical</th>\n",
       "      <th>Control</th>\n",
       "      <th>Mental</th>\n",
       "      <th>GoalKeeping</th>\n",
       "    </tr>\n",
       "  </thead>\n",
       "  <tbody>\n",
       "    <tr>\n",
       "      <th>0</th>\n",
       "      <td>158023</td>\n",
       "      <td>L. Messi</td>\n",
       "      <td>Argentina</td>\n",
       "      <td>FC Barcelona</td>\n",
       "      <td>10.0</td>\n",
       "      <td>0.0</td>\n",
       "      <td>0.0</td>\n",
       "      <td>31</td>\n",
       "      <td>5'7</td>\n",
       "      <td>159lbs</td>\n",
       "      <td>...</td>\n",
       "      <td>RF</td>\n",
       "      <td>94</td>\n",
       "      <td>94</td>\n",
       "      <td>86.0</td>\n",
       "      <td>41.0</td>\n",
       "      <td>87.0</td>\n",
       "      <td>80.0</td>\n",
       "      <td>96.0</td>\n",
       "      <td>95.0</td>\n",
       "      <td>11.0</td>\n",
       "    </tr>\n",
       "    <tr>\n",
       "      <th>1</th>\n",
       "      <td>20801</td>\n",
       "      <td>Cristiano Ronaldo</td>\n",
       "      <td>Portugal</td>\n",
       "      <td>Juventus</td>\n",
       "      <td>7.0</td>\n",
       "      <td>0.0</td>\n",
       "      <td>0.0</td>\n",
       "      <td>33</td>\n",
       "      <td>6'2</td>\n",
       "      <td>183lbs</td>\n",
       "      <td>...</td>\n",
       "      <td>ST</td>\n",
       "      <td>94</td>\n",
       "      <td>94</td>\n",
       "      <td>88.0</td>\n",
       "      <td>41.0</td>\n",
       "      <td>81.0</td>\n",
       "      <td>86.0</td>\n",
       "      <td>84.0</td>\n",
       "      <td>91.0</td>\n",
       "      <td>12.0</td>\n",
       "    </tr>\n",
       "    <tr>\n",
       "      <th>2</th>\n",
       "      <td>190871</td>\n",
       "      <td>Neymar Jr</td>\n",
       "      <td>Brazil</td>\n",
       "      <td>Paris Saint-Germain</td>\n",
       "      <td>10.0</td>\n",
       "      <td>0.0</td>\n",
       "      <td>0.0</td>\n",
       "      <td>26</td>\n",
       "      <td>5'9</td>\n",
       "      <td>150lbs</td>\n",
       "      <td>...</td>\n",
       "      <td>LW</td>\n",
       "      <td>92</td>\n",
       "      <td>93</td>\n",
       "      <td>81.0</td>\n",
       "      <td>42.0</td>\n",
       "      <td>80.0</td>\n",
       "      <td>79.0</td>\n",
       "      <td>92.0</td>\n",
       "      <td>92.0</td>\n",
       "      <td>12.0</td>\n",
       "    </tr>\n",
       "    <tr>\n",
       "      <th>3</th>\n",
       "      <td>193080</td>\n",
       "      <td>De Gea</td>\n",
       "      <td>Spain</td>\n",
       "      <td>Manchester United</td>\n",
       "      <td>1.0</td>\n",
       "      <td>0.0</td>\n",
       "      <td>0.0</td>\n",
       "      <td>27</td>\n",
       "      <td>6'4</td>\n",
       "      <td>168lbs</td>\n",
       "      <td>...</td>\n",
       "      <td>GK</td>\n",
       "      <td>91</td>\n",
       "      <td>93</td>\n",
       "      <td>21.0</td>\n",
       "      <td>18.0</td>\n",
       "      <td>39.0</td>\n",
       "      <td>56.0</td>\n",
       "      <td>34.0</td>\n",
       "      <td>75.0</td>\n",
       "      <td>89.0</td>\n",
       "    </tr>\n",
       "    <tr>\n",
       "      <th>4</th>\n",
       "      <td>192985</td>\n",
       "      <td>K. De Bruyne</td>\n",
       "      <td>Belgium</td>\n",
       "      <td>Manchester City</td>\n",
       "      <td>7.0</td>\n",
       "      <td>0.0</td>\n",
       "      <td>0.0</td>\n",
       "      <td>27</td>\n",
       "      <td>5'11</td>\n",
       "      <td>154lbs</td>\n",
       "      <td>...</td>\n",
       "      <td>RCM</td>\n",
       "      <td>91</td>\n",
       "      <td>92</td>\n",
       "      <td>81.0</td>\n",
       "      <td>65.0</td>\n",
       "      <td>92.0</td>\n",
       "      <td>77.0</td>\n",
       "      <td>85.0</td>\n",
       "      <td>91.0</td>\n",
       "      <td>11.0</td>\n",
       "    </tr>\n",
       "  </tbody>\n",
       "</table>\n",
       "<p>5 rows × 21 columns</p>\n",
       "</div>"
      ],
      "text/plain": [
       "       ID               Name Nationality                 Club  Jersey Number  \\\n",
       "0  158023           L. Messi   Argentina         FC Barcelona           10.0   \n",
       "1   20801  Cristiano Ronaldo    Portugal             Juventus            7.0   \n",
       "2  190871          Neymar Jr      Brazil  Paris Saint-Germain           10.0   \n",
       "3  193080             De Gea       Spain    Manchester United            1.0   \n",
       "4  192985       K. De Bruyne     Belgium      Manchester City            7.0   \n",
       "\n",
       "   Value  Wage  Age Height  Weight  ... Position Overall  Potential  Shooting  \\\n",
       "0    0.0   0.0   31    5'7  159lbs  ...       RF      94         94      86.0   \n",
       "1    0.0   0.0   33    6'2  183lbs  ...       ST      94         94      88.0   \n",
       "2    0.0   0.0   26    5'9  150lbs  ...       LW      92         93      81.0   \n",
       "3    0.0   0.0   27    6'4  168lbs  ...       GK      91         93      21.0   \n",
       "4    0.0   0.0   27   5'11  154lbs  ...      RCM      91         92      81.0   \n",
       "\n",
       "   Defense  Passing  Physical  Control  Mental  GoalKeeping  \n",
       "0     41.0     87.0      80.0     96.0    95.0         11.0  \n",
       "1     41.0     81.0      86.0     84.0    91.0         12.0  \n",
       "2     42.0     80.0      79.0     92.0    92.0         12.0  \n",
       "3     18.0     39.0      56.0     34.0    75.0         89.0  \n",
       "4     65.0     92.0      77.0     85.0    91.0         11.0  \n",
       "\n",
       "[5 rows x 21 columns]"
      ]
     },
     "execution_count": 23,
     "metadata": {},
     "output_type": "execute_result"
    }
   ],
   "source": [
    "fifa_df[[\"Wage\", \"Value\"]] = fifa_df[[\"Wage\", \"Value\"]].applymap(currency_to_numeric)#<completa>\n",
    "fifa_df.head()"
   ]
  },
  {
   "cell_type": "markdown",
   "metadata": {
    "id": "sWhWdHIr4x7O"
   },
   "source": [
    "### Suplementando la información\n",
    "\n",
    "En el set de datos, tenemos una columna ```Position``` que indica la posición en la que el jugador se desempeña en el campo. Algo que podrás notar, es que originalmente la posición está de manera abreviada, si no conoces las abreviaturas, será complicado saber en qué posición juega cada jugador. \n",
    "\n",
    "\n",
    "Para solucionar esto, usémos otro set de datos para cambiar de abreviatura a algo más descriptivo, pero manteniendo la abreviatura.\n",
    "\n",
    "La siguiente imágen muestra las posiciónes más comunes en el campo:\n",
    "![Posiciones de juego](https://raw.githubusercontent.com/jhermosillo/DIPLOMADO_CDP/main/01%20Programaci%C3%B3n%20en%20Python/images/SoccerFieldPositions.png)\n"
   ]
  },
  {
   "cell_type": "markdown",
   "metadata": {
    "id": "juf6Sw6i64es"
   },
   "source": [
    "Vamos a utilizar un nuevo set de datos que contiene la abreviatura de cada posición (```Abbreviation```) y su significado (```Full```).\n",
    "\n",
    "Carga el archivo desde github a colab con la siguiente celda:"
   ]
  },
  {
   "cell_type": "code",
   "execution_count": 20,
   "metadata": {
    "colab": {
     "base_uri": "https://localhost:8080/"
    },
    "id": "EpicEmIrAl7M",
    "outputId": "11e4aeb7-e306-4ea4-84c0-0b885be7c336"
   },
   "outputs": [
    {
     "name": "stdout",
     "output_type": "stream",
     "text": [
      "404: Not Found\n"
     ]
    },
    {
     "name": "stderr",
     "output_type": "stream",
     "text": [
      "  % Total    % Received % Xferd  Average Speed   Time    Time     Time  Current\n",
      "                                 Dload  Upload   Total   Spent    Left  Speed\n",
      "\n",
      "  0     0    0     0    0     0      0      0 --:--:-- --:--:-- --:--:--     0\n",
      "  0     0    0     0    0     0      0      0 --:--:-- --:--:-- --:--:--     0\n",
      "  0     0    0     0    0     0      0      0 --:--:--  0:00:01 --:--:--     0curl: (6) Could not resolve host: application\n",
      "  % Total    % Received % Xferd  Average Speed   Time    Time     Time  Current\n",
      "                                 Dload  Upload   Total   Spent    Left  Speed\n",
      "\n",
      "  0     0    0     0    0     0      0      0 --:--:-- --:--:-- --:--:--     0\n",
      "100    14  100    14    0     0     30      0 --:--:-- --:--:-- --:--:--    30\n",
      "100    14  100    14    0     0     30      0 --:--:-- --:--:-- --:--:--    30\n"
     ]
    }
   ],
   "source": [
    " # Fetch the dataset using the raw GitHub URL.\n",
    " !curl --remote-name \\\n",
    "      -H 'Accept: application/vnd.github.v3.raw' \\\n",
    "      --location https://raw.githubusercontent.com/MauricioRR-Tec/AprendizajeAutomatico/master/Tema_1_Introduccion/data/positions.csv"
   ]
  },
  {
   "cell_type": "markdown",
   "metadata": {
    "id": "_8WhqOUzBxI0"
   },
   "source": [
    "Ejecuta la siguiente celda para crear y ver el nuevo dataframe con los datos de las posiciones:"
   ]
  },
  {
   "cell_type": "code",
   "execution_count": 24,
   "metadata": {
    "colab": {
     "base_uri": "https://localhost:8080/",
     "height": 49
    },
    "id": "fEuD-qyI4yWj",
    "outputId": "09266c7d-d355-4cad-9920-200eefd559ee"
   },
   "outputs": [
    {
     "data": {
      "text/html": [
       "<div>\n",
       "<style scoped>\n",
       "    .dataframe tbody tr th:only-of-type {\n",
       "        vertical-align: middle;\n",
       "    }\n",
       "\n",
       "    .dataframe tbody tr th {\n",
       "        vertical-align: top;\n",
       "    }\n",
       "\n",
       "    .dataframe thead th {\n",
       "        text-align: right;\n",
       "    }\n",
       "</style>\n",
       "<table border=\"1\" class=\"dataframe\">\n",
       "  <thead>\n",
       "    <tr style=\"text-align: right;\">\n",
       "      <th></th>\n",
       "      <th>Abbreviation</th>\n",
       "      <th>Full</th>\n",
       "    </tr>\n",
       "  </thead>\n",
       "  <tbody>\n",
       "    <tr>\n",
       "      <th>0</th>\n",
       "      <td>GK</td>\n",
       "      <td>Goalkeeper</td>\n",
       "    </tr>\n",
       "    <tr>\n",
       "      <th>1</th>\n",
       "      <td>SW</td>\n",
       "      <td>Sweeper</td>\n",
       "    </tr>\n",
       "    <tr>\n",
       "      <th>2</th>\n",
       "      <td>CB</td>\n",
       "      <td>Center Back</td>\n",
       "    </tr>\n",
       "    <tr>\n",
       "      <th>3</th>\n",
       "      <td>LCB</td>\n",
       "      <td>Left Center Back</td>\n",
       "    </tr>\n",
       "    <tr>\n",
       "      <th>4</th>\n",
       "      <td>RCB</td>\n",
       "      <td>Right Center Back</td>\n",
       "    </tr>\n",
       "  </tbody>\n",
       "</table>\n",
       "</div>"
      ],
      "text/plain": [
       "  Abbreviation               Full\n",
       "0           GK         Goalkeeper\n",
       "1           SW            Sweeper\n",
       "2           CB        Center Back\n",
       "3          LCB   Left Center Back\n",
       "4          RCB  Right Center Back"
      ]
     },
     "execution_count": 24,
     "metadata": {},
     "output_type": "execute_result"
    }
   ],
   "source": [
    "positions_df = pd.read_csv(\"../data/fifa/positions.csv\", header=0, skipinitialspace=True)\n",
    "positions_df.head()"
   ]
  },
  {
   "cell_type": "code",
   "execution_count": 26,
   "metadata": {
    "colab": {
     "base_uri": "https://localhost:8080/",
     "height": 204
    },
    "id": "9bsdckrG3rOa",
    "outputId": "ece0eabf-f010-4f5c-d155-ffcd350a245b"
   },
   "outputs": [
    {
     "data": {
      "text/html": [
       "<div>\n",
       "<style scoped>\n",
       "    .dataframe tbody tr th:only-of-type {\n",
       "        vertical-align: middle;\n",
       "    }\n",
       "\n",
       "    .dataframe tbody tr th {\n",
       "        vertical-align: top;\n",
       "    }\n",
       "\n",
       "    .dataframe thead th {\n",
       "        text-align: right;\n",
       "    }\n",
       "</style>\n",
       "<table border=\"1\" class=\"dataframe\">\n",
       "  <thead>\n",
       "    <tr style=\"text-align: right;\">\n",
       "      <th></th>\n",
       "      <th>Abbreviation</th>\n",
       "      <th>Full</th>\n",
       "    </tr>\n",
       "  </thead>\n",
       "  <tbody>\n",
       "    <tr>\n",
       "      <th>0</th>\n",
       "      <td>GK</td>\n",
       "      <td>Goalkeeper</td>\n",
       "    </tr>\n",
       "    <tr>\n",
       "      <th>1</th>\n",
       "      <td>SW</td>\n",
       "      <td>Sweeper</td>\n",
       "    </tr>\n",
       "    <tr>\n",
       "      <th>2</th>\n",
       "      <td>CB</td>\n",
       "      <td>Center Back</td>\n",
       "    </tr>\n",
       "    <tr>\n",
       "      <th>3</th>\n",
       "      <td>LCB</td>\n",
       "      <td>Left Center Back</td>\n",
       "    </tr>\n",
       "    <tr>\n",
       "      <th>4</th>\n",
       "      <td>RCB</td>\n",
       "      <td>Right Center Back</td>\n",
       "    </tr>\n",
       "  </tbody>\n",
       "</table>\n",
       "</div>"
      ],
      "text/plain": [
       "  Abbreviation               Full\n",
       "0           GK         Goalkeeper\n",
       "1           SW            Sweeper\n",
       "2           CB        Center Back\n",
       "3          LCB   Left Center Back\n",
       "4          RCB  Right Center Back"
      ]
     },
     "execution_count": 26,
     "metadata": {},
     "output_type": "execute_result"
    }
   ],
   "source": [
    "positions_df.head()"
   ]
  },
  {
   "cell_type": "markdown",
   "metadata": {
    "id": "ZC62QetW7Ier"
   },
   "source": [
    "Utiliza el nuevo dataframe para actualizar la columna ```Position``` en el dataframe de jugadores por la posición descriptiva + abreviada.\n",
    "\n",
    "Primero, debemos de *unir* ambos dataframes, ambos comparten una columna (pero tienen diferentes nombre) la posición abreviada.\n",
    "\n",
    "Utiliza un método de pandas para unir el dataframe ```fifa_df``` con ```positions_df```.\n",
    "\n",
    "*Tip: Queremos unir cada fila de la **izquierda** (cada jugador) con una sola fila de la **derecha** (su posición completa en el campo).*"
   ]
  },
  {
   "cell_type": "code",
   "execution_count": 27,
   "metadata": {
    "id": "1UsLj_dY7UUG"
   },
   "outputs": [],
   "source": [
    "merged_df = fifa_df.merge(positions_df,how='inner', left_on='Position', right_on='Abbreviation')"
   ]
  },
  {
   "cell_type": "code",
   "execution_count": 28,
   "metadata": {
    "colab": {
     "base_uri": "https://localhost:8080/",
     "height": 326
    },
    "id": "andWs45D6jV5",
    "outputId": "360b572d-4ae3-4aff-8bd6-97a53835ae3c"
   },
   "outputs": [
    {
     "data": {
      "text/html": [
       "<div>\n",
       "<style scoped>\n",
       "    .dataframe tbody tr th:only-of-type {\n",
       "        vertical-align: middle;\n",
       "    }\n",
       "\n",
       "    .dataframe tbody tr th {\n",
       "        vertical-align: top;\n",
       "    }\n",
       "\n",
       "    .dataframe thead th {\n",
       "        text-align: right;\n",
       "    }\n",
       "</style>\n",
       "<table border=\"1\" class=\"dataframe\">\n",
       "  <thead>\n",
       "    <tr style=\"text-align: right;\">\n",
       "      <th></th>\n",
       "      <th>ID</th>\n",
       "      <th>Name</th>\n",
       "      <th>Nationality</th>\n",
       "      <th>Club</th>\n",
       "      <th>Jersey Number</th>\n",
       "      <th>Value</th>\n",
       "      <th>Wage</th>\n",
       "      <th>Age</th>\n",
       "      <th>Height</th>\n",
       "      <th>Weight</th>\n",
       "      <th>...</th>\n",
       "      <th>Potential</th>\n",
       "      <th>Shooting</th>\n",
       "      <th>Defense</th>\n",
       "      <th>Passing</th>\n",
       "      <th>Physical</th>\n",
       "      <th>Control</th>\n",
       "      <th>Mental</th>\n",
       "      <th>GoalKeeping</th>\n",
       "      <th>Abbreviation</th>\n",
       "      <th>Full</th>\n",
       "    </tr>\n",
       "  </thead>\n",
       "  <tbody>\n",
       "    <tr>\n",
       "      <th>0</th>\n",
       "      <td>158023</td>\n",
       "      <td>L. Messi</td>\n",
       "      <td>Argentina</td>\n",
       "      <td>FC Barcelona</td>\n",
       "      <td>10.0</td>\n",
       "      <td>0.0</td>\n",
       "      <td>0.0</td>\n",
       "      <td>31</td>\n",
       "      <td>5'7</td>\n",
       "      <td>159lbs</td>\n",
       "      <td>...</td>\n",
       "      <td>94</td>\n",
       "      <td>86.0</td>\n",
       "      <td>41.0</td>\n",
       "      <td>87.0</td>\n",
       "      <td>80.0</td>\n",
       "      <td>96.0</td>\n",
       "      <td>95.0</td>\n",
       "      <td>11.0</td>\n",
       "      <td>RF</td>\n",
       "      <td>Right Forward</td>\n",
       "    </tr>\n",
       "    <tr>\n",
       "      <th>1</th>\n",
       "      <td>175943</td>\n",
       "      <td>D. Mertens</td>\n",
       "      <td>Belgium</td>\n",
       "      <td>Napoli</td>\n",
       "      <td>14.0</td>\n",
       "      <td>0.0</td>\n",
       "      <td>0.0</td>\n",
       "      <td>31</td>\n",
       "      <td>5'7</td>\n",
       "      <td>134lbs</td>\n",
       "      <td>...</td>\n",
       "      <td>87</td>\n",
       "      <td>74.0</td>\n",
       "      <td>46.0</td>\n",
       "      <td>78.0</td>\n",
       "      <td>77.0</td>\n",
       "      <td>91.0</td>\n",
       "      <td>84.0</td>\n",
       "      <td>8.0</td>\n",
       "      <td>RF</td>\n",
       "      <td>Right Forward</td>\n",
       "    </tr>\n",
       "    <tr>\n",
       "      <th>2</th>\n",
       "      <td>172114</td>\n",
       "      <td>D. Valeri</td>\n",
       "      <td>Argentina</td>\n",
       "      <td>Portland Timbers</td>\n",
       "      <td>8.0</td>\n",
       "      <td>0.0</td>\n",
       "      <td>0.0</td>\n",
       "      <td>32</td>\n",
       "      <td>5'10</td>\n",
       "      <td>165lbs</td>\n",
       "      <td>...</td>\n",
       "      <td>80</td>\n",
       "      <td>79.0</td>\n",
       "      <td>46.0</td>\n",
       "      <td>78.0</td>\n",
       "      <td>69.0</td>\n",
       "      <td>78.0</td>\n",
       "      <td>82.0</td>\n",
       "      <td>12.0</td>\n",
       "      <td>RF</td>\n",
       "      <td>Right Forward</td>\n",
       "    </tr>\n",
       "    <tr>\n",
       "      <th>3</th>\n",
       "      <td>150516</td>\n",
       "      <td>L. Podolski</td>\n",
       "      <td>Germany</td>\n",
       "      <td>Vissel Kobe</td>\n",
       "      <td>10.0</td>\n",
       "      <td>0.0</td>\n",
       "      <td>0.0</td>\n",
       "      <td>33</td>\n",
       "      <td>6'0</td>\n",
       "      <td>183lbs</td>\n",
       "      <td>...</td>\n",
       "      <td>78</td>\n",
       "      <td>80.0</td>\n",
       "      <td>49.0</td>\n",
       "      <td>73.0</td>\n",
       "      <td>73.0</td>\n",
       "      <td>75.0</td>\n",
       "      <td>78.0</td>\n",
       "      <td>11.0</td>\n",
       "      <td>RF</td>\n",
       "      <td>Right Forward</td>\n",
       "    </tr>\n",
       "    <tr>\n",
       "      <th>4</th>\n",
       "      <td>201313</td>\n",
       "      <td>C. Ciano</td>\n",
       "      <td>Italy</td>\n",
       "      <td>Frosinone</td>\n",
       "      <td>28.0</td>\n",
       "      <td>0.0</td>\n",
       "      <td>0.0</td>\n",
       "      <td>28</td>\n",
       "      <td>5'9</td>\n",
       "      <td>161lbs</td>\n",
       "      <td>...</td>\n",
       "      <td>75</td>\n",
       "      <td>70.0</td>\n",
       "      <td>32.0</td>\n",
       "      <td>72.0</td>\n",
       "      <td>72.0</td>\n",
       "      <td>77.0</td>\n",
       "      <td>72.0</td>\n",
       "      <td>9.0</td>\n",
       "      <td>RF</td>\n",
       "      <td>Right Forward</td>\n",
       "    </tr>\n",
       "  </tbody>\n",
       "</table>\n",
       "<p>5 rows × 23 columns</p>\n",
       "</div>"
      ],
      "text/plain": [
       "       ID         Name Nationality              Club  Jersey Number  Value  \\\n",
       "0  158023     L. Messi   Argentina      FC Barcelona           10.0    0.0   \n",
       "1  175943   D. Mertens     Belgium            Napoli           14.0    0.0   \n",
       "2  172114    D. Valeri   Argentina  Portland Timbers            8.0    0.0   \n",
       "3  150516  L. Podolski     Germany       Vissel Kobe           10.0    0.0   \n",
       "4  201313     C. Ciano       Italy         Frosinone           28.0    0.0   \n",
       "\n",
       "   Wage  Age Height  Weight  ... Potential Shooting  Defense  Passing  \\\n",
       "0   0.0   31    5'7  159lbs  ...        94     86.0     41.0     87.0   \n",
       "1   0.0   31    5'7  134lbs  ...        87     74.0     46.0     78.0   \n",
       "2   0.0   32   5'10  165lbs  ...        80     79.0     46.0     78.0   \n",
       "3   0.0   33    6'0  183lbs  ...        78     80.0     49.0     73.0   \n",
       "4   0.0   28    5'9  161lbs  ...        75     70.0     32.0     72.0   \n",
       "\n",
       "   Physical  Control  Mental  GoalKeeping  Abbreviation           Full  \n",
       "0      80.0     96.0    95.0         11.0            RF  Right Forward  \n",
       "1      77.0     91.0    84.0          8.0            RF  Right Forward  \n",
       "2      69.0     78.0    82.0         12.0            RF  Right Forward  \n",
       "3      73.0     75.0    78.0         11.0            RF  Right Forward  \n",
       "4      72.0     77.0    72.0          9.0            RF  Right Forward  \n",
       "\n",
       "[5 rows x 23 columns]"
      ]
     },
     "execution_count": 28,
     "metadata": {},
     "output_type": "execute_result"
    }
   ],
   "source": [
    "merged_df.head()"
   ]
  },
  {
   "cell_type": "code",
   "execution_count": 29,
   "metadata": {
    "colab": {
     "base_uri": "https://localhost:8080/"
    },
    "id": "AGYWwD_9C_17",
    "outputId": "167991b8-69c5-443e-8e19-54441bd1a538"
   },
   "outputs": [
    {
     "name": "stdout",
     "output_type": "stream",
     "text": [
      "La union de ambos dataframes contiene  23  columnas\n"
     ]
    }
   ],
   "source": [
    "assert len(merged_df.columns) == 23, \"Error\"\n",
    "print(\"La union de ambos dataframes contiene \", len(merged_df.columns), \" columnas\")"
   ]
  },
  {
   "cell_type": "markdown",
   "metadata": {
    "id": "WEZT4Via5wL_"
   },
   "source": [
    "Usemos la nueva columna ```Full``` para actualizar la columna ```Position``` para que contenga el significado y abreviatura de la posición:\n",
    "\n",
    "```merged_df[\"Full\"] + \" (\" + merged_df[\"Position\"] +\")\"```"
   ]
  },
  {
   "cell_type": "code",
   "execution_count": 30,
   "metadata": {
    "id": "KVKr0Zry5wcb"
   },
   "outputs": [],
   "source": [
    "merged_df[\"Position\"] = merged_df[\"Full\"] + \" (\" + merged_df[\"Position\"] +\")\""
   ]
  },
  {
   "cell_type": "markdown",
   "metadata": {
    "id": "QXnqnZK6GL9k"
   },
   "source": [
    "Muestra la columna actualizada:"
   ]
  },
  {
   "cell_type": "code",
   "execution_count": 31,
   "metadata": {
    "colab": {
     "base_uri": "https://localhost:8080/"
    },
    "id": "MpKl_59uGLcI",
    "outputId": "0f439bc9-4d8e-4913-f50b-896a222bb148"
   },
   "outputs": [
    {
     "data": {
      "text/plain": [
       "0    Right Forward (RF)\n",
       "1    Right Forward (RF)\n",
       "2    Right Forward (RF)\n",
       "Name: Position, dtype: object"
      ]
     },
     "execution_count": 31,
     "metadata": {},
     "output_type": "execute_result"
    }
   ],
   "source": [
    "merged_df[\"Position\"].head(3)"
   ]
  },
  {
   "cell_type": "markdown",
   "metadata": {
    "id": "xmeIYYIa5nq5"
   },
   "source": [
    "Ahora, tenemos algunas columnas adicionales que ya no son útiles.\n",
    "\n",
    "Eliminemos las columnas ```Abbreviation``` y ```Full``` del dataframe usando ```drop()```:"
   ]
  },
  {
   "cell_type": "code",
   "execution_count": 32,
   "metadata": {
    "id": "_pAUfr7M5oU-"
   },
   "outputs": [],
   "source": [
    "merged_df = merged_df.drop([\"Abbreviation\", \"Full\"], axis=1)"
   ]
  },
  {
   "cell_type": "code",
   "execution_count": 33,
   "metadata": {
    "colab": {
     "base_uri": "https://localhost:8080/",
     "height": 281
    },
    "id": "K4Qqvacs68Ri",
    "outputId": "cb2b2e66-44c7-4e3e-895d-86a6002ac0ac"
   },
   "outputs": [
    {
     "data": {
      "text/html": [
       "<div>\n",
       "<style scoped>\n",
       "    .dataframe tbody tr th:only-of-type {\n",
       "        vertical-align: middle;\n",
       "    }\n",
       "\n",
       "    .dataframe tbody tr th {\n",
       "        vertical-align: top;\n",
       "    }\n",
       "\n",
       "    .dataframe thead th {\n",
       "        text-align: right;\n",
       "    }\n",
       "</style>\n",
       "<table border=\"1\" class=\"dataframe\">\n",
       "  <thead>\n",
       "    <tr style=\"text-align: right;\">\n",
       "      <th></th>\n",
       "      <th>ID</th>\n",
       "      <th>Name</th>\n",
       "      <th>Nationality</th>\n",
       "      <th>Club</th>\n",
       "      <th>Jersey Number</th>\n",
       "      <th>Value</th>\n",
       "      <th>Wage</th>\n",
       "      <th>Age</th>\n",
       "      <th>Height</th>\n",
       "      <th>Weight</th>\n",
       "      <th>...</th>\n",
       "      <th>Position</th>\n",
       "      <th>Overall</th>\n",
       "      <th>Potential</th>\n",
       "      <th>Shooting</th>\n",
       "      <th>Defense</th>\n",
       "      <th>Passing</th>\n",
       "      <th>Physical</th>\n",
       "      <th>Control</th>\n",
       "      <th>Mental</th>\n",
       "      <th>GoalKeeping</th>\n",
       "    </tr>\n",
       "  </thead>\n",
       "  <tbody>\n",
       "    <tr>\n",
       "      <th>0</th>\n",
       "      <td>158023</td>\n",
       "      <td>L. Messi</td>\n",
       "      <td>Argentina</td>\n",
       "      <td>FC Barcelona</td>\n",
       "      <td>10.0</td>\n",
       "      <td>0.0</td>\n",
       "      <td>0.0</td>\n",
       "      <td>31</td>\n",
       "      <td>5'7</td>\n",
       "      <td>159lbs</td>\n",
       "      <td>...</td>\n",
       "      <td>Right Forward (RF)</td>\n",
       "      <td>94</td>\n",
       "      <td>94</td>\n",
       "      <td>86.0</td>\n",
       "      <td>41.0</td>\n",
       "      <td>87.0</td>\n",
       "      <td>80.0</td>\n",
       "      <td>96.0</td>\n",
       "      <td>95.0</td>\n",
       "      <td>11.0</td>\n",
       "    </tr>\n",
       "    <tr>\n",
       "      <th>1</th>\n",
       "      <td>175943</td>\n",
       "      <td>D. Mertens</td>\n",
       "      <td>Belgium</td>\n",
       "      <td>Napoli</td>\n",
       "      <td>14.0</td>\n",
       "      <td>0.0</td>\n",
       "      <td>0.0</td>\n",
       "      <td>31</td>\n",
       "      <td>5'7</td>\n",
       "      <td>134lbs</td>\n",
       "      <td>...</td>\n",
       "      <td>Right Forward (RF)</td>\n",
       "      <td>87</td>\n",
       "      <td>87</td>\n",
       "      <td>74.0</td>\n",
       "      <td>46.0</td>\n",
       "      <td>78.0</td>\n",
       "      <td>77.0</td>\n",
       "      <td>91.0</td>\n",
       "      <td>84.0</td>\n",
       "      <td>8.0</td>\n",
       "    </tr>\n",
       "    <tr>\n",
       "      <th>2</th>\n",
       "      <td>172114</td>\n",
       "      <td>D. Valeri</td>\n",
       "      <td>Argentina</td>\n",
       "      <td>Portland Timbers</td>\n",
       "      <td>8.0</td>\n",
       "      <td>0.0</td>\n",
       "      <td>0.0</td>\n",
       "      <td>32</td>\n",
       "      <td>5'10</td>\n",
       "      <td>165lbs</td>\n",
       "      <td>...</td>\n",
       "      <td>Right Forward (RF)</td>\n",
       "      <td>80</td>\n",
       "      <td>80</td>\n",
       "      <td>79.0</td>\n",
       "      <td>46.0</td>\n",
       "      <td>78.0</td>\n",
       "      <td>69.0</td>\n",
       "      <td>78.0</td>\n",
       "      <td>82.0</td>\n",
       "      <td>12.0</td>\n",
       "    </tr>\n",
       "  </tbody>\n",
       "</table>\n",
       "<p>3 rows × 21 columns</p>\n",
       "</div>"
      ],
      "text/plain": [
       "       ID        Name Nationality              Club  Jersey Number  Value  \\\n",
       "0  158023    L. Messi   Argentina      FC Barcelona           10.0    0.0   \n",
       "1  175943  D. Mertens     Belgium            Napoli           14.0    0.0   \n",
       "2  172114   D. Valeri   Argentina  Portland Timbers            8.0    0.0   \n",
       "\n",
       "   Wage  Age Height  Weight  ...            Position Overall  Potential  \\\n",
       "0   0.0   31    5'7  159lbs  ...  Right Forward (RF)      94         94   \n",
       "1   0.0   31    5'7  134lbs  ...  Right Forward (RF)      87         87   \n",
       "2   0.0   32   5'10  165lbs  ...  Right Forward (RF)      80         80   \n",
       "\n",
       "   Shooting  Defense  Passing  Physical  Control  Mental  GoalKeeping  \n",
       "0      86.0     41.0     87.0      80.0     96.0    95.0         11.0  \n",
       "1      74.0     46.0     78.0      77.0     91.0    84.0          8.0  \n",
       "2      79.0     46.0     78.0      69.0     78.0    82.0         12.0  \n",
       "\n",
       "[3 rows x 21 columns]"
      ]
     },
     "execution_count": 33,
     "metadata": {},
     "output_type": "execute_result"
    }
   ],
   "source": [
    "merged_df.head(3)"
   ]
  },
  {
   "cell_type": "code",
   "execution_count": 34,
   "metadata": {
    "id": "YII9iv1PG3Ux"
   },
   "outputs": [],
   "source": [
    "assert len(merged_df.columns) == 21, \"Error\""
   ]
  },
  {
   "cell_type": "markdown",
   "metadata": {
    "id": "zAUeeSXvxU6g"
   },
   "source": [
    "Asignemos al dataframe original ```fifa_df``` el nuevo dataframe con el tratamiento de datos ya realizado:"
   ]
  },
  {
   "cell_type": "code",
   "execution_count": 35,
   "metadata": {
    "colab": {
     "base_uri": "https://localhost:8080/",
     "height": 411
    },
    "id": "mFz5iU9SxScb",
    "outputId": "6b0bf11a-d1fc-4150-e0a6-de799375fd10"
   },
   "outputs": [
    {
     "data": {
      "text/html": [
       "<div>\n",
       "<style scoped>\n",
       "    .dataframe tbody tr th:only-of-type {\n",
       "        vertical-align: middle;\n",
       "    }\n",
       "\n",
       "    .dataframe tbody tr th {\n",
       "        vertical-align: top;\n",
       "    }\n",
       "\n",
       "    .dataframe thead th {\n",
       "        text-align: right;\n",
       "    }\n",
       "</style>\n",
       "<table border=\"1\" class=\"dataframe\">\n",
       "  <thead>\n",
       "    <tr style=\"text-align: right;\">\n",
       "      <th></th>\n",
       "      <th>ID</th>\n",
       "      <th>Name</th>\n",
       "      <th>Nationality</th>\n",
       "      <th>Club</th>\n",
       "      <th>Jersey Number</th>\n",
       "      <th>Value</th>\n",
       "      <th>Wage</th>\n",
       "      <th>Age</th>\n",
       "      <th>Height</th>\n",
       "      <th>Weight</th>\n",
       "      <th>...</th>\n",
       "      <th>Position</th>\n",
       "      <th>Overall</th>\n",
       "      <th>Potential</th>\n",
       "      <th>Shooting</th>\n",
       "      <th>Defense</th>\n",
       "      <th>Passing</th>\n",
       "      <th>Physical</th>\n",
       "      <th>Control</th>\n",
       "      <th>Mental</th>\n",
       "      <th>GoalKeeping</th>\n",
       "    </tr>\n",
       "  </thead>\n",
       "  <tbody>\n",
       "    <tr>\n",
       "      <th>0</th>\n",
       "      <td>158023</td>\n",
       "      <td>L. Messi</td>\n",
       "      <td>Argentina</td>\n",
       "      <td>FC Barcelona</td>\n",
       "      <td>10.0</td>\n",
       "      <td>0.0</td>\n",
       "      <td>0.0</td>\n",
       "      <td>31</td>\n",
       "      <td>5'7</td>\n",
       "      <td>159lbs</td>\n",
       "      <td>...</td>\n",
       "      <td>Right Forward (RF)</td>\n",
       "      <td>94</td>\n",
       "      <td>94</td>\n",
       "      <td>86.0</td>\n",
       "      <td>41.0</td>\n",
       "      <td>87.0</td>\n",
       "      <td>80.0</td>\n",
       "      <td>96.0</td>\n",
       "      <td>95.0</td>\n",
       "      <td>11.0</td>\n",
       "    </tr>\n",
       "    <tr>\n",
       "      <th>1</th>\n",
       "      <td>175943</td>\n",
       "      <td>D. Mertens</td>\n",
       "      <td>Belgium</td>\n",
       "      <td>Napoli</td>\n",
       "      <td>14.0</td>\n",
       "      <td>0.0</td>\n",
       "      <td>0.0</td>\n",
       "      <td>31</td>\n",
       "      <td>5'7</td>\n",
       "      <td>134lbs</td>\n",
       "      <td>...</td>\n",
       "      <td>Right Forward (RF)</td>\n",
       "      <td>87</td>\n",
       "      <td>87</td>\n",
       "      <td>74.0</td>\n",
       "      <td>46.0</td>\n",
       "      <td>78.0</td>\n",
       "      <td>77.0</td>\n",
       "      <td>91.0</td>\n",
       "      <td>84.0</td>\n",
       "      <td>8.0</td>\n",
       "    </tr>\n",
       "    <tr>\n",
       "      <th>2</th>\n",
       "      <td>172114</td>\n",
       "      <td>D. Valeri</td>\n",
       "      <td>Argentina</td>\n",
       "      <td>Portland Timbers</td>\n",
       "      <td>8.0</td>\n",
       "      <td>0.0</td>\n",
       "      <td>0.0</td>\n",
       "      <td>32</td>\n",
       "      <td>5'10</td>\n",
       "      <td>165lbs</td>\n",
       "      <td>...</td>\n",
       "      <td>Right Forward (RF)</td>\n",
       "      <td>80</td>\n",
       "      <td>80</td>\n",
       "      <td>79.0</td>\n",
       "      <td>46.0</td>\n",
       "      <td>78.0</td>\n",
       "      <td>69.0</td>\n",
       "      <td>78.0</td>\n",
       "      <td>82.0</td>\n",
       "      <td>12.0</td>\n",
       "    </tr>\n",
       "    <tr>\n",
       "      <th>3</th>\n",
       "      <td>150516</td>\n",
       "      <td>L. Podolski</td>\n",
       "      <td>Germany</td>\n",
       "      <td>Vissel Kobe</td>\n",
       "      <td>10.0</td>\n",
       "      <td>0.0</td>\n",
       "      <td>0.0</td>\n",
       "      <td>33</td>\n",
       "      <td>6'0</td>\n",
       "      <td>183lbs</td>\n",
       "      <td>...</td>\n",
       "      <td>Right Forward (RF)</td>\n",
       "      <td>78</td>\n",
       "      <td>78</td>\n",
       "      <td>80.0</td>\n",
       "      <td>49.0</td>\n",
       "      <td>73.0</td>\n",
       "      <td>73.0</td>\n",
       "      <td>75.0</td>\n",
       "      <td>78.0</td>\n",
       "      <td>11.0</td>\n",
       "    </tr>\n",
       "    <tr>\n",
       "      <th>4</th>\n",
       "      <td>201313</td>\n",
       "      <td>C. Ciano</td>\n",
       "      <td>Italy</td>\n",
       "      <td>Frosinone</td>\n",
       "      <td>28.0</td>\n",
       "      <td>0.0</td>\n",
       "      <td>0.0</td>\n",
       "      <td>28</td>\n",
       "      <td>5'9</td>\n",
       "      <td>161lbs</td>\n",
       "      <td>...</td>\n",
       "      <td>Right Forward (RF)</td>\n",
       "      <td>75</td>\n",
       "      <td>75</td>\n",
       "      <td>70.0</td>\n",
       "      <td>32.0</td>\n",
       "      <td>72.0</td>\n",
       "      <td>72.0</td>\n",
       "      <td>77.0</td>\n",
       "      <td>72.0</td>\n",
       "      <td>9.0</td>\n",
       "    </tr>\n",
       "  </tbody>\n",
       "</table>\n",
       "<p>5 rows × 21 columns</p>\n",
       "</div>"
      ],
      "text/plain": [
       "       ID         Name Nationality              Club  Jersey Number  Value  \\\n",
       "0  158023     L. Messi   Argentina      FC Barcelona           10.0    0.0   \n",
       "1  175943   D. Mertens     Belgium            Napoli           14.0    0.0   \n",
       "2  172114    D. Valeri   Argentina  Portland Timbers            8.0    0.0   \n",
       "3  150516  L. Podolski     Germany       Vissel Kobe           10.0    0.0   \n",
       "4  201313     C. Ciano       Italy         Frosinone           28.0    0.0   \n",
       "\n",
       "   Wage  Age Height  Weight  ...            Position Overall  Potential  \\\n",
       "0   0.0   31    5'7  159lbs  ...  Right Forward (RF)      94         94   \n",
       "1   0.0   31    5'7  134lbs  ...  Right Forward (RF)      87         87   \n",
       "2   0.0   32   5'10  165lbs  ...  Right Forward (RF)      80         80   \n",
       "3   0.0   33    6'0  183lbs  ...  Right Forward (RF)      78         78   \n",
       "4   0.0   28    5'9  161lbs  ...  Right Forward (RF)      75         75   \n",
       "\n",
       "   Shooting  Defense  Passing  Physical  Control  Mental  GoalKeeping  \n",
       "0      86.0     41.0     87.0      80.0     96.0    95.0         11.0  \n",
       "1      74.0     46.0     78.0      77.0     91.0    84.0          8.0  \n",
       "2      79.0     46.0     78.0      69.0     78.0    82.0         12.0  \n",
       "3      80.0     49.0     73.0      73.0     75.0    78.0         11.0  \n",
       "4      70.0     32.0     72.0      72.0     77.0    72.0          9.0  \n",
       "\n",
       "[5 rows x 21 columns]"
      ]
     },
     "execution_count": 35,
     "metadata": {},
     "output_type": "execute_result"
    }
   ],
   "source": [
    "fifa_df = merged_df\n",
    "fifa_df.head()"
   ]
  },
  {
   "cell_type": "markdown",
   "metadata": {
    "id": "11welP4cjgmM"
   },
   "source": [
    "## Análisis exploratorio\n",
    "\n",
    "En esta sección, utilizarás distintos métodos de los dataframes de pandas para generar un análisis exploratorio. En un análisis exploratorio, se busca explorar, resumir y entender los datos."
   ]
  },
  {
   "cell_type": "markdown",
   "metadata": {
    "id": "KDx_7ASLlnL7"
   },
   "source": [
    "### Jugadores con el mayor valor comercial y jugadores mejores pagados"
   ]
  },
  {
   "cell_type": "markdown",
   "metadata": {
    "id": "Ms3vFmAo15eW"
   },
   "source": [
    "Muestra el **Top 3** de jugadores con mayor valor (```Value```) en el mercado."
   ]
  },
  {
   "cell_type": "code",
   "execution_count": 36,
   "metadata": {
    "colab": {
     "base_uri": "https://localhost:8080/",
     "height": 281
    },
    "id": "XJAgwUc2J9y8",
    "outputId": "951c81a6-229c-4634-8fa3-8ccc7a9438ea"
   },
   "outputs": [
    {
     "data": {
      "text/html": [
       "<div>\n",
       "<style scoped>\n",
       "    .dataframe tbody tr th:only-of-type {\n",
       "        vertical-align: middle;\n",
       "    }\n",
       "\n",
       "    .dataframe tbody tr th {\n",
       "        vertical-align: top;\n",
       "    }\n",
       "\n",
       "    .dataframe thead th {\n",
       "        text-align: right;\n",
       "    }\n",
       "</style>\n",
       "<table border=\"1\" class=\"dataframe\">\n",
       "  <thead>\n",
       "    <tr style=\"text-align: right;\">\n",
       "      <th></th>\n",
       "      <th>ID</th>\n",
       "      <th>Name</th>\n",
       "      <th>Nationality</th>\n",
       "      <th>Club</th>\n",
       "      <th>Jersey Number</th>\n",
       "      <th>Value</th>\n",
       "      <th>Wage</th>\n",
       "      <th>Age</th>\n",
       "      <th>Height</th>\n",
       "      <th>Weight</th>\n",
       "      <th>...</th>\n",
       "      <th>Position</th>\n",
       "      <th>Overall</th>\n",
       "      <th>Potential</th>\n",
       "      <th>Shooting</th>\n",
       "      <th>Defense</th>\n",
       "      <th>Passing</th>\n",
       "      <th>Physical</th>\n",
       "      <th>Control</th>\n",
       "      <th>Mental</th>\n",
       "      <th>GoalKeeping</th>\n",
       "    </tr>\n",
       "  </thead>\n",
       "  <tbody>\n",
       "    <tr>\n",
       "      <th>0</th>\n",
       "      <td>158023</td>\n",
       "      <td>L. Messi</td>\n",
       "      <td>Argentina</td>\n",
       "      <td>FC Barcelona</td>\n",
       "      <td>10.0</td>\n",
       "      <td>0.0</td>\n",
       "      <td>0.0</td>\n",
       "      <td>31</td>\n",
       "      <td>5'7</td>\n",
       "      <td>159lbs</td>\n",
       "      <td>...</td>\n",
       "      <td>Right Forward (RF)</td>\n",
       "      <td>94</td>\n",
       "      <td>94</td>\n",
       "      <td>86.0</td>\n",
       "      <td>41.0</td>\n",
       "      <td>87.0</td>\n",
       "      <td>80.0</td>\n",
       "      <td>96.0</td>\n",
       "      <td>95.0</td>\n",
       "      <td>11.0</td>\n",
       "    </tr>\n",
       "    <tr>\n",
       "      <th>11943</th>\n",
       "      <td>242074</td>\n",
       "      <td>R. Gómez</td>\n",
       "      <td>Argentina</td>\n",
       "      <td>Belgrano de Córdoba</td>\n",
       "      <td>18.0</td>\n",
       "      <td>0.0</td>\n",
       "      <td>0.0</td>\n",
       "      <td>16</td>\n",
       "      <td>5'7</td>\n",
       "      <td>143lbs</td>\n",
       "      <td>...</td>\n",
       "      <td>Right Midfielder (RM)</td>\n",
       "      <td>55</td>\n",
       "      <td>76</td>\n",
       "      <td>49.0</td>\n",
       "      <td>33.0</td>\n",
       "      <td>50.0</td>\n",
       "      <td>58.0</td>\n",
       "      <td>64.0</td>\n",
       "      <td>46.0</td>\n",
       "      <td>11.0</td>\n",
       "    </tr>\n",
       "    <tr>\n",
       "      <th>11949</th>\n",
       "      <td>244522</td>\n",
       "      <td>M. Şatin</td>\n",
       "      <td>Austria</td>\n",
       "      <td>FC Wacker Innsbruck</td>\n",
       "      <td>80.0</td>\n",
       "      <td>0.0</td>\n",
       "      <td>0.0</td>\n",
       "      <td>21</td>\n",
       "      <td>5'10</td>\n",
       "      <td>152lbs</td>\n",
       "      <td>...</td>\n",
       "      <td>Right Midfielder (RM)</td>\n",
       "      <td>54</td>\n",
       "      <td>62</td>\n",
       "      <td>53.0</td>\n",
       "      <td>33.0</td>\n",
       "      <td>49.0</td>\n",
       "      <td>56.0</td>\n",
       "      <td>62.0</td>\n",
       "      <td>53.0</td>\n",
       "      <td>10.0</td>\n",
       "    </tr>\n",
       "  </tbody>\n",
       "</table>\n",
       "<p>3 rows × 21 columns</p>\n",
       "</div>"
      ],
      "text/plain": [
       "           ID      Name Nationality                 Club  Jersey Number  \\\n",
       "0      158023  L. Messi   Argentina         FC Barcelona           10.0   \n",
       "11943  242074  R. Gómez   Argentina  Belgrano de Córdoba           18.0   \n",
       "11949  244522  M. Şatin     Austria  FC Wacker Innsbruck           80.0   \n",
       "\n",
       "       Value  Wage  Age Height  Weight  ...               Position Overall  \\\n",
       "0        0.0   0.0   31    5'7  159lbs  ...     Right Forward (RF)      94   \n",
       "11943    0.0   0.0   16    5'7  143lbs  ...  Right Midfielder (RM)      55   \n",
       "11949    0.0   0.0   21   5'10  152lbs  ...  Right Midfielder (RM)      54   \n",
       "\n",
       "       Potential  Shooting  Defense  Passing  Physical  Control  Mental  \\\n",
       "0             94      86.0     41.0     87.0      80.0     96.0    95.0   \n",
       "11943         76      49.0     33.0     50.0      58.0     64.0    46.0   \n",
       "11949         62      53.0     33.0     49.0      56.0     62.0    53.0   \n",
       "\n",
       "       GoalKeeping  \n",
       "0             11.0  \n",
       "11943         11.0  \n",
       "11949         10.0  \n",
       "\n",
       "[3 rows x 21 columns]"
      ]
     },
     "execution_count": 36,
     "metadata": {},
     "output_type": "execute_result"
    }
   ],
   "source": [
    "fifa_df.sort_values('Value', ascending=False).head(3)# <completa>"
   ]
  },
  {
   "cell_type": "markdown",
   "metadata": {
    "id": "BWtWBTdz1yix"
   },
   "source": [
    "Muestra el **Top 3** de jugadores mejores pagados en el mundo (Salarios más altos, ```Wage```)."
   ]
  },
  {
   "cell_type": "code",
   "execution_count": 37,
   "metadata": {
    "colab": {
     "base_uri": "https://localhost:8080/",
     "height": 281
    },
    "id": "1yaixbRm1lgg",
    "outputId": "f46dc0a7-dc9b-4d1e-feb6-42604f284f97"
   },
   "outputs": [
    {
     "data": {
      "text/html": [
       "<div>\n",
       "<style scoped>\n",
       "    .dataframe tbody tr th:only-of-type {\n",
       "        vertical-align: middle;\n",
       "    }\n",
       "\n",
       "    .dataframe tbody tr th {\n",
       "        vertical-align: top;\n",
       "    }\n",
       "\n",
       "    .dataframe thead th {\n",
       "        text-align: right;\n",
       "    }\n",
       "</style>\n",
       "<table border=\"1\" class=\"dataframe\">\n",
       "  <thead>\n",
       "    <tr style=\"text-align: right;\">\n",
       "      <th></th>\n",
       "      <th>ID</th>\n",
       "      <th>Name</th>\n",
       "      <th>Nationality</th>\n",
       "      <th>Club</th>\n",
       "      <th>Jersey Number</th>\n",
       "      <th>Value</th>\n",
       "      <th>Wage</th>\n",
       "      <th>Age</th>\n",
       "      <th>Height</th>\n",
       "      <th>Weight</th>\n",
       "      <th>...</th>\n",
       "      <th>Position</th>\n",
       "      <th>Overall</th>\n",
       "      <th>Potential</th>\n",
       "      <th>Shooting</th>\n",
       "      <th>Defense</th>\n",
       "      <th>Passing</th>\n",
       "      <th>Physical</th>\n",
       "      <th>Control</th>\n",
       "      <th>Mental</th>\n",
       "      <th>GoalKeeping</th>\n",
       "    </tr>\n",
       "  </thead>\n",
       "  <tbody>\n",
       "    <tr>\n",
       "      <th>0</th>\n",
       "      <td>158023</td>\n",
       "      <td>L. Messi</td>\n",
       "      <td>Argentina</td>\n",
       "      <td>FC Barcelona</td>\n",
       "      <td>10.0</td>\n",
       "      <td>0.0</td>\n",
       "      <td>0.0</td>\n",
       "      <td>31</td>\n",
       "      <td>5'7</td>\n",
       "      <td>159lbs</td>\n",
       "      <td>...</td>\n",
       "      <td>Right Forward (RF)</td>\n",
       "      <td>94</td>\n",
       "      <td>94</td>\n",
       "      <td>86.0</td>\n",
       "      <td>41.0</td>\n",
       "      <td>87.0</td>\n",
       "      <td>80.0</td>\n",
       "      <td>96.0</td>\n",
       "      <td>95.0</td>\n",
       "      <td>11.0</td>\n",
       "    </tr>\n",
       "    <tr>\n",
       "      <th>11943</th>\n",
       "      <td>242074</td>\n",
       "      <td>R. Gómez</td>\n",
       "      <td>Argentina</td>\n",
       "      <td>Belgrano de Córdoba</td>\n",
       "      <td>18.0</td>\n",
       "      <td>0.0</td>\n",
       "      <td>0.0</td>\n",
       "      <td>16</td>\n",
       "      <td>5'7</td>\n",
       "      <td>143lbs</td>\n",
       "      <td>...</td>\n",
       "      <td>Right Midfielder (RM)</td>\n",
       "      <td>55</td>\n",
       "      <td>76</td>\n",
       "      <td>49.0</td>\n",
       "      <td>33.0</td>\n",
       "      <td>50.0</td>\n",
       "      <td>58.0</td>\n",
       "      <td>64.0</td>\n",
       "      <td>46.0</td>\n",
       "      <td>11.0</td>\n",
       "    </tr>\n",
       "    <tr>\n",
       "      <th>11949</th>\n",
       "      <td>244522</td>\n",
       "      <td>M. Şatin</td>\n",
       "      <td>Austria</td>\n",
       "      <td>FC Wacker Innsbruck</td>\n",
       "      <td>80.0</td>\n",
       "      <td>0.0</td>\n",
       "      <td>0.0</td>\n",
       "      <td>21</td>\n",
       "      <td>5'10</td>\n",
       "      <td>152lbs</td>\n",
       "      <td>...</td>\n",
       "      <td>Right Midfielder (RM)</td>\n",
       "      <td>54</td>\n",
       "      <td>62</td>\n",
       "      <td>53.0</td>\n",
       "      <td>33.0</td>\n",
       "      <td>49.0</td>\n",
       "      <td>56.0</td>\n",
       "      <td>62.0</td>\n",
       "      <td>53.0</td>\n",
       "      <td>10.0</td>\n",
       "    </tr>\n",
       "  </tbody>\n",
       "</table>\n",
       "<p>3 rows × 21 columns</p>\n",
       "</div>"
      ],
      "text/plain": [
       "           ID      Name Nationality                 Club  Jersey Number  \\\n",
       "0      158023  L. Messi   Argentina         FC Barcelona           10.0   \n",
       "11943  242074  R. Gómez   Argentina  Belgrano de Córdoba           18.0   \n",
       "11949  244522  M. Şatin     Austria  FC Wacker Innsbruck           80.0   \n",
       "\n",
       "       Value  Wage  Age Height  Weight  ...               Position Overall  \\\n",
       "0        0.0   0.0   31    5'7  159lbs  ...     Right Forward (RF)      94   \n",
       "11943    0.0   0.0   16    5'7  143lbs  ...  Right Midfielder (RM)      55   \n",
       "11949    0.0   0.0   21   5'10  152lbs  ...  Right Midfielder (RM)      54   \n",
       "\n",
       "       Potential  Shooting  Defense  Passing  Physical  Control  Mental  \\\n",
       "0             94      86.0     41.0     87.0      80.0     96.0    95.0   \n",
       "11943         76      49.0     33.0     50.0      58.0     64.0    46.0   \n",
       "11949         62      53.0     33.0     49.0      56.0     62.0    53.0   \n",
       "\n",
       "       GoalKeeping  \n",
       "0             11.0  \n",
       "11943         11.0  \n",
       "11949         10.0  \n",
       "\n",
       "[3 rows x 21 columns]"
      ]
     },
     "execution_count": 37,
     "metadata": {},
     "output_type": "execute_result"
    }
   ],
   "source": [
    "fifa_df.sort_values('Wage', ascending=False).head(3)"
   ]
  },
  {
   "cell_type": "markdown",
   "metadata": {
    "id": "cpSEn-FJjwtT"
   },
   "source": [
    "### Potencial por alcanzar\n",
    "\n",
    "Utiliza operaciones Crea una nueva columna que  muestre el potencial por alcanzar ```Potential left``` de cada jugador en el conjunto de datos. El potencial por alcanzar puede ser calculado mediante ```Potential - Overall```."
   ]
  },
  {
   "cell_type": "code",
   "execution_count": 38,
   "metadata": {
    "colab": {
     "base_uri": "https://localhost:8080/",
     "height": 411
    },
    "id": "1fD4LDMJj14v",
    "outputId": "df1721d1-1be3-4883-c1fa-b952cb75835d"
   },
   "outputs": [
    {
     "data": {
      "text/html": [
       "<div>\n",
       "<style scoped>\n",
       "    .dataframe tbody tr th:only-of-type {\n",
       "        vertical-align: middle;\n",
       "    }\n",
       "\n",
       "    .dataframe tbody tr th {\n",
       "        vertical-align: top;\n",
       "    }\n",
       "\n",
       "    .dataframe thead th {\n",
       "        text-align: right;\n",
       "    }\n",
       "</style>\n",
       "<table border=\"1\" class=\"dataframe\">\n",
       "  <thead>\n",
       "    <tr style=\"text-align: right;\">\n",
       "      <th></th>\n",
       "      <th>ID</th>\n",
       "      <th>Name</th>\n",
       "      <th>Nationality</th>\n",
       "      <th>Club</th>\n",
       "      <th>Jersey Number</th>\n",
       "      <th>Value</th>\n",
       "      <th>Wage</th>\n",
       "      <th>Age</th>\n",
       "      <th>Height</th>\n",
       "      <th>Weight</th>\n",
       "      <th>...</th>\n",
       "      <th>Overall</th>\n",
       "      <th>Potential</th>\n",
       "      <th>Shooting</th>\n",
       "      <th>Defense</th>\n",
       "      <th>Passing</th>\n",
       "      <th>Physical</th>\n",
       "      <th>Control</th>\n",
       "      <th>Mental</th>\n",
       "      <th>GoalKeeping</th>\n",
       "      <th>Potential left</th>\n",
       "    </tr>\n",
       "  </thead>\n",
       "  <tbody>\n",
       "    <tr>\n",
       "      <th>0</th>\n",
       "      <td>158023</td>\n",
       "      <td>L. Messi</td>\n",
       "      <td>Argentina</td>\n",
       "      <td>FC Barcelona</td>\n",
       "      <td>10.0</td>\n",
       "      <td>0.0</td>\n",
       "      <td>0.0</td>\n",
       "      <td>31</td>\n",
       "      <td>5'7</td>\n",
       "      <td>159lbs</td>\n",
       "      <td>...</td>\n",
       "      <td>94</td>\n",
       "      <td>94</td>\n",
       "      <td>86.0</td>\n",
       "      <td>41.0</td>\n",
       "      <td>87.0</td>\n",
       "      <td>80.0</td>\n",
       "      <td>96.0</td>\n",
       "      <td>95.0</td>\n",
       "      <td>11.0</td>\n",
       "      <td>0</td>\n",
       "    </tr>\n",
       "    <tr>\n",
       "      <th>1</th>\n",
       "      <td>175943</td>\n",
       "      <td>D. Mertens</td>\n",
       "      <td>Belgium</td>\n",
       "      <td>Napoli</td>\n",
       "      <td>14.0</td>\n",
       "      <td>0.0</td>\n",
       "      <td>0.0</td>\n",
       "      <td>31</td>\n",
       "      <td>5'7</td>\n",
       "      <td>134lbs</td>\n",
       "      <td>...</td>\n",
       "      <td>87</td>\n",
       "      <td>87</td>\n",
       "      <td>74.0</td>\n",
       "      <td>46.0</td>\n",
       "      <td>78.0</td>\n",
       "      <td>77.0</td>\n",
       "      <td>91.0</td>\n",
       "      <td>84.0</td>\n",
       "      <td>8.0</td>\n",
       "      <td>0</td>\n",
       "    </tr>\n",
       "    <tr>\n",
       "      <th>2</th>\n",
       "      <td>172114</td>\n",
       "      <td>D. Valeri</td>\n",
       "      <td>Argentina</td>\n",
       "      <td>Portland Timbers</td>\n",
       "      <td>8.0</td>\n",
       "      <td>0.0</td>\n",
       "      <td>0.0</td>\n",
       "      <td>32</td>\n",
       "      <td>5'10</td>\n",
       "      <td>165lbs</td>\n",
       "      <td>...</td>\n",
       "      <td>80</td>\n",
       "      <td>80</td>\n",
       "      <td>79.0</td>\n",
       "      <td>46.0</td>\n",
       "      <td>78.0</td>\n",
       "      <td>69.0</td>\n",
       "      <td>78.0</td>\n",
       "      <td>82.0</td>\n",
       "      <td>12.0</td>\n",
       "      <td>0</td>\n",
       "    </tr>\n",
       "    <tr>\n",
       "      <th>3</th>\n",
       "      <td>150516</td>\n",
       "      <td>L. Podolski</td>\n",
       "      <td>Germany</td>\n",
       "      <td>Vissel Kobe</td>\n",
       "      <td>10.0</td>\n",
       "      <td>0.0</td>\n",
       "      <td>0.0</td>\n",
       "      <td>33</td>\n",
       "      <td>6'0</td>\n",
       "      <td>183lbs</td>\n",
       "      <td>...</td>\n",
       "      <td>78</td>\n",
       "      <td>78</td>\n",
       "      <td>80.0</td>\n",
       "      <td>49.0</td>\n",
       "      <td>73.0</td>\n",
       "      <td>73.0</td>\n",
       "      <td>75.0</td>\n",
       "      <td>78.0</td>\n",
       "      <td>11.0</td>\n",
       "      <td>0</td>\n",
       "    </tr>\n",
       "    <tr>\n",
       "      <th>4</th>\n",
       "      <td>201313</td>\n",
       "      <td>C. Ciano</td>\n",
       "      <td>Italy</td>\n",
       "      <td>Frosinone</td>\n",
       "      <td>28.0</td>\n",
       "      <td>0.0</td>\n",
       "      <td>0.0</td>\n",
       "      <td>28</td>\n",
       "      <td>5'9</td>\n",
       "      <td>161lbs</td>\n",
       "      <td>...</td>\n",
       "      <td>75</td>\n",
       "      <td>75</td>\n",
       "      <td>70.0</td>\n",
       "      <td>32.0</td>\n",
       "      <td>72.0</td>\n",
       "      <td>72.0</td>\n",
       "      <td>77.0</td>\n",
       "      <td>72.0</td>\n",
       "      <td>9.0</td>\n",
       "      <td>0</td>\n",
       "    </tr>\n",
       "  </tbody>\n",
       "</table>\n",
       "<p>5 rows × 22 columns</p>\n",
       "</div>"
      ],
      "text/plain": [
       "       ID         Name Nationality              Club  Jersey Number  Value  \\\n",
       "0  158023     L. Messi   Argentina      FC Barcelona           10.0    0.0   \n",
       "1  175943   D. Mertens     Belgium            Napoli           14.0    0.0   \n",
       "2  172114    D. Valeri   Argentina  Portland Timbers            8.0    0.0   \n",
       "3  150516  L. Podolski     Germany       Vissel Kobe           10.0    0.0   \n",
       "4  201313     C. Ciano       Italy         Frosinone           28.0    0.0   \n",
       "\n",
       "   Wage  Age Height  Weight  ... Overall Potential  Shooting  Defense  \\\n",
       "0   0.0   31    5'7  159lbs  ...      94        94      86.0     41.0   \n",
       "1   0.0   31    5'7  134lbs  ...      87        87      74.0     46.0   \n",
       "2   0.0   32   5'10  165lbs  ...      80        80      79.0     46.0   \n",
       "3   0.0   33    6'0  183lbs  ...      78        78      80.0     49.0   \n",
       "4   0.0   28    5'9  161lbs  ...      75        75      70.0     32.0   \n",
       "\n",
       "   Passing  Physical  Control  Mental  GoalKeeping  Potential left  \n",
       "0     87.0      80.0     96.0    95.0         11.0               0  \n",
       "1     78.0      77.0     91.0    84.0          8.0               0  \n",
       "2     78.0      69.0     78.0    82.0         12.0               0  \n",
       "3     73.0      73.0     75.0    78.0         11.0               0  \n",
       "4     72.0      72.0     77.0    72.0          9.0               0  \n",
       "\n",
       "[5 rows x 22 columns]"
      ]
     },
     "execution_count": 38,
     "metadata": {},
     "output_type": "execute_result"
    }
   ],
   "source": [
    "fifa_df[\"Potential left\"] = fifa_df['Potential']-fifa_df['Overall']\n",
    "fifa_df.head()"
   ]
  },
  {
   "cell_type": "markdown",
   "metadata": {
    "id": "NwYgtvlTmKnq"
   },
   "source": [
    "### Jóvenes promesa\n",
    "\n",
    "Utiliza las funciones de Pandas para encontrar el **top 5** de jugadores \"promesa\" menores de 22 años. Ordena ascendentemente el dataframe según el potencial (```Potential```), potencial por alcanzar (```Potential left```) y su nivel (```Overall ```) actual."
   ]
  },
  {
   "cell_type": "code",
   "execution_count": 39,
   "metadata": {
    "colab": {
     "base_uri": "https://localhost:8080/",
     "height": 411
    },
    "id": "5IFX49Jern6K",
    "outputId": "d6188367-c7d4-438e-e929-8e3e4568fb90"
   },
   "outputs": [
    {
     "data": {
      "text/html": [
       "<div>\n",
       "<style scoped>\n",
       "    .dataframe tbody tr th:only-of-type {\n",
       "        vertical-align: middle;\n",
       "    }\n",
       "\n",
       "    .dataframe tbody tr th {\n",
       "        vertical-align: top;\n",
       "    }\n",
       "\n",
       "    .dataframe thead th {\n",
       "        text-align: right;\n",
       "    }\n",
       "</style>\n",
       "<table border=\"1\" class=\"dataframe\">\n",
       "  <thead>\n",
       "    <tr style=\"text-align: right;\">\n",
       "      <th></th>\n",
       "      <th>ID</th>\n",
       "      <th>Name</th>\n",
       "      <th>Nationality</th>\n",
       "      <th>Club</th>\n",
       "      <th>Jersey Number</th>\n",
       "      <th>Value</th>\n",
       "      <th>Wage</th>\n",
       "      <th>Age</th>\n",
       "      <th>Height</th>\n",
       "      <th>Weight</th>\n",
       "      <th>...</th>\n",
       "      <th>Overall</th>\n",
       "      <th>Potential</th>\n",
       "      <th>Shooting</th>\n",
       "      <th>Defense</th>\n",
       "      <th>Passing</th>\n",
       "      <th>Physical</th>\n",
       "      <th>Control</th>\n",
       "      <th>Mental</th>\n",
       "      <th>GoalKeeping</th>\n",
       "      <th>Potential left</th>\n",
       "    </tr>\n",
       "  </thead>\n",
       "  <tbody>\n",
       "    <tr>\n",
       "      <th>16380</th>\n",
       "      <td>241657</td>\n",
       "      <td>D. Horton</td>\n",
       "      <td>England</td>\n",
       "      <td>Lincoln City</td>\n",
       "      <td>33.0</td>\n",
       "      <td>0.0</td>\n",
       "      <td>0.0</td>\n",
       "      <td>18</td>\n",
       "      <td>6'1</td>\n",
       "      <td>179lbs</td>\n",
       "      <td>...</td>\n",
       "      <td>48</td>\n",
       "      <td>55</td>\n",
       "      <td>36.0</td>\n",
       "      <td>47.0</td>\n",
       "      <td>46.0</td>\n",
       "      <td>60.0</td>\n",
       "      <td>50.0</td>\n",
       "      <td>44.0</td>\n",
       "      <td>12.0</td>\n",
       "      <td>7</td>\n",
       "    </tr>\n",
       "    <tr>\n",
       "      <th>10017</th>\n",
       "      <td>233945</td>\n",
       "      <td>Wu Wei</td>\n",
       "      <td>China PR</td>\n",
       "      <td>Tianjin Quanjian FC</td>\n",
       "      <td>2.0</td>\n",
       "      <td>0.0</td>\n",
       "      <td>0.0</td>\n",
       "      <td>21</td>\n",
       "      <td>6'1</td>\n",
       "      <td>176lbs</td>\n",
       "      <td>...</td>\n",
       "      <td>52</td>\n",
       "      <td>56</td>\n",
       "      <td>41.0</td>\n",
       "      <td>52.0</td>\n",
       "      <td>44.0</td>\n",
       "      <td>68.0</td>\n",
       "      <td>53.0</td>\n",
       "      <td>50.0</td>\n",
       "      <td>9.0</td>\n",
       "      <td>4</td>\n",
       "    </tr>\n",
       "    <tr>\n",
       "      <th>4502</th>\n",
       "      <td>225510</td>\n",
       "      <td>D. Mackay</td>\n",
       "      <td>Scotland</td>\n",
       "      <td>Kilmarnock</td>\n",
       "      <td>13.0</td>\n",
       "      <td>0.0</td>\n",
       "      <td>0.0</td>\n",
       "      <td>21</td>\n",
       "      <td>6'3</td>\n",
       "      <td>179lbs</td>\n",
       "      <td>...</td>\n",
       "      <td>49</td>\n",
       "      <td>56</td>\n",
       "      <td>20.0</td>\n",
       "      <td>17.0</td>\n",
       "      <td>21.0</td>\n",
       "      <td>43.0</td>\n",
       "      <td>29.0</td>\n",
       "      <td>31.0</td>\n",
       "      <td>48.0</td>\n",
       "      <td>7</td>\n",
       "    </tr>\n",
       "    <tr>\n",
       "      <th>2119</th>\n",
       "      <td>225468</td>\n",
       "      <td>M. Bloomfield</td>\n",
       "      <td>England</td>\n",
       "      <td>Hamilton Academical FC</td>\n",
       "      <td>16.0</td>\n",
       "      <td>0.0</td>\n",
       "      <td>0.0</td>\n",
       "      <td>21</td>\n",
       "      <td>5'11</td>\n",
       "      <td>165lbs</td>\n",
       "      <td>...</td>\n",
       "      <td>51</td>\n",
       "      <td>57</td>\n",
       "      <td>44.0</td>\n",
       "      <td>21.0</td>\n",
       "      <td>35.0</td>\n",
       "      <td>61.0</td>\n",
       "      <td>54.0</td>\n",
       "      <td>48.0</td>\n",
       "      <td>13.0</td>\n",
       "      <td>6</td>\n",
       "    </tr>\n",
       "    <tr>\n",
       "      <th>16325</th>\n",
       "      <td>245401</td>\n",
       "      <td>Lee Dong Hee</td>\n",
       "      <td>Korea Republic</td>\n",
       "      <td>Jeju United FC</td>\n",
       "      <td>42.0</td>\n",
       "      <td>0.0</td>\n",
       "      <td>0.0</td>\n",
       "      <td>21</td>\n",
       "      <td>5'11</td>\n",
       "      <td>159lbs</td>\n",
       "      <td>...</td>\n",
       "      <td>51</td>\n",
       "      <td>57</td>\n",
       "      <td>36.0</td>\n",
       "      <td>39.0</td>\n",
       "      <td>51.0</td>\n",
       "      <td>57.0</td>\n",
       "      <td>56.0</td>\n",
       "      <td>54.0</td>\n",
       "      <td>9.0</td>\n",
       "      <td>6</td>\n",
       "    </tr>\n",
       "  </tbody>\n",
       "</table>\n",
       "<p>5 rows × 22 columns</p>\n",
       "</div>"
      ],
      "text/plain": [
       "           ID           Name     Nationality                    Club  \\\n",
       "16380  241657      D. Horton         England            Lincoln City   \n",
       "10017  233945         Wu Wei        China PR     Tianjin Quanjian FC   \n",
       "4502   225510      D. Mackay        Scotland              Kilmarnock   \n",
       "2119   225468  M. Bloomfield         England  Hamilton Academical FC   \n",
       "16325  245401   Lee Dong Hee  Korea Republic          Jeju United FC   \n",
       "\n",
       "       Jersey Number  Value  Wage  Age Height  Weight  ... Overall Potential  \\\n",
       "16380           33.0    0.0   0.0   18    6'1  179lbs  ...      48        55   \n",
       "10017            2.0    0.0   0.0   21    6'1  176lbs  ...      52        56   \n",
       "4502            13.0    0.0   0.0   21    6'3  179lbs  ...      49        56   \n",
       "2119            16.0    0.0   0.0   21   5'11  165lbs  ...      51        57   \n",
       "16325           42.0    0.0   0.0   21   5'11  159lbs  ...      51        57   \n",
       "\n",
       "       Shooting  Defense  Passing  Physical  Control  Mental  GoalKeeping  \\\n",
       "16380      36.0     47.0     46.0      60.0     50.0    44.0         12.0   \n",
       "10017      41.0     52.0     44.0      68.0     53.0    50.0          9.0   \n",
       "4502       20.0     17.0     21.0      43.0     29.0    31.0         48.0   \n",
       "2119       44.0     21.0     35.0      61.0     54.0    48.0         13.0   \n",
       "16325      36.0     39.0     51.0      57.0     56.0    54.0          9.0   \n",
       "\n",
       "       Potential left  \n",
       "16380               7  \n",
       "10017               4  \n",
       "4502                7  \n",
       "2119                6  \n",
       "16325               6  \n",
       "\n",
       "[5 rows x 22 columns]"
      ]
     },
     "execution_count": 39,
     "metadata": {},
     "output_type": "execute_result"
    }
   ],
   "source": [
    "fifa_df[fifa_df['Age']<22].sort_values(by=['Potential', 'Potential left', 'Overall'], ascending=True).head(5)"
   ]
  },
  {
   "cell_type": "markdown",
   "metadata": {
    "id": "vrWYwyCwKfV2"
   },
   "source": [
    "### Mejor defensa en el mundo\n",
    "\n",
    "Encuentra al jugador con el mayor puntaje en la columna ```Defense```:\n",
    "\n",
    "*Tip: utiliza el método ```idxmax``` para encontrar la fila donde se encuentra el mejor defensa. Después usa el índice para acceder a los datos de la fila.*"
   ]
  },
  {
   "cell_type": "code",
   "execution_count": 40,
   "metadata": {
    "colab": {
     "base_uri": "https://localhost:8080/"
    },
    "id": "ZYv8MVn4Kfxg",
    "outputId": "59256e15-f938-40f0-f681-fab3c95382a3"
   },
   "outputs": [
    {
     "data": {
      "text/plain": [
       "Name                               N. Kanté\n",
       "Club                                Chelsea\n",
       "Defense                                  86\n",
       "Position    Left Defensive Midfielder (LDM)\n",
       "Name: 7910, dtype: object"
      ]
     },
     "execution_count": 40,
     "metadata": {},
     "output_type": "execute_result"
    }
   ],
   "source": [
    "idx = fifa_df['Defense'].idxmax(axis=0)\n",
    "\n",
    "fifa_df[[\"Name\", \"Club\", \"Defense\", \"Position\"]].iloc[idx]"
   ]
  },
  {
   "cell_type": "markdown",
   "metadata": {
    "id": "kgertLU4k6d1"
   },
   "source": [
    "### Porcentaje pie preferido\n",
    "\n",
    "Calcula el porcentaje mundial de jugadores que prefieren utilizar su pierna derecha para controlar el balón y el porcentaje que prefiere utilizar la pierna izquierda.\n",
    "\n",
    "*Tip: El método ```value_counts()``` de objetos Series podría resultarte particularmente útil para esta tarea.*"
   ]
  },
  {
   "cell_type": "code",
   "execution_count": 41,
   "metadata": {
    "colab": {
     "base_uri": "https://localhost:8080/",
     "height": 111
    },
    "id": "sfV8mP74mIv6",
    "outputId": "510d8397-14ae-4f30-dffa-368b0d6aac4e"
   },
   "outputs": [
    {
     "data": {
      "text/html": [
       "<div>\n",
       "<style scoped>\n",
       "    .dataframe tbody tr th:only-of-type {\n",
       "        vertical-align: middle;\n",
       "    }\n",
       "\n",
       "    .dataframe tbody tr th {\n",
       "        vertical-align: top;\n",
       "    }\n",
       "\n",
       "    .dataframe thead th {\n",
       "        text-align: right;\n",
       "    }\n",
       "</style>\n",
       "<table border=\"1\" class=\"dataframe\">\n",
       "  <thead>\n",
       "    <tr style=\"text-align: right;\">\n",
       "      <th></th>\n",
       "      <th>Preferred Foot</th>\n",
       "    </tr>\n",
       "  </thead>\n",
       "  <tbody>\n",
       "    <tr>\n",
       "      <th>Right</th>\n",
       "      <td>0.76772</td>\n",
       "    </tr>\n",
       "    <tr>\n",
       "      <th>Left</th>\n",
       "      <td>0.23228</td>\n",
       "    </tr>\n",
       "  </tbody>\n",
       "</table>\n",
       "</div>"
      ],
      "text/plain": [
       "       Preferred Foot\n",
       "Right         0.76772\n",
       "Left          0.23228"
      ]
     },
     "execution_count": 41,
     "metadata": {},
     "output_type": "execute_result"
    }
   ],
   "source": [
    "fifa_df['Preferred Foot'].value_counts(normalize = True).to_frame()"
   ]
  },
  {
   "cell_type": "markdown",
   "metadata": {
    "id": "Bd0Gcj0YkitL"
   },
   "source": [
    "### Equipos con mayor talento promedio\n",
    "\n",
    "Utiliza funciones de agregación y de agrupamiento para obtener a los equipos con el mejor promedio de nivel (```Overall```) entre sus jugadores."
   ]
  },
  {
   "cell_type": "code",
   "execution_count": 42,
   "metadata": {
    "colab": {
     "base_uri": "https://localhost:8080/",
     "height": 450
    },
    "id": "R2m3dzbemJSc",
    "outputId": "7b5fe6cd-b302-4206-907d-c419ce860914"
   },
   "outputs": [
    {
     "data": {
      "text/html": [
       "<div>\n",
       "<style scoped>\n",
       "    .dataframe tbody tr th:only-of-type {\n",
       "        vertical-align: middle;\n",
       "    }\n",
       "\n",
       "    .dataframe tbody tr th {\n",
       "        vertical-align: top;\n",
       "    }\n",
       "\n",
       "    .dataframe thead th {\n",
       "        text-align: right;\n",
       "    }\n",
       "</style>\n",
       "<table border=\"1\" class=\"dataframe\">\n",
       "  <thead>\n",
       "    <tr style=\"text-align: right;\">\n",
       "      <th></th>\n",
       "      <th>mean</th>\n",
       "    </tr>\n",
       "    <tr>\n",
       "      <th>Club</th>\n",
       "      <th></th>\n",
       "    </tr>\n",
       "  </thead>\n",
       "  <tbody>\n",
       "    <tr>\n",
       "      <th>Bray Wanderers</th>\n",
       "      <td>53.652174</td>\n",
       "    </tr>\n",
       "    <tr>\n",
       "      <th>Limerick FC</th>\n",
       "      <td>54.526316</td>\n",
       "    </tr>\n",
       "    <tr>\n",
       "      <th>Bohemian FC</th>\n",
       "      <td>55.000000</td>\n",
       "    </tr>\n",
       "    <tr>\n",
       "      <th>Derry City</th>\n",
       "      <td>55.777778</td>\n",
       "    </tr>\n",
       "    <tr>\n",
       "      <th>Sligo Rovers</th>\n",
       "      <td>56.631579</td>\n",
       "    </tr>\n",
       "    <tr>\n",
       "      <th>...</th>\n",
       "      <td>...</td>\n",
       "    </tr>\n",
       "    <tr>\n",
       "      <th>Milan</th>\n",
       "      <td>78.074074</td>\n",
       "    </tr>\n",
       "    <tr>\n",
       "      <th>Real Madrid</th>\n",
       "      <td>78.242424</td>\n",
       "    </tr>\n",
       "    <tr>\n",
       "      <th>Inter</th>\n",
       "      <td>79.750000</td>\n",
       "    </tr>\n",
       "    <tr>\n",
       "      <th>Napoli</th>\n",
       "      <td>80.000000</td>\n",
       "    </tr>\n",
       "    <tr>\n",
       "      <th>Juventus</th>\n",
       "      <td>82.280000</td>\n",
       "    </tr>\n",
       "  </tbody>\n",
       "</table>\n",
       "<p>651 rows × 1 columns</p>\n",
       "</div>"
      ],
      "text/plain": [
       "                     mean\n",
       "Club                     \n",
       "Bray Wanderers  53.652174\n",
       "Limerick FC     54.526316\n",
       "Bohemian FC     55.000000\n",
       "Derry City      55.777778\n",
       "Sligo Rovers    56.631579\n",
       "...                   ...\n",
       "Milan           78.074074\n",
       "Real Madrid     78.242424\n",
       "Inter           79.750000\n",
       "Napoli          80.000000\n",
       "Juventus        82.280000\n",
       "\n",
       "[651 rows x 1 columns]"
      ]
     },
     "execution_count": 42,
     "metadata": {},
     "output_type": "execute_result"
    }
   ],
   "source": [
    "fifa_df.groupby(['Club']).agg(['mean'])['Overall'].sort_values('mean')# <completa>"
   ]
  },
  {
   "cell_type": "markdown",
   "metadata": {
    "id": "sGpOyoqskqAX"
   },
   "source": [
    "### Equipos con más costosos (valor comercial)\n",
    "\n",
    "Utiliza funciones de agregación y agrupamiento para encontrar el valor total de de cada club, esto es, la suma de los valores individuales de los jugadores de los Club.\n",
    "\n",
    "Ordena de manera descendente para mostrar los clubs más costosos del mundo."
   ]
  },
  {
   "cell_type": "code",
   "execution_count": 43,
   "metadata": {
    "colab": {
     "base_uri": "https://localhost:8080/"
    },
    "id": "bncX7I0jmJ0K",
    "outputId": "82fdf757-3a44-4cdb-b526-0fcea03a09f2"
   },
   "outputs": [
    {
     "data": {
      "text/plain": [
       "Club\n",
       "Śląsk Wrocław               0.0\n",
       "Esbjerg fB                  0.0\n",
       "FC Groningen                0.0\n",
       "FC Girondins de Bordeaux    0.0\n",
       "FC Erzgebirge Aue           0.0\n",
       "Name: Value, dtype: float64"
      ]
     },
     "execution_count": 43,
     "metadata": {},
     "output_type": "execute_result"
    }
   ],
   "source": [
    "fifa_df.loc[:,['Club','Value']].groupby('Club')['Value'].sum().sort_values(ascending=False).head()"
   ]
  },
  {
   "cell_type": "markdown",
   "metadata": {
    "id": "7AthXgs1l8hn"
   },
   "source": [
    "### ¿Qué equipos tienen más mexicanos?\n",
    "\n",
    "Muestra un top 5 de equipos con más jugadores mexicanos en el mundo."
   ]
  },
  {
   "cell_type": "markdown",
   "metadata": {
    "id": "bcyrdPV0p6_0"
   },
   "source": [
    "Primero, crea un dataframe que contiene unicamente jugadores mexicanos:\n",
    "\n",
    "*Tip: Filtra el dataframe usando ```Nationality==Mexico```*."
   ]
  },
  {
   "cell_type": "code",
   "execution_count": 44,
   "metadata": {
    "colab": {
     "base_uri": "https://localhost:8080/",
     "height": 326
    },
    "id": "3rvkuvn0rKkR",
    "outputId": "eb6214c5-65e2-4773-8b21-bd3436d0231e"
   },
   "outputs": [
    {
     "data": {
      "text/html": [
       "<div>\n",
       "<style scoped>\n",
       "    .dataframe tbody tr th:only-of-type {\n",
       "        vertical-align: middle;\n",
       "    }\n",
       "\n",
       "    .dataframe tbody tr th {\n",
       "        vertical-align: top;\n",
       "    }\n",
       "\n",
       "    .dataframe thead th {\n",
       "        text-align: right;\n",
       "    }\n",
       "</style>\n",
       "<table border=\"1\" class=\"dataframe\">\n",
       "  <thead>\n",
       "    <tr style=\"text-align: right;\">\n",
       "      <th></th>\n",
       "      <th>ID</th>\n",
       "      <th>Name</th>\n",
       "      <th>Nationality</th>\n",
       "      <th>Club</th>\n",
       "      <th>Jersey Number</th>\n",
       "      <th>Value</th>\n",
       "      <th>Wage</th>\n",
       "      <th>Age</th>\n",
       "      <th>Height</th>\n",
       "      <th>Weight</th>\n",
       "      <th>...</th>\n",
       "      <th>Overall</th>\n",
       "      <th>Potential</th>\n",
       "      <th>Shooting</th>\n",
       "      <th>Defense</th>\n",
       "      <th>Passing</th>\n",
       "      <th>Physical</th>\n",
       "      <th>Control</th>\n",
       "      <th>Mental</th>\n",
       "      <th>GoalKeeping</th>\n",
       "      <th>Potential left</th>\n",
       "    </tr>\n",
       "  </thead>\n",
       "  <tbody>\n",
       "    <tr>\n",
       "      <th>77</th>\n",
       "      <td>178224</td>\n",
       "      <td>J. Hernández</td>\n",
       "      <td>Mexico</td>\n",
       "      <td>West Ham United</td>\n",
       "      <td>17.0</td>\n",
       "      <td>0.0</td>\n",
       "      <td>0.0</td>\n",
       "      <td>30</td>\n",
       "      <td>5'9</td>\n",
       "      <td>161lbs</td>\n",
       "      <td>...</td>\n",
       "      <td>79</td>\n",
       "      <td>79</td>\n",
       "      <td>71.0</td>\n",
       "      <td>37.0</td>\n",
       "      <td>62.0</td>\n",
       "      <td>72.0</td>\n",
       "      <td>76.0</td>\n",
       "      <td>77.0</td>\n",
       "      <td>12.0</td>\n",
       "      <td>0</td>\n",
       "    </tr>\n",
       "    <tr>\n",
       "      <th>250</th>\n",
       "      <td>192930</td>\n",
       "      <td>A. Pulido</td>\n",
       "      <td>Mexico</td>\n",
       "      <td>Guadalajara</td>\n",
       "      <td>9.0</td>\n",
       "      <td>0.0</td>\n",
       "      <td>0.0</td>\n",
       "      <td>27</td>\n",
       "      <td>5'10</td>\n",
       "      <td>168lbs</td>\n",
       "      <td>...</td>\n",
       "      <td>74</td>\n",
       "      <td>75</td>\n",
       "      <td>68.0</td>\n",
       "      <td>40.0</td>\n",
       "      <td>63.0</td>\n",
       "      <td>75.0</td>\n",
       "      <td>70.0</td>\n",
       "      <td>68.0</td>\n",
       "      <td>11.0</td>\n",
       "      <td>1</td>\n",
       "    </tr>\n",
       "    <tr>\n",
       "      <th>391</th>\n",
       "      <td>224151</td>\n",
       "      <td>H. Martín</td>\n",
       "      <td>Mexico</td>\n",
       "      <td>Club América</td>\n",
       "      <td>21.0</td>\n",
       "      <td>0.0</td>\n",
       "      <td>0.0</td>\n",
       "      <td>25</td>\n",
       "      <td>5'10</td>\n",
       "      <td>161lbs</td>\n",
       "      <td>...</td>\n",
       "      <td>72</td>\n",
       "      <td>75</td>\n",
       "      <td>66.0</td>\n",
       "      <td>40.0</td>\n",
       "      <td>64.0</td>\n",
       "      <td>75.0</td>\n",
       "      <td>73.0</td>\n",
       "      <td>69.0</td>\n",
       "      <td>10.0</td>\n",
       "      <td>3</td>\n",
       "    </tr>\n",
       "    <tr>\n",
       "      <th>412</th>\n",
       "      <td>214727</td>\n",
       "      <td>A. Zaldívar</td>\n",
       "      <td>Mexico</td>\n",
       "      <td>Guadalajara</td>\n",
       "      <td>14.0</td>\n",
       "      <td>0.0</td>\n",
       "      <td>0.0</td>\n",
       "      <td>24</td>\n",
       "      <td>5'10</td>\n",
       "      <td>168lbs</td>\n",
       "      <td>...</td>\n",
       "      <td>72</td>\n",
       "      <td>77</td>\n",
       "      <td>67.0</td>\n",
       "      <td>47.0</td>\n",
       "      <td>61.0</td>\n",
       "      <td>74.0</td>\n",
       "      <td>69.0</td>\n",
       "      <td>59.0</td>\n",
       "      <td>10.0</td>\n",
       "      <td>5</td>\n",
       "    </tr>\n",
       "    <tr>\n",
       "      <th>461</th>\n",
       "      <td>217710</td>\n",
       "      <td>M. Barragán</td>\n",
       "      <td>Mexico</td>\n",
       "      <td>Club Necaxa</td>\n",
       "      <td>9.0</td>\n",
       "      <td>0.0</td>\n",
       "      <td>0.0</td>\n",
       "      <td>26</td>\n",
       "      <td>5'10</td>\n",
       "      <td>168lbs</td>\n",
       "      <td>...</td>\n",
       "      <td>71</td>\n",
       "      <td>72</td>\n",
       "      <td>67.0</td>\n",
       "      <td>37.0</td>\n",
       "      <td>59.0</td>\n",
       "      <td>74.0</td>\n",
       "      <td>67.0</td>\n",
       "      <td>60.0</td>\n",
       "      <td>8.0</td>\n",
       "      <td>1</td>\n",
       "    </tr>\n",
       "  </tbody>\n",
       "</table>\n",
       "<p>5 rows × 22 columns</p>\n",
       "</div>"
      ],
      "text/plain": [
       "         ID          Name Nationality             Club  Jersey Number  Value  \\\n",
       "77   178224  J. Hernández      Mexico  West Ham United           17.0    0.0   \n",
       "250  192930     A. Pulido      Mexico      Guadalajara            9.0    0.0   \n",
       "391  224151     H. Martín      Mexico     Club América           21.0    0.0   \n",
       "412  214727   A. Zaldívar      Mexico      Guadalajara           14.0    0.0   \n",
       "461  217710   M. Barragán      Mexico      Club Necaxa            9.0    0.0   \n",
       "\n",
       "     Wage  Age Height  Weight  ... Overall Potential  Shooting  Defense  \\\n",
       "77    0.0   30    5'9  161lbs  ...      79        79      71.0     37.0   \n",
       "250   0.0   27   5'10  168lbs  ...      74        75      68.0     40.0   \n",
       "391   0.0   25   5'10  161lbs  ...      72        75      66.0     40.0   \n",
       "412   0.0   24   5'10  168lbs  ...      72        77      67.0     47.0   \n",
       "461   0.0   26   5'10  168lbs  ...      71        72      67.0     37.0   \n",
       "\n",
       "     Passing  Physical  Control  Mental  GoalKeeping  Potential left  \n",
       "77      62.0      72.0     76.0    77.0         12.0               0  \n",
       "250     63.0      75.0     70.0    68.0         11.0               1  \n",
       "391     64.0      75.0     73.0    69.0         10.0               3  \n",
       "412     61.0      74.0     69.0    59.0         10.0               5  \n",
       "461     59.0      74.0     67.0    60.0          8.0               1  \n",
       "\n",
       "[5 rows x 22 columns]"
      ]
     },
     "execution_count": 44,
     "metadata": {},
     "output_type": "execute_result"
    }
   ],
   "source": [
    "players_mx_df = fifa_df[fifa_df['Nationality']=='Mexico']\n",
    "players_mx_df.head(5)"
   ]
  },
  {
   "cell_type": "markdown",
   "metadata": {
    "id": "GOeknoZwpxSQ"
   },
   "source": [
    "Agrupa por el nombre del club y cuenta:"
   ]
  },
  {
   "cell_type": "code",
   "execution_count": 45,
   "metadata": {
    "colab": {
     "base_uri": "https://localhost:8080/"
    },
    "id": "1RN0-mwMJVXI",
    "outputId": "38db37a3-ec94-4773-947f-9ea2f3b59648"
   },
   "outputs": [
    {
     "data": {
      "text/plain": [
       "Club\n",
       "Guadalajara        29\n",
       "U.N.A.M.           21\n",
       "Club Atlas         20\n",
       "Club Necaxa        20\n",
       "Tigres U.A.N.L.    19\n",
       "Name: Nationality, dtype: int64"
      ]
     },
     "execution_count": 45,
     "metadata": {},
     "output_type": "execute_result"
    }
   ],
   "source": [
    "players_mx_df.groupby('Club').agg('count')['Nationality'].sort_values(ascending=False).head(5)# <completa>"
   ]
  },
  {
   "cell_type": "markdown",
   "metadata": {
    "id": "f5Vi_hQCbyDL"
   },
   "source": [
    "## Visualización\n",
    "\n",
    "Utiliza las opciones de visualización de Pandas."
   ]
  },
  {
   "cell_type": "markdown",
   "metadata": {
    "id": "gIE5S2l6kQaL"
   },
   "source": [
    "### Histograma de las edades de los jugadores de futbol\n",
    "\n",
    "Selecciona la columna ``Age``` del dataframe ```fifa_df``` y muestra el histograma usando las opciones de visualización de Pandas:"
   ]
  },
  {
   "cell_type": "code",
   "execution_count": 46,
   "metadata": {
    "colab": {
     "base_uri": "https://localhost:8080/",
     "height": 282
    },
    "id": "6zlGLD6Yb8XQ",
    "outputId": "dc5f1378-2ab6-4e52-c951-d8c62ec69001"
   },
   "outputs": [
    {
     "data": {
      "text/plain": [
       "<AxesSubplot:ylabel='Frequency'>"
      ]
     },
     "execution_count": 46,
     "metadata": {},
     "output_type": "execute_result"
    },
    {
     "data": {
      "image/png": "[encoded data removed]",
      "text/plain": [
       "<Figure size 432x288 with 1 Axes>"
      ]
     },
     "metadata": {
      "needs_background": "light"
     },
     "output_type": "display_data"
    }
   ],
   "source": [
    "fifa_df['Age'].plot.hist(bins=10)"
   ]
  },
  {
   "cell_type": "markdown",
   "metadata": {
    "id": "K-ZhgvfWR_rT"
   },
   "source": [
    "### Gráfica de Pie (Preferred Foot)\n",
    "\n",
    "Selecciónes el conteo de valores del pie preferido (columna ```Preferred Foot```) y muestra la información mediante una gráfica de Pie:"
   ]
  },
  {
   "cell_type": "code",
   "execution_count": 47,
   "metadata": {
    "colab": {
     "base_uri": "https://localhost:8080/",
     "height": 265
    },
    "id": "wT4II3U_R_51",
    "outputId": "03677d95-15bb-4ad9-fe5f-a63e654a7463"
   },
   "outputs": [
    {
     "data": {
      "text/plain": [
       "<AxesSubplot:ylabel='Preferred Foot'>"
      ]
     },
     "execution_count": 47,
     "metadata": {},
     "output_type": "execute_result"
    },
    {
     "data": {
      "image/png": "[encoded data removed]",
      "text/plain": [
       "<Figure size 432x288 with 1 Axes>"
      ]
     },
     "metadata": {},
     "output_type": "display_data"
    }
   ],
   "source": [
    "fifa_df['Preferred Foot'].value_counts().plot.pie()"
   ]
  },
  {
   "cell_type": "markdown",
   "metadata": {
    "id": "88Quw6tnb88P"
   },
   "source": [
    "### Gráfica de dispersión Edad vs Potential left\n",
    "\n",
    "Ahora, utiliza una gráfica de dispersión para visualizar el comportamiento del potencial por alcanzar (```Potential left```) de acuerdo a las edades de los jugadores:\n",
    "\n",
    "*Tip: La gráfica debe mostrar la edad en un eje y el potencial por alcanzar en el otro.*"
   ]
  },
  {
   "cell_type": "code",
   "execution_count": 48,
   "metadata": {
    "colab": {
     "base_uri": "https://localhost:8080/",
     "height": 296
    },
    "id": "A8oJxUi5kc8B",
    "outputId": "2523b1cf-a8e1-440b-cb17-44a4fd838559"
   },
   "outputs": [
    {
     "data": {
      "text/plain": [
       "<AxesSubplot:xlabel='Age', ylabel='Potential left'>"
      ]
     },
     "execution_count": 48,
     "metadata": {},
     "output_type": "execute_result"
    },
    {
     "data": {
      "image/png": "[encoded data removed]",
      "text/plain": [
       "<Figure size 432x288 with 1 Axes>"
      ]
     },
     "metadata": {
      "needs_background": "light"
     },
     "output_type": "display_data"
    }
   ],
   "source": [
    "fifa_df.plot.scatter(x='Age', y='Potential left')"
   ]
  },
  {
   "cell_type": "markdown",
   "metadata": {
    "id": "SSr_il5HRx5A"
   },
   "source": [
    "¿Qué otras variables o mezcla de variables sería interesante visualizar?"
   ]
  },
  {
   "cell_type": "markdown",
   "metadata": {
    "id": "trTE1gVpgIdF"
   },
   "source": [
    "Edad y Overall para ver cuanta edad tienen los mejores y peores jugadores.\n",
    "\n"
   ]
  },
  {
   "cell_type": "code",
   "execution_count": 49,
   "metadata": {
    "colab": {
     "base_uri": "https://localhost:8080/",
     "height": 296
    },
    "id": "X8c3LngcjrqD",
    "outputId": "b119e470-ace5-42e9-f74f-2de5bedc08c9"
   },
   "outputs": [
    {
     "data": {
      "text/plain": [
       "<AxesSubplot:xlabel='Age', ylabel='Overall'>"
      ]
     },
     "execution_count": 49,
     "metadata": {},
     "output_type": "execute_result"
    },
    {
     "data": {
      "image/png": "[encoded data removed]",
      "text/plain": [
       "<Figure size 432x288 with 1 Axes>"
      ]
     },
     "metadata": {
      "needs_background": "light"
     },
     "output_type": "display_data"
    }
   ],
   "source": [
    "fifa_df.plot.scatter(x='Age', y='Overall')"
   ]
  },
  {
   "cell_type": "markdown",
   "metadata": {
    "id": "8NCzkort1t2j"
   },
   "source": [
    "# Desafío Adicional\n",
    "\n",
    "En la práctica con Numpy, creaste un modelo para identificar imágenes de dígitos escritos a mano. \n",
    "\n",
    "Para este nuevo conjunto de datos, ¿podrías usar una metodología similar para encontrar la posición en el campo de un jugador solamente usando los valores de su habilidades? \n",
    "\n",
    "Skills: ```Shooting \tDefense \tPassing \tPhysical \tControl \tMental \tGoalKeeping```"
   ]
  },
  {
   "cell_type": "code",
   "execution_count": 107,
   "metadata": {
    "id": "HTOqsnGF1u7E"
   },
   "outputs": [],
   "source": [
    "import numpy as np\n",
    "\n",
    "skills_df = fifa_df.loc[:, \"Shooting\":\"GoalKeeping\"]\n",
    "y = fifa_df[\"Position\"]"
   ]
  },
  {
   "cell_type": "code",
   "execution_count": 108,
   "metadata": {
    "id": "2Ss9ut4nsD3e"
   },
   "outputs": [],
   "source": [
    "def class_representatives(X, y):\n",
    "  representatives = X.groupby(y).mean()\n",
    "  return representatives\n",
    "\n"
   ]
  },
  {
   "cell_type": "code",
   "execution_count": 109,
   "metadata": {
    "id": "baxJUViStERk"
   },
   "outputs": [],
   "source": [
    "representatives_df = class_representatives(skills_df,y)\n"
   ]
  },
  {
   "cell_type": "code",
   "execution_count": 110,
   "metadata": {
    "colab": {
     "base_uri": "https://localhost:8080/",
     "height": 917
    },
    "id": "be8DxORotKEo",
    "outputId": "d03493dc-7da8-4f06-f227-f6e2f20243bd"
   },
   "outputs": [
    {
     "data": {
      "text/html": [
       "<div>\n",
       "<style scoped>\n",
       "    .dataframe tbody tr th:only-of-type {\n",
       "        vertical-align: middle;\n",
       "    }\n",
       "\n",
       "    .dataframe tbody tr th {\n",
       "        vertical-align: top;\n",
       "    }\n",
       "\n",
       "    .dataframe thead th {\n",
       "        text-align: right;\n",
       "    }\n",
       "</style>\n",
       "<table border=\"1\" class=\"dataframe\">\n",
       "  <thead>\n",
       "    <tr style=\"text-align: right;\">\n",
       "      <th></th>\n",
       "      <th>Shooting</th>\n",
       "      <th>Defense</th>\n",
       "      <th>Passing</th>\n",
       "      <th>Physical</th>\n",
       "      <th>Control</th>\n",
       "      <th>Mental</th>\n",
       "      <th>GoalKeeping</th>\n",
       "    </tr>\n",
       "    <tr>\n",
       "      <th>Position</th>\n",
       "      <th></th>\n",
       "      <th></th>\n",
       "      <th></th>\n",
       "      <th></th>\n",
       "      <th></th>\n",
       "      <th></th>\n",
       "      <th></th>\n",
       "    </tr>\n",
       "  </thead>\n",
       "  <tbody>\n",
       "    <tr>\n",
       "      <th>Center Back (CB)</th>\n",
       "      <td>39.440707</td>\n",
       "      <td>57.958381</td>\n",
       "      <td>47.750285</td>\n",
       "      <td>61.099202</td>\n",
       "      <td>49.531927</td>\n",
       "      <td>51.751425</td>\n",
       "      <td>10.505701</td>\n",
       "    </tr>\n",
       "    <tr>\n",
       "      <th>Center Forward (CF)</th>\n",
       "      <td>59.270270</td>\n",
       "      <td>35.932432</td>\n",
       "      <td>57.432432</td>\n",
       "      <td>68.445946</td>\n",
       "      <td>70.081081</td>\n",
       "      <td>62.148649</td>\n",
       "      <td>9.878378</td>\n",
       "    </tr>\n",
       "    <tr>\n",
       "      <th>Central Attacking Midfielder (CAM)</th>\n",
       "      <td>58.210970</td>\n",
       "      <td>44.566456</td>\n",
       "      <td>63.239451</td>\n",
       "      <td>66.476793</td>\n",
       "      <td>69.940928</td>\n",
       "      <td>63.670886</td>\n",
       "      <td>10.489451</td>\n",
       "    </tr>\n",
       "    <tr>\n",
       "      <th>Central Defensive Midfielder (CDM)</th>\n",
       "      <td>50.778846</td>\n",
       "      <td>61.333333</td>\n",
       "      <td>61.315171</td>\n",
       "      <td>65.305556</td>\n",
       "      <td>63.266026</td>\n",
       "      <td>61.259615</td>\n",
       "      <td>10.577991</td>\n",
       "    </tr>\n",
       "    <tr>\n",
       "      <th>Central Midfield (CM)</th>\n",
       "      <td>52.965142</td>\n",
       "      <td>55.779956</td>\n",
       "      <td>62.090777</td>\n",
       "      <td>65.426289</td>\n",
       "      <td>65.816993</td>\n",
       "      <td>61.179375</td>\n",
       "      <td>10.433551</td>\n",
       "    </tr>\n",
       "    <tr>\n",
       "      <th>Goalkeeper (GK)</th>\n",
       "      <td>15.380522</td>\n",
       "      <td>14.323293</td>\n",
       "      <td>22.441265</td>\n",
       "      <td>44.127510</td>\n",
       "      <td>25.601908</td>\n",
       "      <td>47.028112</td>\n",
       "      <td>63.721386</td>\n",
       "    </tr>\n",
       "    <tr>\n",
       "      <th>Left Attacking Midfielder (LAM)</th>\n",
       "      <td>62.476190</td>\n",
       "      <td>40.238095</td>\n",
       "      <td>68.285714</td>\n",
       "      <td>69.904762</td>\n",
       "      <td>73.857143</td>\n",
       "      <td>70.142857</td>\n",
       "      <td>10.666667</td>\n",
       "    </tr>\n",
       "    <tr>\n",
       "      <th>Left Back (LB)</th>\n",
       "      <td>47.332567</td>\n",
       "      <td>61.746360</td>\n",
       "      <td>60.037548</td>\n",
       "      <td>69.247510</td>\n",
       "      <td>64.360920</td>\n",
       "      <td>57.204598</td>\n",
       "      <td>10.503448</td>\n",
       "    </tr>\n",
       "    <tr>\n",
       "      <th>Left Center Back (LCB)</th>\n",
       "      <td>42.695447</td>\n",
       "      <td>61.927786</td>\n",
       "      <td>53.284144</td>\n",
       "      <td>63.262166</td>\n",
       "      <td>53.058085</td>\n",
       "      <td>56.555730</td>\n",
       "      <td>10.599686</td>\n",
       "    </tr>\n",
       "    <tr>\n",
       "      <th>Left Center Midfield (LCM)</th>\n",
       "      <td>58.349614</td>\n",
       "      <td>59.832905</td>\n",
       "      <td>66.341902</td>\n",
       "      <td>68.485861</td>\n",
       "      <td>69.043702</td>\n",
       "      <td>66.568123</td>\n",
       "      <td>10.524422</td>\n",
       "    </tr>\n",
       "    <tr>\n",
       "      <th>Left Defensive Midfielder (LDM)</th>\n",
       "      <td>55.506276</td>\n",
       "      <td>62.748954</td>\n",
       "      <td>64.912134</td>\n",
       "      <td>66.744770</td>\n",
       "      <td>66.246862</td>\n",
       "      <td>65.171548</td>\n",
       "      <td>10.669456</td>\n",
       "    </tr>\n",
       "    <tr>\n",
       "      <th>Left Forward (LF)</th>\n",
       "      <td>65.800000</td>\n",
       "      <td>44.000000</td>\n",
       "      <td>69.533333</td>\n",
       "      <td>73.733333</td>\n",
       "      <td>77.666667</td>\n",
       "      <td>70.800000</td>\n",
       "      <td>10.800000</td>\n",
       "    </tr>\n",
       "    <tr>\n",
       "      <th>Left Midfielder (LM)</th>\n",
       "      <td>56.477901</td>\n",
       "      <td>43.394107</td>\n",
       "      <td>61.589319</td>\n",
       "      <td>69.804788</td>\n",
       "      <td>69.961326</td>\n",
       "      <td>60.949355</td>\n",
       "      <td>10.511050</td>\n",
       "    </tr>\n",
       "    <tr>\n",
       "      <th>Left Side (LS)</th>\n",
       "      <td>62.757282</td>\n",
       "      <td>37.519417</td>\n",
       "      <td>55.912621</td>\n",
       "      <td>69.839806</td>\n",
       "      <td>67.223301</td>\n",
       "      <td>63.718447</td>\n",
       "      <td>10.543689</td>\n",
       "    </tr>\n",
       "    <tr>\n",
       "      <th>Left Wing (LW)</th>\n",
       "      <td>57.360963</td>\n",
       "      <td>39.387701</td>\n",
       "      <td>59.780749</td>\n",
       "      <td>69.208556</td>\n",
       "      <td>70.590909</td>\n",
       "      <td>60.871658</td>\n",
       "      <td>10.387701</td>\n",
       "    </tr>\n",
       "    <tr>\n",
       "      <th>Left Wing Back (LWB)</th>\n",
       "      <td>49.192308</td>\n",
       "      <td>61.153846</td>\n",
       "      <td>61.358974</td>\n",
       "      <td>70.897436</td>\n",
       "      <td>65.602564</td>\n",
       "      <td>58.910256</td>\n",
       "      <td>10.500000</td>\n",
       "    </tr>\n",
       "    <tr>\n",
       "      <th>Right Attacking Midfielder (RAM)</th>\n",
       "      <td>62.095238</td>\n",
       "      <td>46.238095</td>\n",
       "      <td>67.714286</td>\n",
       "      <td>69.809524</td>\n",
       "      <td>74.761905</td>\n",
       "      <td>70.380952</td>\n",
       "      <td>10.571429</td>\n",
       "    </tr>\n",
       "    <tr>\n",
       "      <th>Right Back (RB)</th>\n",
       "      <td>45.956625</td>\n",
       "      <td>62.031546</td>\n",
       "      <td>59.787855</td>\n",
       "      <td>69.716877</td>\n",
       "      <td>64.189274</td>\n",
       "      <td>57.250000</td>\n",
       "      <td>10.530757</td>\n",
       "    </tr>\n",
       "    <tr>\n",
       "      <th>Right Center Back (RCB)</th>\n",
       "      <td>42.342025</td>\n",
       "      <td>61.849693</td>\n",
       "      <td>52.161043</td>\n",
       "      <td>62.914110</td>\n",
       "      <td>52.124233</td>\n",
       "      <td>56.340491</td>\n",
       "      <td>10.639571</td>\n",
       "    </tr>\n",
       "    <tr>\n",
       "      <th>Right Center Midfield (RCM)</th>\n",
       "      <td>58.000000</td>\n",
       "      <td>60.811370</td>\n",
       "      <td>66.142119</td>\n",
       "      <td>68.485788</td>\n",
       "      <td>68.418605</td>\n",
       "      <td>66.434109</td>\n",
       "      <td>10.643411</td>\n",
       "    </tr>\n",
       "    <tr>\n",
       "      <th>Right Defensive Midfielder (RDM)</th>\n",
       "      <td>55.426829</td>\n",
       "      <td>63.682927</td>\n",
       "      <td>65.008130</td>\n",
       "      <td>67.711382</td>\n",
       "      <td>66.081301</td>\n",
       "      <td>65.617886</td>\n",
       "      <td>10.926829</td>\n",
       "    </tr>\n",
       "    <tr>\n",
       "      <th>Right Forward (RF)</th>\n",
       "      <td>66.875000</td>\n",
       "      <td>43.625000</td>\n",
       "      <td>68.312500</td>\n",
       "      <td>71.062500</td>\n",
       "      <td>73.750000</td>\n",
       "      <td>70.562500</td>\n",
       "      <td>10.687500</td>\n",
       "    </tr>\n",
       "    <tr>\n",
       "      <th>Right Midfielder (RM)</th>\n",
       "      <td>55.871634</td>\n",
       "      <td>43.453321</td>\n",
       "      <td>61.163375</td>\n",
       "      <td>69.807899</td>\n",
       "      <td>69.447038</td>\n",
       "      <td>60.617594</td>\n",
       "      <td>10.555655</td>\n",
       "    </tr>\n",
       "    <tr>\n",
       "      <th>Right Side (RS)</th>\n",
       "      <td>62.253731</td>\n",
       "      <td>37.507463</td>\n",
       "      <td>54.646766</td>\n",
       "      <td>70.457711</td>\n",
       "      <td>66.925373</td>\n",
       "      <td>63.039801</td>\n",
       "      <td>10.800995</td>\n",
       "    </tr>\n",
       "    <tr>\n",
       "      <th>Right Wing (RW)</th>\n",
       "      <td>57.287671</td>\n",
       "      <td>39.126027</td>\n",
       "      <td>60.326027</td>\n",
       "      <td>69.246575</td>\n",
       "      <td>70.742466</td>\n",
       "      <td>60.964384</td>\n",
       "      <td>10.424658</td>\n",
       "    </tr>\n",
       "    <tr>\n",
       "      <th>Right Wing Back (RWB)</th>\n",
       "      <td>46.402299</td>\n",
       "      <td>59.482759</td>\n",
       "      <td>59.275862</td>\n",
       "      <td>69.804598</td>\n",
       "      <td>64.080460</td>\n",
       "      <td>56.448276</td>\n",
       "      <td>10.459770</td>\n",
       "    </tr>\n",
       "    <tr>\n",
       "      <th>Striker (ST)</th>\n",
       "      <td>58.704225</td>\n",
       "      <td>33.600000</td>\n",
       "      <td>49.437559</td>\n",
       "      <td>66.998122</td>\n",
       "      <td>63.394836</td>\n",
       "      <td>58.792958</td>\n",
       "      <td>10.507981</td>\n",
       "    </tr>\n",
       "  </tbody>\n",
       "</table>\n",
       "</div>"
      ],
      "text/plain": [
       "                                     Shooting    Defense    Passing  \\\n",
       "Position                                                              \n",
       "Center Back (CB)                    39.440707  57.958381  47.750285   \n",
       "Center Forward (CF)                 59.270270  35.932432  57.432432   \n",
       "Central Attacking Midfielder (CAM)  58.210970  44.566456  63.239451   \n",
       "Central Defensive Midfielder (CDM)  50.778846  61.333333  61.315171   \n",
       "Central Midfield (CM)               52.965142  55.779956  62.090777   \n",
       "Goalkeeper (GK)                     15.380522  14.323293  22.441265   \n",
       "Left Attacking Midfielder (LAM)     62.476190  40.238095  68.285714   \n",
       "Left Back (LB)                      47.332567  61.746360  60.037548   \n",
       "Left Center Back (LCB)              42.695447  61.927786  53.284144   \n",
       "Left Center Midfield (LCM)          58.349614  59.832905  66.341902   \n",
       "Left Defensive Midfielder (LDM)     55.506276  62.748954  64.912134   \n",
       "Left Forward (LF)                   65.800000  44.000000  69.533333   \n",
       "Left Midfielder (LM)                56.477901  43.394107  61.589319   \n",
       "Left Side (LS)                      62.757282  37.519417  55.912621   \n",
       "Left Wing (LW)                      57.360963  39.387701  59.780749   \n",
       "Left Wing Back (LWB)                49.192308  61.153846  61.358974   \n",
       "Right Attacking Midfielder (RAM)    62.095238  46.238095  67.714286   \n",
       "Right Back (RB)                     45.956625  62.031546  59.787855   \n",
       "Right Center Back (RCB)             42.342025  61.849693  52.161043   \n",
       "Right Center Midfield (RCM)         58.000000  60.811370  66.142119   \n",
       "Right Defensive Midfielder (RDM)    55.426829  63.682927  65.008130   \n",
       "Right Forward (RF)                  66.875000  43.625000  68.312500   \n",
       "Right Midfielder (RM)               55.871634  43.453321  61.163375   \n",
       "Right Side (RS)                     62.253731  37.507463  54.646766   \n",
       "Right Wing (RW)                     57.287671  39.126027  60.326027   \n",
       "Right Wing Back (RWB)               46.402299  59.482759  59.275862   \n",
       "Striker (ST)                        58.704225  33.600000  49.437559   \n",
       "\n",
       "                                     Physical    Control     Mental  \\\n",
       "Position                                                              \n",
       "Center Back (CB)                    61.099202  49.531927  51.751425   \n",
       "Center Forward (CF)                 68.445946  70.081081  62.148649   \n",
       "Central Attacking Midfielder (CAM)  66.476793  69.940928  63.670886   \n",
       "Central Defensive Midfielder (CDM)  65.305556  63.266026  61.259615   \n",
       "Central Midfield (CM)               65.426289  65.816993  61.179375   \n",
       "Goalkeeper (GK)                     44.127510  25.601908  47.028112   \n",
       "Left Attacking Midfielder (LAM)     69.904762  73.857143  70.142857   \n",
       "Left Back (LB)                      69.247510  64.360920  57.204598   \n",
       "Left Center Back (LCB)              63.262166  53.058085  56.555730   \n",
       "Left Center Midfield (LCM)          68.485861  69.043702  66.568123   \n",
       "Left Defensive Midfielder (LDM)     66.744770  66.246862  65.171548   \n",
       "Left Forward (LF)                   73.733333  77.666667  70.800000   \n",
       "Left Midfielder (LM)                69.804788  69.961326  60.949355   \n",
       "Left Side (LS)                      69.839806  67.223301  63.718447   \n",
       "Left Wing (LW)                      69.208556  70.590909  60.871658   \n",
       "Left Wing Back (LWB)                70.897436  65.602564  58.910256   \n",
       "Right Attacking Midfielder (RAM)    69.809524  74.761905  70.380952   \n",
       "Right Back (RB)                     69.716877  64.189274  57.250000   \n",
       "Right Center Back (RCB)             62.914110  52.124233  56.340491   \n",
       "Right Center Midfield (RCM)         68.485788  68.418605  66.434109   \n",
       "Right Defensive Midfielder (RDM)    67.711382  66.081301  65.617886   \n",
       "Right Forward (RF)                  71.062500  73.750000  70.562500   \n",
       "Right Midfielder (RM)               69.807899  69.447038  60.617594   \n",
       "Right Side (RS)                     70.457711  66.925373  63.039801   \n",
       "Right Wing (RW)                     69.246575  70.742466  60.964384   \n",
       "Right Wing Back (RWB)               69.804598  64.080460  56.448276   \n",
       "Striker (ST)                        66.998122  63.394836  58.792958   \n",
       "\n",
       "                                    GoalKeeping  \n",
       "Position                                         \n",
       "Center Back (CB)                      10.505701  \n",
       "Center Forward (CF)                    9.878378  \n",
       "Central Attacking Midfielder (CAM)    10.489451  \n",
       "Central Defensive Midfielder (CDM)    10.577991  \n",
       "Central Midfield (CM)                 10.433551  \n",
       "Goalkeeper (GK)                       63.721386  \n",
       "Left Attacking Midfielder (LAM)       10.666667  \n",
       "Left Back (LB)                        10.503448  \n",
       "Left Center Back (LCB)                10.599686  \n",
       "Left Center Midfield (LCM)            10.524422  \n",
       "Left Defensive Midfielder (LDM)       10.669456  \n",
       "Left Forward (LF)                     10.800000  \n",
       "Left Midfielder (LM)                  10.511050  \n",
       "Left Side (LS)                        10.543689  \n",
       "Left Wing (LW)                        10.387701  \n",
       "Left Wing Back (LWB)                  10.500000  \n",
       "Right Attacking Midfielder (RAM)      10.571429  \n",
       "Right Back (RB)                       10.530757  \n",
       "Right Center Back (RCB)               10.639571  \n",
       "Right Center Midfield (RCM)           10.643411  \n",
       "Right Defensive Midfielder (RDM)      10.926829  \n",
       "Right Forward (RF)                    10.687500  \n",
       "Right Midfielder (RM)                 10.555655  \n",
       "Right Side (RS)                       10.800995  \n",
       "Right Wing (RW)                       10.424658  \n",
       "Right Wing Back (RWB)                 10.459770  \n",
       "Striker (ST)                          10.507981  "
      ]
     },
     "execution_count": 110,
     "metadata": {},
     "output_type": "execute_result"
    }
   ],
   "source": [
    "representatives_df"
   ]
  },
  {
   "cell_type": "code",
   "execution_count": 111,
   "metadata": {
    "colab": {
     "base_uri": "https://localhost:8080/",
     "height": 419
    },
    "id": "Cms1IYFz6aOY",
    "outputId": "c963fee0-5904-493f-c6d6-70d3c6d302da"
   },
   "outputs": [
    {
     "data": {
      "text/html": [
       "<div>\n",
       "<style scoped>\n",
       "    .dataframe tbody tr th:only-of-type {\n",
       "        vertical-align: middle;\n",
       "    }\n",
       "\n",
       "    .dataframe tbody tr th {\n",
       "        vertical-align: top;\n",
       "    }\n",
       "\n",
       "    .dataframe thead th {\n",
       "        text-align: right;\n",
       "    }\n",
       "</style>\n",
       "<table border=\"1\" class=\"dataframe\">\n",
       "  <thead>\n",
       "    <tr style=\"text-align: right;\">\n",
       "      <th></th>\n",
       "      <th>Shooting</th>\n",
       "      <th>Defense</th>\n",
       "      <th>Passing</th>\n",
       "      <th>Physical</th>\n",
       "      <th>Control</th>\n",
       "      <th>Mental</th>\n",
       "      <th>GoalKeeping</th>\n",
       "    </tr>\n",
       "  </thead>\n",
       "  <tbody>\n",
       "    <tr>\n",
       "      <th>0</th>\n",
       "      <td>86.0</td>\n",
       "      <td>41.0</td>\n",
       "      <td>87.0</td>\n",
       "      <td>80.0</td>\n",
       "      <td>96.0</td>\n",
       "      <td>95.0</td>\n",
       "      <td>11.0</td>\n",
       "    </tr>\n",
       "    <tr>\n",
       "      <th>1</th>\n",
       "      <td>74.0</td>\n",
       "      <td>46.0</td>\n",
       "      <td>78.0</td>\n",
       "      <td>77.0</td>\n",
       "      <td>91.0</td>\n",
       "      <td>84.0</td>\n",
       "      <td>8.0</td>\n",
       "    </tr>\n",
       "    <tr>\n",
       "      <th>2</th>\n",
       "      <td>79.0</td>\n",
       "      <td>46.0</td>\n",
       "      <td>78.0</td>\n",
       "      <td>69.0</td>\n",
       "      <td>78.0</td>\n",
       "      <td>82.0</td>\n",
       "      <td>12.0</td>\n",
       "    </tr>\n",
       "    <tr>\n",
       "      <th>3</th>\n",
       "      <td>80.0</td>\n",
       "      <td>49.0</td>\n",
       "      <td>73.0</td>\n",
       "      <td>73.0</td>\n",
       "      <td>75.0</td>\n",
       "      <td>78.0</td>\n",
       "      <td>11.0</td>\n",
       "    </tr>\n",
       "    <tr>\n",
       "      <th>4</th>\n",
       "      <td>70.0</td>\n",
       "      <td>32.0</td>\n",
       "      <td>72.0</td>\n",
       "      <td>72.0</td>\n",
       "      <td>77.0</td>\n",
       "      <td>72.0</td>\n",
       "      <td>9.0</td>\n",
       "    </tr>\n",
       "    <tr>\n",
       "      <th>...</th>\n",
       "      <td>...</td>\n",
       "      <td>...</td>\n",
       "      <td>...</td>\n",
       "      <td>...</td>\n",
       "      <td>...</td>\n",
       "      <td>...</td>\n",
       "      <td>...</td>\n",
       "    </tr>\n",
       "    <tr>\n",
       "      <th>17913</th>\n",
       "      <td>36.0</td>\n",
       "      <td>51.0</td>\n",
       "      <td>52.0</td>\n",
       "      <td>71.0</td>\n",
       "      <td>63.0</td>\n",
       "      <td>43.0</td>\n",
       "      <td>11.0</td>\n",
       "    </tr>\n",
       "    <tr>\n",
       "      <th>17914</th>\n",
       "      <td>48.0</td>\n",
       "      <td>46.0</td>\n",
       "      <td>55.0</td>\n",
       "      <td>67.0</td>\n",
       "      <td>66.0</td>\n",
       "      <td>51.0</td>\n",
       "      <td>8.0</td>\n",
       "    </tr>\n",
       "    <tr>\n",
       "      <th>17915</th>\n",
       "      <td>30.0</td>\n",
       "      <td>49.0</td>\n",
       "      <td>34.0</td>\n",
       "      <td>67.0</td>\n",
       "      <td>43.0</td>\n",
       "      <td>38.0</td>\n",
       "      <td>10.0</td>\n",
       "    </tr>\n",
       "    <tr>\n",
       "      <th>17916</th>\n",
       "      <td>32.0</td>\n",
       "      <td>53.0</td>\n",
       "      <td>41.0</td>\n",
       "      <td>65.0</td>\n",
       "      <td>59.0</td>\n",
       "      <td>44.0</td>\n",
       "      <td>11.0</td>\n",
       "    </tr>\n",
       "    <tr>\n",
       "      <th>17917</th>\n",
       "      <td>28.0</td>\n",
       "      <td>47.0</td>\n",
       "      <td>39.0</td>\n",
       "      <td>70.0</td>\n",
       "      <td>58.0</td>\n",
       "      <td>45.0</td>\n",
       "      <td>10.0</td>\n",
       "    </tr>\n",
       "  </tbody>\n",
       "</table>\n",
       "<p>17918 rows × 7 columns</p>\n",
       "</div>"
      ],
      "text/plain": [
       "       Shooting  Defense  Passing  Physical  Control  Mental  GoalKeeping\n",
       "0          86.0     41.0     87.0      80.0     96.0    95.0         11.0\n",
       "1          74.0     46.0     78.0      77.0     91.0    84.0          8.0\n",
       "2          79.0     46.0     78.0      69.0     78.0    82.0         12.0\n",
       "3          80.0     49.0     73.0      73.0     75.0    78.0         11.0\n",
       "4          70.0     32.0     72.0      72.0     77.0    72.0          9.0\n",
       "...         ...      ...      ...       ...      ...     ...          ...\n",
       "17913      36.0     51.0     52.0      71.0     63.0    43.0         11.0\n",
       "17914      48.0     46.0     55.0      67.0     66.0    51.0          8.0\n",
       "17915      30.0     49.0     34.0      67.0     43.0    38.0         10.0\n",
       "17916      32.0     53.0     41.0      65.0     59.0    44.0         11.0\n",
       "17917      28.0     47.0     39.0      70.0     58.0    45.0         10.0\n",
       "\n",
       "[17918 rows x 7 columns]"
      ]
     },
     "execution_count": 111,
     "metadata": {},
     "output_type": "execute_result"
    }
   ],
   "source": [
    "skills_df"
   ]
  },
  {
   "cell_type": "code",
   "execution_count": 112,
   "metadata": {
    "id": "JBEq1b3ztlYM"
   },
   "outputs": [],
   "source": [
    "def euclidean_distance(X, points):\n",
    "  \n",
    "  best = pd.Series(data=\"None\", index=X.index)\n",
    "  best_distance = pd.Series(data=np.inf, index=X.index)\n",
    "  \n",
    "  for c in points.index:\n",
    "    d = np.sqrt(((X - points.loc[c])**2).sum(axis=1))\n",
    "    best[d<best_distance] = c\n",
    "    best_distance[d<best_distance] = d[d<best_distance]\n",
    "\n",
    "  return best \n",
    "\n",
    "\n",
    "\n",
    "\n",
    "\n"
   ]
  },
  {
   "cell_type": "code",
   "execution_count": 113,
   "metadata": {
    "colab": {
     "base_uri": "https://localhost:8080/"
    },
    "id": "M_v_SQDh5odA",
    "outputId": "afa8376d-dfed-43b9-dde5-3c08ec7d7374"
   },
   "outputs": [
    {
     "data": {
      "text/plain": [
       "0                      Left Forward (LF)\n",
       "1                      Left Forward (LF)\n",
       "2                      Left Forward (LF)\n",
       "3                     Right Forward (RF)\n",
       "4        Left Attacking Midfielder (LAM)\n",
       "                      ...               \n",
       "17913              Right Wing Back (RWB)\n",
       "17914              Right Midfielder (RM)\n",
       "17915                   Center Back (CB)\n",
       "17916                   Center Back (CB)\n",
       "17917                   Center Back (CB)\n",
       "Length: 17918, dtype: object"
      ]
     },
     "execution_count": 113,
     "metadata": {},
     "output_type": "execute_result"
    }
   ],
   "source": [
    "y_pred = euclidean_distance(skills_df, representatives_df)\n",
    "y_pred"
   ]
  },
  {
   "cell_type": "code",
   "execution_count": 114,
   "metadata": {
    "colab": {
     "base_uri": "https://localhost:8080/"
    },
    "id": "AClRpgwG6PGK",
    "outputId": "e8470672-9866-4c3f-a965-9163297f047a"
   },
   "outputs": [
    {
     "data": {
      "text/plain": [
       "0.3207389217546601"
      ]
     },
     "execution_count": 114,
     "metadata": {},
     "output_type": "execute_result"
    }
   ],
   "source": [
    "(y == y_pred).mean()"
   ]
  },
  {
   "cell_type": "markdown",
   "metadata": {},
   "source": [
    "## Información adicional"
   ]
  },
  {
   "cell_type": "code",
   "execution_count": 115,
   "metadata": {},
   "outputs": [],
   "source": [
    "from sklearn.model_selection import train_test_split\n",
    "\n",
    "X_train, X_test, y_train, y_test = train_test_split(skills_df, y, random_state=2501) # 80% y 20%"
   ]
  },
  {
   "cell_type": "code",
   "execution_count": 116,
   "metadata": {},
   "outputs": [],
   "source": [
    "from sklearn.linear_model import LogisticRegression\n",
    "from sklearn.svm import SVC\n",
    "from sklearn.tree import DecisionTreeClassifier as DT\n",
    "from sklearn.ensemble import RandomForestClassifier as RF\n",
    "\n",
    "alg1 = LogisticRegression()\n",
    "alg2 = SVC(kernel = 'rbf') #lineal , polinomial, radial basis fuction (gaussiano)\n",
    "alg3 = RF()\n",
    "alg4 = DT()"
   ]
  },
  {
   "cell_type": "code",
   "execution_count": 117,
   "metadata": {},
   "outputs": [
    {
     "name": "stderr",
     "output_type": "stream",
     "text": [
      "C:\\Anaconda3\\lib\\site-packages\\sklearn\\linear_model\\_logistic.py:764: ConvergenceWarning: lbfgs failed to converge (status=1):\n",
      "STOP: TOTAL NO. of ITERATIONS REACHED LIMIT.\n",
      "\n",
      "Increase the number of iterations (max_iter) or scale the data as shown in:\n",
      "    https://scikit-learn.org/stable/modules/preprocessing.html\n",
      "Please also refer to the documentation for alternative solver options:\n",
      "    https://scikit-learn.org/stable/modules/linear_model.html#logistic-regression\n",
      "  extra_warning_msg=_LOGISTIC_SOLVER_CONVERGENCE_MSG)\n"
     ]
    },
    {
     "data": {
      "text/html": [
       "<div>\n",
       "<style scoped>\n",
       "    .dataframe tbody tr th:only-of-type {\n",
       "        vertical-align: middle;\n",
       "    }\n",
       "\n",
       "    .dataframe tbody tr th {\n",
       "        vertical-align: top;\n",
       "    }\n",
       "\n",
       "    .dataframe thead th {\n",
       "        text-align: right;\n",
       "    }\n",
       "</style>\n",
       "<table border=\"1\" class=\"dataframe\">\n",
       "  <thead>\n",
       "    <tr style=\"text-align: right;\">\n",
       "      <th></th>\n",
       "      <th>Accurancy on Train</th>\n",
       "      <th>Accurancy on Test</th>\n",
       "    </tr>\n",
       "  </thead>\n",
       "  <tbody>\n",
       "    <tr>\n",
       "      <th>0</th>\n",
       "      <td>0.461527</td>\n",
       "      <td>0.459821</td>\n",
       "    </tr>\n",
       "  </tbody>\n",
       "</table>\n",
       "</div>"
      ],
      "text/plain": [
       "   Accurancy on Train  Accurancy on Test\n",
       "0            0.461527           0.459821"
      ]
     },
     "execution_count": 117,
     "metadata": {},
     "output_type": "execute_result"
    }
   ],
   "source": [
    "from sklearn.metrics import accuracy_score\n",
    "alg1.fit(X_train, y_train) #Training the model\n",
    "\n",
    "pd.DataFrame({\"Accurancy on Train\":[accuracy_score(y_train, alg1.predict(X_train))],\n",
    "    \"Accurancy on Test\":[accuracy_score(y_test, alg1.predict(X_test))]})"
   ]
  },
  {
   "cell_type": "code",
   "execution_count": 118,
   "metadata": {},
   "outputs": [
    {
     "data": {
      "text/html": [
       "<div>\n",
       "<style scoped>\n",
       "    .dataframe tbody tr th:only-of-type {\n",
       "        vertical-align: middle;\n",
       "    }\n",
       "\n",
       "    .dataframe tbody tr th {\n",
       "        vertical-align: top;\n",
       "    }\n",
       "\n",
       "    .dataframe thead th {\n",
       "        text-align: right;\n",
       "    }\n",
       "</style>\n",
       "<table border=\"1\" class=\"dataframe\">\n",
       "  <thead>\n",
       "    <tr style=\"text-align: right;\">\n",
       "      <th></th>\n",
       "      <th>Accurancy on Train</th>\n",
       "      <th>Accurancy on Test</th>\n",
       "    </tr>\n",
       "  </thead>\n",
       "  <tbody>\n",
       "    <tr>\n",
       "      <th>0</th>\n",
       "      <td>0.48095</td>\n",
       "      <td>0.47567</td>\n",
       "    </tr>\n",
       "  </tbody>\n",
       "</table>\n",
       "</div>"
      ],
      "text/plain": [
       "   Accurancy on Train  Accurancy on Test\n",
       "0             0.48095            0.47567"
      ]
     },
     "execution_count": 118,
     "metadata": {},
     "output_type": "execute_result"
    }
   ],
   "source": [
    "alg2.fit(X_train, y_train) #Training the model\n",
    "pd.DataFrame({\"Accurancy on Train\":[accuracy_score(y_train, alg2.predict(X_train))],\n",
    "    \"Accurancy on Test\":[accuracy_score(y_test, alg2.predict(X_test))]})"
   ]
  },
  {
   "cell_type": "code",
   "execution_count": 119,
   "metadata": {},
   "outputs": [
    {
     "data": {
      "text/html": [
       "<div>\n",
       "<style scoped>\n",
       "    .dataframe tbody tr th:only-of-type {\n",
       "        vertical-align: middle;\n",
       "    }\n",
       "\n",
       "    .dataframe tbody tr th {\n",
       "        vertical-align: top;\n",
       "    }\n",
       "\n",
       "    .dataframe thead th {\n",
       "        text-align: right;\n",
       "    }\n",
       "</style>\n",
       "<table border=\"1\" class=\"dataframe\">\n",
       "  <thead>\n",
       "    <tr style=\"text-align: right;\">\n",
       "      <th></th>\n",
       "      <th>Accurancy on Train</th>\n",
       "      <th>Accurancy on Test</th>\n",
       "    </tr>\n",
       "  </thead>\n",
       "  <tbody>\n",
       "    <tr>\n",
       "      <th>0</th>\n",
       "      <td>1.0</td>\n",
       "      <td>0.453348</td>\n",
       "    </tr>\n",
       "  </tbody>\n",
       "</table>\n",
       "</div>"
      ],
      "text/plain": [
       "   Accurancy on Train  Accurancy on Test\n",
       "0                 1.0           0.453348"
      ]
     },
     "execution_count": 119,
     "metadata": {},
     "output_type": "execute_result"
    }
   ],
   "source": [
    "alg3.fit(X_train, y_train) #Training the model\n",
    "pd.DataFrame({\"Accurancy on Train\":[accuracy_score(y_train, alg3.predict(X_train))],\n",
    "    \"Accurancy on Test\":[accuracy_score(y_test, alg3.predict(X_test))]})"
   ]
  },
  {
   "cell_type": "code",
   "execution_count": 158,
   "metadata": {},
   "outputs": [
    {
     "data": {
      "text/html": [
       "<div>\n",
       "<style scoped>\n",
       "    .dataframe tbody tr th:only-of-type {\n",
       "        vertical-align: middle;\n",
       "    }\n",
       "\n",
       "    .dataframe tbody tr th {\n",
       "        vertical-align: top;\n",
       "    }\n",
       "\n",
       "    .dataframe thead th {\n",
       "        text-align: right;\n",
       "    }\n",
       "</style>\n",
       "<table border=\"1\" class=\"dataframe\">\n",
       "  <thead>\n",
       "    <tr style=\"text-align: right;\">\n",
       "      <th></th>\n",
       "      <th>Accurancy on Train</th>\n",
       "      <th>Accurancy on Test</th>\n",
       "    </tr>\n",
       "  </thead>\n",
       "  <tbody>\n",
       "    <tr>\n",
       "      <th>0</th>\n",
       "      <td>1.0</td>\n",
       "      <td>0.357589</td>\n",
       "    </tr>\n",
       "  </tbody>\n",
       "</table>\n",
       "</div>"
      ],
      "text/plain": [
       "   Accurancy on Train  Accurancy on Test\n",
       "0                 1.0           0.357589"
      ]
     },
     "execution_count": 158,
     "metadata": {},
     "output_type": "execute_result"
    }
   ],
   "source": [
    "alg4.fit(X_train, y_train) #Training the model\n",
    "pd.DataFrame({\"Accurancy on Train\":[accuracy_score(y_train, alg4.predict(X_train))],\n",
    "    \"Accurancy on Test\":[accuracy_score(y_test, alg4.predict(X_test))]})"
   ]
  },
  {
   "cell_type": "markdown",
   "metadata": {},
   "source": [
    "Como pueden apreciar, es bastante \"sencillo\" la aplicación de algunos algoritmos de aprendizaje supervisado a este tipo de problemas. \n",
    "\n",
    "Solamente falta resaltar unos detalles:\n",
    "\n",
    "* A diferencia del ejercicio de Numpy y el aquí propuesto, se crean dos sets de los datos originales: Train y Test\n",
    "\n",
    "* Previo a la creación de dichos sets para entrenar y probar los modelos, una parte fundamental del ejercicio es realizar la normalización de los datos (cosa que aquí se ha omitido)\n",
    "\n",
    "* ¿En qué beneficia el normalizar los datos? De primera instancia, no en todos los datos se requiere la normalización, solo en aquellos donde las columnas tienen rangos diferentes... Por el otro lado, más adelante se muestra una posible ventaja del escalamiento y su impacto en los resultados"
   ]
  },
  {
   "cell_type": "code",
   "execution_count": 159,
   "metadata": {},
   "outputs": [],
   "source": [
    "from sklearn import preprocessing\n",
    "min_max_scaler = preprocessing.MinMaxScaler()"
   ]
  },
  {
   "cell_type": "code",
   "execution_count": 160,
   "metadata": {},
   "outputs": [],
   "source": [
    "new_skills_df = min_max_scaler.fit_transform(skills_df)"
   ]
  },
  {
   "cell_type": "code",
   "execution_count": 163,
   "metadata": {},
   "outputs": [],
   "source": [
    "X_train2, X_test2, y_train2, y_test2 = train_test_split(new_skills_df, y, random_state=2501) # 80% y 20%"
   ]
  },
  {
   "cell_type": "markdown",
   "metadata": {},
   "source": [
    "### SIN ESCALA - Algoritmo: Árbol de decisión (DT)"
   ]
  },
  {
   "cell_type": "code",
   "execution_count": 165,
   "metadata": {},
   "outputs": [
    {
     "data": {
      "text/html": [
       "<div>\n",
       "<style scoped>\n",
       "    .dataframe tbody tr th:only-of-type {\n",
       "        vertical-align: middle;\n",
       "    }\n",
       "\n",
       "    .dataframe tbody tr th {\n",
       "        vertical-align: top;\n",
       "    }\n",
       "\n",
       "    .dataframe thead th {\n",
       "        text-align: right;\n",
       "    }\n",
       "</style>\n",
       "<table border=\"1\" class=\"dataframe\">\n",
       "  <thead>\n",
       "    <tr style=\"text-align: right;\">\n",
       "      <th></th>\n",
       "      <th>Accurancy on Train</th>\n",
       "      <th>Accurancy on Test</th>\n",
       "    </tr>\n",
       "  </thead>\n",
       "  <tbody>\n",
       "    <tr>\n",
       "      <th>0</th>\n",
       "      <td>1.0</td>\n",
       "      <td>0.355804</td>\n",
       "    </tr>\n",
       "  </tbody>\n",
       "</table>\n",
       "</div>"
      ],
      "text/plain": [
       "   Accurancy on Train  Accurancy on Test\n",
       "0                 1.0           0.355804"
      ]
     },
     "execution_count": 165,
     "metadata": {},
     "output_type": "execute_result"
    }
   ],
   "source": [
    "alg4.fit(X_train, y_train) #Training the model\n",
    "pd.DataFrame({\"Accurancy on Train\":[accuracy_score(y_train, alg4.predict(X_train))],\n",
    "    \"Accurancy on Test\":[accuracy_score(y_test, alg4.predict(X_test))]})"
   ]
  },
  {
   "cell_type": "markdown",
   "metadata": {},
   "source": [
    "### CON ESCALA - Algoritmo: Árbol de decisión (DT)"
   ]
  },
  {
   "cell_type": "code",
   "execution_count": 164,
   "metadata": {},
   "outputs": [
    {
     "data": {
      "text/html": [
       "<div>\n",
       "<style scoped>\n",
       "    .dataframe tbody tr th:only-of-type {\n",
       "        vertical-align: middle;\n",
       "    }\n",
       "\n",
       "    .dataframe tbody tr th {\n",
       "        vertical-align: top;\n",
       "    }\n",
       "\n",
       "    .dataframe thead th {\n",
       "        text-align: right;\n",
       "    }\n",
       "</style>\n",
       "<table border=\"1\" class=\"dataframe\">\n",
       "  <thead>\n",
       "    <tr style=\"text-align: right;\">\n",
       "      <th></th>\n",
       "      <th>Accurancy on Train</th>\n",
       "      <th>Accurancy on Test</th>\n",
       "    </tr>\n",
       "  </thead>\n",
       "  <tbody>\n",
       "    <tr>\n",
       "      <th>0</th>\n",
       "      <td>0.407203</td>\n",
       "      <td>0.411384</td>\n",
       "    </tr>\n",
       "  </tbody>\n",
       "</table>\n",
       "</div>"
      ],
      "text/plain": [
       "   Accurancy on Train  Accurancy on Test\n",
       "0            0.407203           0.411384"
      ]
     },
     "execution_count": 164,
     "metadata": {},
     "output_type": "execute_result"
    }
   ],
   "source": [
    "alg4.fit(X_train2, y_train2) #Training the model\n",
    "\n",
    "pd.DataFrame({\"Accurancy on Train\":[accuracy_score(y_train2, alg1.predict(X_train2))],\n",
    "    \"Accurancy on Test\":[accuracy_score(y_test2, alg1.predict(X_test2))]})"
   ]
  },
  {
   "cell_type": "markdown",
   "metadata": {},
   "source": [
    "### Parece que \"mejoró\" algo en la parte de la prueba del Alg4 (DT) a comparación con el uso de los datos originales.\n",
    "\n",
    "<font color=red>Esa posible \" **discrepancia** \" que hay con los valores de entrenamiento, puede deberse al split de los datos y que pudiera existir redundancia en los datos. Por lo que el algoritmo, con los datos originales, podría mostrar resultados \" **falseados** \".</font>"
   ]
  },
  {
   "cell_type": "markdown",
   "metadata": {},
   "source": [
    "---\n",
    "---\n",
    "---"
   ]
  },
  {
   "cell_type": "markdown",
   "metadata": {},
   "source": [
    "### Un ejemplo para apreciar la posible importancia de escalar / normalizar los datos"
   ]
  },
  {
   "cell_type": "code",
   "execution_count": 85,
   "metadata": {},
   "outputs": [
    {
     "name": "stderr",
     "output_type": "stream",
     "text": [
      "C:\\Anaconda3\\lib\\site-packages\\sklearn\\utils\\deprecation.py:143: FutureWarning: The sklearn.datasets.samples_generator module is  deprecated in version 0.22 and will be removed in version 0.24. The corresponding classes / functions should instead be imported from sklearn.datasets. Anything that cannot be imported from sklearn.datasets is now part of the private API.\n",
      "  warnings.warn(message, FutureWarning)\n"
     ]
    }
   ],
   "source": [
    "import numpy as np\n",
    "import matplotlib.pyplot as plt\n",
    "import time\n",
    "import random\n",
    "from IPython import display\n",
    "\n",
    "from sklearn.datasets.samples_generator import make_blobs\n",
    "from sklearn.svm import SVC\n",
    "\n",
    "x_orig, y = make_blobs(n_samples=1000, centers=[(100, 100), (200, 200)], \n",
    "                       cluster_std = [120, 120], \n",
    "                       random_state=42)"
   ]
  },
  {
   "cell_type": "code",
   "execution_count": 86,
   "metadata": {},
   "outputs": [],
   "source": [
    "def normalized_data(x):\n",
    "    x_normalized = []\n",
    "    for i in range(len(x)):\n",
    "        x_normalized_row = []\n",
    "        for j in range(2):\n",
    "            max_value = np.max(x[:,j])\n",
    "            min_value = np.min(x[:,j])\n",
    "            x_normalized_row.append((x[i,j]-min_value)/(max_value-min_value))\n",
    "        x_normalized.append(x_normalized_row)\n",
    "    x_normalized = np.array(x_normalized)\n",
    "\n",
    "    return x_normalized\n",
    "\n",
    "x_norm = normalized_data(x_orig)"
   ]
  },
  {
   "cell_type": "code",
   "execution_count": 87,
   "metadata": {},
   "outputs": [],
   "source": [
    "def scale_data(x):\n",
    "    x_scale_50 = x*50 \n",
    "    x_scale_300 = x*300 \n",
    "    return x_scale_50, x_scale_300\n",
    "\n",
    "x_scale_50, x_scale_300 = scale_data(x_norm)"
   ]
  },
  {
   "cell_type": "code",
   "execution_count": 157,
   "metadata": {},
   "outputs": [
    {
     "data": {
      "image/png": "[encoded data removed]",
      "text/plain": [
       "<Figure size 1080x1080 with 4 Axes>"
      ]
     },
     "metadata": {
      "needs_background": "light"
     },
     "output_type": "display_data"
    }
   ],
   "source": [
    "marker_size=15\n",
    "fig, axs = plt.subplots(2, 2, figsize=(15,15))\n",
    "axs[0, 0].scatter(x_orig[:,0], x_orig[:,1])\n",
    "axs[0, 0].set_title('Axis [0, 0]')\n",
    "axs[0, 1].scatter(x_norm[:,0], x_norm[:,1])\n",
    "axs[0, 1].set_title('Axis [0, 1]')\n",
    "axs[1, 0].scatter(x_scale_50[:,0], x_scale_50[:,1])\n",
    "axs[1, 0].set_title('Axis [1, 0]')\n",
    "axs[1, 1].scatter(x_scale_300[:,0], x_scale_300[:,1])\n",
    "axs[1, 1].set_title('Axis [1, 1]')\n",
    "\n",
    "plt.show()\n"
   ]
  },
  {
   "cell_type": "code",
   "execution_count": 89,
   "metadata": {},
   "outputs": [
    {
     "data": {
      "image/png": "[encoded data removed]",
      "text/plain": [
       "<Figure size 432x288 with 1 Axes>"
      ]
     },
     "metadata": {
      "needs_background": "light"
     },
     "output_type": "display_data"
    }
   ],
   "source": [
    "Cs = np.exp(np.arange(20)-10)\n",
    "\n",
    "acc_orig = []\n",
    "for C in Cs:\n",
    "    clf = SVC(C=C, gamma=1)\n",
    "    clf.fit(x_orig[:500],y[:500])\n",
    "    acc = clf.score(x_orig[500:], y[500:])\n",
    "    acc_orig.append(acc)\n",
    "acc_orig = np.array(acc_orig)\n",
    "\n",
    "acc_norm = []\n",
    "for C in Cs:\n",
    "    clf = SVC(C=C, gamma=1)\n",
    "    clf.fit(x_norm[:500],y[:500])\n",
    "    acc = clf.score(x_norm[500:], y[500:])\n",
    "    acc_norm.append(acc)\n",
    "acc_norm = np.array(acc_norm)\n",
    "\n",
    "acc_norm_50 = []\n",
    "for C in Cs:\n",
    "    clf = SVC(C=C, gamma=1)\n",
    "    clf.fit(x_scale_50[:500], y[:500])\n",
    "    acc = clf.score(x_scale_50[500:], y[500:])\n",
    "    acc_norm_50.append(acc)\n",
    "acc_norm_50 = np.array(acc_norm_50)\n",
    "\n",
    "acc_norm_300 = []\n",
    "for C in Cs:\n",
    "    clf = SVC(C=C, gamma=1)\n",
    "    clf.fit(x_scale_300[:500], y[:500])\n",
    "    acc = clf.score(x_scale_300[500:], y[500:])\n",
    "    acc_norm_300.append(acc)\n",
    "acc_norm_300 = np.array(acc_norm_300)\n",
    "\n",
    "plt.plot(Cs, acc_orig, label=\"Original\")\n",
    "plt.plot(Cs, acc_norm, label=\"Normalized\")\n",
    "plt.plot(Cs, acc_norm_50, label=\"50 Scaled\")\n",
    "plt.plot(Cs, acc_norm_300, label=\"300 Scaled\")\n",
    "plt.xscale(\"log\")\n",
    "plt.ylabel(\"Accuracy\")\n",
    "plt.xlabel(\"C\")\n",
    "plt.legend()\n",
    "plt.show()"
   ]
  },
  {
   "cell_type": "code",
   "execution_count": null,
   "metadata": {},
   "outputs": [],
   "source": []
  },
  {
   "cell_type": "code",
   "execution_count": null,
   "metadata": {},
   "outputs": [],
   "source": []
  }
 ],
 "metadata": {
  "colab": {
   "collapsed_sections": [],
   "name": "Practica_Pandas_FIFA.ipynb",
   "provenance": []
  },
  "kernelspec": {
   "display_name": "Python 3",
   "language": "python",
   "name": "python3"
  },
  "language_info": {
   "codemirror_mode": {
    "name": "ipython",
    "version": 3
   },
   "file_extension": ".py",
   "mimetype": "text/x-python",
   "name": "python",
   "nbconvert_exporter": "python",
   "pygments_lexer": "ipython3",
   "version": "3.7.6"
  }
 },
 "nbformat": 4,
 "nbformat_minor": 1
}
