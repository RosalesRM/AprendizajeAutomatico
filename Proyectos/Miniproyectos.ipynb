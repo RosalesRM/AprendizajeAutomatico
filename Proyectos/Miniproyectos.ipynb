{
 "cells": [
  {
   "cell_type": "markdown",
   "metadata": {},
   "source": [
    "<h1><center>Mini Proyectos</center></h1>\n",
    "\n",
    "1. Reconocimiento facial (v1 o v2)\n",
    "2. Predictor de finanzas (LSTM; RNN; ARIMA)\n",
    "3. Clasificación de género musical (clasificadores clásicos o ANNs)\n",
    "4. pix2pix\n",
    "5. Cross-project\n",
    "7. Kaggle\n",
    "\n",
    "---\n",
    "---\n",
    "\n",
    "* Reconocimiento facial\n",
    "    * El objetivo de este proyecto de aprendizaje automático es clasificar las expresiones faciales humanas y asignarlas a emojis. Construiremos una red neuronal de convolución para reconocer las emociones faciales. Luego mapearemos esas emociones con los emojis o avatares correspondientes\n",
    "    * Reconocimiento de personas, asignación de emoción y detección de portar cubrebocas.\n",
    "    \n",
    "![img](https://www.researchgate.net/profile/Fabio_Grazioso/publication/279808672/figure/fig1/AS:391577030676487@1470370647987/Examples-of-facial-expressions.png)\n",
    "\n",
    "* Predictor del precio de Bitcoin (LSTM; RNN; ARIMA)\n",
    "    * El predictor de precios de bitcoin es un proyecto útil. La tecnología blockchain está aumentando y hay muchas monedas digitales en aumento. Este proyecto te ayudará a predecir el precio del bitcoin utilizando datos anteriores.\n",
    "    \n",
    "![img](https://d2h0cx97tjks2p.cloudfront.net/blogs/wp-content/uploads/sites/2/2020/01/bitcoin-price-predictor.jpg)\n",
    "\n",
    "* Proyecto de aprendizaje automático de clasificación de género musical\n",
    "\n",
    "    * La idea detrás de este proyecto de aprendizaje automático de Python es desarrollar un proyecto de aprendizaje automático y clasificar automáticamente diferentes géneros musicales de audio. Necesitamos clasificar estos archivos de audio usando sus características de bajo nivel de dominio de frecuencia y tiempo.\n",
    "    \n",
    "![img](https://d2h0cx97tjks2p.cloudfront.net/blogs/wp-content/uploads/sites/2/2020/05/music-genre-classifier-model.jpg)\n",
    "\n",
    "\n",
    "\n",
    "* Proyecto pix2pix\n",
    "    * Construir y entrenar un llamado pix2pix en una red condicional generativa de confrontación (CGAN) que aprende un mapeo de imágenes de entrada para emitir imágenes, tal como se describe en la traducción de imagen a imagen con las redes adversarias condicionadas por Isola et al. (2017). pix2pix no es una aplicación específica; se puede aplicar a una amplia gama de tareas, incluida la síntesis de fotografías a partir de mapas de etiquetas, la generación de fotografías coloreadas a partir de imágenes en blanco y negro, la conversión de fotografías de Google Maps en imágenes aéreas e incluso la transformación de bocetos en fotografías.\n",
    "\n",
    "![img](https://www.tensorflow.org/images/gan/pix2pix_1.png)"
   ]
  }
 ],
 "metadata": {
  "kernelspec": {
   "display_name": "Python 3",
   "language": "python",
   "name": "python3"
  },
  "language_info": {
   "codemirror_mode": {
    "name": "ipython",
    "version": 3
   },
   "file_extension": ".py",
   "mimetype": "text/x-python",
   "name": "python",
   "nbconvert_exporter": "python",
   "pygments_lexer": "ipython3",
   "version": "3.7.6"
  }
 },
 "nbformat": 4,
 "nbformat_minor": 4
}
